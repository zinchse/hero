{
 "cells": [
  {
   "cell_type": "code",
   "execution_count": 1,
   "metadata": {},
   "outputs": [],
   "source": [
    "import os\n",
    "import sys\n",
    "\n",
    "if \"COLAB_GPU\" in os.environ:\n",
    "  from google.colab import drive\n",
    "  print(\"Hello, Colab\")\n",
    "  drive.mount(\"/content/drive\")\n",
    "  ROOT_PATH = \"/content/drive/MyDrive/hero\"\n",
    "  os.environ[\"CLEARML_CONFIG_FILE\"] = f\"{ROOT_PATH}/clearml.conf\"\n",
    "elif \"PAPERSPACE_CLUSTER_ID\" in os.environ:\n",
    "  print(\"Hello, Paperspace\")\n",
    "  ROOT_PATH = \"/notebooks/hero\"\n",
    "  os.environ[\"CLEARML_CONFIG_FILE\"] = f\"{ROOT_PATH}/clearml.conf\"\n",
    "else:\n",
    "  ROOT_PATH = os.path.dirname(os.path.dirname(os.getcwd()))\n",
    "\n",
    "# we'll use artifacts from previous experiment\n",
    "EXPERIMENT_PATH = f\"{ROOT_PATH}/experiments/tcnn-abilities\"\n",
    "ARTIFACTS_PATH = f\"{EXPERIMENT_PATH}/artifacts\"\n",
    "sys.path.insert(0, ROOT_PATH)"
   ]
  },
  {
   "cell_type": "code",
   "execution_count": 2,
   "metadata": {},
   "outputs": [],
   "source": [
    "from collections import defaultdict\n",
    "from json import load, dumps, dump\n",
    "from itertools import product\n",
    "\n",
    "from tqdm import tqdm\n",
    "import pandas as pd\n",
    "import numpy as np\n",
    "import matplotlib.pyplot as plt\n",
    "from scipy.stats import kendalltau, spearmanr\n",
    "import torch\n",
    "import torch.nn as nn\n",
    "\n",
    "from torch.utils.data import DataLoader\n",
    "\n",
    "from src.models import binary_tree_layers as btl\n",
    "from src.models.regressor import BinaryTreeRegressor\n",
    "from src.datasets.oracle import Oracle, OracleRequest, TIMEOUT\n",
    "from src.datasets.data_config import HINTSETS, DOPS, HINTS, DEFAULT_HINTSET\n",
    "from src.datasets.data_types import ExplainNode\n",
    "from src.datasets.vectorization import extract_vertices_and_edges, ALL_FEATURES\n",
    "from src.datasets.binary_tree_dataset import binary_tree_collate, BinaryTreeDataset, WeightedBinaryTreeDataset, weighted_binary_tree_collate, paddify_sequences\n",
    "from src.utils import get_structure, get_tree, preprocess, featurize_dataset, filter_df, load_run"
   ]
  },
  {
   "cell_type": "markdown",
   "metadata": {},
   "source": [
    "# Loading data"
   ]
  },
  {
   "cell_type": "code",
   "execution_count": 3,
   "metadata": {},
   "outputs": [],
   "source": [
    "job_oracle = Oracle(f\"{ROOT_PATH}/data/processed/JOB\")\n",
    "sq_oracle = Oracle(f\"{ROOT_PATH}/data/processed/sample_queries\")"
   ]
  },
  {
   "cell_type": "code",
   "execution_count": 4,
   "metadata": {},
   "outputs": [],
   "source": [
    "job_list_info = torch.load(f\"{ARTIFACTS_PATH}/job_list_info\")\n",
    "ood_sq_list_info = torch.load(f\"{ARTIFACTS_PATH}/ood_sq_list_info\")\n",
    "id_sq_list_info = torch.load(f\"{ARTIFACTS_PATH}/id_sq_list_info\")"
   ]
  },
  {
   "cell_type": "code",
   "execution_count": 5,
   "metadata": {},
   "outputs": [],
   "source": [
    "job_list_vertices, job_list_edges, job_list_time = [[info[key] for info in job_list_info] for key in [\"vertices\", \"edges\", \"time\"]]        \n",
    "ood_sq_list_vertices, ood_sq_list_edges, ood_sq_list_time = [[info[key] for info in ood_sq_list_info] for key in [\"vertices\", \"edges\", \"time\"]]\n",
    "id_sq_list_vertices, id_sq_list_edges, id_sq_list_time = [[info[key] for info in id_sq_list_info] for key in [\"vertices\", \"edges\", \"time\"]]"
   ]
  },
  {
   "cell_type": "code",
   "execution_count": 6,
   "metadata": {},
   "outputs": [
    {
     "name": "stdout",
     "output_type": "stream",
     "text": [
      "device is cpu\n"
     ]
    }
   ],
   "source": [
    "DEVICE = torch.device(\"cuda\" if torch.cuda.is_available() else \"cpu\")\n",
    "print(f\"device is {DEVICE}\")"
   ]
  },
  {
   "cell_type": "code",
   "execution_count": 7,
   "metadata": {},
   "outputs": [],
   "source": [
    "# it'll be splitted correctly on train/val datasets` in `load_run`\n",
    "TRAINVAL_DATASET = WeightedBinaryTreeDataset(job_list_vertices, job_list_edges, job_list_time, DEVICE)\n",
    "\n",
    "TEST_DATASET = WeightedBinaryTreeDataset(id_sq_list_vertices, id_sq_list_edges, id_sq_list_time, DEVICE)\n",
    "OOD_DATASET = WeightedBinaryTreeDataset(ood_sq_list_vertices, ood_sq_list_edges, id_sq_list_time, DEVICE)"
   ]
  },
  {
   "cell_type": "markdown",
   "metadata": {},
   "source": [
    "# Model"
   ]
  },
  {
   "cell_type": "code",
   "execution_count": 11,
   "metadata": {},
   "outputs": [],
   "source": [
    "in_channels = len(ALL_FEATURES)\n",
    "\n",
    "big_btcnn_and_instance_norm = lambda: btl.BinaryTreeSequential(\n",
    "    btl.BinaryTreeConv(in_channels, 64),\n",
    "    btl.BinaryTreeActivation(torch.nn.functional.leaky_relu),\n",
    "    btl.BinaryTreeConv(64, 128),\n",
    "    btl.BinaryTreeInstanceNorm(128),\n",
    "    btl.BinaryTreeActivation(torch.nn.functional.leaky_relu),\n",
    "    btl.BinaryTreeConv(128, 256),\n",
    "    btl.BinaryTreeInstanceNorm(256),\n",
    "    btl.BinaryTreeActivation(torch.nn.functional.leaky_relu),\n",
    "    btl.BinaryTreeConv(256, 512),\n",
    "    btl.BinaryTreeAdaptivePooling(torch.nn.AdaptiveMaxPool1d(1)),\n",
    ")\n",
    "\n",
    "big_fcnn = lambda: torch.nn.Sequential(\n",
    "    nn.Linear(512, 256),\n",
    "    nn.LeakyReLU(),\n",
    "    nn.Linear(256, 128),\n",
    "    nn.LeakyReLU(),\n",
    "    nn.Linear(128, 64),\n",
    "    nn.LeakyReLU(),\n",
    "    nn.Linear(64, 1),\n",
    "    nn.Softplus(),\n",
    ")"
   ]
  },
  {
   "cell_type": "code",
   "execution_count": 12,
   "metadata": {},
   "outputs": [],
   "source": [
    "def load_model(run, device):\n",
    "    ckpt_path=f\"{EXPERIMENT_PATH}/models/BigBTCNN_BigFCNN_InstanceNorm_{run}.pth\"\n",
    "    ckpt_state = torch.load(ckpt_path, map_location=device)\n",
    "    model = BinaryTreeRegressor(big_btcnn_and_instance_norm(), big_fcnn())\n",
    "    model.load_state_dict(ckpt_state[\"model_state_dict\"])\n",
    "    model = model.to(device)\n",
    "    return model"
   ]
  },
  {
   "cell_type": "code",
   "execution_count": 13,
   "metadata": {},
   "outputs": [],
   "source": [
    "def get_prediction(v, e, model):\n",
    "    v, e = preprocess(v, e)\n",
    "    return model(v.unsqueeze(0), e.unsqueeze(0)).squeeze(0).item()"
   ]
  },
  {
   "cell_type": "code",
   "execution_count": 14,
   "metadata": {},
   "outputs": [],
   "source": [
    "def predict(v, e, cache, model):\n",
    "    v, e = preprocess(v, e)\n",
    "    ve = str(v.flatten().tolist()), str(e.flatten().tolist())\n",
    "    if ve in cache:\n",
    "        return cache[ve]\n",
    "    else:\n",
    "        prediction = model(v.unsqueeze(0), e.unsqueeze(0)).squeeze(0).item()\n",
    "        cache[ve] = prediction\n",
    "        return prediction"
   ]
  },
  {
   "cell_type": "markdown",
   "metadata": {},
   "source": [
    "# Building maps [$\\langle v, e\\rangle \\rightarrow costs$] and [$\\langle v, e\\rangle \\rightarrow times$]"
   ]
  },
  {
   "cell_type": "markdown",
   "metadata": {},
   "source": [
    "We can only recover splitted data **after** grouping, because of this we have to somehow recover both real labels (`time`) and predictions of the default model (`cost`) by `vertices` and `edges`."
   ]
  },
  {
   "cell_type": "code",
   "execution_count": 15,
   "metadata": {},
   "outputs": [],
   "source": [
    "JOB_VE_TO_COSTS = defaultdict(list)\n",
    "JOB_VE_TO_TIMES = defaultdict(list)\n",
    "for info in job_list_info:\n",
    "    v, e, t = info[\"vertices\"], info[\"edges\"], info[\"time\"]\n",
    "    v, e = preprocess(v, e)\n",
    "    ve = str(v.flatten().tolist()), str(e.flatten().tolist())\n",
    "    cost = job_oracle.get_cost(OracleRequest(query_name=info[\"query_name\"], hintset=info[\"hintset\"], dop=info[\"dop\"]))\n",
    "    JOB_VE_TO_COSTS[ve].append(cost)\n",
    "    JOB_VE_TO_TIMES[ve].append(t.item())"
   ]
  },
  {
   "cell_type": "code",
   "execution_count": 16,
   "metadata": {},
   "outputs": [],
   "source": [
    "SQ_VE_TO_COSTS = defaultdict(list)\n",
    "SQ_VE_TO_TIMES = defaultdict(list)\n",
    "for info in id_sq_list_info + ood_sq_list_info:\n",
    "    v, e, t = info[\"vertices\"], info[\"edges\"], info[\"time\"]\n",
    "    v, e = preprocess(v, e)\n",
    "    ve = str(v.flatten().tolist()), str(e.flatten().tolist())\n",
    "    cost = sq_oracle.get_cost(OracleRequest(query_name=info[\"query_name\"], hintset=info[\"hintset\"], dop=info[\"dop\"]))\n",
    "    SQ_VE_TO_COSTS[ve].append(cost)\n",
    "    SQ_VE_TO_TIMES[ve].append(t.item())"
   ]
  },
  {
   "cell_type": "markdown",
   "metadata": {},
   "source": [
    "# Ranking metrics"
   ]
  },
  {
   "cell_type": "markdown",
   "metadata": {},
   "source": [
    "Here we look at whether the order induced by the NN predictions is better than the order predicted by the default cost model."
   ]
  },
  {
   "cell_type": "markdown",
   "metadata": {},
   "source": [
    "## Stratified"
   ]
  },
  {
   "cell_type": "markdown",
   "metadata": {},
   "source": [
    "Here we are going to calculate metrics on different strats of data to confirm our previous hypotheses about useful structure in the data for good generalisation."
   ]
  },
  {
   "cell_type": "code",
   "execution_count": 14,
   "metadata": {},
   "outputs": [],
   "source": [
    "def get_featurized_df(run):\n",
    "    model, train_dataset, val_dataset = load_run(\n",
    "        run=run,\n",
    "        trainval_dataset=TRAINVAL_DATASET, \n",
    "        model=BinaryTreeRegressor(big_btcnn_and_instance_norm(), big_fcnn()), \n",
    "        ckpt_path=f\"{EXPERIMENT_PATH}/models/BigBTCNN_BigFCNN_InstanceNorm_{run}.pth\",\n",
    "        device=DEVICE,     \n",
    "    )\n",
    "\n",
    "    train_structures = {get_structure(*preprocess(v, e)) for v, e, *_ in train_dataset}\n",
    "    train_trees = {get_tree(*preprocess(v, e)) for v, e, *_ in train_dataset}\n",
    "\n",
    "    datasets = (\n",
    "        featurize_dataset(dataset, model, train_structures, train_trees, data_type) \n",
    "        for dataset, data_type in zip([train_dataset, val_dataset, TEST_DATASET, OOD_DATASET], [\"train\", \"val\", \"test\", \"ood\"])\n",
    "    )\n",
    "    return pd.concat(datasets, ignore_index=True)"
   ]
  },
  {
   "cell_type": "code",
   "execution_count": 15,
   "metadata": {},
   "outputs": [],
   "source": [
    "def get_metrics(df):\n",
    "    costs_map = JOB_VE_TO_COSTS if \"train\" in df[\"data_type\"].values or \"val\" in df[\"data_type\"].values else SQ_VE_TO_COSTS\n",
    "    times_map = JOB_VE_TO_TIMES if \"train\" in df[\"data_type\"].values or \"val\" in df[\"data_type\"].values else SQ_VE_TO_TIMES\n",
    "    \n",
    "    costs, times, predictions = [], [], []\n",
    "    for _, (v, e, p) in df[[\"vertices\", \"edges\", \"prediction\"]].iterrows():\n",
    "        v, e = preprocess(v, e)\n",
    "        ve = str(v.flatten().tolist()), str(e.flatten().tolist())\n",
    "        assert ve in costs_map and ve in times_map and len(costs_map[ve]) == len(times_map[ve])\n",
    "        for cost, time in zip(costs_map[ve], times_map[ve]):\n",
    "            costs.append(cost), times.append(time), predictions.append(p)    \n",
    "    return kendalltau(times, costs)[0], kendalltau(times, predictions)[0], spearmanr(times, costs)[0], spearmanr(times, predictions)[0]"
   ]
  },
  {
   "cell_type": "code",
   "execution_count": 16,
   "metadata": {},
   "outputs": [],
   "source": [
    "def metrics_to_row(metrics):\n",
    "    pm = u\"\\u00B1\"\n",
    "    return f\"{np.nanmean(metrics):0.3f}{pm}{np.nanstd(metrics):0.3f}\""
   ]
  },
  {
   "cell_type": "code",
   "execution_count": 17,
   "metadata": {},
   "outputs": [],
   "source": [
    "def calculate_stratified_metrics(n_runs=5):\n",
    "    res = defaultdict(list)\n",
    "    for run in range(1, n_runs+1):\n",
    "        df = get_featurized_df(run=run)\n",
    "        parameters = product(\n",
    "            [\"train\", \"val\", \"test\", \"ood\"],\n",
    "            [\"all\", \"seen\", \"unseen\"],\n",
    "            [\"all\", \"seen\", \"unseen\"],\n",
    "            [\"all\", \"small\", \"medium\", \"big\"],\n",
    "            [\"all\", \"underestimated\", \"overestimated\"]\n",
    "        )        \n",
    "        for data_type, structure, tree, time, prediction in parameters:\n",
    "            filtered_df = filter_df(df, {\n",
    "                \"data_type\": data_type,\n",
    "                \"structure\": structure,\n",
    "                \"tree\": tree,\n",
    "                \"time\": time,\n",
    "                \"prediction\": prediction\n",
    "            })        \n",
    "            size = int(filtered_df[\"frequency\"].sum())\n",
    "            metrics = get_metrics(filtered_df)\n",
    "            res[(data_type, structure, tree, time, prediction)].append((size, *metrics))              \n",
    "    return res"
   ]
  },
  {
   "cell_type": "code",
   "execution_count": 18,
   "metadata": {},
   "outputs": [],
   "source": [
    "def aggregate_metrics_dict(metrics_dict, runs_range):\n",
    "    aggregated_list = [\n",
    "        (\n",
    "            data_type, structure, tree, time, prediction, \n",
    "            int(np.mean([metrics_dict[key][run-1][0] for run in runs_range])), \n",
    "            metrics_to_row([metrics_dict[key][run-1][1] for run in runs_range]),\n",
    "            metrics_to_row([metrics_dict[key][run-1][2] for run in runs_range]),\n",
    "            metrics_to_row([metrics_dict[key][run-1][3] for run in runs_range]),\n",
    "            metrics_to_row([metrics_dict[key][run-1][4] for run in runs_range])\n",
    "        )\n",
    "        for key in metrics_dict\n",
    "        for data_type, structure, tree, time, prediction in [key]\n",
    "    ]\n",
    "\n",
    "    return pd.DataFrame(\n",
    "        aggregated_list, \n",
    "        columns=[\n",
    "            \"data_type\", \n",
    "            \"structure_category\", \n",
    "            \"tree_category\", \n",
    "            \"time_category\", \n",
    "            \"prediction_category\", \n",
    "            \"size\", \n",
    "            \"Kendall [c]\", \n",
    "            \"Kendall [p]\", \n",
    "            \"Spearman [c]\", \n",
    "            \"Spearman [p]\"\n",
    "        ]\n",
    "    )"
   ]
  },
  {
   "cell_type": "code",
   "execution_count": 19,
   "metadata": {},
   "outputs": [],
   "source": [
    "def select_subdf(df, allowed_data_type_predicates=None, allowed_structure_predicates=None, allowed_tree_predicates=None, allowed_time_predicates=None, allowed_prediction_predicates=None):\n",
    "    if allowed_data_type_predicates is None:\n",
    "        allowed_data_type_predicates = [\"train\", \"val\", \"test\", \"ood\"]\n",
    "    if allowed_structure_predicates is None:\n",
    "        allowed_structure_predicates = [\"seen\", \"unseen\", \"all\"]        \n",
    "    if allowed_tree_predicates is None:\n",
    "        allowed_tree_predicates = [\"seen\", \"unseen\", \"all\"]                \n",
    "    if allowed_time_predicates is None:\n",
    "        allowed_time_predicates = [\"big\", \"medium\", \"small\", \"all\"]                \n",
    "    if allowed_prediction_predicates is None:\n",
    "        allowed_prediction_predicates = [\"underestimated\", \"overestimated\", \"all\"]                \n",
    "\n",
    "    idx = (df[\"data_type\"].isin(allowed_data_type_predicates))\n",
    "    idx = idx & (df[\"structure_category\"].isin(allowed_structure_predicates))\n",
    "    idx = idx & (df[\"tree_category\"].isin(allowed_tree_predicates))\n",
    "    idx = idx & (df[\"time_category\"].isin(allowed_time_predicates))\n",
    "    idx = idx & (df[\"prediction_category\"].isin(allowed_prediction_predicates))\n",
    "\n",
    "    return df[idx]"
   ]
  },
  {
   "cell_type": "code",
   "execution_count": null,
   "metadata": {},
   "outputs": [],
   "source": [
    "n_runs = 5\n",
    "metrics_dict = calculate_stratified_metrics(n_runs)\n",
    "metrics_df = aggregate_metrics_dict(metrics_dict,  range(1, n_runs+1))"
   ]
  },
  {
   "cell_type": "code",
   "execution_count": 21,
   "metadata": {},
   "outputs": [
    {
     "data": {
      "text/html": [
       "<div>\n",
       "<style scoped>\n",
       "    .dataframe tbody tr th:only-of-type {\n",
       "        vertical-align: middle;\n",
       "    }\n",
       "\n",
       "    .dataframe tbody tr th {\n",
       "        vertical-align: top;\n",
       "    }\n",
       "\n",
       "    .dataframe thead th {\n",
       "        text-align: right;\n",
       "    }\n",
       "</style>\n",
       "<table border=\"1\" class=\"dataframe\">\n",
       "  <thead>\n",
       "    <tr style=\"text-align: right;\">\n",
       "      <th></th>\n",
       "      <th>data_type</th>\n",
       "      <th>structure_category</th>\n",
       "      <th>tree_category</th>\n",
       "      <th>time_category</th>\n",
       "      <th>prediction_category</th>\n",
       "      <th>size</th>\n",
       "      <th>Kendall [c]</th>\n",
       "      <th>Kendall [p]</th>\n",
       "      <th>Spearman [c]</th>\n",
       "      <th>Spearman [p]</th>\n",
       "    </tr>\n",
       "  </thead>\n",
       "  <tbody>\n",
       "    <tr>\n",
       "      <th>0</th>\n",
       "      <td>train</td>\n",
       "      <td>all</td>\n",
       "      <td>all</td>\n",
       "      <td>all</td>\n",
       "      <td>all</td>\n",
       "      <td>34914</td>\n",
       "      <td>0.199±0.005</td>\n",
       "      <td>0.895±0.007</td>\n",
       "      <td>0.277±0.008</td>\n",
       "      <td>0.974±0.003</td>\n",
       "    </tr>\n",
       "    <tr>\n",
       "      <th>3</th>\n",
       "      <td>train</td>\n",
       "      <td>all</td>\n",
       "      <td>all</td>\n",
       "      <td>small</td>\n",
       "      <td>all</td>\n",
       "      <td>8627</td>\n",
       "      <td>0.104±0.009</td>\n",
       "      <td>0.376±0.027</td>\n",
       "      <td>0.145±0.013</td>\n",
       "      <td>0.537±0.033</td>\n",
       "    </tr>\n",
       "    <tr>\n",
       "      <th>6</th>\n",
       "      <td>train</td>\n",
       "      <td>all</td>\n",
       "      <td>all</td>\n",
       "      <td>medium</td>\n",
       "      <td>all</td>\n",
       "      <td>17412</td>\n",
       "      <td>0.172±0.007</td>\n",
       "      <td>0.859±0.012</td>\n",
       "      <td>0.250±0.010</td>\n",
       "      <td>0.959±0.005</td>\n",
       "    </tr>\n",
       "    <tr>\n",
       "      <th>9</th>\n",
       "      <td>train</td>\n",
       "      <td>all</td>\n",
       "      <td>all</td>\n",
       "      <td>big</td>\n",
       "      <td>all</td>\n",
       "      <td>8875</td>\n",
       "      <td>0.121±0.007</td>\n",
       "      <td>0.930±0.005</td>\n",
       "      <td>0.179±0.010</td>\n",
       "      <td>0.985±0.003</td>\n",
       "    </tr>\n",
       "  </tbody>\n",
       "</table>\n",
       "</div>"
      ],
      "text/plain": [
       "  data_type structure_category tree_category time_category  \\\n",
       "0     train                all           all           all   \n",
       "3     train                all           all         small   \n",
       "6     train                all           all        medium   \n",
       "9     train                all           all           big   \n",
       "\n",
       "  prediction_category   size  Kendall [c]  Kendall [p] Spearman [c]  \\\n",
       "0                 all  34914  0.199±0.005  0.895±0.007  0.277±0.008   \n",
       "3                 all   8627  0.104±0.009  0.376±0.027  0.145±0.013   \n",
       "6                 all  17412  0.172±0.007  0.859±0.012  0.250±0.010   \n",
       "9                 all   8875  0.121±0.007  0.930±0.005  0.179±0.010   \n",
       "\n",
       "  Spearman [p]  \n",
       "0  0.974±0.003  \n",
       "3  0.537±0.033  \n",
       "6  0.959±0.005  \n",
       "9  0.985±0.003  "
      ]
     },
     "execution_count": 21,
     "metadata": {},
     "output_type": "execute_result"
    }
   ],
   "source": [
    "select_subdf(metrics_df, [\"train\"], [\"all\"], [\"all\"], None, [\"all\"])"
   ]
  },
  {
   "cell_type": "code",
   "execution_count": 22,
   "metadata": {},
   "outputs": [
    {
     "data": {
      "text/html": [
       "<div>\n",
       "<style scoped>\n",
       "    .dataframe tbody tr th:only-of-type {\n",
       "        vertical-align: middle;\n",
       "    }\n",
       "\n",
       "    .dataframe tbody tr th {\n",
       "        vertical-align: top;\n",
       "    }\n",
       "\n",
       "    .dataframe thead th {\n",
       "        text-align: right;\n",
       "    }\n",
       "</style>\n",
       "<table border=\"1\" class=\"dataframe\">\n",
       "  <thead>\n",
       "    <tr style=\"text-align: right;\">\n",
       "      <th></th>\n",
       "      <th>data_type</th>\n",
       "      <th>structure_category</th>\n",
       "      <th>tree_category</th>\n",
       "      <th>time_category</th>\n",
       "      <th>prediction_category</th>\n",
       "      <th>size</th>\n",
       "      <th>Kendall [c]</th>\n",
       "      <th>Kendall [p]</th>\n",
       "      <th>Spearman [c]</th>\n",
       "      <th>Spearman [p]</th>\n",
       "    </tr>\n",
       "  </thead>\n",
       "  <tbody>\n",
       "    <tr>\n",
       "      <th>108</th>\n",
       "      <td>val</td>\n",
       "      <td>all</td>\n",
       "      <td>all</td>\n",
       "      <td>all</td>\n",
       "      <td>all</td>\n",
       "      <td>8477</td>\n",
       "      <td>0.153±0.024</td>\n",
       "      <td>0.723±0.019</td>\n",
       "      <td>0.213±0.034</td>\n",
       "      <td>0.865±0.016</td>\n",
       "    </tr>\n",
       "    <tr>\n",
       "      <th>111</th>\n",
       "      <td>val</td>\n",
       "      <td>all</td>\n",
       "      <td>all</td>\n",
       "      <td>small</td>\n",
       "      <td>all</td>\n",
       "      <td>1931</td>\n",
       "      <td>-0.002±0.047</td>\n",
       "      <td>0.196±0.065</td>\n",
       "      <td>-0.026±0.073</td>\n",
       "      <td>0.290±0.088</td>\n",
       "    </tr>\n",
       "    <tr>\n",
       "      <th>114</th>\n",
       "      <td>val</td>\n",
       "      <td>all</td>\n",
       "      <td>all</td>\n",
       "      <td>medium</td>\n",
       "      <td>all</td>\n",
       "      <td>4260</td>\n",
       "      <td>0.169±0.030</td>\n",
       "      <td>0.552±0.038</td>\n",
       "      <td>0.245±0.041</td>\n",
       "      <td>0.704±0.041</td>\n",
       "    </tr>\n",
       "    <tr>\n",
       "      <th>117</th>\n",
       "      <td>val</td>\n",
       "      <td>all</td>\n",
       "      <td>all</td>\n",
       "      <td>big</td>\n",
       "      <td>all</td>\n",
       "      <td>2286</td>\n",
       "      <td>0.095±0.026</td>\n",
       "      <td>0.598±0.031</td>\n",
       "      <td>0.145±0.035</td>\n",
       "      <td>0.720±0.035</td>\n",
       "    </tr>\n",
       "  </tbody>\n",
       "</table>\n",
       "</div>"
      ],
      "text/plain": [
       "    data_type structure_category tree_category time_category  \\\n",
       "108       val                all           all           all   \n",
       "111       val                all           all         small   \n",
       "114       val                all           all        medium   \n",
       "117       val                all           all           big   \n",
       "\n",
       "    prediction_category  size   Kendall [c]  Kendall [p]  Spearman [c]  \\\n",
       "108                 all  8477   0.153±0.024  0.723±0.019   0.213±0.034   \n",
       "111                 all  1931  -0.002±0.047  0.196±0.065  -0.026±0.073   \n",
       "114                 all  4260   0.169±0.030  0.552±0.038   0.245±0.041   \n",
       "117                 all  2286   0.095±0.026  0.598±0.031   0.145±0.035   \n",
       "\n",
       "    Spearman [p]  \n",
       "108  0.865±0.016  \n",
       "111  0.290±0.088  \n",
       "114  0.704±0.041  \n",
       "117  0.720±0.035  "
      ]
     },
     "execution_count": 22,
     "metadata": {},
     "output_type": "execute_result"
    }
   ],
   "source": [
    "select_subdf(metrics_df, [\"val\"], [\"all\"], [\"all\"], None, [\"all\"])"
   ]
  },
  {
   "cell_type": "code",
   "execution_count": 23,
   "metadata": {},
   "outputs": [
    {
     "data": {
      "text/html": [
       "<div>\n",
       "<style scoped>\n",
       "    .dataframe tbody tr th:only-of-type {\n",
       "        vertical-align: middle;\n",
       "    }\n",
       "\n",
       "    .dataframe tbody tr th {\n",
       "        vertical-align: top;\n",
       "    }\n",
       "\n",
       "    .dataframe thead th {\n",
       "        text-align: right;\n",
       "    }\n",
       "</style>\n",
       "<table border=\"1\" class=\"dataframe\">\n",
       "  <thead>\n",
       "    <tr style=\"text-align: right;\">\n",
       "      <th></th>\n",
       "      <th>data_type</th>\n",
       "      <th>structure_category</th>\n",
       "      <th>tree_category</th>\n",
       "      <th>time_category</th>\n",
       "      <th>prediction_category</th>\n",
       "      <th>size</th>\n",
       "      <th>Kendall [c]</th>\n",
       "      <th>Kendall [p]</th>\n",
       "      <th>Spearman [c]</th>\n",
       "      <th>Spearman [p]</th>\n",
       "    </tr>\n",
       "  </thead>\n",
       "  <tbody>\n",
       "    <tr>\n",
       "      <th>216</th>\n",
       "      <td>test</td>\n",
       "      <td>all</td>\n",
       "      <td>all</td>\n",
       "      <td>all</td>\n",
       "      <td>all</td>\n",
       "      <td>4992</td>\n",
       "      <td>0.061±0.000</td>\n",
       "      <td>0.856±0.009</td>\n",
       "      <td>0.076±0.000</td>\n",
       "      <td>0.954±0.006</td>\n",
       "    </tr>\n",
       "    <tr>\n",
       "      <th>219</th>\n",
       "      <td>test</td>\n",
       "      <td>all</td>\n",
       "      <td>all</td>\n",
       "      <td>small</td>\n",
       "      <td>all</td>\n",
       "      <td>1766</td>\n",
       "      <td>-0.044±0.000</td>\n",
       "      <td>0.394±0.026</td>\n",
       "      <td>-0.081±0.000</td>\n",
       "      <td>0.574±0.036</td>\n",
       "    </tr>\n",
       "    <tr>\n",
       "      <th>222</th>\n",
       "      <td>test</td>\n",
       "      <td>all</td>\n",
       "      <td>all</td>\n",
       "      <td>medium</td>\n",
       "      <td>all</td>\n",
       "      <td>1238</td>\n",
       "      <td>0.205±0.000</td>\n",
       "      <td>0.764±0.038</td>\n",
       "      <td>0.276±0.000</td>\n",
       "      <td>0.882±0.033</td>\n",
       "    </tr>\n",
       "    <tr>\n",
       "      <th>225</th>\n",
       "      <td>test</td>\n",
       "      <td>all</td>\n",
       "      <td>all</td>\n",
       "      <td>big</td>\n",
       "      <td>all</td>\n",
       "      <td>1988</td>\n",
       "      <td>0.148±0.000</td>\n",
       "      <td>0.895±0.011</td>\n",
       "      <td>0.195±0.000</td>\n",
       "      <td>0.967±0.010</td>\n",
       "    </tr>\n",
       "  </tbody>\n",
       "</table>\n",
       "</div>"
      ],
      "text/plain": [
       "    data_type structure_category tree_category time_category  \\\n",
       "216      test                all           all           all   \n",
       "219      test                all           all         small   \n",
       "222      test                all           all        medium   \n",
       "225      test                all           all           big   \n",
       "\n",
       "    prediction_category  size   Kendall [c]  Kendall [p]  Spearman [c]  \\\n",
       "216                 all  4992   0.061±0.000  0.856±0.009   0.076±0.000   \n",
       "219                 all  1766  -0.044±0.000  0.394±0.026  -0.081±0.000   \n",
       "222                 all  1238   0.205±0.000  0.764±0.038   0.276±0.000   \n",
       "225                 all  1988   0.148±0.000  0.895±0.011   0.195±0.000   \n",
       "\n",
       "    Spearman [p]  \n",
       "216  0.954±0.006  \n",
       "219  0.574±0.036  \n",
       "222  0.882±0.033  \n",
       "225  0.967±0.010  "
      ]
     },
     "execution_count": 23,
     "metadata": {},
     "output_type": "execute_result"
    }
   ],
   "source": [
    "select_subdf(metrics_df, [\"test\"], [\"all\"], [\"all\"], None, [\"all\"])"
   ]
  },
  {
   "cell_type": "code",
   "execution_count": 24,
   "metadata": {},
   "outputs": [
    {
     "data": {
      "text/html": [
       "<div>\n",
       "<style scoped>\n",
       "    .dataframe tbody tr th:only-of-type {\n",
       "        vertical-align: middle;\n",
       "    }\n",
       "\n",
       "    .dataframe tbody tr th {\n",
       "        vertical-align: top;\n",
       "    }\n",
       "\n",
       "    .dataframe thead th {\n",
       "        text-align: right;\n",
       "    }\n",
       "</style>\n",
       "<table border=\"1\" class=\"dataframe\">\n",
       "  <thead>\n",
       "    <tr style=\"text-align: right;\">\n",
       "      <th></th>\n",
       "      <th>data_type</th>\n",
       "      <th>structure_category</th>\n",
       "      <th>tree_category</th>\n",
       "      <th>time_category</th>\n",
       "      <th>prediction_category</th>\n",
       "      <th>size</th>\n",
       "      <th>Kendall [c]</th>\n",
       "      <th>Kendall [p]</th>\n",
       "      <th>Spearman [c]</th>\n",
       "      <th>Spearman [p]</th>\n",
       "    </tr>\n",
       "  </thead>\n",
       "  <tbody>\n",
       "    <tr>\n",
       "      <th>324</th>\n",
       "      <td>ood</td>\n",
       "      <td>all</td>\n",
       "      <td>all</td>\n",
       "      <td>all</td>\n",
       "      <td>all</td>\n",
       "      <td>4992</td>\n",
       "      <td>0.091±0.000</td>\n",
       "      <td>0.221±0.034</td>\n",
       "      <td>0.133±0.000</td>\n",
       "      <td>0.322±0.049</td>\n",
       "    </tr>\n",
       "    <tr>\n",
       "      <th>327</th>\n",
       "      <td>ood</td>\n",
       "      <td>all</td>\n",
       "      <td>all</td>\n",
       "      <td>small</td>\n",
       "      <td>all</td>\n",
       "      <td>1553</td>\n",
       "      <td>0.136±0.000</td>\n",
       "      <td>0.253±0.031</td>\n",
       "      <td>0.194±0.000</td>\n",
       "      <td>0.369±0.045</td>\n",
       "    </tr>\n",
       "    <tr>\n",
       "      <th>330</th>\n",
       "      <td>ood</td>\n",
       "      <td>all</td>\n",
       "      <td>all</td>\n",
       "      <td>medium</td>\n",
       "      <td>all</td>\n",
       "      <td>1455</td>\n",
       "      <td>0.048±0.000</td>\n",
       "      <td>0.208±0.049</td>\n",
       "      <td>0.072±0.000</td>\n",
       "      <td>0.303±0.072</td>\n",
       "    </tr>\n",
       "    <tr>\n",
       "      <th>333</th>\n",
       "      <td>ood</td>\n",
       "      <td>all</td>\n",
       "      <td>all</td>\n",
       "      <td>big</td>\n",
       "      <td>all</td>\n",
       "      <td>1984</td>\n",
       "      <td>0.174±0.000</td>\n",
       "      <td>0.250±0.047</td>\n",
       "      <td>0.254±0.000</td>\n",
       "      <td>0.363±0.061</td>\n",
       "    </tr>\n",
       "  </tbody>\n",
       "</table>\n",
       "</div>"
      ],
      "text/plain": [
       "    data_type structure_category tree_category time_category  \\\n",
       "324       ood                all           all           all   \n",
       "327       ood                all           all         small   \n",
       "330       ood                all           all        medium   \n",
       "333       ood                all           all           big   \n",
       "\n",
       "    prediction_category  size  Kendall [c]  Kendall [p] Spearman [c]  \\\n",
       "324                 all  4992  0.091±0.000  0.221±0.034  0.133±0.000   \n",
       "327                 all  1553  0.136±0.000  0.253±0.031  0.194±0.000   \n",
       "330                 all  1455  0.048±0.000  0.208±0.049  0.072±0.000   \n",
       "333                 all  1984  0.174±0.000  0.250±0.047  0.254±0.000   \n",
       "\n",
       "    Spearman [p]  \n",
       "324  0.322±0.049  \n",
       "327  0.369±0.045  \n",
       "330  0.303±0.072  \n",
       "333  0.363±0.061  "
      ]
     },
     "execution_count": 24,
     "metadata": {},
     "output_type": "execute_result"
    }
   ],
   "source": [
    "select_subdf(metrics_df, [\"ood\"], [\"all\"], [\"all\"], None, [\"all\"])"
   ]
  },
  {
   "cell_type": "markdown",
   "metadata": {},
   "source": [
    "We see, that **all** the statements made earlier about the properties of generalisation ability are confirmed in terms of rank correlations. "
   ]
  },
  {
   "cell_type": "markdown",
   "metadata": {},
   "source": [
    "## Per-query"
   ]
  },
  {
   "cell_type": "markdown",
   "metadata": {},
   "source": [
    "Here we will take into account one important detail - only candidates generated for the same query are compared during the planning, so it is natural to look at the average value of the metrics **separately** for each query.\n",
    "\n",
    "Since the split was by **plans**, it is no longer possible to unambiguously define `train` / `val` metrics here, so let's consider three groups - `trainval` (`JOB`), `test`, `ood`."
   ]
  },
  {
   "cell_type": "code",
   "execution_count": 25,
   "metadata": {},
   "outputs": [],
   "source": [
    "def get_per_query_metrics(runs_range, list_info, oracle):\n",
    "    metrics = []\n",
    "    for run in runs_range:\n",
    "        model = load_model(run, DEVICE)\n",
    "        costs, predictions, times = defaultdict(list), defaultdict(list), defaultdict(list)\n",
    "        \n",
    "        for info in list_info:\n",
    "            request = OracleRequest(query_name=info[\"query_name\"], hintset=info[\"hintset\"],dop=info[\"dop\"])\n",
    "            times[info[\"query_name\"]].append(info[\"time\"])\n",
    "            predictions[info[\"query_name\"]].append(get_prediction(info[\"vertices\"], info[\"edges\"], model))\n",
    "            costs[info[\"query_name\"]].append(oracle.get_cost(request))\n",
    "\n",
    "        kendall_c, kendall_p, spearman_c, spearman_p = [], [], [], []\n",
    "        for q_n in set(info[\"query_name\"] for info in list_info):\n",
    "            kendall_c.append(kendalltau(times[q_n], costs[q_n])[0])\n",
    "            kendall_p.append(kendalltau(times[q_n], predictions[q_n])[0])\n",
    "            spearman_c.append(spearmanr(times[q_n], costs[q_n])[0])\n",
    "            spearman_p.append(spearmanr(times[q_n], predictions[q_n])[0])    \n",
    "        \n",
    "        metrics.append((np.nanmean(kendall_c), np.nanmean(kendall_p), np.nanmean(spearman_c), np.nanmean(spearman_p)))\n",
    "    \n",
    "    return (\n",
    "        metrics_to_row([metrics[run-1][0] for run in runs_range]),\n",
    "        metrics_to_row([metrics[run-1][1] for run in runs_range]),\n",
    "        metrics_to_row([metrics[run-1][2] for run in runs_range]),\n",
    "        metrics_to_row([metrics[run-1][3] for run in runs_range]),\n",
    "    )"
   ]
  },
  {
   "cell_type": "code",
   "execution_count": null,
   "metadata": {},
   "outputs": [],
   "source": [
    "metric_params = [\n",
    "    (\"trainval\", job_list_info, job_oracle),\n",
    "    (\"test\", id_sq_list_info, sq_oracle),\n",
    "    (\"ood\", ood_sq_list_info, sq_oracle)\n",
    "]\n",
    "\n",
    "data = [(d, *get_per_query_metrics(range(1, 5+1), l, o)) for d, l, o in metric_params]\n",
    "columns = [\"data_type\",  \"Kendall [c]\",  \"Kendall [p]\",  \"Spearman [c]\",  \"Spearman [p]\"]\n",
    "\n",
    "per_query_metrics_df = pd.DataFrame(data, columns=columns)"
   ]
  },
  {
   "cell_type": "code",
   "execution_count": 28,
   "metadata": {},
   "outputs": [
    {
     "data": {
      "text/html": [
       "<div>\n",
       "<style scoped>\n",
       "    .dataframe tbody tr th:only-of-type {\n",
       "        vertical-align: middle;\n",
       "    }\n",
       "\n",
       "    .dataframe tbody tr th {\n",
       "        vertical-align: top;\n",
       "    }\n",
       "\n",
       "    .dataframe thead th {\n",
       "        text-align: right;\n",
       "    }\n",
       "</style>\n",
       "<table border=\"1\" class=\"dataframe\">\n",
       "  <thead>\n",
       "    <tr style=\"text-align: right;\">\n",
       "      <th></th>\n",
       "      <th>data_type</th>\n",
       "      <th>Kendall [c]</th>\n",
       "      <th>Kendall [p]</th>\n",
       "      <th>Spearman [c]</th>\n",
       "      <th>Spearman [p]</th>\n",
       "    </tr>\n",
       "  </thead>\n",
       "  <tbody>\n",
       "    <tr>\n",
       "      <th>0</th>\n",
       "      <td>trainval</td>\n",
       "      <td>0.435±0.000</td>\n",
       "      <td>0.634±0.010</td>\n",
       "      <td>0.585±0.000</td>\n",
       "      <td>0.765±0.010</td>\n",
       "    </tr>\n",
       "    <tr>\n",
       "      <th>1</th>\n",
       "      <td>test</td>\n",
       "      <td>0.468±0.000</td>\n",
       "      <td>0.588±0.005</td>\n",
       "      <td>0.615±0.000</td>\n",
       "      <td>0.724±0.006</td>\n",
       "    </tr>\n",
       "    <tr>\n",
       "      <th>2</th>\n",
       "      <td>ood</td>\n",
       "      <td>0.394±0.000</td>\n",
       "      <td>0.178±0.029</td>\n",
       "      <td>0.529±0.000</td>\n",
       "      <td>0.255±0.039</td>\n",
       "    </tr>\n",
       "  </tbody>\n",
       "</table>\n",
       "</div>"
      ],
      "text/plain": [
       "  data_type  Kendall [c]  Kendall [p] Spearman [c] Spearman [p]\n",
       "0  trainval  0.435±0.000  0.634±0.010  0.585±0.000  0.765±0.010\n",
       "1      test  0.468±0.000  0.588±0.005  0.615±0.000  0.724±0.006\n",
       "2       ood  0.394±0.000  0.178±0.029  0.529±0.000  0.255±0.039"
      ]
     },
     "execution_count": 28,
     "metadata": {},
     "output_type": "execute_result"
    }
   ],
   "source": [
    "per_query_metrics_df"
   ]
  },
  {
   "cell_type": "markdown",
   "metadata": {},
   "source": [
    "The per-query analysis confirmed our fears that generalisation on `ood` data might be quite **weak**. We saw that mse hardly dropped at all on `ood` data, and the current results also show us that in comparing an arbitrary pair of plans for specific queries, on average, the **cost model will perform better on `ood` data**.\n",
    "\n",
    "However, it is worth noting that if we want to find just the **best** plans, the chosen metric may be **pessimistic** - it takes care of order recovery on bad plans as well, which we may not care about in some settings (depends on the use of the model). At the end of the notebook we will perform a generalisation analysis taking this observation into account. "
   ]
  },
  {
   "cell_type": "markdown",
   "metadata": {},
   "source": [
    "## On random data"
   ]
  },
  {
   "cell_type": "markdown",
   "metadata": {},
   "source": [
    "We also made a number of conclusions about which features are the most useful for generalisation, using experiments on noised data. To support our hypotheses, let us compare the orders on the noisy data as well.\n",
    "\n",
    "The key problem is that the training was performed on the noisy plans **after** the grouping. Thus, in addition to the complexity of getting the right `cost` by `vertices`, `edges`, we also need to get the right `vertices`, `edges` by `noise`. Due to the fact that noising and grouping of plans **didn't change plans order**, we still have the possibility to get all the necessary information."
   ]
  },
  {
   "cell_type": "code",
   "execution_count": 29,
   "metadata": {},
   "outputs": [],
   "source": [
    "def add_noise_to_vertices(v, channels, generator):\n",
    "    noise = torch.rand(v.shape, device=v.device, generator=generator)\n",
    "    res = v.clone()\n",
    "    res[:,channels] = noise[:,channels]\n",
    "    return res"
   ]
  },
  {
   "cell_type": "code",
   "execution_count": 30,
   "metadata": {},
   "outputs": [],
   "source": [
    "class NoisedWeightedBinaryTreeDataset(WeightedBinaryTreeDataset):\n",
    "    def __init__(\n",
    "        self,\n",
    "        list_vertices: \"List[Tensor]\",\n",
    "        list_edges: \"List[Tensor]\",\n",
    "        list_time: \"List[Tensor]\",\n",
    "        device: \"torch.device\",\n",
    "        noised_channels: \"List[int]\",  \n",
    "        generator: \"torch.Generator\",\n",
    "    ):\n",
    "        super().__init__(list_vertices, list_edges, list_time, device)\n",
    "        \n",
    "        self.noised_channels = noised_channels\n",
    "\n",
    "        # the only diff comparing to `training.ipynb`\n",
    "        self.saved_vertices_ = [el.clone() for el in self.list_vertices]\n",
    "        \n",
    "        for i, v in enumerate(self.list_vertices):\n",
    "            self.list_vertices[i] = add_noise_to_vertices(v, channels=self.noised_channels, generator=generator)"
   ]
  },
  {
   "cell_type": "code",
   "execution_count": 31,
   "metadata": {},
   "outputs": [],
   "source": [
    "def load_noised_datasets(run, noised_channels):\n",
    "    seed = 42 + run - 1\n",
    "    generator = torch.Generator(device=DEVICE).manual_seed(seed)\n",
    "\n",
    "    noised_trainval_dataset = NoisedWeightedBinaryTreeDataset(job_list_vertices, job_list_edges, job_list_time, DEVICE, noised_channels, generator)\n",
    "    noised_test_dataset = NoisedWeightedBinaryTreeDataset(id_sq_list_vertices, id_sq_list_edges, id_sq_list_time, DEVICE, noised_channels, generator)\n",
    "    noised_ood_dataset = NoisedWeightedBinaryTreeDataset(ood_sq_list_vertices, ood_sq_list_edges, ood_sq_list_time, DEVICE, noised_channels, generator)\n",
    "\n",
    "    generator = torch.Generator().manual_seed(seed)\n",
    "    noised_train_dataset, noised_val_dataset = torch.utils.data.dataset.random_split(noised_trainval_dataset, [0.8, 0.2], generator=generator)    \n",
    "    \n",
    "    return noised_train_dataset, noised_val_dataset, noised_test_dataset, noised_ood_dataset"
   ]
  },
  {
   "cell_type": "code",
   "execution_count": 32,
   "metadata": {},
   "outputs": [],
   "source": [
    "def load_noised_model(run, mode, device):\n",
    "    ckpt_path=f\"{EXPERIMENT_PATH}/models/[{mode}] BigBTCNN_BigFCNN_InstanceNorm_{run}.pth\"\n",
    "    ckpt_state = torch.load(ckpt_path, map_location=device)\n",
    "    model = BinaryTreeRegressor(big_btcnn_and_instance_norm(), big_fcnn())\n",
    "    model.load_state_dict(ckpt_state[\"model_state_dict\"])\n",
    "    model = model.to(device)\n",
    "    return model"
   ]
  },
  {
   "cell_type": "code",
   "execution_count": 51,
   "metadata": {},
   "outputs": [],
   "source": [
    "def get_metrics_on_noised_dataset(dataset, model, costs_map, times_map):\n",
    "    if hasattr(dataset, \"indices\"):\n",
    "        indices, dataset = dataset.indices, dataset.dataset\n",
    "    else:\n",
    "        indices = range(len(dataset))\n",
    "\n",
    "    costs, times, predictions = [], [], []\n",
    "    for i in indices:\n",
    "        v, e, real_v = dataset.list_vertices[i], dataset.list_edges[i], dataset.saved_vertices_[i]\n",
    "        p = get_prediction(v, e, model)\n",
    "        real_v, e = preprocess(real_v, e)\n",
    "        ve = str(real_v.flatten().tolist()), str(e.flatten().tolist())\n",
    "        assert ve in costs_map and len(costs_map[ve]) == len(times_map[ve])\n",
    "        for cost, time in zip(costs_map[ve], times_map[ve]):\n",
    "            costs.append(cost), times.append(time), predictions.append(p)   \n",
    "             \n",
    "    return kendalltau(times, costs)[0], kendalltau(times, predictions)[0], spearmanr(times, costs)[0], spearmanr(times, predictions)[0]"
   ]
  },
  {
   "cell_type": "code",
   "execution_count": 52,
   "metadata": {},
   "outputs": [],
   "source": [
    "def get_metrics_on_noised_data(runs_range):\n",
    "    metrics = defaultdict(list)\n",
    "    noise_types = [\"all\", \"stats\", \"ops\"]\n",
    "    list_noised_channels = [range(len(ALL_FEATURES)), range(len(ALL_FEATURES)-2, len(ALL_FEATURES)), range(len(ALL_FEATURES)-2)]\n",
    "    for noise_type, noised_channels in zip(noise_types, list_noised_channels):\n",
    "        for run in runs_range:\n",
    "            data_types = [\"train\", \"val\", \"test\", \"ood\"]\n",
    "            costs_maps = [JOB_VE_TO_COSTS, JOB_VE_TO_COSTS, SQ_VE_TO_COSTS, SQ_VE_TO_COSTS]\n",
    "            times_maps = [JOB_VE_TO_TIMES, JOB_VE_TO_TIMES, SQ_VE_TO_TIMES, SQ_VE_TO_TIMES]\n",
    "            model = load_noised_model(run, noise_type, DEVICE)\n",
    "            for data_type, costs_map, times_map, dataset in zip(data_types, costs_maps, times_maps, load_noised_datasets(run, noised_channels)):\n",
    "                metrics[data_type, noise_type].append(get_metrics_on_noised_dataset(dataset, model, costs_map, times_map))\n",
    "    return metrics"
   ]
  },
  {
   "cell_type": "code",
   "execution_count": 53,
   "metadata": {},
   "outputs": [],
   "source": [
    "def aggregate_noised_metrics_dict(noised_metrics_dict, runs_range):\n",
    "    aggregated_list = [\n",
    "        (\n",
    "            data_type, noise_type, \n",
    "            metrics_to_row([noised_metrics_dict[key][run-1][0] for run in runs_range]),\n",
    "            metrics_to_row([noised_metrics_dict[key][run-1][1] for run in runs_range]),\n",
    "            metrics_to_row([noised_metrics_dict[key][run-1][2] for run in runs_range]),\n",
    "            metrics_to_row([noised_metrics_dict[key][run-1][3] for run in runs_range])\n",
    "        )\n",
    "        for key in noised_metrics_dict for (data_type, noise_type) in [key]\n",
    "    ]\n",
    "    return pd.DataFrame(aggregated_list, columns=[\"data_type\",  \"noise_type\",  \"Kendall [c]\",  \"Kendall [p]\", \"Spearman [c]\", \"Spearman [p]\"])"
   ]
  },
  {
   "cell_type": "code",
   "execution_count": 54,
   "metadata": {},
   "outputs": [],
   "source": [
    "runs_range = range(1, 5+1)\n",
    "noised_metrics_dict = get_metrics_on_noised_data(runs_range)\n",
    "noised_metrics_df = aggregate_noised_metrics_dict(noised_metrics_dict, runs_range)"
   ]
  },
  {
   "cell_type": "code",
   "execution_count": 55,
   "metadata": {},
   "outputs": [
    {
     "data": {
      "text/html": [
       "<div>\n",
       "<style scoped>\n",
       "    .dataframe tbody tr th:only-of-type {\n",
       "        vertical-align: middle;\n",
       "    }\n",
       "\n",
       "    .dataframe tbody tr th {\n",
       "        vertical-align: top;\n",
       "    }\n",
       "\n",
       "    .dataframe thead th {\n",
       "        text-align: right;\n",
       "    }\n",
       "</style>\n",
       "<table border=\"1\" class=\"dataframe\">\n",
       "  <thead>\n",
       "    <tr style=\"text-align: right;\">\n",
       "      <th></th>\n",
       "      <th>data_type</th>\n",
       "      <th>noise_type</th>\n",
       "      <th>Kendall [c]</th>\n",
       "      <th>Kendall [p]</th>\n",
       "      <th>Spearman [c]</th>\n",
       "      <th>Spearman [p]</th>\n",
       "    </tr>\n",
       "  </thead>\n",
       "  <tbody>\n",
       "    <tr>\n",
       "      <th>8</th>\n",
       "      <td>train</td>\n",
       "      <td>ops</td>\n",
       "      <td>0.199±0.005</td>\n",
       "      <td>0.558±0.022</td>\n",
       "      <td>0.277±0.008</td>\n",
       "      <td>0.731±0.023</td>\n",
       "    </tr>\n",
       "    <tr>\n",
       "      <th>9</th>\n",
       "      <td>val</td>\n",
       "      <td>ops</td>\n",
       "      <td>0.153±0.024</td>\n",
       "      <td>0.496±0.021</td>\n",
       "      <td>0.213±0.034</td>\n",
       "      <td>0.665±0.024</td>\n",
       "    </tr>\n",
       "    <tr>\n",
       "      <th>10</th>\n",
       "      <td>test</td>\n",
       "      <td>ops</td>\n",
       "      <td>0.061±0.000</td>\n",
       "      <td>0.573±0.020</td>\n",
       "      <td>0.076±0.000</td>\n",
       "      <td>0.757±0.021</td>\n",
       "    </tr>\n",
       "    <tr>\n",
       "      <th>11</th>\n",
       "      <td>ood</td>\n",
       "      <td>ops</td>\n",
       "      <td>0.161±0.000</td>\n",
       "      <td>0.143±0.021</td>\n",
       "      <td>0.242±0.000</td>\n",
       "      <td>0.210±0.032</td>\n",
       "    </tr>\n",
       "  </tbody>\n",
       "</table>\n",
       "</div>"
      ],
      "text/plain": [
       "   data_type noise_type  Kendall [c]  Kendall [p] Spearman [c] Spearman [p]\n",
       "8      train        ops  0.199±0.005  0.558±0.022  0.277±0.008  0.731±0.023\n",
       "9        val        ops  0.153±0.024  0.496±0.021  0.213±0.034  0.665±0.024\n",
       "10      test        ops  0.061±0.000  0.573±0.020  0.076±0.000  0.757±0.021\n",
       "11       ood        ops  0.161±0.000  0.143±0.021  0.242±0.000  0.210±0.032"
      ]
     },
     "execution_count": 55,
     "metadata": {},
     "output_type": "execute_result"
    }
   ],
   "source": [
    "noised_metrics_df[noised_metrics_df[\"noise_type\"] == \"ops\"]"
   ]
  },
  {
   "cell_type": "code",
   "execution_count": 56,
   "metadata": {},
   "outputs": [
    {
     "data": {
      "text/html": [
       "<div>\n",
       "<style scoped>\n",
       "    .dataframe tbody tr th:only-of-type {\n",
       "        vertical-align: middle;\n",
       "    }\n",
       "\n",
       "    .dataframe tbody tr th {\n",
       "        vertical-align: top;\n",
       "    }\n",
       "\n",
       "    .dataframe thead th {\n",
       "        text-align: right;\n",
       "    }\n",
       "</style>\n",
       "<table border=\"1\" class=\"dataframe\">\n",
       "  <thead>\n",
       "    <tr style=\"text-align: right;\">\n",
       "      <th></th>\n",
       "      <th>data_type</th>\n",
       "      <th>noise_type</th>\n",
       "      <th>Kendall [c]</th>\n",
       "      <th>Kendall [p]</th>\n",
       "      <th>Spearman [c]</th>\n",
       "      <th>Spearman [p]</th>\n",
       "    </tr>\n",
       "  </thead>\n",
       "  <tbody>\n",
       "    <tr>\n",
       "      <th>4</th>\n",
       "      <td>train</td>\n",
       "      <td>stats</td>\n",
       "      <td>0.199±0.005</td>\n",
       "      <td>0.338±0.009</td>\n",
       "      <td>0.277±0.008</td>\n",
       "      <td>0.476±0.013</td>\n",
       "    </tr>\n",
       "    <tr>\n",
       "      <th>5</th>\n",
       "      <td>val</td>\n",
       "      <td>stats</td>\n",
       "      <td>0.153±0.024</td>\n",
       "      <td>0.280±0.018</td>\n",
       "      <td>0.213±0.034</td>\n",
       "      <td>0.401±0.026</td>\n",
       "    </tr>\n",
       "    <tr>\n",
       "      <th>6</th>\n",
       "      <td>test</td>\n",
       "      <td>stats</td>\n",
       "      <td>0.061±0.000</td>\n",
       "      <td>0.412±0.031</td>\n",
       "      <td>0.076±0.000</td>\n",
       "      <td>0.576±0.040</td>\n",
       "    </tr>\n",
       "    <tr>\n",
       "      <th>7</th>\n",
       "      <td>ood</td>\n",
       "      <td>stats</td>\n",
       "      <td>0.161±0.000</td>\n",
       "      <td>0.064±0.018</td>\n",
       "      <td>0.242±0.000</td>\n",
       "      <td>0.096±0.028</td>\n",
       "    </tr>\n",
       "  </tbody>\n",
       "</table>\n",
       "</div>"
      ],
      "text/plain": [
       "  data_type noise_type  Kendall [c]  Kendall [p] Spearman [c] Spearman [p]\n",
       "4     train      stats  0.199±0.005  0.338±0.009  0.277±0.008  0.476±0.013\n",
       "5       val      stats  0.153±0.024  0.280±0.018  0.213±0.034  0.401±0.026\n",
       "6      test      stats  0.061±0.000  0.412±0.031  0.076±0.000  0.576±0.040\n",
       "7       ood      stats  0.161±0.000  0.064±0.018  0.242±0.000  0.096±0.028"
      ]
     },
     "execution_count": 56,
     "metadata": {},
     "output_type": "execute_result"
    }
   ],
   "source": [
    "noised_metrics_df[noised_metrics_df[\"noise_type\"] == \"stats\"]"
   ]
  },
  {
   "cell_type": "code",
   "execution_count": 57,
   "metadata": {},
   "outputs": [
    {
     "data": {
      "text/html": [
       "<div>\n",
       "<style scoped>\n",
       "    .dataframe tbody tr th:only-of-type {\n",
       "        vertical-align: middle;\n",
       "    }\n",
       "\n",
       "    .dataframe tbody tr th {\n",
       "        vertical-align: top;\n",
       "    }\n",
       "\n",
       "    .dataframe thead th {\n",
       "        text-align: right;\n",
       "    }\n",
       "</style>\n",
       "<table border=\"1\" class=\"dataframe\">\n",
       "  <thead>\n",
       "    <tr style=\"text-align: right;\">\n",
       "      <th></th>\n",
       "      <th>data_type</th>\n",
       "      <th>noise_type</th>\n",
       "      <th>Kendall [c]</th>\n",
       "      <th>Kendall [p]</th>\n",
       "      <th>Spearman [c]</th>\n",
       "      <th>Spearman [p]</th>\n",
       "    </tr>\n",
       "  </thead>\n",
       "  <tbody>\n",
       "    <tr>\n",
       "      <th>0</th>\n",
       "      <td>train</td>\n",
       "      <td>all</td>\n",
       "      <td>0.199±0.005</td>\n",
       "      <td>0.176±0.017</td>\n",
       "      <td>0.277±0.008</td>\n",
       "      <td>0.258±0.024</td>\n",
       "    </tr>\n",
       "    <tr>\n",
       "      <th>1</th>\n",
       "      <td>val</td>\n",
       "      <td>all</td>\n",
       "      <td>0.153±0.024</td>\n",
       "      <td>0.168±0.026</td>\n",
       "      <td>0.213±0.034</td>\n",
       "      <td>0.247±0.037</td>\n",
       "    </tr>\n",
       "    <tr>\n",
       "      <th>2</th>\n",
       "      <td>test</td>\n",
       "      <td>all</td>\n",
       "      <td>0.061±0.000</td>\n",
       "      <td>0.219±0.016</td>\n",
       "      <td>0.076±0.000</td>\n",
       "      <td>0.322±0.020</td>\n",
       "    </tr>\n",
       "    <tr>\n",
       "      <th>3</th>\n",
       "      <td>ood</td>\n",
       "      <td>all</td>\n",
       "      <td>0.161±0.000</td>\n",
       "      <td>-0.004±0.022</td>\n",
       "      <td>0.242±0.000</td>\n",
       "      <td>-0.007±0.034</td>\n",
       "    </tr>\n",
       "  </tbody>\n",
       "</table>\n",
       "</div>"
      ],
      "text/plain": [
       "  data_type noise_type  Kendall [c]   Kendall [p] Spearman [c]  Spearman [p]\n",
       "0     train        all  0.199±0.005   0.176±0.017  0.277±0.008   0.258±0.024\n",
       "1       val        all  0.153±0.024   0.168±0.026  0.213±0.034   0.247±0.037\n",
       "2      test        all  0.061±0.000   0.219±0.016  0.076±0.000   0.322±0.020\n",
       "3       ood        all  0.161±0.000  -0.004±0.022  0.242±0.000  -0.007±0.034"
      ]
     },
     "execution_count": 57,
     "metadata": {},
     "output_type": "execute_result"
    }
   ],
   "source": [
    "noised_metrics_df[noised_metrics_df[\"noise_type\"] == \"all\"]"
   ]
  },
  {
   "cell_type": "markdown",
   "metadata": {},
   "source": [
    "We see again that statistics are **a more important feature** than tree structure. Moreover, on `ood' the NN performs **worse** than the cost model. \n",
    "\n",
    "It is worth noting that even on full noise, the achieved correlations are higher than the predictions of the cost model. It is likely that the implementation of hints via cost overestimation has severely compromised the performance of the cost model, and at the same time `padding` with zeros provided the model with information about the height of the tree (which can be a reasonably good sign). As a result, on those data where the distribution of times is roughly consistent with the distribution of times of the training data (`val`, `test`), we obtained a **small** correlation, while on `ood` the distribution of times is completely different, and without informative signs about expected size, the NN predictions on full noise **do not correlate** with the execution time."
   ]
  },
  {
   "cell_type": "markdown",
   "metadata": {},
   "source": [
    "# Top-k performance"
   ]
  },
  {
   "cell_type": "markdown",
   "metadata": {},
   "source": [
    "Here we plot the total execution time of queries after optimisation, which consists in the following: execute the top-k queries and store the best one, where the plans order will be induced either a) by cost predictions or b) by NN predictions. \n",
    "\n",
    "Baseline is default planner with `dop` equal to 64. All calculations are made on data and model from the first split."
   ]
  },
  {
   "cell_type": "code",
   "execution_count": 7,
   "metadata": {},
   "outputs": [],
   "source": [
    "DEFAULT_DOP = 64"
   ]
  },
  {
   "cell_type": "code",
   "execution_count": 8,
   "metadata": {},
   "outputs": [],
   "source": [
    "def get_estimations_and_params(run, oracle):\n",
    "    q_n_to_predictions_and_params, q_n_to_costs_and_params = {}, {}\n",
    "    model = load_model(run, DEVICE)\n",
    "    for q_n in oracle.get_query_names():\n",
    "        top_k_by_costs, top_k_by_predictions = [], []\n",
    "        for hs in HINTSETS:\n",
    "            for dop in [DEFAULT_DOP]:\n",
    "                request = OracleRequest(query_name=q_n, hintset=hs, dop=dop)\n",
    "                v, e = extract_vertices_and_edges(oracle.get_explain_plan(request))\n",
    "                top_k_by_costs.append((oracle.get_cost(request), hs, dop))\n",
    "                top_k_by_predictions.append((get_prediction(v, e, model), hs, dop))\n",
    "        q_n_to_costs_and_params[q_n] = top_k_by_costs\n",
    "        q_n_to_predictions_and_params[q_n] = top_k_by_predictions\n",
    "    return q_n_to_predictions_and_params, q_n_to_costs_and_params"
   ]
  },
  {
   "cell_type": "code",
   "execution_count": 17,
   "metadata": {},
   "outputs": [],
   "source": [
    "def get_e2e_performances(q_n_list, oracle, q_n_to_costs_and_params, q_n_to_predictions_and_params, k):\n",
    "    e2e_cost_time, e2e_pred_time, e2e_def_time = 0, 0, 0 \n",
    "    for q_n in q_n_list:\n",
    "        def_time = cost_time = pred_time = oracle.get_execution_time(OracleRequest(query_name=q_n, hintset=0, dop=DEFAULT_DOP))\n",
    "        cost_and_params = sorted(q_n_to_costs_and_params[q_n])\n",
    "        assert q_n in q_n_to_predictions_and_params, (q_n, q_n_to_predictions_and_params.keys())\n",
    "        pred_and_params = sorted(q_n_to_predictions_and_params[q_n])\n",
    "        \n",
    "        for pred, hs, dop in pred_and_params[:k]:\n",
    "            pred_time = min(pred_time, oracle.get_execution_time(OracleRequest(query_name=q_n, hintset=hs, dop=dop)))\n",
    "        \n",
    "        for cost, hs, dop in cost_and_params[:k]:\n",
    "            cost_time = min(cost_time, oracle.get_execution_time(OracleRequest(query_name=q_n, hintset=hs, dop=dop)))        \n",
    "            \n",
    "        e2e_cost_time += cost_time\n",
    "        e2e_pred_time += pred_time\n",
    "        e2e_def_time += def_time\n",
    "    return e2e_def_time / 1000, e2e_cost_time / 1000, e2e_pred_time / 1000"
   ]
  },
  {
   "cell_type": "code",
   "execution_count": 18,
   "metadata": {},
   "outputs": [],
   "source": [
    "job_q_n_to_predictions_and_params, job_q_n_to_costs_and_params = get_estimations_and_params(1, job_oracle)\n",
    "sq_q_n_to_predictions_and_params, sq_q_n_to_costs_and_params = get_estimations_and_params(1, sq_oracle)"
   ]
  },
  {
   "cell_type": "code",
   "execution_count": 19,
   "metadata": {},
   "outputs": [],
   "source": [
    "trainval_queries = job_oracle.get_query_names()\n",
    "test_queries, ood_queries = set(info[\"query_name\"] for info in id_sq_list_info), set(info[\"query_name\"] for info in ood_sq_list_info)\n",
    "assert not test_queries & ood_queries"
   ]
  },
  {
   "cell_type": "code",
   "execution_count": 20,
   "metadata": {},
   "outputs": [],
   "source": [
    "k_range = range(0, len(HINTSETS))\n",
    "trainval_def, trainval_cost, trainval_pred = zip(*[get_e2e_performances(trainval_queries, job_oracle, job_q_n_to_costs_and_params, job_q_n_to_predictions_and_params, k) for k in k_range])\n",
    "test_def, test_cost, test_pred = zip(*[get_e2e_performances(test_queries, sq_oracle, sq_q_n_to_costs_and_params, sq_q_n_to_predictions_and_params, k) for k in k_range])\n",
    "ood_def, ood_cost, ood_pred = zip(*[get_e2e_performances(ood_queries, sq_oracle, sq_q_n_to_costs_and_params, sq_q_n_to_predictions_and_params, k) for k in k_range])"
   ]
  },
  {
   "cell_type": "code",
   "execution_count": 21,
   "metadata": {},
   "outputs": [],
   "source": [
    "def plot_helper(x, def_times, cost_times, pred_times, title):\n",
    "    plt.figure(figsize=(20, 6))\n",
    "\n",
    "    assert len(set(def_times)) == 1\n",
    "    plt.plot([x[0], x[-1]], [def_times[0], def_times[0]], linestyle='--', label='default time')\n",
    "    plt.plot(x, cost_times, label='top-k by cost', marker='s', linestyle='--')\n",
    "    plt.plot(x, pred_times, label='top-k by NN prediction', marker='^', linestyle='-.')\n",
    "\n",
    "    plt.xlabel('k value')\n",
    "    plt.ylabel('e2e time (sec)')\n",
    "    plt.title('Top-k e2e time')\n",
    "    plt.legend()\n",
    "\n",
    "    plt.title(title)\n",
    "    plt.grid(True)\n",
    "    plt.show()"
   ]
  },
  {
   "cell_type": "code",
   "execution_count": 22,
   "metadata": {},
   "outputs": [
    {
     "data": {
      "image/png": "[encoded data removed]",
      "text/plain": [
       "<Figure size 2000x600 with 1 Axes>"
      ]
     },
     "metadata": {},
     "output_type": "display_data"
    }
   ],
   "source": [
    "plot_helper(k_range, trainval_def, trainval_cost, trainval_pred, \"trainval data\")"
   ]
  },
  {
   "cell_type": "code",
   "execution_count": 23,
   "metadata": {},
   "outputs": [
    {
     "data": {
      "image/png": "[encoded data removed]",
      "text/plain": [
       "<Figure size 2000x600 with 1 Axes>"
      ]
     },
     "metadata": {},
     "output_type": "display_data"
    }
   ],
   "source": [
    "plot_helper(k_range, test_def, test_cost, test_pred, \"test data\")"
   ]
  },
  {
   "cell_type": "code",
   "execution_count": 24,
   "metadata": {},
   "outputs": [
    {
     "data": {
      "image/png": "[encoded data removed]",
      "text/plain": [
       "<Figure size 2000x600 with 1 Axes>"
      ]
     },
     "metadata": {},
     "output_type": "display_data"
    }
   ],
   "source": [
    "plot_helper(k_range, ood_def, ood_cost, ood_pred, \"ood data\")"
   ]
  },
  {
   "cell_type": "markdown",
   "metadata": {},
   "source": [
    "We can see that on `ood` data the NN performs slightly worse than the standard cost model, but on `train`, `val` and `test` data the predictions of the model are **significantly more efficient**. This allows us to hope that when solving the regression problem, the NN predictions can be successfully used to optimise queries."
   ]
  }
 ],
 "metadata": {
  "kernelspec": {
   "display_name": "venv",
   "language": "python",
   "name": "python3"
  },
  "language_info": {
   "codemirror_mode": {
    "name": "ipython",
    "version": 3
   },
   "file_extension": ".py",
   "mimetype": "text/x-python",
   "name": "python",
   "nbconvert_exporter": "python",
   "pygments_lexer": "ipython3",
   "version": "3.9.19"
  }
 },
 "nbformat": 4,
 "nbformat_minor": 2
}
