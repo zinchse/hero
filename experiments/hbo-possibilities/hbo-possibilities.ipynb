{
 "cells": [
  {
   "cell_type": "code",
   "execution_count": 1,
   "metadata": {},
   "outputs": [],
   "source": [
    "import os\n",
    "import sys\n",
    "\n",
    "ROOT_PATH = os.path.dirname(os.getcwd())\n",
    "sys.path.insert(0, ROOT_PATH)"
   ]
  },
  {
   "cell_type": "code",
   "execution_count": 2,
   "metadata": {},
   "outputs": [],
   "source": [
    "from json import load, dumps, dump\n",
    "from src.datasets.oracle import Oracle, OracleRequest\n",
    "from src.datasets.data_config import HINTSETS, DEFAULT_HINTSET"
   ]
  },
  {
   "cell_type": "code",
   "execution_count": 3,
   "metadata": {},
   "outputs": [],
   "source": [
    "cached_oracles = {\n",
    "    \"JOB\": Oracle(f\"{ROOT_PATH}/data/processed/JOB\"),\n",
    "    \"tpch_10gb\": Oracle(f\"{ROOT_PATH}/data/processed/tpch_10gb\"),\n",
    "    \"sample_queries\": Oracle(f\"{ROOT_PATH}/data/processed/sample_queries\"),\n",
    "}"
   ]
  },
  {
   "cell_type": "code",
   "execution_count": 27,
   "metadata": {},
   "outputs": [],
   "source": [
    "def _extract_query_number(query_name):\n",
    "    import re\n",
    "\n",
    "    return int(re.search(r\"-?\\d+\\.?\\d*\", query_name).group())\n",
    "\n",
    "\n",
    "assert _extract_query_number(\"42abc666\") == 42\n",
    "assert _extract_query_number(\"q42abc666\") == 42\n",
    "assert _extract_query_number(\"q042abc666\") == 42"
   ]
  },
  {
   "cell_type": "code",
   "execution_count": 20,
   "metadata": {},
   "outputs": [],
   "source": [
    "def get_worst_hintset(oracle, query_name, possible_hintsets, dop):\n",
    "    assert isinstance(possible_hintsets, list) and len(possible_hintsets)\n",
    "    worst_time, worst_hs = float(\"-inf\"), possible_hintsets[0]\n",
    "\n",
    "    for hs in possible_hintsets:\n",
    "        request = OracleRequest(query_name=query_name, hintset=hs, dop=dop)\n",
    "        time = oracle.get_execution_time(request=request)\n",
    "        if worst_time < time:\n",
    "            worst_time, worst_hs = time, hs\n",
    "\n",
    "    return worst_hs\n"
   ]
  },
  {
   "cell_type": "code",
   "execution_count": null,
   "metadata": {},
   "outputs": [],
   "source": [
    "def get_best_hintset(oracle, query_name, possible_hintsets, dop):\n",
    "    assert isinstance(possible_hintsets, list) and len(possible_hintsets)\n",
    "    best_time, best_hs = float(\"inf\"), possible_hintsets[0]\n",
    "    \n",
    "    for hs in possible_hintsets:\n",
    "        request = OracleRequest(query_name=query_name, hintset=hs, dop=dop)\n",
    "        time = oracle.get_execution_time(request=request)\n",
    "        if time < best_time:\n",
    "            best_time, best_hs = time, hs\n",
    "\n",
    "    return best_hs"
   ]
  },
  {
   "cell_type": "code",
   "execution_count": null,
   "metadata": {},
   "outputs": [],
   "source": []
  },
  {
   "cell_type": "code",
   "execution_count": 21,
   "metadata": {},
   "outputs": [],
   "source": [
    "dop = 64\n",
    "query_name = \"6d\"\n",
    "best_hintset = get_best_hintset(cached_oracles[\"JOB\"], query_name, HINTSETS, dop)\n",
    "worst_hintset = get_worst_hintset(cached_oracles[\"JOB\"], query_name, HINTSETS, dop)"
   ]
  },
  {
   "cell_type": "code",
   "execution_count": 24,
   "metadata": {},
   "outputs": [
    {
     "data": {
      "text/plain": [
       "(5018.736, 4398046511104.0, 14361.208)"
      ]
     },
     "execution_count": 24,
     "metadata": {},
     "output_type": "execute_result"
    }
   ],
   "source": [
    "best_request = OracleRequest(query_name=query_name, hintset=best_hintset, dop=dop)\n",
    "worst_request = OracleRequest(query_name=query_name, hintset=worst_hintset, dop=dop)\n",
    "default_request = OracleRequest(query_name=query_name, hintset=DEFAULT_HINTSET, dop=dop)\n",
    "\n",
    "(\n",
    "    cached_oracles[\"JOB\"].get_execution_time(best_request),\n",
    "    cached_oracles[\"JOB\"].get_execution_time(worst_request),\n",
    "    cached_oracles[\"JOB\"].get_execution_time(default_request),\n",
    ")"
   ]
  },
  {
   "cell_type": "code",
   "execution_count": null,
   "metadata": {},
   "outputs": [],
   "source": []
  }
 ],
 "metadata": {
  "kernelspec": {
   "display_name": "venv",
   "language": "python",
   "name": "python3"
  },
  "language_info": {
   "codemirror_mode": {
    "name": "ipython",
    "version": 3
   },
   "file_extension": ".py",
   "mimetype": "text/x-python",
   "name": "python",
   "nbconvert_exporter": "python",
   "pygments_lexer": "ipython3",
   "version": "3.12.2"
  }
 },
 "nbformat": 4,
 "nbformat_minor": 2
}
