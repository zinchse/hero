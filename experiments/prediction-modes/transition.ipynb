{
 "cells": [
  {
   "cell_type": "code",
   "execution_count": 1,
   "metadata": {},
   "outputs": [],
   "source": [
    "import os\n",
    "import sys\n",
    "\n",
    "ROOT_PATH = os.path.dirname(os.path.dirname(os.getcwd()))\n",
    "EXPERIMENT_PATH = f\"{ROOT_PATH}/experiments/prediction-modes\"\n",
    "sys.path.insert(0, ROOT_PATH)"
   ]
  },
  {
   "cell_type": "code",
   "execution_count": 2,
   "metadata": {},
   "outputs": [],
   "source": [
    "from collections import defaultdict\n",
    "from src.datasets.data_config import DOPS, HINTSETS, DEFAULT_HINTSET\n",
    "from src.datasets.oracle import Oracle, OracleRequest, TIMEOUT\n",
    "from src.utils import get_template_id, get_full_plan, get_logical_plan, get_selectivities"
   ]
  },
  {
   "cell_type": "code",
   "execution_count": 3,
   "metadata": {},
   "outputs": [],
   "source": [
    "# other benchmarks don't have more than 1 query inside one template \n",
    "oracle = Oracle(f\"{ROOT_PATH}/data/processed/JOB\")"
   ]
  },
  {
   "cell_type": "code",
   "execution_count": 4,
   "metadata": {},
   "outputs": [],
   "source": [
    "# the default value in our settings\n",
    "DEFAULT_DOP = 64\n",
    "TIMEOUT_REL = 2"
   ]
  },
  {
   "cell_type": "markdown",
   "metadata": {},
   "source": [
    "# Definition of transition"
   ]
  },
  {
   "cell_type": "markdown",
   "metadata": {},
   "source": [
    "Since the boosts collected during query exploration are actually *an attribute of the transition* \n",
    "\n",
    "$$\\tau: Plan_{default} \\rightarrow \\textit{/* hintset applying */} \\rightarrow Plan_{custom}$$\n",
    "\n",
    "it would be logical to consider the resulting plan when making decisions. If suddenly we get some new plan when applying the hintset, our prediction is *no longer reliable* and it is better to **avoid** it."
   ]
  },
  {
   "cell_type": "markdown",
   "metadata": {},
   "source": [
    "**Note**: we considere only hintsets that are usefull for at least 1 query. \n",
    "\n",
    "Unfortunately, in the worst case, even the transition on full plans cannot be estimated accurately enough (`8c`, `8d` and `DOP=1`)"
   ]
  },
  {
   "cell_type": "markdown",
   "metadata": {},
   "source": [
    "# Transition estimations "
   ]
  },
  {
   "cell_type": "code",
   "execution_count": 5,
   "metadata": {},
   "outputs": [],
   "source": [
    "def get_transitions_and_query_map(def_plan_extractor, custom_plan_extractor, oracle):\n",
    "    \"\"\"For each query in oracle, by using given plan extractors, constructs 2 mappings:\n",
    "        a) transition -> `<custom_time, default_time>`, and\n",
    "        b) transition -> list of query names that have that transition with some hintset,\n",
    "    where transition is represented just as a string like \n",
    "    `f\"{def_plan_extractor(def_plan)} -> {custom_plan_extractor(custom_plan)}\"`.\n",
    "    \"\"\"\n",
    "    transitions = defaultdict(list)\n",
    "    transition_to_queries = defaultdict(list)\n",
    "\n",
    "    for q_n in oracle.get_query_names():\n",
    "        \n",
    "        def_plan = def_plan_extractor(query_name=q_n, oracle=oracle, hintset=DEFAULT_HINTSET, dop=DEFAULT_DOP)\n",
    "        def_time = oracle.get_execution_time(OracleRequest(query_name=q_n, hintset=DEFAULT_HINTSET, dop=DEFAULT_DOP))\n",
    "        \n",
    "        for hs in HINTSETS:\n",
    "            custom_plan = custom_plan_extractor(query_name=q_n, oracle=oracle, hintset=hs, dop=DEFAULT_DOP)\n",
    "            custom_time = oracle.get_execution_time(OracleRequest(query_name=q_n, hintset=hs, dop=DEFAULT_DOP))\n",
    "            transition_key = f\"{def_plan}->{custom_plan}\"\n",
    "            transitions[transition_key].append((custom_time, def_time))\n",
    "            transition_to_queries[transition_key].append(q_n)\n",
    "    \n",
    "    return transitions, transition_to_queries"
   ]
  },
  {
   "cell_type": "code",
   "execution_count": 6,
   "metadata": {},
   "outputs": [],
   "source": [
    "def make_transitions_summary(transitions, only_interesting=True):\n",
    "    \"\"\"for each of transition, that has sufficiently diverse performance\n",
    "    (e.g. T/O for one query and significant boost for another), returns\n",
    "    - max degradation\n",
    "    - speedups (in ms)\n",
    "    - boosts\n",
    "    - custom times (in ms)\n",
    "    - default times (in ms)\n",
    "    \"\"\"\n",
    "    transition_summaries = []\n",
    "    for transition, transition_info in transitions.items():\n",
    "        boosts, speedups, custom_times, def_times = [], [], [], []\n",
    "        \n",
    "        for info in transition_info:\n",
    "            cust_time, def_time = info\n",
    "            custom_times.append(cust_time)\n",
    "            def_times.append(def_time)\n",
    "\n",
    "            speedups.append(def_time - cust_time)\n",
    "\n",
    "            if cust_time >= TIMEOUT:\n",
    "                boosts.append(-TIMEOUT_REL)\n",
    "            elif cust_time > def_time:\n",
    "                boosts.append(-cust_time / def_time)\n",
    "            else:\n",
    "                boosts.append(def_time / cust_time)\n",
    "        \n",
    "        are_all_queries_small = (max(def_times) < 1000) and (max(custom_times) < 1000)\n",
    "        are_all_queries_boosted = (min(boosts) >= -1.0)\n",
    "        are_all_queries_deboosted = (max(boosts) <= 1.0)\n",
    "        \n",
    "        if only_interesting and (are_all_queries_small or are_all_queries_boosted or are_all_queries_deboosted):\n",
    "            continue\n",
    "        \n",
    "        is_there_big_deboost = -TIMEOUT_REL in boosts or max([c_t - d_t for c_t, d_t in zip(custom_times, def_times)]) > 500\n",
    "        if only_interesting and (not is_there_big_deboost):\n",
    "           continue\n",
    "        \n",
    "        summary = (min(boosts), speedups, custom_times, def_times, transition)\n",
    "        transition_summaries.append(summary)   \n",
    "        \n",
    "    return transition_summaries "
   ]
  },
  {
   "cell_type": "code",
   "execution_count": 7,
   "metadata": {},
   "outputs": [],
   "source": [
    "def pretty_print_summary(query_group, def_times, cust_times):\n",
    "    import numpy as np\n",
    "    q_to_def_times, q_to_cust_times = defaultdict(list), defaultdict(list)\n",
    "    for q_n, def_time, cust_time in sorted(zip(query_group, def_times, cust_times)):\n",
    "        q_to_def_times[q_n].append(def_time)\n",
    "        q_to_cust_times[q_n].append(cust_time)\n",
    "\n",
    "    query_col, def_time_col, cust_time_col, boost_col = [], [], [], []\n",
    "    for q_n in sorted(set(query_group)):\n",
    "        query_col.append(f\"{q_n}\")\n",
    "        def_time = np.mean(q_to_def_times[q_n])\n",
    "        def_time_col.append(f\"{def_time / 1000:0.2f}s\")\n",
    "        \n",
    "        cust_time = TIMEOUT if TIMEOUT in q_to_cust_times[q_n] else np.mean(q_to_cust_times[q_n])\n",
    "        if cust_time >= TIMEOUT:\n",
    "            cust_time_col.append(\"`T\\\\O`\")\n",
    "        else:\n",
    "            cust_time_col.append(f\"{cust_time / 1000:0.2f}s\")\n",
    "\n",
    "        if cust_time >= TIMEOUT:\n",
    "            boost_col.append(\"`NaN`\")\n",
    "        elif cust_time > def_time:\n",
    "            boost_col.append(f\"{-cust_time / def_time:0.2f}\")\n",
    "        else:\n",
    "            boost_col.append(f\"{def_time / cust_time:0.2f}\")\n",
    "    \n",
    "    print(f\"| {'{'+', '.join(query_col)+'}'} |{', '.join(def_time_col)} | {', '.join(cust_time_col)}  | {', '.join(boost_col)} |\")    "
   ]
  },
  {
   "cell_type": "markdown",
   "metadata": {},
   "source": [
    "## Logical"
   ]
  },
  {
   "cell_type": "code",
   "execution_count": 8,
   "metadata": {},
   "outputs": [
    {
     "name": "stdout",
     "output_type": "stream",
     "text": [
      "TRANSITION WITH {'6c', '6b'} AND SPEEDUP VARIATION 4398046520.9s\n",
      "| {6b, 6c} |14.53s, 0.05s | 4.90s, `T\\O`  | 2.97, `NaN` |\n",
      "------------------------------------------------------------\n",
      "TRANSITION WITH {'6e', '6d'} AND SPEEDUP VARIATION 4398046520.4s\n",
      "| {6d, 6e} |14.36s, 0.05s | 5.02s, `T\\O`  | 2.86, `NaN` |\n",
      "------------------------------------------------------------\n",
      "TRANSITION WITH {'6c', '6b'} AND SPEEDUP VARIATION 4398046515.6s\n",
      "| {6b, 6c} |14.53s, 0.05s | 9.99s, `T\\O`  | 1.45, `NaN` |\n",
      "------------------------------------------------------------\n",
      "TRANSITION WITH {'6c', '6b'} AND SPEEDUP VARIATION 4398046513.2s\n",
      "| {6b, 6c} |14.53s, 0.05s | 12.40s, `T\\O`  | 1.17, `NaN` |\n",
      "------------------------------------------------------------\n",
      "TRANSITION WITH {'6e', '6d'} AND SPEEDUP VARIATION 4398046512.8s\n",
      "| {6d, 6e} |14.36s, 0.05s | 12.65s, `T\\O`  | 1.14, `NaN` |\n",
      "------------------------------------------------------------\n",
      "TRANSITION WITH {'6c', '6b'} AND SPEEDUP VARIATION 4398046512.4s\n",
      "| {6b, 6c} |14.53s, 0.05s | 13.15s, `T\\O`  | 1.10, `NaN` |\n",
      "------------------------------------------------------------\n",
      "TRANSITION WITH {'17b', '17d', '17f', '17c'} AND SPEEDUP VARIATION 4.8s\n",
      "| {17b, 17c, 17d, 17f} |10.47s, 10.08s, 9.98s, 15.92s | 12.73s, 12.30s, 12.47s, 13.75s  | -1.22, -1.22, -1.25, 1.16 |\n",
      "------------------------------------------------------------\n"
     ]
    }
   ],
   "source": [
    "logical_transitions, logical_transition_to_queries = get_transitions_and_query_map(\n",
    "    oracle=oracle, \n",
    "    def_plan_extractor=get_logical_plan, \n",
    "    custom_plan_extractor=get_logical_plan\n",
    ")\n",
    "         \n",
    "transition_summary = make_transitions_summary(transitions=logical_transitions)\n",
    "transition_summary = sorted(transition_summary, key=lambda el: max(el[1]) - min(el[1]), reverse=True)\n",
    "for max_degradation, speedups, cust_times, def_times, transition_key in transition_summary[:7]:\n",
    "    query_group = logical_transition_to_queries[transition_key]\n",
    "    print(f\"TRANSITION WITH {set(query_group)} AND SPEEDUP VARIATION {(max(speedups) - min(speedups))/1000:0.1f}s\")\n",
    "    pretty_print_summary(query_group, def_times, cust_times)\n",
    "    print(\"-\" * 60)"
   ]
  },
  {
   "cell_type": "markdown",
   "metadata": {},
   "source": [
    "| Query Group| Default Time| Custom Time       | Relative Boost|\n",
    "|------------|-------------|-------------------|---------------|\n",
    "| {6b, 6c} |14.53s, 0.05s | 4.90s, `T\\O`  | 2.97, `NaN` |\n",
    "| {6d, 6e} |14.36s, 0.05s | 5.02s, `T\\O`  | 2.86, `NaN` |\n",
    "| {17b, 17c, 17d, 17f} |10.47s, 10.08s, 9.98s, 15.92s | 12.73s, 12.30s, 12.47s, 13.75s  | -1.22, -1.22, -1.25, **1.16** |"
   ]
  },
  {
   "cell_type": "markdown",
   "metadata": {},
   "source": [
    "We see that if we also take into account the structure of the custom plan, the queries of group `{6a 6b 6c 6d 6e}` already become **distinguishable**, but logical plans without statistics are still insufficient to guarantee the absence of regressions, i.e. logical transition **doesn't** help us to address degradation problem"
   ]
  },
  {
   "cell_type": "markdown",
   "metadata": {},
   "source": [
    "## Full"
   ]
  },
  {
   "cell_type": "code",
   "execution_count": 9,
   "metadata": {},
   "outputs": [
    {
     "name": "stdout",
     "output_type": "stream",
     "text": [
      "TRANSITION WITH {'6c', '6a', '6e'} AND SPEEDUP VARIATION 4398046511.0s\n",
      "| {6a, 6c, 6e} |0.05s, 0.06s, 0.05s | `T\\O`, 0.12s, `T\\O`  | `NaN`, -2.20, `NaN` |\n",
      "------------------------------------------------------------\n",
      "TRANSITION WITH {'6c', '6a', '6e'} AND SPEEDUP VARIATION 4398046511.0s\n",
      "| {6a, 6c, 6e} |0.05s, 0.06s, 0.05s | `T\\O`, 0.12s, `T\\O`  | `NaN`, -2.21, `NaN` |\n",
      "------------------------------------------------------------\n",
      "TRANSITION WITH {'8d', '8c'} AND SPEEDUP VARIATION 4398046497.7s\n",
      "| {8c, 8d} |14.09s, 8.58s | `T\\O`, 7.85s  | `NaN`, 1.09 |\n",
      "------------------------------------------------------------\n",
      "TRANSITION WITH {'8d', '8c'} AND SPEEDUP VARIATION 4398046497.5s\n",
      "| {8c, 8d} |14.09s, 8.58s | `T\\O`, 8.13s  | `NaN`, 1.05 |\n",
      "------------------------------------------------------------\n",
      "TRANSITION WITH {'8d', '8c'} AND SPEEDUP VARIATION 4398046497.4s\n",
      "| {8c, 8d} |14.09s, 8.58s | `T\\O`, 8.16s  | `NaN`, 1.05 |\n",
      "------------------------------------------------------------\n"
     ]
    }
   ],
   "source": [
    "DEFAULT_DOP = 1\n",
    "full_transitions, full_transition_to_queries = get_transitions_and_query_map(\n",
    "    oracle=oracle, \n",
    "    def_plan_extractor=get_full_plan, \n",
    "    custom_plan_extractor=get_full_plan\n",
    ")\n",
    "\n",
    "transition_summary = make_transitions_summary(transitions=full_transitions, only_interesting=False)\n",
    "transition_summary = sorted(transition_summary, key=lambda el: max(el[1]) - min(el[1]), reverse=True)\n",
    "for max_degradation, speedups, cust_times, def_times, transition_key in transition_summary[:5]:\n",
    "    query_group = full_transition_to_queries[transition_key]\n",
    "    print(f\"TRANSITION WITH {set(query_group)} AND SPEEDUP VARIATION {(max(speedups) - min(speedups))/1000:0.1f}s\")\n",
    "    pretty_print_summary(query_group, def_times, cust_times)\n",
    "    print(\"-\" * 60)\n",
    "DEFAULT_DOP = 64"
   ]
  },
  {
   "cell_type": "markdown",
   "metadata": {},
   "source": [
    "For `full plan - full plan` transitions **almost all degradation problems are solved**. There is only one extreme case with a pair of queries `{8c, 8d}` at `DOP` 1 and 16. These queries are specific because they have exactly the same plans with all hintsets, that is, the planner *sees no difference in them*. \n",
    "\n",
    "However, the situation is not as bad as it could be - this is not a case where one hintset is very good for one query and at the same time super bad for another, because we only have `~9%` speedup for `8c` and `T/O` for `8d`. It means that even by refusing hint advising in such a situation, we will not lose a significant boost."
   ]
  },
  {
   "cell_type": "markdown",
   "metadata": {},
   "source": [
    "## Fuzzy"
   ]
  },
  {
   "cell_type": "markdown",
   "metadata": {},
   "source": [
    "There is a desire to reuse the information about `full plan-to-full plan` transitions in situations where a full match has not occurred (in practice, this is unlikely to happen as often as we would like). In this case, a natural solution is to use the ability to measure the distance between plans with the same logical tree. In this case, the experience with the transition will be reused if a) the logical trees match and b) the estimated statistics are close enough to the corresponding transition statistics.\n",
    "\n",
    "We will name transition that is matched with a fuzzy transition as a *squeezed* transition"
   ]
  },
  {
   "cell_type": "code",
   "execution_count": 10,
   "metadata": {},
   "outputs": [],
   "source": [
    "def get_distance(sels1, sels2):\n",
    "    \"\"\"calculates the maximum among the ratio values of all corresponding coordinates\"\"\"\n",
    "    try:\n",
    "        assert len(sels1) == len(sels2)\n",
    "        return max([max(sel1/sel2, sel2/sel1) for sel1, sel2 in zip(sels1, sels2)])\n",
    "    except Exception:\n",
    "        return float(\"inf\")\n",
    "\n",
    "\n",
    "sels1 = [(1, 12), (42, 666), (1, ), (1, 2), (1, 2, 3)]\n",
    "sels2 = [(2,  3), (42, 666), (2, ), (1, ) , None]\n",
    "expected_distances = [4, 1, 2, float(\"inf\"), float(\"inf\")]\n",
    "\n",
    "for sel1, sel2, expected_distance in zip(sels1, sels2, expected_distances):\n",
    "    assert get_distance(sel1, sel2) == expected_distance"
   ]
  },
  {
   "cell_type": "code",
   "execution_count": 11,
   "metadata": {},
   "outputs": [],
   "source": [
    "def get_fuzzy_transitions_and_query_map(oracle):\n",
    "    \"\"\"For each query in oracle constructs 2 mapping as in `get_transitions_and_query_map`.\n",
    "    The only difference is that instead of creating separated item for each transition\n",
    "    'default plan -> custom plan' it tries to squeezy items with same logical transition\n",
    "    'default logical plan -> custom logical plan' and close enough selectivities.\n",
    "\n",
    "    P.S. it has side effect -- squeezed transitions are written in 'SQUEEZED_TRANSITIONS' list.\n",
    "    \"\"\"\n",
    "    transitions = defaultdict(list)\n",
    "    transition_to_queries = defaultdict(list)\n",
    "\n",
    "    def_logical_trees_to_def_sels = defaultdict(list)\n",
    "    semi_transition_to_sels = defaultdict(list)\n",
    "\n",
    "    for q_n in oracle.get_query_names():\n",
    "        def_logical_tree = get_logical_plan(query_name=q_n, oracle=oracle, hintset=DEFAULT_HINTSET, dop=DEFAULT_DOP)\n",
    "        def_time = oracle.get_execution_time(OracleRequest(query_name=q_n, hintset=DEFAULT_HINTSET, dop=DEFAULT_DOP))\n",
    "        def_sels = get_selectivities(query_name=q_n, oracle=oracle, hintset=DEFAULT_HINTSET, dop=DEFAULT_DOP)\n",
    "\n",
    "        closest_def_sels = find_closest_sels(def_logical_trees_to_def_sels, def_logical_tree, def_sels)\n",
    "        can_reuse_def_sels = (get_distance(def_sels, closest_def_sels) < DISTANCE_THRESHOLD)\n",
    "        if can_reuse_def_sels:\n",
    "            def_sels = closest_def_sels\n",
    "        else:\n",
    "            def_logical_trees_to_def_sels[def_logical_tree].append(def_sels)\n",
    "\n",
    "        for hs in HINTSETS:\n",
    "            custom_logical_tree = get_logical_plan(query_name=q_n, oracle=oracle, hintset=hs, dop=DEFAULT_DOP)\n",
    "            custom_sels = get_selectivities(query_name=q_n, oracle=oracle, hintset=hs, dop=DEFAULT_DOP)\n",
    "            custom_time = oracle.get_execution_time(OracleRequest(query_name=q_n, hintset=hs, dop=DEFAULT_DOP))\n",
    "            #if custom_time >= TIMEOUT:\n",
    "            #    custom_time = TIMEOUT_REL * def_time\n",
    "\n",
    "            semi_transition_key = f\"{def_logical_tree}|{def_sels}->{custom_logical_tree}\"\n",
    "                \n",
    "            squeezed = False\n",
    "            closest_custom_sels = find_closest_sels(semi_transition_to_sels, semi_transition_key, custom_sels)\n",
    "\n",
    "            can_reuse_custom_sels = (get_distance(custom_sels, closest_custom_sels) < DISTANCE_THRESHOLD)\n",
    "            if can_reuse_custom_sels:\n",
    "                if (can_reuse_def_sels and closest_custom_sels is not None and closest_custom_sels != custom_sels):\n",
    "                    squeezed = True                \n",
    "                custom_sels = closest_custom_sels\n",
    "            else:\n",
    "                semi_transition_to_sels[semi_transition_key].append(custom_sels)\n",
    "\n",
    "            transition_key = f\"{def_logical_tree}|{def_sels}->{custom_logical_tree}|{custom_sels}\"\n",
    "\n",
    "            if squeezed:\n",
    "                real_def_sels = get_selectivities(query_name=q_n, oracle=oracle, hintset=DEFAULT_HINTSET, dop=DEFAULT_DOP)\n",
    "                real_custom_sels = get_selectivities(query_name=q_n, oracle=oracle, hintset=hs, dop=DEFAULT_DOP)\n",
    "                assert closest_custom_sels != real_custom_sels\n",
    "                \n",
    "                SQUEEZED_TRANSITIONS.append((transition_key, (tuple(real_def_sels), tuple(real_custom_sels))))\n",
    "                SQUEEZED_TRANSITIONS.append((transition_key, (tuple(closest_def_sels), tuple(closest_custom_sels))))\n",
    "\n",
    "            transitions[transition_key].append((custom_time, def_time))\n",
    "            transition_to_queries[transition_key].append(q_n)\n",
    "\n",
    "    return transitions, transition_to_queries"
   ]
  },
  {
   "cell_type": "code",
   "execution_count": 12,
   "metadata": {},
   "outputs": [],
   "source": [
    "def find_closest_sels(logical_trees_to_sels, target_logical_tree, target_sels):\n",
    "    min_distance = float(\"inf\")\n",
    "    argmin_sels = None\n",
    "\n",
    "    for sels in logical_trees_to_sels[target_logical_tree]:\n",
    "        distance = get_distance(sels, target_sels)\n",
    "        if distance < min_distance:\n",
    "            min_distance, argmin_sels = distance, sels\n",
    "       \n",
    "    return argmin_sels"
   ]
  },
  {
   "cell_type": "code",
   "execution_count": 13,
   "metadata": {},
   "outputs": [],
   "source": [
    "# the value of that paramter is super important;\n",
    "# we can achieve both full and logical transition by changing it;\n",
    "DISTANCE_THRESHOLD = 1.5"
   ]
  },
  {
   "cell_type": "code",
   "execution_count": 14,
   "metadata": {},
   "outputs": [],
   "source": [
    "SQUEEZED_TRANSITIONS = []"
   ]
  },
  {
   "cell_type": "code",
   "execution_count": 15,
   "metadata": {},
   "outputs": [],
   "source": [
    "def test_fuzzy():\n",
    "    global DISTANCE_THRESHOLD\n",
    "    global SQUEEZED_TRANSITIONS\n",
    "    tmp1, tmp2 = DISTANCE_THRESHOLD, SQUEEZED_TRANSITIONS\n",
    "    SQUEEZED_TRANSITIONS = []\n",
    "    \n",
    "    DISTANCE_THRESHOLD = float(\"inf\")\n",
    "    logical_transitions, logical_transition_to_queries = get_transitions_and_query_map(\n",
    "        oracle=oracle, \n",
    "        def_plan_extractor=get_logical_plan, \n",
    "        custom_plan_extractor=get_logical_plan\n",
    "    )\n",
    "    fuzzy_transitions, fuzzy_transition_to_queries = get_fuzzy_transitions_and_query_map(oracle=oracle)\n",
    "    assert len(fuzzy_transition_to_queries) == len(logical_transition_to_queries)\n",
    "\n",
    "    DISTANCE_THRESHOLD = 1.0 + 10 ** (-42)\n",
    "    full_transitions, full_transition_to_queries = get_transitions_and_query_map(\n",
    "        oracle=oracle, \n",
    "        def_plan_extractor=get_full_plan, \n",
    "        custom_plan_extractor=get_full_plan\n",
    "    )\n",
    "    fuzzy_transitions, fuzzy_transition_to_queries = get_fuzzy_transitions_and_query_map(oracle=oracle)    \n",
    "    assert len(fuzzy_transition_to_queries) == len(full_transition_to_queries)\n",
    "\n",
    "    DISTANCE_THRESHOLD = tmp1\n",
    "    SQUEEZED_TRANSITIONS = tmp2\n",
    "    \n",
    "\n",
    "test_fuzzy()"
   ]
  },
  {
   "cell_type": "code",
   "execution_count": 16,
   "metadata": {},
   "outputs": [],
   "source": [
    "DISTANCE_THRESHOLD = 1.5"
   ]
  },
  {
   "cell_type": "code",
   "execution_count": 20,
   "metadata": {},
   "outputs": [
    {
     "name": "stdout",
     "output_type": "stream",
     "text": [
      "TRANSITION WITH {'16c', '16d'} AND SPEEDUP VARIATION 0.7s\n",
      "| {16c, 16d} |5.38s, 4.17s | 8.04s, 6.08s  | -1.49, -1.46 |\n",
      "------------------------------------------------------------\n",
      "TRANSITION WITH {'16c', '16d'} AND SPEEDUP VARIATION 0.6s\n",
      "| {16c, 16d} |5.38s, 4.17s | 7.97s, 6.12s  | -1.48, -1.47 |\n",
      "------------------------------------------------------------\n",
      "TRANSITION WITH {'16c', '16d'} AND SPEEDUP VARIATION 0.6s\n",
      "| {16c, 16d} |5.38s, 4.17s | 7.78s, 5.96s  | -1.44, -1.43 |\n",
      "------------------------------------------------------------\n",
      "TRANSITION WITH {'16c', '16d'} AND SPEEDUP VARIATION 0.6s\n",
      "| {16c, 16d} |5.38s, 4.17s | 7.75s, 5.96s  | -1.44, -1.43 |\n",
      "------------------------------------------------------------\n",
      "TRANSITION WITH {'16c', '16d'} AND SPEEDUP VARIATION 0.6s\n",
      "| {16c, 16d} |5.38s, 4.17s | 7.78s, 6.00s  | -1.45, -1.44 |\n",
      "------------------------------------------------------------\n",
      "TRANSITION WITH {'16c', '16d'} AND SPEEDUP VARIATION 0.5s\n",
      "| {16c, 16d} |5.38s, 4.17s | 7.72s, 5.99s  | -1.43, -1.44 |\n",
      "------------------------------------------------------------\n",
      "TRANSITION WITH {'1a', '1c'} AND SPEEDUP VARIATION 0.4s\n",
      "| {1a, 1c} |1.89s, 1.44s | 0.70s, 0.67s  | 2.70, 2.15 |\n",
      "------------------------------------------------------------\n",
      "TRANSITION WITH {'1a', '1c'} AND SPEEDUP VARIATION 0.3s\n",
      "| {1a, 1c} |1.89s, 1.44s | 0.89s, 0.79s  | 2.11, 1.83 |\n",
      "------------------------------------------------------------\n",
      "TRANSITION WITH {'1a', '1c'} AND SPEEDUP VARIATION 0.3s\n",
      "| {1a, 1c} |1.89s, 1.44s | 0.97s, 0.86s  | 1.95, 1.68 |\n",
      "------------------------------------------------------------\n",
      "TRANSITION WITH {'1a', '1c'} AND SPEEDUP VARIATION 0.3s\n",
      "| {1a, 1c} |1.89s, 1.44s | 0.94s, 0.83s  | 2.01, 1.75 |\n",
      "------------------------------------------------------------\n",
      "TRANSITION WITH {'1a', '1c'} AND SPEEDUP VARIATION 0.3s\n",
      "| {1a, 1c} |1.89s, 1.44s | 0.98s, 0.84s  | 1.93, 1.72 |\n",
      "------------------------------------------------------------\n",
      "TRANSITION WITH {'16c', '16d'} AND SPEEDUP VARIATION 0.3s\n",
      "| {16c, 16d} |5.38s, 4.17s | 5.96s, 4.49s  | -1.11, -1.08 |\n",
      "------------------------------------------------------------\n",
      "TRANSITION WITH {'16c', '16d'} AND SPEEDUP VARIATION 0.2s\n",
      "| {16c, 16d} |5.38s, 4.17s | 5.65s, 4.26s  | -1.05, -1.02 |\n",
      "------------------------------------------------------------\n",
      "TRANSITION WITH {'16c', '16d'} AND SPEEDUP VARIATION 0.2s\n",
      "| {16c, 16d} |5.38s, 4.17s | 5.71s, 4.39s  | -1.06, -1.05 |\n",
      "------------------------------------------------------------\n",
      "TRANSITION WITH {'16c', '16d'} AND SPEEDUP VARIATION 0.2s\n",
      "| {16c, 16d} |5.38s, 4.17s | 5.67s, 4.29s  | -1.05, -1.03 |\n",
      "------------------------------------------------------------\n",
      "TRANSITION WITH {'16c', '16d'} AND SPEEDUP VARIATION 0.2s\n",
      "| {16c, 16d} |5.38s, 4.17s | 5.76s, 4.38s  | -1.07, -1.05 |\n",
      "------------------------------------------------------------\n",
      "TRANSITION WITH {'16c', '16d'} AND SPEEDUP VARIATION 0.1s\n",
      "| {16c, 16d} |5.38s, 4.17s | 5.49s, 4.12s  | -1.02, 1.01 |\n",
      "------------------------------------------------------------\n",
      "TRANSITION WITH {'16c', '16d'} AND SPEEDUP VARIATION 0.1s\n",
      "| {16c, 16d} |5.38s, 4.17s | 5.39s, 4.12s  | -1.00, 1.01 |\n",
      "------------------------------------------------------------\n",
      "TRANSITION WITH {'16c', '16d'} AND SPEEDUP VARIATION 0.1s\n",
      "| {16c, 16d} |5.38s, 4.17s | 5.73s, 4.43s  | -1.06, -1.06 |\n",
      "------------------------------------------------------------\n",
      "TRANSITION WITH {'16c', '16d'} AND SPEEDUP VARIATION 0.1s\n",
      "| {16c, 16d} |5.38s, 4.17s | 5.63s, 4.34s  | -1.05, -1.04 |\n",
      "------------------------------------------------------------\n",
      "TRANSITION WITH {'16c', '16d'} AND SPEEDUP VARIATION 0.1s\n",
      "| {16c, 16d} |5.38s, 4.17s | 5.38s, 4.23s  | 1.00, -1.02 |\n",
      "------------------------------------------------------------\n",
      "TRANSITION WITH {'16c', '16d'} AND SPEEDUP VARIATION 0.1s\n",
      "| {16c, 16d} |5.38s, 4.17s | 5.53s, 4.42s  | -1.03, -1.06 |\n",
      "------------------------------------------------------------\n",
      "TRANSITION WITH {'16c', '16d'} AND SPEEDUP VARIATION 0.1s\n",
      "| {16c, 16d} |5.38s, 4.17s | 5.43s, 4.16s  | -1.01, 1.00 |\n",
      "------------------------------------------------------------\n",
      "TRANSITION WITH {'16c', '16d'} AND SPEEDUP VARIATION 0.1s\n",
      "| {16c, 16d} |5.38s, 4.17s | 5.56s, 4.36s  | -1.03, -1.05 |\n",
      "------------------------------------------------------------\n",
      "TRANSITION WITH {'22b', '22a'} AND SPEEDUP VARIATION 0.1s\n",
      "| {22a, 22b} |0.39s, 0.39s | 0.41s, 0.34s  | -1.05, 1.14 |\n",
      "------------------------------------------------------------\n",
      "TRANSITION WITH {'16c', '16d'} AND SPEEDUP VARIATION 0.1s\n",
      "| {16c, 16d} |5.38s, 4.17s | 5.29s, 4.10s  | 1.02, 1.02 |\n",
      "------------------------------------------------------------\n",
      "TRANSITION WITH {'16c', '16d'} AND SPEEDUP VARIATION 0.1s\n",
      "| {16c, 16d} |5.38s, 4.17s | 5.74s, 4.46s  | -1.07, -1.07 |\n",
      "------------------------------------------------------------\n",
      "TRANSITION WITH {'21a', '21b'} AND SPEEDUP VARIATION 0.1s\n",
      "| {21a, 21b} |0.13s, 0.10s | 1.12s, 1.03s  | -8.63, -10.27 |\n",
      "------------------------------------------------------------\n",
      "TRANSITION WITH {'22b', '22a', '22c'} AND SPEEDUP VARIATION 0.1s\n",
      "| {22a, 22b, 22c} |0.39s, 0.39s, 0.38s | 0.39s, 0.34s, 0.37s  | -1.02, 1.15, 1.03 |\n",
      "------------------------------------------------------------\n",
      "TRANSITION WITH {'22b', '22a', '22c'} AND SPEEDUP VARIATION 0.1s\n",
      "| {22a, 22b, 22c} |0.39s, 0.39s, 0.38s | 0.38s, 0.32s, 0.34s  | 1.02, 1.21, 1.11 |\n",
      "------------------------------------------------------------\n",
      "TRANSITION WITH {'3a', '3c'} AND SPEEDUP VARIATION 0.1s\n",
      "| {3a, 3c} |0.66s, 0.73s | 0.77s, 0.89s  | -1.16, -1.22 |\n",
      "------------------------------------------------------------\n",
      "TRANSITION WITH {'3a', '3c'} AND SPEEDUP VARIATION 0.1s\n",
      "| {3a, 3c} |0.66s, 0.73s | 0.75s, 0.87s  | -1.13, -1.19 |\n",
      "------------------------------------------------------------\n",
      "TRANSITION WITH {'22b', '22a', '22c'} AND SPEEDUP VARIATION 0.0s\n",
      "| {22a, 22b, 22c} |0.39s, 0.39s, 0.38s | 0.33s, 0.38s, 0.36s  | 1.16, 1.03, 1.06 |\n",
      "------------------------------------------------------------\n",
      "TRANSITION WITH {'1a', '1c'} AND SPEEDUP VARIATION 0.0s\n",
      "| {1a, 1c} |1.89s, 1.44s | 1.91s, 1.43s  | -1.01, 1.01 |\n",
      "------------------------------------------------------------\n",
      "TRANSITION WITH {'16c', '16d'} AND SPEEDUP VARIATION 0.0s\n",
      "| {16c, 16d} |5.38s, 4.17s | 5.36s, 4.11s  | 1.00, 1.01 |\n",
      "------------------------------------------------------------\n",
      "TRANSITION WITH {'1a', '1c'} AND SPEEDUP VARIATION 0.0s\n",
      "| {1a, 1c} |1.89s, 1.44s | 1.93s, 1.45s  | -1.02, -1.01 |\n",
      "------------------------------------------------------------\n",
      "TRANSITION WITH {'1a', '1c'} AND SPEEDUP VARIATION 0.0s\n",
      "| {1a, 1c} |1.89s, 1.44s | 1.76s, 1.35s  | 1.07, 1.07 |\n",
      "------------------------------------------------------------\n",
      "TRANSITION WITH {'22b', '22a'} AND SPEEDUP VARIATION 0.0s\n",
      "| {22a, 22b} |0.39s, 0.39s | 0.34s, 0.37s  | 1.14, 1.04 |\n",
      "------------------------------------------------------------\n",
      "TRANSITION WITH {'1a', '1c'} AND SPEEDUP VARIATION 0.0s\n",
      "| {1a, 1c} |1.89s, 1.44s | 1.76s, 1.34s  | 1.07, 1.08 |\n",
      "------------------------------------------------------------\n",
      "TRANSITION WITH {'3a', '3c'} AND SPEEDUP VARIATION 0.0s\n",
      "| {3a, 3c} |0.66s, 0.73s | 0.76s, 0.86s  | -1.15, -1.17 |\n",
      "------------------------------------------------------------\n",
      "TRANSITION WITH {'16c', '16d'} AND SPEEDUP VARIATION 0.0s\n",
      "| {16c, 16d} |5.38s, 4.17s | 5.35s, 4.15s  | 1.01, 1.00 |\n",
      "------------------------------------------------------------\n",
      "TRANSITION WITH {'3a', '3c'} AND SPEEDUP VARIATION 0.0s\n",
      "| {3a, 3c} |0.66s, 0.73s | 0.77s, 0.86s  | -1.17, -1.17 |\n",
      "------------------------------------------------------------\n",
      "TRANSITION WITH {'22b', '22a'} AND SPEEDUP VARIATION 0.0s\n",
      "| {22a, 22b} |0.39s, 0.39s | 0.38s, 0.37s  | 1.01, 1.03 |\n",
      "------------------------------------------------------------\n",
      "TRANSITION WITH {'16c', '16d'} AND SPEEDUP VARIATION 0.0s\n",
      "| {16c, 16d} |5.38s, 4.17s | 5.36s, 4.13s  | 1.01, 1.01 |\n",
      "------------------------------------------------------------\n",
      "TRANSITION WITH {'3a', '3c'} AND SPEEDUP VARIATION 0.0s\n",
      "| {3a, 3c} |0.66s, 0.73s | 0.68s, 0.76s  | -1.03, -1.04 |\n",
      "------------------------------------------------------------\n",
      "TRANSITION WITH {'22b', '22a'} AND SPEEDUP VARIATION 0.0s\n",
      "| {22a, 22b} |0.39s, 0.39s | 0.36s, 0.36s  | 1.08, 1.09 |\n",
      "------------------------------------------------------------\n",
      "TRANSITION WITH {'1a', '1c'} AND SPEEDUP VARIATION 0.0s\n",
      "| {1a, 1c} |1.89s, 1.44s | 1.89s, 1.44s  | 1.00, 1.00 |\n",
      "------------------------------------------------------------\n",
      "TRANSITION WITH {'22b', '22a', '22c'} AND SPEEDUP VARIATION 0.0s\n",
      "| {22a, 22b, 22c} |0.39s, 0.39s, 0.38s | 0.39s, 0.39s, 0.38s  | 1.00, 1.00, 1.00 |\n",
      "------------------------------------------------------------\n",
      "TRANSITION WITH {'3a', '3c'} AND SPEEDUP VARIATION 0.0s\n",
      "| {3a, 3c} |0.66s, 0.73s | 0.66s, 0.73s  | 1.00, 1.00 |\n",
      "------------------------------------------------------------\n"
     ]
    }
   ],
   "source": [
    "DEFAULT_DOP = 64\n",
    "SQUEEZED_TRANSITIONS = []\n",
    "fuzzy_transitions, fuzzy_transition_to_queries = get_fuzzy_transitions_and_query_map(\n",
    "    oracle=oracle\n",
    ")\n",
    "\n",
    "# lets analyze only squeezed\n",
    "squeezed_transition_to_real_sels_pairs = defaultdict(set)\n",
    "for (transition, sels) in SQUEEZED_TRANSITIONS:\n",
    "    squeezed_transition_to_real_sels_pairs[transition].add(sels)\n",
    "\n",
    "transition_summary = make_transitions_summary(transitions=fuzzy_transitions, only_interesting=False)\n",
    "transition_summary = sorted(transition_summary, key=lambda el: max(el[1]) - min(el[1]), reverse=True)\n",
    "for max_degradation, speedups, cust_times, def_times, transition_key in transition_summary:\n",
    "\n",
    "    if transition_key not in squeezed_transition_to_real_sels_pairs:\n",
    "        continue\n",
    "    \n",
    "    if all([c_t >= TIMEOUT for c_t in cust_times]):\n",
    "        continue\n",
    "\n",
    "    query_group = fuzzy_transition_to_queries[transition_key]\n",
    "    print(f\"TRANSITION WITH {set(query_group)} AND SPEEDUP VARIATION {(max(speedups) - min(speedups))/1000:0.1f}s\")\n",
    "    pretty_print_summary(query_group, def_times, cust_times)\n",
    "    print(\"-\" * 60)"
   ]
  },
  {
   "cell_type": "markdown",
   "metadata": {},
   "source": [
    "### Table with times for fuzzied transitions with biggest custom time diff (`distance`=1.5) \n",
    "\n",
    "| Query Group| Default Time| Custom Time       | Relative Boost |\n",
    "|------------|-------------|-------------------|----------------|\n",
    "| {16c, 16d} | 5.382s, 4.166s | 8.041s, 6.076s  | -1.49, -1.46 |\n",
    "| {1a, 1c} | 1.885s, 1.442s | 0.698s, 0.671s  | 2.70, 2.15 |\n",
    "| {21a, 21b} | 0.129s, 0.100s | 1.121s, 1.031s  | -8.69, -10.31 |"
   ]
  },
  {
   "cell_type": "markdown",
   "metadata": {},
   "source": [
    "It can be seen that with careful selection of the `DISTANCE_THRESHOLD` we can squeezy transitions relatively safely so that all queries from them behave similarly. It should be noted that depending on the selection of the `DISTANCE_THRESHOLD`, the compression can turn into logical transitions or full transitions, i.e., the problem of regressions is not finally solved."
   ]
  }
 ],
 "metadata": {
  "kernelspec": {
   "display_name": "venv",
   "language": "python",
   "name": "python3"
  },
  "language_info": {
   "codemirror_mode": {
    "name": "ipython",
    "version": 3
   },
   "file_extension": ".py",
   "mimetype": "text/x-python",
   "name": "python",
   "nbconvert_exporter": "python",
   "pygments_lexer": "ipython3",
   "version": "3.12.3"
  }
 },
 "nbformat": 4,
 "nbformat_minor": 2
}
