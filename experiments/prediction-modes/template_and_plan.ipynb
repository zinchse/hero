{
 "cells": [
  {
   "cell_type": "code",
   "execution_count": 1,
   "metadata": {},
   "outputs": [],
   "source": [
    "import os\n",
    "import sys\n",
    "\n",
    "ROOT_PATH = os.path.dirname(os.path.dirname(os.getcwd()))\n",
    "EXPERIMENT_PATH = f\"{ROOT_PATH}/experiments/prediction-modes\"\n",
    "sys.path.insert(0, ROOT_PATH)"
   ]
  },
  {
   "cell_type": "code",
   "execution_count": 2,
   "metadata": {},
   "outputs": [],
   "source": [
    "from json import load, dumps, dump\n",
    "from collections import defaultdict\n",
    "from src.datasets.data_config import DOPS, DEFAULT_HINTSET, HINTSETS\n",
    "from src.datasets.oracle import Oracle, OracleRequest, TIMEOUT"
   ]
  },
  {
   "cell_type": "code",
   "execution_count": 3,
   "metadata": {},
   "outputs": [],
   "source": [
    "# other benchmarks don't have more than 1 query inside one template \n",
    "oracle = Oracle(f\"{ROOT_PATH}/data/processed/JOB\")"
   ]
  },
  {
   "cell_type": "code",
   "execution_count": 4,
   "metadata": {},
   "outputs": [],
   "source": [
    "DEFAULT_DOP = 64\n",
    "TIMEOUT_REL = 2"
   ]
  },
  {
   "cell_type": "markdown",
   "metadata": {},
   "source": [
    "# Is the template or plan enough to safely estimate the usefullness of hintset?"
   ]
  },
  {
   "cell_type": "markdown",
   "metadata": {},
   "source": [
    "Here we will check the deviations of execution time inside the group of queries under different hintsets. \\\n",
    "Considered groupping functions are:\n",
    "- query $\\rightarrow$ query template, \n",
    "- query $\\rightarrow$ logical plan, and\n",
    "- query $\\rightarrow$ full plan (i.e. logical plan with estimated cardinalities)\n",
    "\n",
    "For simplicity, we restrict ourselves to groups within which a) a hintset causes some queries to speed up and some to `T/O`, and b) all queries are sufficiently long (> 1 sec), "
   ]
  },
  {
   "cell_type": "code",
   "execution_count": 5,
   "metadata": {},
   "outputs": [],
   "source": [
    "def make_group_summary(query_groups, only_interesting=True):\n",
    "    \"\"\"\n",
    "    In each query group it looks for cases, where hintset for one queries lead to boost \n",
    "    and for another one lead to degradation, and collects info about the most interesting ones.\n",
    "    \"\"\"\n",
    "    group_summaries = []\n",
    "    for query_group in query_groups:   \n",
    "        min_timeouts = 0\n",
    "        hs_to_show, def_times_to_show, cust_times_to_show, boosts_to_show = None, None, None, None\n",
    "        \n",
    "        for hs in HINTSETS:\n",
    "            def_times, cust_times, speedups, boosts = [], [], [], []\n",
    "            for q_n in query_group:\n",
    "                cust_time = oracle.get_execution_time(OracleRequest(query_name=q_n, hintset=hs, dop=DEFAULT_DOP))\n",
    "                def_time = oracle.get_execution_time(OracleRequest(query_name=q_n, hintset=DEFAULT_HINTSET, dop=DEFAULT_DOP))\n",
    "                \n",
    "                def_times.append(def_time)\n",
    "                cust_times.append(cust_time)\n",
    "                speedups.append(def_time - cust_time)\n",
    "\n",
    "                if cust_time >= TIMEOUT:\n",
    "                    boosts.append(-TIMEOUT_REL)\n",
    "                elif cust_time > def_time:\n",
    "                    boosts.append(-cust_time / def_time)\n",
    "                else:\n",
    "                    boosts.append(def_time / cust_time)\n",
    "\n",
    "            are_queries_small = max(def_times) < 1000\n",
    "            if only_interesting and are_queries_small:\n",
    "               continue\n",
    "            \n",
    "            n_timeouts = sum([boost == -TIMEOUT_REL for boost in boosts])\n",
    "            new_n_timeouts_record = (n_timeouts > min_timeouts)\n",
    "            n_min_timeouts = (n_timeouts == min_timeouts)\n",
    "            new_boost_record = (hs_to_show is None or max(boosts_to_show) <= max(boosts))\n",
    "            boost_is_large_enough = (max(boosts) > 1.01)\n",
    "\n",
    "            if (new_n_timeouts_record or (n_min_timeouts and new_boost_record)) and boost_is_large_enough:\n",
    "                min_timeouts = n_timeouts\n",
    "                hs_to_show = hs\n",
    "                def_times_to_show = def_times\n",
    "                cust_times_to_show = cust_times\n",
    "                boosts_to_show = boosts\n",
    "                speedups_to_show = speedups\n",
    "            \n",
    "        is_interesting_case_found = (hs_to_show is not None and len(query_group) > 1)\n",
    "        if is_interesting_case_found:\n",
    "            summary = (query_group, hs_to_show, speedups_to_show, def_times_to_show, cust_times_to_show)\n",
    "            group_summaries.append(summary)\n",
    "            \n",
    "    return group_summaries"
   ]
  },
  {
   "cell_type": "code",
   "execution_count": 6,
   "metadata": {},
   "outputs": [],
   "source": [
    "def pretty_print_summary(query_group, hs, def_times, cust_times):\n",
    "    import numpy as np\n",
    "    q_to_def_times, q_to_cust_times = defaultdict(list), defaultdict(list)\n",
    "    for q_n, def_time, cust_time in sorted(zip(query_group, def_times, cust_times)):\n",
    "        q_to_def_times[q_n].append(def_time)\n",
    "        q_to_cust_times[q_n].append(cust_time)\n",
    "\n",
    "    query_col, def_time_col, cust_time_col, boost_col = [], [], [], []\n",
    "    for q_n in sorted(set(query_group)):\n",
    "        query_col.append(f\"{q_n}\")\n",
    "        def_time = np.mean(q_to_def_times[q_n])\n",
    "        def_time_col.append(f\"{def_time / 1000:0.2f}s\")\n",
    "        \n",
    "        cust_time = np.mean(q_to_cust_times[q_n])\n",
    "        if cust_time >= TIMEOUT:\n",
    "            cust_time_col.append(\"`T\\\\O`\")\n",
    "        else:\n",
    "            cust_time_col.append(f\"{cust_time / 1000:0.2f}s\")\n",
    "\n",
    "        if cust_time >= TIMEOUT:\n",
    "            boost_col.append(\"`NaN`\")\n",
    "        elif cust_time < def_time:\n",
    "            boost_col.append(f\"{def_time / cust_time:0.2f}\")\n",
    "        else:\n",
    "            boost_col.append(f\"{-cust_time / def_time:0.2f}\")\n",
    "    \n",
    "    print(f\"| {'{'+', '.join(query_col)+'}'} | # {hs} |{', '.join(def_time_col)} | {', '.join(cust_time_col)}  | {', '.join(boost_col)} |\")    "
   ]
  },
  {
   "cell_type": "code",
   "execution_count": 7,
   "metadata": {},
   "outputs": [],
   "source": [
    "from src.utils import get_template_id, get_full_plan, get_logical_plan"
   ]
  },
  {
   "cell_type": "code",
   "execution_count": 8,
   "metadata": {},
   "outputs": [],
   "source": [
    "template_to_queries = defaultdict(list)\n",
    "logical_plan_to_queries = defaultdict(list)\n",
    "full_plan_to_queries = defaultdict(list)\n",
    "\n",
    "for query_name in oracle.get_query_names():\n",
    "    kwargs = {\n",
    "        \"query_name\": query_name,\n",
    "        \"oracle\": oracle,\n",
    "        \"hintset\": DEFAULT_HINTSET,\n",
    "        \"dop\": DEFAULT_DOP\n",
    "    }\n",
    "    template_id = get_template_id(**kwargs)\n",
    "    logical_plan = get_logical_plan(**kwargs)\n",
    "    full_plan = get_full_plan(**kwargs)\n",
    "\n",
    "    logical_plan_to_queries[logical_plan].append(query_name)\n",
    "    template_to_queries[template_id].append(query_name)\n",
    "    full_plan_to_queries[full_plan].append(query_name)"
   ]
  },
  {
   "cell_type": "markdown",
   "metadata": {},
   "source": [
    "### query $\\rightarrow$ query template"
   ]
  },
  {
   "cell_type": "code",
   "execution_count": 9,
   "metadata": {},
   "outputs": [
    {
     "name": "stdout",
     "output_type": "stream",
     "text": [
      "11\n"
     ]
    }
   ],
   "source": [
    "n_big_groups = 0\n",
    "for group in template_to_queries.values():\n",
    "    n_big_groups += len(group) > 1\n",
    "print(n_big_groups)"
   ]
  },
  {
   "cell_type": "markdown",
   "metadata": {},
   "source": [
    "Although the queries from `JOB` with the same number look extremely similar, they differ in the form in which the predicate is written. For example, queries `6a` and `6b` differ in that in one case the condition is written like `col in ['x', 'y']`, and in the other case `col in ['x']`, but it is written as `col = 'x'`. This leads to the fact that they have different template numbers. In fact, the results of template prediction (taking into account such effects) will **be even less stable** than those of logic tree prediction. So they can be omitted."
   ]
  },
  {
   "cell_type": "code",
   "execution_count": 10,
   "metadata": {},
   "outputs": [],
   "source": [
    "# template_summary = make_group_summary(query_groups=template_to_queries.values())\n",
    "# template_summary = sorted(template_summary, key=lambda el: max(el[2]) - min(el[2]), reverse=True)\n",
    "# for (query_group, hs, speedups, boosts, def_times, cust_times) in template_summary:\n",
    "#     print(f\"GROUP {query_group} WITH HINSET #{hs_to_show} AND SPEEDUP VARIATION {(max(speedups) - min(speedups))/1000:0.1f}s\")\n",
    "#     pretty_print_summary(query_group, hs, def_times, cust_times)\n",
    "#     print(\"-\" * 60)"
   ]
  },
  {
   "cell_type": "markdown",
   "metadata": {},
   "source": [
    "### query $\\rightarrow$ logical plan"
   ]
  },
  {
   "cell_type": "code",
   "execution_count": 11,
   "metadata": {},
   "outputs": [
    {
     "name": "stdout",
     "output_type": "stream",
     "text": [
      "GROUP ['16d', '16c', '16b'] WITH HINSET #110 AND SPEEDUP VARIATION 4398046547.2s\n",
      "| {16b, 16c, 16d} | # 110 |69.60s, 5.38s, 4.17s | 29.38s, `T\\O`, `T\\O`  | 2.37, `NaN`, `NaN` |\n",
      "------------------------------------------------------------\n",
      "GROUP ['30c', '30a'] WITH HINSET #47 AND SPEEDUP VARIATION 4398046517.6s\n",
      "| {30a, 30c} | # 47 |7.58s, 14.03s | `T\\O`, 0.00s  | `NaN`, 24968.09 |\n",
      "------------------------------------------------------------\n",
      "GROUP ['6a', '6b', '6c', '6d', '6e'] WITH HINSET #126 AND SPEEDUP VARIATION 4398046516.6s\n",
      "| {6a, 6b, 6c, 6d, 6e} | # 126 |0.05s, 14.53s, 0.05s, 14.36s, 0.05s | `T\\O`, 8.95s, `T\\O`, `T\\O`, `T\\O`  | `NaN`, 1.62, `NaN`, `NaN`, `NaN` |\n",
      "------------------------------------------------------------\n",
      "GROUP ['5a', '5b'] WITH HINSET #95 AND SPEEDUP VARIATION 4398046510.4s\n",
      "| {5a, 5b} | # 95 |1.04s, 0.97s | `T\\O`, 0.66s  | `NaN`, 1.46 |\n",
      "------------------------------------------------------------\n",
      "GROUP ['17c', '17b', '17d', '17f'] WITH HINSET #81 AND SPEEDUP VARIATION 4398046501.7s\n",
      "| {17b, 17c, 17d, 17f} | # 81 |10.47s, 10.08s, 9.98s, 15.92s | `T\\O`, `T\\O`, `T\\O`, 15.35s  | `NaN`, `NaN`, `NaN`, 1.04 |\n",
      "------------------------------------------------------------\n"
     ]
    }
   ],
   "source": [
    "logical_plan_summary = make_group_summary(query_groups=logical_plan_to_queries.values())\n",
    "logical_plan_summary = sorted(logical_plan_summary, key=lambda el: max(el[2]) - min(el[2]), reverse=True)\n",
    "\n",
    "for (query_group, hs, speedups, def_times, cust_times) in logical_plan_summary[:5]:\n",
    "    print(f\"GROUP {query_group} WITH HINSET #{hs} AND SPEEDUP VARIATION {(max(speedups) - min(speedups))/1000:0.1f}s\")\n",
    "    pretty_print_summary(query_group, hs, def_times, cust_times)\n",
    "    print(\"-\" * 60)"
   ]
  },
  {
   "cell_type": "markdown",
   "metadata": {},
   "source": [
    "| Query Group| Hintset \\# | Default Time| Custom Time       | Relative Boost|\n",
    "|------------|-------------|-----------------|--------------------------------|--------------------------------|\n",
    "| {16b, 16c, 16d} | # 110 |69.60s, 5.38s, 4.17s | 29.38s, `T\\O`, `T\\O`  | 2.37, `NaN`, `NaN` |\n",
    "| {30a, 30c} | # 47 |7.58s, 14.03s | `T\\O`, 0.00s  | `NaN`, 24968.09 |\n",
    "| {6a, 6b, 6c, 6d, 6e} | # 126 |0.05s, 14.53s, 0.05s, 14.36s, 0.05s | `T\\O`, 8.95s, `T\\O`, `T\\O`, `T\\O`  | `NaN`, 1.62, `NaN`, `NaN`, `NaN` |\n",
    "| {5a, 5b} | # 95 |1.04s, 0.97s | `T\\O`, 0.66s  | `NaN`, 1.46 |\n",
    "| {17b, 17c, 17d, 17f} | # 81 |10.47s, 10.08s, 9.98s, 15.92s | `T\\O`, `T\\O`, `T\\O`, 15.35s  | `NaN`, `NaN`, `NaN`, 1.04 |\n"
   ]
  },
  {
   "cell_type": "markdown",
   "metadata": {},
   "source": [
    "i.e. logical based predictions are also **unreliable**. \n",
    "\n",
    "*P.S. one more interesting case:*\n",
    "\n",
    "```\n",
    "GROUP ['6a', '6b', '6c', '6d', '6e'] | HINSET #106\n",
    "Boosts: [-2.0, 3.073356346209928, -2.0, 2.861518916316778, -2.0]\n",
    "Default Times [53.358, 14532.848, 52.611, 14361.208, 52.286]\n",
    "```\n",
    "\n",
    "That is, even though some hintsets cause degradation, there is still a hintset (`#106`)that speeds up the two largest queries (`6b`, `6d`) in the group at the same time, which is probably better than the default behavior on average (since the other queries are too small, and slowing them down may be justified)."
   ]
  },
  {
   "cell_type": "markdown",
   "metadata": {},
   "source": [
    "### query $\\rightarrow$ full plan"
   ]
  },
  {
   "cell_type": "code",
   "execution_count": 12,
   "metadata": {},
   "outputs": [
    {
     "name": "stdout",
     "output_type": "stream",
     "text": [
      "GROUP ['6b', '6d'] WITH HINSET #126 AND SPEEDUP VARIATION 4398046502.3s\n",
      "| {6b, 6d} | # 126 |14.53s, 14.36s | 8.95s, `T\\O`  | 1.62, `NaN` |\n",
      "------------------------------------------------------------\n",
      "GROUP ['8d', '8c'] WITH HINSET #110 AND SPEEDUP VARIATION 0.6s\n",
      "| {8c, 8d} | # 110 |10.83s, 6.46s | 10.71s, 6.91s  | 1.01, -1.07 |\n",
      "------------------------------------------------------------\n",
      "GROUP ['17c', '17d'] WITH HINSET #120 AND SPEEDUP VARIATION 0.5s\n",
      "| {17c, 17d} | # 120 |10.08s, 9.98s | 9.58s, 9.95s  | 1.05, 1.00 |\n",
      "------------------------------------------------------------\n",
      "GROUP ['21a', '21b'] WITH HINSET #86 AND SPEEDUP VARIATION 0.0s\n",
      "| {21a, 21b} | # 86 |0.13s, 0.10s | 0.11s, 0.12s  | 1.15, -1.22 |\n",
      "------------------------------------------------------------\n",
      "GROUP ['6a', '6c', '6e'] WITH HINSET #86 AND SPEEDUP VARIATION 0.0s\n",
      "| {6a, 6c, 6e} | # 86 |0.05s, 0.05s, 0.05s | 0.06s, 0.04s, 0.05s  | -1.06, 1.26, -1.03 |\n",
      "------------------------------------------------------------\n"
     ]
    }
   ],
   "source": [
    "full_plan_summary = make_group_summary(query_groups=full_plan_to_queries.values(), only_interesting=False)\n",
    "full_plan_summary = sorted(full_plan_summary, key=lambda el: max(el[2]) - min(el[2]), reverse=True)\n",
    "for (query_group, hs, speedups, def_times, cust_times) in full_plan_summary:\n",
    "    print(f\"GROUP {query_group} WITH HINSET #{hs} AND SPEEDUP VARIATION {(max(speedups) - min(speedups))/1000:0.1f}s\")\n",
    "    pretty_print_summary(query_group, hs, def_times, cust_times)\n",
    "    print(\"-\" * 60)"
   ]
  },
  {
   "cell_type": "markdown",
   "metadata": {},
   "source": [
    "| Query Group| Hintset \\# | Default Time| Custom Time       | Relative Boost|\n",
    "|------------|----------|--------------------|--------------------------------|--------------------------------|\n",
    "| {6b, 6d} | # 126 |14.53s, 14.36s | 8.95s, `T\\O`  | 1.62, `NaN` |"
   ]
  },
  {
   "cell_type": "markdown",
   "metadata": {},
   "source": [
    "We see, that **even full plan isn't enought for reliable prediction** \\\n",
    "*P.S. situation is same with other `DOP` values*\n",
    "\n",
    "This is the reason we started to address the problem of possible degradations. Since the estimates of plan execution time when using hintset look extremely unreliable, we propose to switch to **transitions**\n",
    "$$\\tau: Plan_{default} \\rightarrow Plan_{custom}$$ \n",
    "by measuring the distance of the actually obtained custom plan to the plans we have already seen during training, we can get rid of most of the regressions. For more details on this technique, see the notebook `transition.ipynb`."
   ]
  }
 ],
 "metadata": {
  "kernelspec": {
   "display_name": "venv",
   "language": "python",
   "name": "python3"
  },
  "language_info": {
   "codemirror_mode": {
    "name": "ipython",
    "version": 3
   },
   "file_extension": ".py",
   "mimetype": "text/x-python",
   "name": "python",
   "nbconvert_exporter": "python",
   "pygments_lexer": "ipython3",
   "version": "3.12.3"
  }
 },
 "nbformat": 4,
 "nbformat_minor": 2
}
