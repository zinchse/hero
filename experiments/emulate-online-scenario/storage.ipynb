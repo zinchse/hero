{
 "cells": [
  {
   "cell_type": "code",
   "execution_count": 1,
   "metadata": {
    "vscode": {
     "languageId": "python"
    }
   },
   "outputs": [
    {
     "name": "stdout",
     "output_type": "stream",
     "text": [
      "Hello, Paperspace\n"
     ]
    }
   ],
   "source": [
    "import os\n",
    "import sys\n",
    "\n",
    "if \"COLAB_GPU\" in os.environ:\n",
    "  from google.colab import drive\n",
    "  print(\"Hello, Colab\")\n",
    "  drive.mount(\"/content/drive\")\n",
    "  ROOT_PATH = \"/content/drive/MyDrive/hero\"\n",
    "  os.environ[\"CLEARML_CONFIG_FILE\"] = f\"{ROOT_PATH}/clearml.conf\"\n",
    "elif \"PAPERSPACE_CLUSTER_ID\" in os.environ:\n",
    "  print(\"Hello, Paperspace\")\n",
    "  ROOT_PATH = \"/notebooks/hero\"\n",
    "  os.environ[\"CLEARML_CONFIG_FILE\"] = f\"{ROOT_PATH}/clearml.conf\"\n",
    "else:\n",
    "  print(\"Hello, Local PC\")\n",
    "  ROOT_PATH = os.path.dirname(os.path.dirname(os.getcwd()))\n",
    "\n",
    "EXPERIMENT_PATH = f\"{ROOT_PATH}/experiments/emulate-online-scenario\"\n",
    "ARTIFACTS_PATH = f\"{EXPERIMENT_PATH}/artifacts\"\n",
    "\n",
    "TCNN_ABILITIES_EXPERIMENT_PATH = f\"{ROOT_PATH}/experiments/tcnn-abilities\"\n",
    "TCNN_ABILITIES_ARTIFACTS_PATH = f\"{TCNN_ABILITIES_EXPERIMENT_PATH}/artifacts\"\n",
    "\n",
    "sys.path.insert(0, ROOT_PATH)"
   ]
  },
  {
   "cell_type": "code",
   "execution_count": 2,
   "metadata": {
    "vscode": {
     "languageId": "python"
    }
   },
   "outputs": [],
   "source": [
    "from functools import lru_cache\n",
    "from collections import defaultdict, namedtuple\n",
    "from json import load, dumps, dump\n",
    "from itertools import product\n",
    "\n",
    "import random\n",
    "from tqdm import tqdm\n",
    "import pandas as pd\n",
    "import numpy as np\n",
    "import matplotlib.pyplot as plt\n",
    "from scipy.stats import kendalltau, spearmanr\n",
    "import torch\n",
    "import torch.nn as nn\n",
    "    \n",
    "from torch.utils.data import DataLoader\n",
    "import torch.optim as optim\n",
    "import torch.optim.lr_scheduler as lr_scheduler\n",
    "\n",
    "from src.models import binary_tree_layers as btl\n",
    "from src.models.regressor import BinaryTreeRegressor\n",
    "from src.datasets.oracle import Oracle, OracleRequest, TIMEOUT\n",
    "from src.datasets.data_config import HINTSETS, DOPS, HINTS, DEFAULT_HINTSET\n",
    "from src.datasets.data_types import ExplainNode\n",
    "from src.datasets.vectorization import extract_vertices_and_edges, ALL_FEATURES\n",
    "from src.datasets.binary_tree_dataset import binary_tree_collate, BinaryTreeDataset, WeightedBinaryTreeDataset, weighted_binary_tree_collate, paddify_sequences\n",
    "from src.utils import get_structure, get_tree, preprocess, featurize_dataset, filter_df, load_run, MAX_TREE_LENGTH, get_logical_tree, get_full_plan"
   ]
  },
  {
   "cell_type": "code",
   "execution_count": 3,
   "metadata": {
    "vscode": {
     "languageId": "python"
    }
   },
   "outputs": [],
   "source": [
    "job_oracle = Oracle(f\"{ROOT_PATH}/data/processed/JOB\")\n",
    "sq_oracle = Oracle(f\"{ROOT_PATH}/data/processed/sample_queries\")"
   ]
  },
  {
   "cell_type": "code",
   "execution_count": 4,
   "metadata": {
    "vscode": {
     "languageId": "python"
    }
   },
   "outputs": [],
   "source": [
    "job_list_info = torch.load(f\"{TCNN_ABILITIES_ARTIFACTS_PATH}/job_list_info\")\n",
    "ood_sq_list_info = torch.load(f\"{TCNN_ABILITIES_ARTIFACTS_PATH}/ood_sq_list_info\")\n",
    "id_sq_list_info = torch.load(f\"{TCNN_ABILITIES_ARTIFACTS_PATH}/id_sq_list_info\")"
   ]
  },
  {
   "cell_type": "code",
   "execution_count": 5,
   "metadata": {
    "vscode": {
     "languageId": "python"
    }
   },
   "outputs": [],
   "source": [
    "PROCESSED_EX_TIMES = {\n",
    "    (info[\"query_name\"], info[\"hintset\"], info[\"dop\"]): info[\"time\"].item()\n",
    "    for info in job_list_info + ood_sq_list_info + id_sq_list_info\n",
    "}"
   ]
  },
  {
   "cell_type": "markdown",
   "metadata": {},
   "source": [
    "# Helpers"
   ]
  },
  {
   "cell_type": "markdown",
   "metadata": {},
   "source": [
    "Here are small and more convinient reimplementation of basic funcionality."
   ]
  },
  {
   "cell_type": "code",
   "execution_count": 6,
   "metadata": {
    "vscode": {
     "languageId": "python"
    }
   },
   "outputs": [],
   "source": [
    "def _get_selectivities(plan: \"ExplainPlan\") -> \"List[Selectivity]\":\n",
    "    res = []\n",
    "    def recurse(node: \"ExplainNode\") -> \"None\":\n",
    "        max_possible_size = 1\n",
    "        current_size = node.estimated_cardinality\n",
    "        for child in node.plans:\n",
    "            max_possible_size *= child.estimated_cardinality\n",
    "        res.append(current_size / max_possible_size)\n",
    "        for child in node.plans:\n",
    "            recurse(child)\n",
    "    recurse(node=plan.plan)\n",
    "    return res"
   ]
  },
  {
   "cell_type": "code",
   "execution_count": 7,
   "metadata": {
    "vscode": {
     "languageId": "python"
    }
   },
   "outputs": [],
   "source": [
    "def _get_cardinalities(plan: \"ExplainPlan\") -> \"List[Cardinality]\":\n",
    "    res = []\n",
    "    def recurse(node: \"ExplainNode\") -> \"None\":\n",
    "        res.append(node.estimated_cardinality)\n",
    "        for child in node.plans:\n",
    "            recurse(child)\n",
    "    recurse(node=plan.plan)\n",
    "    return res"
   ]
  },
  {
   "cell_type": "code",
   "execution_count": 8,
   "metadata": {
    "vscode": {
     "languageId": "python"
    }
   },
   "outputs": [],
   "source": [
    "@lru_cache(None)\n",
    "def _get_oracle(q_n: \"QueryName\") -> \"Oracle\":\n",
    "    if q_n in job_oracle.get_query_names():\n",
    "        return job_oracle\n",
    "    else:\n",
    "        return sq_oracle"
   ]
  },
  {
   "cell_type": "markdown",
   "metadata": {},
   "source": [
    "**remember me**"
   ]
  },
  {
   "cell_type": "code",
   "execution_count": 9,
   "metadata": {
    "vscode": {
     "languageId": "python"
    }
   },
   "outputs": [],
   "source": [
    "@lru_cache(None)\n",
    "def _get_logical_tree(q_n: \"QueryName\", hs: \"Hintset\", dop: \"Dop\") -> \"str\":\n",
    "    #return get_full_plan(q_n, _get_oracle(q_n), hs, dop, with_rels=True)\n",
    "    return get_logical_tree(q_n, _get_oracle(q_n), hs, dop, with_rels=True)"
   ]
  },
  {
   "cell_type": "code",
   "execution_count": 10,
   "metadata": {
    "vscode": {
     "languageId": "python"
    }
   },
   "outputs": [],
   "source": [
    "@lru_cache(None)\n",
    "def _get_execution_time(q_n: \"QueryName\", hs: \"Hintset\", dop: \"Dop\", handle_timeout: \"bool\" = True) -> \"Time\":\n",
    "    time_from_oracle = _get_oracle(q_n).get_execution_time(OracleRequest(query_name=q_n, hintset=hs, dop=dop)) / 1000\n",
    "    if not handle_timeout:\n",
    "        return time_from_oracle\n",
    "    if time_from_oracle != TIMEOUT / 1000:\n",
    "        assert np.isclose(time_from_oracle, PROCESSED_EX_TIMES[(q_n, hs, dop)]), \"Inconsistent times\"\n",
    "        return time_from_oracle\n",
    "    else:\n",
    "        return PROCESSED_EX_TIMES[(q_n, hs, dop)]"
   ]
  },
  {
   "cell_type": "code",
   "execution_count": 11,
   "metadata": {
    "vscode": {
     "languageId": "python"
    }
   },
   "outputs": [],
   "source": [
    "@lru_cache(None)\n",
    "def _get_planning_time(q_n: \"QueryName\", hs: \"Hintset\", dop: \"Dop\") -> \"Time\":\n",
    "    return _get_oracle(q_n).get_planning_time(OracleRequest(query_name=q_n, hintset=hs, dop=dop)) / 1000"
   ]
  },
  {
   "cell_type": "code",
   "execution_count": 12,
   "metadata": {
    "vscode": {
     "languageId": "python"
    }
   },
   "outputs": [],
   "source": [
    "@lru_cache(None)\n",
    "def _get_e2e_time(q_n: \"QueryName\", hs: \"Hintset\", dop: \"Dop\") -> \"Time\":\n",
    "    return _get_execution_time(q_n, hs, dop) + _get_planning_time(q_n, hs, dop)"
   ]
  },
  {
   "cell_type": "code",
   "execution_count": 13,
   "metadata": {
    "vscode": {
     "languageId": "python"
    }
   },
   "outputs": [],
   "source": [
    "@lru_cache(None)\n",
    "def _get_explain_plan(q_n: \"QueryName\", hs: \"Hintset\", dop: \"Dop\") -> \"ExplainPlan\":\n",
    "    return _get_oracle(q_n).get_explain_plan(OracleRequest(query_name=q_n, hintset=hs, dop=dop))"
   ]
  },
  {
   "cell_type": "code",
   "execution_count": 14,
   "metadata": {
    "vscode": {
     "languageId": "python"
    }
   },
   "outputs": [],
   "source": [
    "@lru_cache(None)\n",
    "def _get_processed_v_e(q_n: \"QueryName\", hs: \"Hintset\", dop: \"Dop\") -> \"Tuple[Tensor, Tensor]\":\n",
    "    return preprocess(*extract_vertices_and_edges(_get_explain_plan(q_n, hs, dop)))"
   ]
  },
  {
   "cell_type": "code",
   "execution_count": 15,
   "metadata": {
    "vscode": {
     "languageId": "python"
    }
   },
   "outputs": [],
   "source": [
    "def _get_prediction(q_n: \"QueryName\", hs: \"Hintset\", dop: \"Dop\", model: \"BinaryTreeRegressor\") -> \"float\":\n",
    "    with torch.no_grad():\n",
    "        v, e = _get_processed_v_e(q_n, hs, dop)\n",
    "        return model(v.unsqueeze(0).to(model.device), e.unsqueeze(0).to(model.device)).squeeze(0).item()    "
   ]
  },
  {
   "cell_type": "markdown",
   "metadata": {},
   "source": [
    "# Classes"
   ]
  },
  {
   "cell_type": "code",
   "execution_count": 16,
   "metadata": {
    "vscode": {
     "languageId": "python"
    }
   },
   "outputs": [],
   "source": [
    "DEFAULT_DOP = 64\n",
    "DISTANCE_THRESHOLD = 1.1\n",
    "BOOST_THRESHOLD = 1.1\n",
    "eps = 1e-10"
   ]
  },
  {
   "cell_type": "markdown",
   "metadata": {},
   "source": [
    "## Storage"
   ]
  },
  {
   "cell_type": "code",
   "execution_count": 21,
   "metadata": {
    "vscode": {
     "languageId": "python"
    }
   },
   "outputs": [],
   "source": [
    "Edge = namedtuple(\"Edge\", [\"node_from\", \"node_to\", \"boosts\", \"parameters\"])\n",
    "Node = namedtuple(\"Node\", [\"logical_plan\", \"selectivities\", \"cardinalities\"])\n",
    "Parameters = namedtuple(\"Parameters\", [\"hintset\", \"dop\"])\n",
    "Prediction = namedtuple(\"Prediction\", [\"expected_node\", \"parameters\", \"expected_boost\"])"
   ]
  },
  {
   "cell_type": "code",
   "execution_count": 22,
   "metadata": {
    "vscode": {
     "languageId": "python"
    }
   },
   "outputs": [],
   "source": [
    "@lru_cache(None)\n",
    "def _make_node(q_n: \"QueryName\", hs: \"Hintset\", dop: \"Dop\") -> \"Node\":\n",
    "    plan = _get_explain_plan(q_n, hs, dop)\n",
    "    return Node(_get_logical_tree(q_n, hs, dop), _get_cardinalities(plan), _get_selectivities(plan))"
   ]
  },
  {
   "cell_type": "code",
   "execution_count": 256,
   "metadata": {
    "vscode": {
     "languageId": "python"
    }
   },
   "outputs": [],
   "source": [
    "class Storage:\n",
    "    def __init__(self, default_hintset: \"Hintset\" = DEFAULT_HINTSET, default_dop: \"Dop\" = DEFAULT_DOP):\n",
    "        self.logical_plan_to_edges = defaultdict(list)\n",
    "        self.threshold = DISTANCE_THRESHOLD\n",
    "        self.default_hintset = default_hintset\n",
    "        self.default_dop = default_dop\n",
    "\n",
    "    @staticmethod\n",
    "    def get_distance(x: \"Node\", y: \"Node\") -> \"float\":\n",
    "        if x.logical_plan != y.logical_plan:\n",
    "            return float(\"inf\")\n",
    "        return max(\n",
    "            max([max(xi/yi, yi/xi) for xi, yi in zip(x.cardinalities, y.cardinalities)]),\n",
    "            max([max(xi/yi, yi/xi) for xi, yi in zip(x.selectivities, y.selectivities)]),\n",
    "        )\n",
    "\n",
    "    def add_info(self, node_from: \"Node\", node_to: \"Node\", boost: \"float\", parameters: \"Parameters\") -> \"None\":\n",
    "        new_edge = Edge(node_from, node_to, [boost], [parameters])\n",
    "\n",
    "        if node_from.logical_plan not in self.logical_plan_to_edges:\n",
    "            self.logical_plan_to_edges[node_from.logical_plan].append(new_edge)\n",
    "            return \n",
    "\n",
    "        for edge in self.logical_plan_to_edges[node_from.logical_plan]:\n",
    "            if edge.node_from == node_from and edge.node_to == node_to:\n",
    "                #print(f\"Found collision. Adding {boost:0.3f} to {[round(v, 3) for v in edge.boosts]}\")\n",
    "                edge.boosts.append(boost)\n",
    "                edge.parameters.append(parameters)\n",
    "                break\n",
    "        else:\n",
    "            self.logical_plan_to_edges[node_from.logical_plan].append(new_edge)\n",
    "\n",
    "    def _get_relevant_edges(self, node: \"Node\") -> \"List[Edge]\":\n",
    "        min_dist, argmin = float(\"inf\"), None\n",
    "        for cur_edge in self.logical_plan_to_edges[node.logical_plan]: \n",
    "            cur_dist = self.get_distance(cur_edge.node_from, node)\n",
    "            if cur_dist < min_dist and cur_dist < self.threshold:\n",
    "                min_dist, argmin = cur_dist, cur_edge.node_from\n",
    "        if argmin and len(self.logical_plan_to_edges[argmin.logical_plan]) > 1:\n",
    "            edges = self.logical_plan_to_edges[argmin.logical_plan]\n",
    "            #print(f\"{len(edges)} edges, {list(edge.boosts for edge in edges)}\")\n",
    "        return [] if argmin is None else self.logical_plan_to_edges[argmin.logical_plan]\n",
    "\n",
    "    def predict(self, node: \"Node\") -> \"Prediction\":\n",
    "        max_boost, argmax = float(\"-inf\"), None\n",
    "        for cur_edge in self._get_relevant_edges(node):\n",
    "            cur_boost = np.mean(cur_edge.boosts)\n",
    "            if cur_boost > max_boost:\n",
    "                max_boost, argmax = cur_boost, cur_edge\n",
    "                \n",
    "        if argmax is None:\n",
    "            return Prediction(node, Parameters(self.default_hintset, self.default_dop), 1.0)\n",
    "        else:\n",
    "            return Prediction(argmax.node_to, argmax.parameters[0], max_boost)\n",
    "        \n",
    "    def validate(self, obtained_node: \"Node\", prediction: \"Prediction\") -> \"bool\":\n",
    "        return self.get_distance(obtained_node, prediction.expected_node) <= self.threshold\n",
    "\n",
    "    def estimate_edge(self, node_from: \"Node\", obtained_node: \"Node\") -> \"float\":\n",
    "        max_boost = float(\"-inf\")\n",
    "        for cur_edge in self._get_relevant_edges(node_from):\n",
    "            if self.get_distance(obtained_node, cur_edge.node_to) > self.threshold:\n",
    "                continue\n",
    "            max_boost = max(max_boost, np.mean(cur_edge.boosts))\n",
    "        return max_boost"
   ]
  },
  {
   "cell_type": "markdown",
   "metadata": {},
   "source": [
    "### small tests"
   ]
  },
  {
   "cell_type": "code",
   "execution_count": 257,
   "metadata": {
    "vscode": {
     "languageId": "python"
    }
   },
   "outputs": [
    {
     "name": "stdout",
     "output_type": "stream",
     "text": [
      "[default scenario]: all works as expected\n",
      "[collision scenario]: all works as expected\n",
      "[unknown node scenario]: all works as expected\n"
     ]
    }
   ],
   "source": [
    "node_from1 = Node(logical_plan=\"<plan_from1>\", selectivities=[0.1], cardinalities=[1])\n",
    "\n",
    "node_to1 = Node(logical_plan=\"<plan_to1>\", selectivities=[0.5], cardinalities=[2])\n",
    "node_to1_close = Node(logical_plan=\"<plan_to1>\", selectivities=[0.5 * (DISTANCE_THRESHOLD-eps)], cardinalities=[2 * (DISTANCE_THRESHOLD-eps)])\n",
    "node_to1_far = Node(logical_plan=\"<plan_to1>\", selectivities=[0.5 * (DISTANCE_THRESHOLD+eps)], cardinalities=[2 * (DISTANCE_THRESHOLD+eps)])\n",
    "\n",
    "node_to2 = Node(logical_plan=\"<plan_to2>\", selectivities=[0.5, 0.7], cardinalities=[2, 4])\n",
    "\n",
    "\n",
    "st = Storage()\n",
    "\n",
    "st.add_info(node_from=node_from1, node_to=node_to1, boost=10, parameters=Parameters(1, 666))\n",
    "st.add_info(node_from=node_from1, node_to=node_to2, boost=100, parameters=Parameters(2, 777))\n",
    "prediction = st.predict(node_from1)\n",
    "assert prediction.expected_node == node_to2, \"Incorrect prediction\"\n",
    "assert prediction.expected_boost == 100, \"Incorrect prediction\"\n",
    "assert prediction.parameters == Parameters(2, 777), \"Incorrect prediction\"\n",
    "assert st.validate(obtained_node=node_to2, prediction=prediction) == True, \"Wrong prediction validation\"\n",
    "assert st.validate(obtained_node=node_to1, prediction=prediction) == False, \"Wrong prediction validation\"\n",
    "print(\"[default scenario]: all works as expected\")\n",
    "\n",
    "st.add_info(node_from=node_from1, node_to=node_to1, boost=1000, parameters=Parameters(1, 6666))\n",
    "prediction = st.predict(node_from1)\n",
    "assert prediction.expected_node == node_to1, \"Incorrect prediction\"\n",
    "assert prediction.expected_boost == (10 + 1000) / 2, \"Incorrect prediction\"\n",
    "assert prediction.parameters in {Parameters(1, 666), Parameters(1, 6666)}, \"Incorrect prediction\"\n",
    "assert st.validate(obtained_node=node_to1, prediction=prediction) == True, \"Wrong prediction validation\"\n",
    "assert st.validate(obtained_node=node_to1_close, prediction=prediction) == True, \"Wrong prediction validation\"\n",
    "assert st.validate(obtained_node=node_to1_far, prediction=prediction) == False, \"Wrong prediction validation\"\n",
    "print(\"[collision scenario]: all works as expected\")\n",
    "\n",
    "unknown_node = Node(logical_plan=\"<unknown_plan>\", selectivities=[0.42], cardinalities=[42])\n",
    "prediction = st.predict(unknown_node)\n",
    "assert prediction.expected_node == unknown_node, \"Incorrect prediction\"\n",
    "assert prediction.expected_boost == 1.0, \"Incorrect prediction\"\n",
    "assert prediction.parameters == Parameters(DEFAULT_HINTSET, DEFAULT_DOP), \"Incorrect prediction\"\n",
    "print(\"[unknown node scenario]: all works as expected\")"
   ]
  },
  {
   "cell_type": "markdown",
   "metadata": {},
   "source": [
    "## Explorer"
   ]
  },
  {
   "cell_type": "code",
   "execution_count": 25,
   "metadata": {
    "vscode": {
     "languageId": "python"
    }
   },
   "outputs": [],
   "source": [
    "SearchingState = namedtuple(\n",
    "    \"SearchingState\", \n",
    "    [\"hintset\", \"dop\"], \n",
    "    defaults=[DEFAULT_HINTSET, DEFAULT_DOP]\n",
    ")"
   ]
  },
  {
   "cell_type": "code",
   "execution_count": 26,
   "metadata": {
    "vscode": {
     "languageId": "python"
    }
   },
   "outputs": [],
   "source": [
    "SearchingSettings = namedtuple(\n",
    "    \"SearchingSettings\", \n",
    "    [\n",
    "        \"disable_ops\",\n",
    "        \"decrease_dop\", \n",
    "        \"disable_inl\",\n",
    "        \"boost_threshold\", \n",
    "        \"max_iter\", \n",
    "        \"use_joined_search\",\n",
    "        \"force_join\",\n",
    "        \"force_only_nl\",\n",
    "        \"fast_mode\",\n",
    "        \"default_hintset\",\n",
    "        \"default_dop\",\n",
    "        \"hardcoded_hintsets\",\n",
    "        \"hardcoded_dops\",\n",
    "    ],\n",
    "    defaults=[\n",
    "        False, \n",
    "        False, \n",
    "        False, \n",
    "        1.0, \n",
    "        1,\n",
    "        False,\n",
    "        False,\n",
    "        False,\n",
    "        False,\n",
    "        DEFAULT_HINTSET,\n",
    "        DEFAULT_DOP,\n",
    "        None,\n",
    "        None,\n",
    "    ]    \n",
    ")"
   ]
  },
  {
   "cell_type": "code",
   "execution_count": 129,
   "metadata": {
    "vscode": {
     "languageId": "python"
    }
   },
   "outputs": [],
   "source": [
    "EMPTY_SS = SearchingSettings(\n",
    "    hardcoded_hintsets=[],\n",
    "    hardcoded_dops=[],\n",
    ")\n",
    "\n",
    "GREEDY_DEF_DOP_SS = SearchingSettings(\n",
    "    disable_ops=True,\n",
    "    max_iter=float(\"inf\"),\n",
    ")\n",
    "\n",
    "PRUNED_GREEDY_DEF_DOP_SS = SearchingSettings(\n",
    "    disable_ops=True,\n",
    "    max_iter=1,\n",
    ")\n",
    "\n",
    "GREEDY_SS = SearchingSettings(\n",
    "    disable_ops=True,\n",
    "    decrease_dop=True,\n",
    "    max_iter=float(\"inf\"),\n",
    ")\n",
    "\n",
    "PRUNED_GREEDY_SS = SearchingSettings(\n",
    "    disable_ops=True,\n",
    "    decrease_dop=True,\n",
    "    max_iter=1,\n",
    ")\n",
    "\n",
    "LOCAL_DEF_DOP_SS = SearchingSettings(\n",
    "    disable_ops=True,\n",
    "    disable_inl=True,\n",
    "    force_join=True,\n",
    "    force_only_nl=True,\n",
    "    max_iter=float(\"inf\"),\n",
    ")\n",
    "\n",
    "PRUNED_ECONOM_DEF_DOP_SS = SearchingSettings(\n",
    "    disable_inl=True,\n",
    "    force_join=True,\n",
    "    max_iter=1\n",
    ")\n",
    "\n",
    "ECONOM_DEF_DOP_SS = SearchingSettings(\n",
    "    disable_inl=True,\n",
    "    force_join=True,\n",
    "    max_iter=float(\"inf\"),\n",
    ")\n",
    "\n",
    "PRUNED_ECONOM_SS = SearchingSettings(\n",
    "    disable_inl=True,\n",
    "    force_join=True,\n",
    "    use_joined_search=True,\n",
    "    max_iter=1,\n",
    ")\n",
    "\n",
    "ECONOM_SS = SearchingSettings(\n",
    "    disable_inl=True,\n",
    "    force_join=True,\n",
    "    use_joined_search=True,\n",
    "    max_iter=float(\"inf\"),\n",
    ")\n",
    "\n",
    "\n",
    "PRUNED_LOCAL_SS = SearchingSettings(\n",
    "    disable_ops=True,\n",
    "    disable_inl=True,\n",
    "    force_join=True,\n",
    "    force_only_nl=True,\n",
    "    max_iter=1,\n",
    ")\n",
    "\n",
    "\n",
    "PRUNED_LOCAL_DEF_DOP_SS = SearchingSettings(\n",
    "    disable_ops=True,\n",
    "    disable_inl=True,\n",
    "    force_join=True,\n",
    "    force_only_nl=True,\n",
    "    max_iter=1,\n",
    ")\n",
    "\n",
    "\n",
    "PRUNED_LOCAL_SS = SearchingSettings(\n",
    "    disable_ops=True,\n",
    "    decrease_dop=True,\n",
    "    disable_inl=True,\n",
    "    use_joined_search=True,\n",
    "    force_join=True,\n",
    "    force_only_nl=True,\n",
    "    max_iter=1,\n",
    ")\n",
    "\n",
    "LOCAL_SS = SearchingSettings(\n",
    "    disable_ops=True,\n",
    "    decrease_dop=True,\n",
    "    disable_inl=True,\n",
    "    use_joined_search=True,\n",
    "    force_join=True,\n",
    "    force_only_nl=True,\n",
    "    max_iter=float(\"inf\"),\n",
    ")\n",
    "\n",
    "ALL_SS = SearchingSettings(\n",
    "    hardcoded_hintsets=HINTSETS,\n",
    "    hardcoded_dops=DOPS,\n",
    ")\n",
    "\n",
    "ALL_DEF_DOP_SS = SearchingSettings(\n",
    "    hardcoded_hintsets=HINTSETS,\n",
    "    hardcoded_dops=[DEFAULT_DOP],\n",
    ")"
   ]
  },
  {
   "cell_type": "code",
   "execution_count": 28,
   "metadata": {
    "vscode": {
     "languageId": "python"
    }
   },
   "outputs": [],
   "source": [
    "OFF_INL_HINT = 64 | 8 | 2\n",
    "N_SCANS = 4\n",
    "N_JOINS = 3\n",
    "NL_POS = 2\n",
    "assert N_SCANS + N_JOINS == len(HINTS)"
   ]
  },
  {
   "cell_type": "code",
   "execution_count": 141,
   "metadata": {
    "vscode": {
     "languageId": "python"
    }
   },
   "outputs": [],
   "source": [
    "class QueryExplorer:\n",
    "    def __init__(\n",
    "        self, \n",
    "        query_name: \"QueryName\", \n",
    "        settings: \"SearchingSettings\", \n",
    "        ranking_model: \"Optional[BinaryTreeRegressor]\" = None, \n",
    "        execution_model: \"Optional[BinaryTreeRegressor]\" = None, \n",
    "    ):\n",
    "        self.query_name = query_name\n",
    "        self.settings = settings\n",
    "\n",
    "        self.ranking_model = ranking_model\n",
    "        self.execution_model = execution_model\n",
    "\n",
    "        self.learning_time = 0\n",
    "        self.n_executions = 0\n",
    "        self.n_plannings = 0\n",
    "\n",
    "        self.explored_states = set()\n",
    "        self.explored_trees = set()\n",
    "        self.planned_trees = set()\n",
    "\n",
    "    def explore_state(self, state: \"SearchingState\", timeout: \"Time\" = float(\"inf\")) -> \"Time\":\n",
    "        tree = _get_logical_tree(self.query_name, *state)\n",
    "        plan_time = _get_planning_time(self.query_name, *state)\n",
    "        self.learning_time += min(timeout, plan_time)\n",
    "            \n",
    "        if self.execution_model:\n",
    "            ex_time = _get_prediction(self.query_name, *state, self.execution_model)\n",
    "        else:\n",
    "            ex_time = _get_execution_time(self.query_name, *state, handle_timeout=False)\n",
    "        \n",
    "        self.learning_time += max(min(ex_time, timeout - plan_time), 0) * int(not self.execution_model and tree not in self.explored_trees)\n",
    "        self.explored_trees.add(tree)\n",
    "        self.n_executions += int(not self.execution_model)\n",
    "        return plan_time + ex_time if ex_time + plan_time < timeout else float(\"inf\")\n",
    "\n",
    "\n",
    "    def run(self) -> \"SearchingState\":\n",
    "        def_state = SearchingState(self.settings.default_hintset, self.settings.default_dop)\n",
    "        prev_state, record_state = None, def_state\n",
    "        \n",
    "        def_time = self.explore_state(state=def_state)\n",
    "        minimal_inference_cost = _get_planning_time(self.query_name, self.settings.default_hintset, self.settings.default_dop)\n",
    "        record_time = def_time -minimal_inference_cost #?\n",
    "        \n",
    "        self.explored_states.add(def_state)\n",
    "        self._parallel_planning_time = self._total_planning_time = .0\n",
    "        \n",
    "\n",
    "        it = 0\n",
    "        while it < self.settings.max_iter:\n",
    "            timeout, prev_state = record_time / self.settings.boost_threshold, record_state\n",
    "            neighbors = list(filter(lambda st: st not in self.explored_states, self.get_neighbors(state=record_state)))\n",
    "\n",
    "            PLAN_TIMES.append(list((it, self.query_name, hs, dop, _get_planning_time(self.query_name, hs, dop)) for hs, dop in neighbors))\n",
    "\n",
    "            max_plan_time_in_batch = max((_get_planning_time(self.query_name, st.hintset, st.dop) for st in neighbors), default=0)\n",
    "            total_plan_time_in_batch = sum((_get_planning_time(self.query_name, st.hintset, st.dop) for st in neighbors))\n",
    "            \n",
    "            if it == 0: \n",
    "                max_plan_time_in_batch = max(max_plan_time_in_batch, _get_planning_time(self.query_name, self.settings.default_hintset, self.settings.default_dop))\n",
    "                total_plan_time_in_batch += _get_planning_time(self.query_name, self.settings.default_hintset, self.settings.default_dop)\n",
    "            \n",
    "            self._parallel_planning_time += max_plan_time_in_batch\n",
    "            self._total_planning_time += total_plan_time_in_batch\n",
    "\n",
    "            if self.ranking_model:\n",
    "                neighbors = sorted(neighbors, key=lambda st: _get_prediction(self.query_name, st.hintset, st.dop, self.ranking_model))\n",
    "            \n",
    "            for ngb_state in neighbors:\n",
    "                ngb_time = self.explore_state(state=ngb_state, timeout=timeout)\n",
    "                self.explored_states.add(ngb_state)\n",
    "                if record_time / ngb_time > self.settings.boost_threshold:\n",
    "                    record_state, record_time = ngb_state, ngb_time\n",
    "                    if self.settings.fast_mode:\n",
    "                        break\n",
    "            \n",
    "            it += 1\n",
    "            if prev_state == record_state:\n",
    "                break  \n",
    "        \n",
    "        return record_state\n",
    "\n",
    "    def get_neighbors(self, state: \"SearchingState\") -> \"List[SearchingState]\":    \n",
    "        current_dop, current_hintset = state.dop, state.hintset\n",
    "        neighbors = set()\n",
    "\n",
    "        if self.settings.use_joined_search:\n",
    "            to_try_dops = DOPS\n",
    "        else:\n",
    "            to_try_dops = [current_dop]\n",
    "        \n",
    "        for dop in to_try_dops:\n",
    "            if self.settings.disable_ops:\n",
    "                for op_num in range(len(HINTS)):\n",
    "                    neighbors.add(SearchingState(dop=dop, hintset=current_hintset | (1 << op_num)))\n",
    "\n",
    "            if self.settings.disable_inl:\n",
    "                neighbors.add(SearchingState(dop=dop, hintset=current_hintset | (OFF_INL_HINT)))\n",
    "\n",
    "            if self.settings.decrease_dop:\n",
    "                for new_dop in [new_dop for new_dop in DOPS if new_dop < dop]:\n",
    "                    neighbors.add(SearchingState(dop=new_dop, hintset=current_hintset))                    \n",
    "            \n",
    "            if self.settings.force_join:\n",
    "                for join_num in range(N_JOINS):\n",
    "                    saved_scans = ((1 << N_SCANS) - 1) & current_hintset\n",
    "                    only_one_join = (((1 << N_JOINS) - 1) - (1 << join_num)) << N_SCANS\n",
    "                    neighbors.add(SearchingState(dop=dop, hintset=only_one_join|saved_scans))\n",
    "\n",
    "            if self.settings.force_only_nl:\n",
    "                join_num = NL_POS\n",
    "                saved_scans = ((1 << N_SCANS) - 1) & current_hintset\n",
    "                only_one_join = (((1 << N_JOINS) - 1) - (1 << join_num)) << N_SCANS\n",
    "                neighbors.add(SearchingState(dop=dop, hintset=only_one_join|saved_scans))                    \n",
    "\n",
    "        return neighbors        "
   ]
  },
  {
   "cell_type": "markdown",
   "metadata": {},
   "source": [
    "## Model"
   ]
  },
  {
   "cell_type": "markdown",
   "metadata": {},
   "source": [
    "### Interface"
   ]
  },
  {
   "cell_type": "code",
   "execution_count": 243,
   "metadata": {
    "vscode": {
     "languageId": "python"
    }
   },
   "outputs": [],
   "source": [
    "class Model:\n",
    "    def __init__(\n",
    "        self, \n",
    "        fit_settings: \"SearchingSettings\", \n",
    "        inference_settings: \"Opitonal[SearchingSettings]\" = None, \n",
    "        ranking_model: \"Optional[BinaryTreeRegressor]\" = None, \n",
    "        execution_model: \"Optional[BinaryTreeRegressor]\" = None,\n",
    "    ):\n",
    "        self.fit_settings = fit_settings\n",
    "        self.inference_settings = inference_settings\n",
    "        self.ranking_model = ranking_model\n",
    "        self.execution_model = execution_model\n",
    "        self.default_hintset = self.fit_settings.default_hintset\n",
    "        self.default_dop = self.fit_settings.default_dop\n",
    "\n",
    "    def validate(self, query_name: \"QueryName\", prediction: \"Prediction\") -> \"Tuple[Time, bool]\":\n",
    "        raise NotImplementedError        \n",
    "\n",
    "    def predict(self, query_name: \"QueryName\") -> \"Tuple[Time, Prediction]\":\n",
    "        raise NotImplementedError        \n",
    "\n",
    "    def fit(self, list_q_n: \"List[QueryName]\") -> \"Time\":\n",
    "        raise NotImplementedError"
   ]
  },
  {
   "cell_type": "markdown",
   "metadata": {},
   "source": [
    "### Hero"
   ]
  },
  {
   "cell_type": "code",
   "execution_count": 244,
   "metadata": {
    "vscode": {
     "languageId": "python"
    }
   },
   "outputs": [],
   "source": [
    "class Hero(Model):\n",
    "    def __init__(\n",
    "        self, \n",
    "        fit_settings: \"SearchingSettings\", \n",
    "        inference_settings: \"Opitonal[SearchingSettings]\" = None, \n",
    "        ranking_model: \"Optional[BinaryTreeRegressor]\" = None, \n",
    "        execution_model: \"Optional[BinaryTreeRegressor]\" = None,\n",
    "    ):\n",
    "        super().__init__(fit_settings, inference_settings, ranking_model, execution_model)\n",
    "        self.storage = Storage()\n",
    "\n",
    "    def predict(self, query_name: \"QueryName\") -> \"Tuple[Time, Prediction]\":\n",
    "        inference_time = _get_planning_time(query_name, self.default_hintset, self.default_dop)\n",
    "        prediction = self.storage.predict(_make_node(query_name, self.default_hintset, self.default_dop))\n",
    "        return inference_time, prediction\n",
    "\n",
    "    def validate(self, query_name: \"QueryName\", prediction: \"Prediction\") -> \"Tuple[Time, bool]\":\n",
    "        node_from = _make_node(query_name, self.default_hintset, self.default_dop)\n",
    "        validation_time = _get_planning_time(query_name, prediction.parameters.hintset, prediction.parameters.dop)\n",
    "        obtained_node = _make_node(query_name, prediction.parameters.hintset, prediction.parameters.dop)\n",
    "        # todo\n",
    "        is_prediction_save = self.storage.validate(obtained_node, prediction) and prediction.expected_boost > BOOST_THRESHOLD\n",
    "        is_prediction_save |= self.storage.estimate_edge(node_from=node_from, obtained_node=obtained_node) > BOOST_THRESHOLD\n",
    "        return validation_time, is_prediction_save\n",
    "\n",
    "    def fit(self, list_q_n: \"List[QueryName]\") -> \"Time\":\n",
    "        return sum(self.explore(q_n) for q_n in list_q_n)\n",
    "\n",
    "    def explore(self, query_name: \"QueryName\") -> \"Time\":\n",
    "        explorer = QueryExplorer(query_name, self.fit_settings, self.ranking_model, self.execution_model)\n",
    "        hs, dop = explorer.run()\n",
    "        node_from, node_to = _make_node(query_name, self.default_hintset, self.default_dop), _make_node(query_name, hs, dop)\n",
    "        if (hs, dop) != (DEFAULT_HINTSET, DEFAULT_DOP):\n",
    "            boost = _get_e2e_time(query_name, self.default_hintset, self.default_dop) - (_get_e2e_time(query_name, hs, dop) + _get_planning_time(query_name, self.default_hintset, self.default_dop))\n",
    "            self.storage.add_info(node_from, node_to, boost, Parameters(hs, dop))\n",
    "        return explorer.learning_time"
   ]
  },
  {
   "cell_type": "code",
   "execution_count": 245,
   "metadata": {
    "vscode": {
     "languageId": "python"
    }
   },
   "outputs": [
    {
     "name": "stdout",
     "output_type": "stream",
     "text": [
      "Learned in 822.19 sec\n",
      "Inference time is 0.37 sec\n",
      "Query 16b has been optimized on 40.212 sec (69.970 -> 29.758)\n"
     ]
    }
   ],
   "source": [
    "PLAN_TIMES = []\n",
    "q_n = \"16b\"\n",
    "heromodel = Hero(fit_settings=LOCAL_SS)\n",
    "print(f\"Learned in {heromodel.fit([q_n]):0.2f} sec\") \n",
    "inference_time, pred_after = heromodel.predict(q_n)\n",
    "print(f\"Inference time is {inference_time:0.2f} sec\")\n",
    "def_time = _get_e2e_time(q_n, heromodel.fit_settings.default_hintset, heromodel.fit_settings.default_dop)\n",
    "custom_time = _get_e2e_time(q_n, pred_after.parameters.hintset, pred_after.parameters.dop)\n",
    "print(f\"Query {q_n} has been optimized on {def_time - custom_time:0.3f} sec ({def_time:0.3f} -> {custom_time:0.3f})\")"
   ]
  },
  {
   "cell_type": "markdown",
   "metadata": {},
   "source": [
    "### NN"
   ]
  },
  {
   "cell_type": "code",
   "execution_count": 246,
   "metadata": {
    "vscode": {
     "languageId": "python"
    }
   },
   "outputs": [
    {
     "name": "stdout",
     "output_type": "stream",
     "text": [
      "device is cuda\n"
     ]
    }
   ],
   "source": [
    "DEVICE = torch.device(\"cuda\" if torch.cuda.is_available() else \"cpu\")\n",
    "print(f\"device is {DEVICE}\")"
   ]
  },
  {
   "cell_type": "code",
   "execution_count": 44,
   "metadata": {
    "vscode": {
     "languageId": "python"
    }
   },
   "outputs": [],
   "source": [
    "batch_size = 32\n",
    "lr = 3e-4\n",
    "in_channels = len(ALL_FEATURES)"
   ]
  },
  {
   "cell_type": "code",
   "execution_count": 45,
   "metadata": {
    "vscode": {
     "languageId": "python"
    }
   },
   "outputs": [],
   "source": [
    "big_btcnn_and_instance_norm = lambda: btl.BinaryTreeSequential(\n",
    "    btl.BinaryTreeConv(in_channels, 64),\n",
    "    btl.BinaryTreeActivation(torch.nn.functional.leaky_relu),\n",
    "    btl.BinaryTreeConv(64, 128),\n",
    "    btl.BinaryTreeInstanceNorm(128),\n",
    "    btl.BinaryTreeActivation(torch.nn.functional.leaky_relu),\n",
    "    btl.BinaryTreeConv(128, 256),\n",
    "    btl.BinaryTreeInstanceNorm(256),\n",
    "    btl.BinaryTreeActivation(torch.nn.functional.leaky_relu),\n",
    "    btl.BinaryTreeConv(256, 512),\n",
    "    btl.BinaryTreeAdaptivePooling(torch.nn.AdaptiveMaxPool1d(1)),\n",
    ")\n",
    "\n",
    "big_fcnn = lambda: torch.nn.Sequential(\n",
    "    nn.Linear(512, 256),\n",
    "    nn.LeakyReLU(),\n",
    "    nn.Linear(256, 128),\n",
    "    nn.LeakyReLU(),\n",
    "    nn.Linear(128, 64),\n",
    "    nn.LeakyReLU(),\n",
    "    nn.Linear(64, 1),\n",
    "    nn.Softplus(),\n",
    ")\n",
    "\n",
    "bt_regressor = lambda name: BinaryTreeRegressor(big_btcnn_and_instance_norm(), big_fcnn(), name=name, device=DEVICE)"
   ]
  },
  {
   "cell_type": "code",
   "execution_count": 46,
   "metadata": {
    "vscode": {
     "languageId": "python"
    }
   },
   "outputs": [],
   "source": [
    "def load_model(device, path):\n",
    "    ckpt_path=path\n",
    "    ckpt_state = torch.load(ckpt_path, map_location=device)\n",
    "    model = BinaryTreeRegressor(big_btcnn_and_instance_norm(), big_fcnn())\n",
    "    model.load_state_dict(ckpt_state[\"model_state_dict\"])\n",
    "    model = model.to(device)\n",
    "    model.device = device\n",
    "    return model"
   ]
  },
  {
   "cell_type": "code",
   "execution_count": 47,
   "metadata": {
    "vscode": {
     "languageId": "python"
    }
   },
   "outputs": [],
   "source": [
    "def save_ckpt(model, optimizer, scheduler, epoch, path):\n",
    "    state = {\n",
    "        'epoch': epoch,\n",
    "        'model_state_dict': model.state_dict(),\n",
    "        'optimizer_state_dict': optimizer.state_dict(),\n",
    "        'scheduler_state_dict': scheduler.state_dict()\n",
    "    }\n",
    "    os.makedirs(os.path.dirname(path), exist_ok=True)\n",
    "    torch.save(state, path)"
   ]
  },
  {
   "cell_type": "code",
   "execution_count": 48,
   "metadata": {
    "vscode": {
     "languageId": "python"
    }
   },
   "outputs": [],
   "source": [
    "def set_seed(seed):\n",
    "    random.seed(seed)\n",
    "    np.random.seed(seed)\n",
    "    torch.manual_seed(seed)"
   ]
  },
  {
   "cell_type": "code",
   "execution_count": 49,
   "metadata": {
    "vscode": {
     "languageId": "python"
    }
   },
   "outputs": [],
   "source": [
    "def calculate_loss(model, optimizer, criterion, dataloader, train_mode=True):\n",
    "    model.train() if train_mode else model.eval()\n",
    "    running_loss, total_samples = .0, 0\n",
    "    for (vertices, edges, freq), time in dataloader:\n",
    "        if train_mode:\n",
    "            optimizer.zero_grad()\n",
    "        \n",
    "        outputs = model(vertices, edges)\n",
    "        weighted_loss = (freq.float().squeeze(-1) * criterion(outputs.squeeze(-1), time)).mean()\n",
    "        \n",
    "        if train_mode:\n",
    "            weighted_loss.backward()\n",
    "            optimizer.step()\n",
    "\n",
    "        running_loss += weighted_loss.item() * vertices.size(0)\n",
    "        total_samples += freq.sum()\n",
    "    return running_loss / total_samples"
   ]
  },
  {
   "cell_type": "code",
   "execution_count": 50,
   "metadata": {
    "vscode": {
     "languageId": "python"
    }
   },
   "outputs": [],
   "source": [
    "def weighted_train_loop(\n",
    "    model,  optimizer,  criterion, scheduler, train_dataloader, num_epochs,\n",
    "    start_epoch=0, ckpt_period=10, path_to_save=None\n",
    "    ):         \n",
    "        tqdm_desc = \"Initialization\"\n",
    "        progress_bar = tqdm(range(start_epoch + 1, start_epoch + num_epochs + 1), desc=tqdm_desc, leave=True, position=0)\n",
    "        for epoch in progress_bar:\n",
    "            train_loss = calculate_loss(model, optimizer, criterion, train_dataloader)\n",
    "            scheduler.step(train_loss)\n",
    "            progress_bar.set_description(f\"[{epoch}/{start_epoch + num_epochs}] MSE: {train_loss:.4f}\")\n",
    "            if path_to_save and not epoch % ckpt_period:\n",
    "                save_ckpt(model, optimizer, scheduler, epoch, path_to_save)"
   ]
  },
  {
   "cell_type": "code",
   "execution_count": 248,
   "metadata": {
    "vscode": {
     "languageId": "python"
    }
   },
   "outputs": [],
   "source": [
    "class NN(Model):\n",
    "    def __init__(\n",
    "        self, \n",
    "        fit_settings: \"SearchingSettings\", \n",
    "        model: \"BinaryTreeRegressor\",\n",
    "        inference_settings: \"SearchingSettings\" = SearchingSettings(), \n",
    "        ranking_model: \"Optional[BinaryTreeRegressor]\" = None, \n",
    "        execution_model: \"Optional[BinaryTreeRegressor]\" = None,\n",
    "    ):\n",
    "        super().__init__(fit_settings, inference_settings, ranking_model, execution_model)\n",
    "        self.list_vertices, self.list_edges, self.list_times = [], [], []\n",
    "        self.model = model\n",
    "        self.optimizer = optim.Adam(self.model.parameters(), lr=lr)\n",
    "        self.scheduler = lr_scheduler.ReduceLROnPlateau(self.optimizer, mode='min', factor=0.5, patience=20)\n",
    "        self.seen = set()\n",
    "        self.list_vertices, self.list_edges = [], []\n",
    "        self.list_times = []\n",
    "\n",
    "    def fit(self, list_q_n: \"List[QueryNames]\", epochs: \"int\" = 100) -> \"Time\":\n",
    "        learning_time, history = self.explore_and_get_history(list_q_n)\n",
    "        self._add_history(history)\n",
    "        self._update_model(epochs)\n",
    "        return learning_time\n",
    "        \n",
    "    def predict(self, query_name: \"QueryName\") -> \"Tuple[Time, Prediction]\":\n",
    "        if self.inference_settings.hardcoded_hintsets and self.inference_settings.hardcoded_dops:\n",
    "            inference_time, hs, dop = self._get_exhaustive_prediction(query_name, self.inference_settings.hardcoded_hintsets, self.inference_settings.hardcoded_dops)\n",
    "        else:\n",
    "            inference_time, hs, dop = self.get_local_search_prediction(query_name)\n",
    "        node_to = _make_node(query_name, hs, dop)\n",
    "        expected_boost = _get_prediction(query_name, self.default_hintset, self.default_dop, self.model) - _get_prediction(query_name, hs, dop, self.model)\n",
    "        return inference_time, Prediction(node_to, Parameters(hs, dop), expected_boost)\n",
    "\n",
    "    def validate(self, query_name: \"QueryName\", prediction: \"Prediction\") -> \"Tuple[Time, bool]\":        \n",
    "        return .0, True\n",
    "\n",
    "    def get_local_search_prediction(self, query_name: \"QueryName\") -> \"Tuple[Time, Hintset, Dop]\":\n",
    "        explorer = QueryExplorer(query_name, self.inference_settings, execution_model=self.model)\n",
    "        hs, dop = explorer.run()\n",
    "        return explorer._parallel_planning_time, hs, dop\n",
    "\n",
    "    def _get_exhaustive_prediction(self, query_name: \"QueryName\", hintsets: \"List[Hintset]\", dops: \"List[Dop]\") -> \"Tuple[Time, Hintset, Dop]\":\n",
    "        \"\"\"special version of prediction for avoiding local search exploration and abusing the batch processing\"\"\"\n",
    "        v_list, e_list = [], []\n",
    "        parameters = []\n",
    "        planning_times = []\n",
    "\n",
    "        for hs in hintsets:\n",
    "            for dop in dops:\n",
    "                v, e = _get_processed_v_e(query_name, hs, dop)\n",
    "                v_list.append(v), e_list.append(e)\n",
    "                planning_times.append(_get_planning_time(query_name, hs, dop))\n",
    "                parameters.append(Parameters(hs, dop))\n",
    "\n",
    "        with torch.no_grad():\n",
    "            v_batch, e_batch = torch.stack(v_list).to(self.model.device), torch.stack(e_list).to(self.model.device)\n",
    "            predicted_times = self.model(v_batch, e_batch).squeeze(1).cpu().numpy()\n",
    "            total_times = predicted_times + planning_times\n",
    "            \n",
    "        return float(sum(planning_times)), *parameters[total_times.argmin()]\n",
    "\n",
    "    def explore_and_get_history(self, list_q_n: \"List[QueryNames]\") -> \"Tuple[Time, List[Tuple[QueryName, Hintset, Dop]]]\":\n",
    "        if self.fit_settings.hardcoded_hintsets and self.fit_settings.hardcoded_dops:\n",
    "            return self._explore_and_get_exhaustive_history(list_q_n, self.fit_settings.hardcoded_hintsets, self.fit_settings.hardcoded_dops)\n",
    "        learning_time = .0\n",
    "        history = []\n",
    "        for q_n in list_q_n:\n",
    "            explorer = QueryExplorer(q_n, self.fit_settings)\n",
    "            explorer.run()\n",
    "            learning_time += explorer.learning_time\n",
    "            for hs, dop in explorer.explored_states:\n",
    "                history.append((q_n, hs, dop))\n",
    "        return learning_time, history\n",
    "\n",
    "    def _explore_and_get_exhaustive_history(self, list_q_n: \"QueryName\", hintsets: \"List[Hintset]\", dops: \"List[Dop]\") -> \"Tuple[Time, List[Tuple[QueryName, Hintset, Dop]]]\":\n",
    "        \"\"\"special version of prediction for avoiding the local search exploration\"\"\"\n",
    "        planning_time = .0\n",
    "        ex_time = .0\n",
    "        exhaustive_history = []\n",
    "        for q_n in list_q_n:\n",
    "            seen_trees = set()\n",
    "            for hs in hintsets:\n",
    "                for dop in dops:\n",
    "                    exhaustive_history.append((q_n, hs, dop))\n",
    "                    planning_time += _get_planning_time(q_n, hs, dop)\n",
    "                    tree = _get_logical_tree(q_n, hs, dop)\n",
    "                    ex_time += _get_execution_time(q_n, hs, dop) * (tree not in seen_trees)\n",
    "                    seen_trees.add(tree)\n",
    "        return planning_time + ex_time, exhaustive_history\n",
    "\n",
    "    def _add_history(self, history: \"List[Tuple[QueryName, Hintset, Dop]]\") -> \"None\":\n",
    "        for q_n, hs, dop in history:\n",
    "            if (q_n, hs, dop) in self.seen:\n",
    "                continue\n",
    "            self.seen.add((q_n, hs, dop))\n",
    "            v, e = extract_vertices_and_edges(_get_explain_plan(q_n, hs, dop))\n",
    "            time = _get_e2e_time(q_n, hs, dop)\n",
    "            self.list_vertices.append(v), self.list_edges.append(e)\n",
    "            self.list_times.append(torch.Tensor([time]))\n",
    "        self._prepare_dataloader()        \n",
    "\n",
    "    def _prepare_dataloader(self) -> \"None\":\n",
    "        self.dataloader = DataLoader(\n",
    "            dataset=WeightedBinaryTreeDataset(self.list_vertices, self.list_edges, self.list_times, self.model.device), \n",
    "            batch_size=batch_size, \n",
    "            shuffle=True,\n",
    "            collate_fn=lambda el: weighted_binary_tree_collate(el, MAX_TREE_LENGTH),\n",
    "            drop_last=False\n",
    "        )\n",
    "        print(f\"Dataset's size is {len(self.dataloader.dataset)} | Dataloader's size is {len(self.dataloader)}\")  \n",
    "\n",
    "    def _update_model(self, epochs: \"int\") -> \"None\":\n",
    "        self.optimizer = optim.Adam(self.model.parameters(), lr=lr)\n",
    "        self.scheduler = lr_scheduler.ReduceLROnPlateau(self.optimizer, mode='min', factor=0.5, patience=20)\n",
    "        set_seed(2024)\n",
    "        weighted_train_loop(\n",
    "            model=self.model,\n",
    "            optimizer=self.optimizer,\n",
    "            criterion=nn.MSELoss(reduction=\"none\"),\n",
    "            scheduler=self.scheduler,\n",
    "            train_dataloader=self.dataloader,\n",
    "            num_epochs=epochs,\n",
    "            ckpt_period=epochs,\n",
    "            path_to_save=f\"{EXPERIMENT_PATH}/models/{self.model.name}.pth\",\n",
    "        )"
   ]
  },
  {
   "cell_type": "code",
   "execution_count": 249,
   "metadata": {
    "vscode": {
     "languageId": "python"
    }
   },
   "outputs": [
    {
     "name": "stdout",
     "output_type": "stream",
     "text": [
      "Dataset's size is 71 | Dataloader's size is 1\n"
     ]
    },
    {
     "name": "stderr",
     "output_type": "stream",
     "text": [
      "[300/300] MSE: 0.0449: 100%|██████████| 300/300 [00:05<00:00, 51.39it/s]  \n"
     ]
    },
    {
     "name": "stdout",
     "output_type": "stream",
     "text": [
      "Learned in 4208.32 sec\n",
      "Inference time is 63.37 sec [expected boost is 39.714]\n",
      "Query 16b has been optimized on 40.212 sec (69.970 -> 29.758)\n"
     ]
    }
   ],
   "source": [
    "q_n = \"16b\"\n",
    "nnmodel = NN(fit_settings=ALL_SS, inference_settings=ALL_SS, model=bt_regressor(\"dummy_nn\"))\n",
    "print(f\"Learned in {nnmodel.fit([q_n], epochs=300):0.2f} sec\") \n",
    "inference_time, pred_after = nnmodel.predict(q_n)\n",
    "print(f\"Inference time is {inference_time:0.2f} sec [expected boost is {pred_after.expected_boost:0.3f}]\")\n",
    "def_time = _get_e2e_time(q_n, nnmodel.fit_settings.default_hintset, nnmodel.fit_settings.default_dop)\n",
    "custom_time = _get_e2e_time(q_n, pred_after.parameters.hintset, pred_after.parameters.dop)\n",
    "print(f\"Query {q_n} has been optimized on {def_time - custom_time:0.3f} sec ({def_time:0.3f} -> {custom_time:0.3f})\")"
   ]
  },
  {
   "cell_type": "code",
   "execution_count": 250,
   "metadata": {
    "vscode": {
     "languageId": "python"
    }
   },
   "outputs": [
    {
     "name": "stdout",
     "output_type": "stream",
     "text": [
      "[with local search] Inference time is 1.96 sec [expected boost is 39.714]\n",
      "Query 16b has been optimized on 40.212 sec (69.970 -> 29.758)\n"
     ]
    }
   ],
   "source": [
    "nnmodel.inference_settings = LOCAL_SS\n",
    "inference_time, pred_after = nnmodel.predict(q_n)\n",
    "print(f\"[with local search] Inference time is {inference_time:0.2f} sec [expected boost is {pred_after.expected_boost:0.3f}]\")\n",
    "def_time = _get_e2e_time(q_n, nnmodel.fit_settings.default_hintset, nnmodel.fit_settings.default_dop)\n",
    "custom_time = _get_e2e_time(q_n, pred_after.parameters.hintset, pred_after.parameters.dop)\n",
    "print(f\"Query {q_n} has been optimized on {def_time - custom_time:0.3f} sec ({def_time:0.3f} -> {custom_time:0.3f})\")"
   ]
  },
  {
   "cell_type": "markdown",
   "metadata": {},
   "source": [
    "# Evaluation"
   ]
  },
  {
   "cell_type": "code",
   "execution_count": 54,
   "metadata": {
    "vscode": {
     "languageId": "python"
    }
   },
   "outputs": [],
   "source": [
    "def get_report(model, test_q_n, safe_mode=False):\n",
    "    \"\"\"one useful property: all our models build resulting plans during inference\"\"\"\n",
    "    report = {\n",
    "        \"default_ex_time\": .0,\n",
    "        \"default_planning_time\": .0,\n",
    "        \"custom_ex_time\": .0,\n",
    "        \"inference_time\": .0,\n",
    "        \"n_timeouts\": .0,\n",
    "        \"boosts\": [],\n",
    "        \"predictions\": [],\n",
    "        \"n_false_validations\": 0,\n",
    "        \"possible_regressions\": [],\n",
    "    }\n",
    "    \n",
    "    for q_n in tqdm(test_q_n):\n",
    "        inference_time, prediction = model.predict(q_n)\n",
    "        hs, dop = prediction.parameters\n",
    "        if safe_mode: \n",
    "            validation_time, is_valid = model.validate(q_n, prediction)\n",
    "            inference_time += validation_time\n",
    "            if not is_valid:\n",
    "                report[\"n_false_validations\"] += 1\n",
    "                report[\"possible_regressions\"].append((q_n, hs, dop, _get_e2e_time(q_n, hs, dop) - _get_e2e_time(q_n, model.default_hintset, model.default_dop)))\n",
    "                hs, dop = model.default_hintset, model.default_dop\n",
    "\n",
    "        report[\"default_ex_time\"] += _get_execution_time(q_n, model.default_hintset, model.default_dop)\n",
    "        report[\"custom_ex_time\"] += _get_execution_time(q_n, hs, dop)\n",
    "\n",
    "        report[\"default_planning_time\"] += _get_planning_time(q_n, model.default_hintset, model.default_dop)\n",
    "        report[\"inference_time\"] += inference_time\n",
    "        report[\"predictions\"].append((q_n, hs, dop))\n",
    "        report[\"boosts\"].append(_get_e2e_time(q_n, model.default_hintset, model.default_dop) - _get_e2e_time(q_n, hs, dop))\n",
    "        if _get_execution_time(q_n, hs, dop, handle_timeout=False) == TIMEOUT / 1000:\n",
    "            report[\"n_timeouts\"] += 1        \n",
    "            #assert report[\"boosts\"][-1] <= 0,  \n",
    "            #print(q_n, hs, dop)\n",
    "    \n",
    "    return report"
   ]
  },
  {
   "cell_type": "code",
   "execution_count": 55,
   "metadata": {
    "vscode": {
     "languageId": "python"
    }
   },
   "outputs": [
    {
     "name": "stdout",
     "output_type": "stream",
     "text": [
      "# queries\n",
      "JOB: 113\n",
      "SQ [id]: 13\n",
      "SQ [ood]: 27\n"
     ]
    }
   ],
   "source": [
    "all_queries = job_oracle.get_query_names()\n",
    "id_queries = list(set(info[\"query_name\"] for info in id_sq_list_info))\n",
    "ood_queries = list(set(info[\"query_name\"] for info in ood_sq_list_info))\n",
    "assert len(id_queries) + len(ood_queries) == len(sq_oracle.get_query_names())\n",
    "print(f\"# queries\\nJOB: {len(all_queries)}\\nSQ [id]: {len(id_queries)}\\nSQ [ood]: {len(ood_queries)}\")"
   ]
  },
  {
   "cell_type": "code",
   "execution_count": 195,
   "metadata": {
    "vscode": {
     "languageId": "python"
    }
   },
   "outputs": [],
   "source": [
    "for _ in range(1):\n",
    "    def_ex = sum(_get_execution_time(q_n, DEFAULT_HINTSET, DEFAULT_DOP) for q_n in job_oracle.get_query_names())\n",
    "    def_e2e = sum(_get_e2e_time(q_n, DEFAULT_HINTSET, DEFAULT_DOP) for q_n in job_oracle.get_query_names())\n",
    "\n",
    "    predictions = {}\n",
    "    s, s_e2e = 0, 0\n",
    "    opt, opt_e2e = 0, 0\n",
    "\n",
    "    for q_n in job_workload:#[\"27c\"]:\n",
    "        hero = Hero(GREEDY_SS)\n",
    "        hero.fit([q_n])\n",
    "        hs, dop = hero.predict(q_n)[1].parameters\n",
    "\n",
    "        predictions[q_n] = hs, dop\n",
    "        \n",
    "        s += _get_execution_time(q_n, hs, dop)\n",
    "        s_e2e += _get_e2e_time(q_n, hs, dop)\n",
    "        opt += min(_get_execution_time(q_n, hs, dop) for hs in HINTSETS for dop in DOPS)\n",
    "        opt_e2e += min(_get_e2e_time(q_n, hs, dop) for hs in HINTSETS for dop in DOPS)"
   ]
  },
  {
   "cell_type": "code",
   "execution_count": 192,
   "metadata": {
    "vscode": {
     "languageId": "python"
    }
   },
   "outputs": [
    {
     "data": {
      "text/plain": [
       "(249.46948500000008,\n",
       " 162.70199200000002,\n",
       " 266.568485,\n",
       " 187.85634300009,\n",
       " 0.7034382760831334,\n",
       " 0.780648264193357)"
      ]
     },
     "execution_count": 192,
     "metadata": {},
     "output_type": "execute_result"
    }
   ],
   "source": [
    "#s, opt, s_e2e, opt_e2e, (def_ex - s)/(def_ex-opt), (def_e2e - s_e2e)/(def_e2e-opt_e2e), "
   ]
  },
  {
   "cell_type": "markdown",
   "metadata": {},
   "source": [
    "# Ideal case"
   ]
  },
  {
   "cell_type": "code",
   "execution_count": 158,
   "metadata": {
    "vscode": {
     "languageId": "python"
    }
   },
   "outputs": [],
   "source": [
    "job_workload = job_oracle.get_query_names()\n",
    "sq_workload = sq_oracle.get_query_names()"
   ]
  },
  {
   "cell_type": "code",
   "execution_count": 159,
   "metadata": {
    "vscode": {
     "languageId": "python"
    }
   },
   "outputs": [],
   "source": [
    "batch_size = 128\n",
    "\n",
    "ideal_job_model = NN(fit_settings=ALL_SS, inference_settings=EMPTY_SS, model=bt_regressor(\"ideal_job\"))\n",
    "ideal_job_model.model = load_model(device=DEVICE, path=f\"{EXPERIMENT_PATH}/models/ideal_job.pth\")\n",
    "#ideal_job_model.fit(job_workload, 500)\n",
    "\n",
    "ideal_sq_model = NN(fit_settings=ALL_SS, inference_settings=EMPTY_SS, model=bt_regressor(\"ideal_sq\"))\n",
    "ideal_sq_model.model = load_model(device=DEVICE, path=f\"{EXPERIMENT_PATH}/models/ideal_sq.pth\")\n",
    "#ideal_sq_model.fit(sq_workload, 500)\n",
    "\n",
    "workloads = [job_workload, sq_workload]\n",
    "workload_names = [\"JOB\", \"SQ\"]\n",
    "ideal_models = [ideal_job_model, ideal_sq_model]"
   ]
  },
  {
   "cell_type": "markdown",
   "metadata": {},
   "source": [
    "### small trash"
   ]
  },
  {
   "cell_type": "code",
   "execution_count": 106,
   "metadata": {
    "vscode": {
     "languageId": "python"
    }
   },
   "outputs": [],
   "source": [
    "# GREEDY_PLAN_TIMES = PLAN_TIMES\n",
    "LOCAL_PLAN_TIMES = PLAN_TIMES"
   ]
  },
  {
   "cell_type": "code",
   "execution_count": 117,
   "metadata": {
    "vscode": {
     "languageId": "python"
    }
   },
   "outputs": [
    {
     "name": "stdout",
     "output_type": "stream",
     "text": [
      "(0, '29c', 2, 64, 9.691)\n",
      "(0, '29a', 74, 64, 7.38)\n",
      "(0, '29b', 74, 64, 7.339)\n",
      "(1, '31c', 75, 64, 5.688)\n",
      "(0, '26c', 2, 64, 5.663)\n",
      "(3, '29a', 91, 64, 5.585)\n",
      "(0, '27c', 74, 64, 5.146)\n",
      "(0, '26a', 2, 64, 5.007)\n",
      "(0, '24a', 2, 64, 4.911)\n",
      "(0, '27a', 74, 64, 4.846)\n",
      "(0, '27b', 74, 64, 4.721)\n",
      "(0, '28b', 2, 64, 4.646)\n",
      "(0, '28a', 2, 64, 4.61)\n",
      "(0, '30a', 2, 64, 4.509)\n",
      "(0, '30c', 2, 64, 4.434)\n",
      "(0, '26b', 2, 64, 4.415)\n",
      "(0, '28c', 2, 64, 4.406)\n",
      "(2, '29c', 104, 64, 4.285)\n",
      "(0, '24b', 74, 64, 4.285)\n",
      "(0, '30b', 2, 64, 3.837)\n",
      "(4, '27a', 110, 64, 3.794)\n",
      "(2, '27a', 106, 64, 3.788)\n",
      "(0, '33a', 64, 64, 3.753)\n",
      "(0, '33b', 64, 64, 3.643)\n",
      "(1, '29c', 50, 64, 3.512)\n",
      "(0, '33c', 64, 64, 3.331)\n",
      "(2, '29a', 81, 64, 3.316)\n",
      "(2, '27b', 88, 64, 2.967)\n",
      "(1, '29a', 50, 64, 2.807)\n",
      "(2, '27c', 88, 64, 2.778)\n",
      "(2, '29b', 114, 64, 2.743)\n",
      "(1, '29b', 50, 64, 2.731)\n",
      "(2, '33b', 88, 64, 2.636)\n",
      "(3, '26c', 91, 64, 2.633)\n",
      "(3, '33b', 92, 64, 2.609)\n",
      "(4, '26a', 95, 64, 2.537)\n",
      "(3, '26a', 91, 64, 2.524)\n",
      "(2, '33a', 81, 64, 2.455)\n",
      "(3, '33a', 89, 64, 2.44)\n",
      "(2, '28b', 81, 64, 2.415)\n",
      "(2, '33c', 88, 64, 2.397)\n",
      "(1, '30a', 90, 64, 2.346)\n",
      "(2, '30a', 94, 64, 2.329)\n",
      "(3, '33c', 89, 64, 2.252)\n",
      "(5, '28b', 111, 64, 2.198)\n",
      "(4, '28b', 93, 64, 2.145)\n",
      "(3, '28b', 89, 64, 2.138)\n",
      "(2, '26b', 104, 64, 2.125)\n",
      "(2, '30b', 100, 64, 2.105)\n",
      "(1, '26c', 50, 64, 2.084)\n",
      "(2, '24b', 104, 64, 1.903)\n",
      "(1, '26a', 50, 64, 1.855)\n",
      "(2, '26c', 81, 64, 1.83)\n",
      "(1, '28b', 50, 64, 1.763)\n",
      "(2, '24a', 81, 64, 1.744)\n",
      "(0, '31c', 74, 64, 1.738)\n",
      "(0, '31a', 74, 64, 1.714)\n",
      "(2, '26a', 81, 64, 1.669)\n",
      "(2, '31c', 107, 64, 1.654)\n",
      "(4, '31c', 111, 64, 1.649)\n",
      "(0, '31b', 74, 64, 1.646)\n",
      "(1, '24a', 50, 64, 1.606)\n",
      "(2, '30c', 114, 64, 1.598)\n",
      "(1, '26b', 50, 64, 1.595)\n",
      "(1, '30c', 50, 64, 1.582)\n",
      "(1, '28a', 50, 64, 1.516)\n",
      "(1, '33b', 50, 64, 1.45)\n",
      "(1, '28c', 50, 64, 1.447)\n",
      "(2, '28c', 114, 64, 1.443)\n",
      "(1, '24b', 50, 64, 1.428)\n",
      "(1, '27b', 50, 64, 1.391)\n",
      "(1, '30b', 50, 64, 1.385)\n",
      "(3, '24a', 83, 64, 1.381)\n",
      "(4, '24a', 87, 64, 1.367)\n",
      "(0, '19d', 2, 64, 1.281)\n",
      "(1, '27a', 50, 64, 1.262)\n",
      "(1, '27c', 50, 64, 1.247)\n",
      "(1, '19d', 106, 64, 1.059)\n",
      "(1, '33a', 122, 64, 1.033)\n",
      "(1, '33c', 122, 64, 1.007)\n",
      "(0, '22d', 74, 64, 1.001)\n",
      "(3, '27a', 62, 64, 0.988)\n",
      "(1, '19c', 90, 64, 0.981)\n",
      "(0, '22b', 74, 64, 0.939)\n",
      "(0, '22c', 74, 64, 0.937)\n",
      "(0, '22a', 74, 64, 0.931)\n",
      "(0, '19c', 74, 64, 0.898)\n",
      "(3, '27b', 124, 64, 0.837)\n",
      "(0, '19a', 74, 64, 0.818)\n",
      "(0, '23b', 74, 64, 0.779)\n",
      "(0, '19b', 74, 64, 0.744)\n",
      "(0, '23a', 74, 64, 0.736)\n",
      "(0, '23c', 74, 64, 0.729)\n",
      "(0, '21c', 74, 64, 0.703)\n",
      "(4, '33a', 125, 64, 0.638)\n",
      "(1, '31b', 50, 64, 0.608)\n",
      "(0, '21b', 74, 64, 0.605)\n",
      "(4, '33c', 125, 64, 0.603)\n",
      "(0, '21a', 74, 64, 0.594)\n",
      "(2, '19d', 108, 64, 0.578)\n",
      "(0, '20c', 74, 64, 0.553)\n",
      "(3, '22d', 108, 64, 0.549)\n",
      "(2, '22d', 104, 64, 0.544)\n",
      "(1, '31a', 50, 64, 0.543)\n",
      "(0, '20a', 74, 64, 0.516)\n",
      "(3, '31c', 89, 64, 0.491)\n",
      "(2, '31a', 81, 64, 0.485)\n",
      "(1, '16b', 75, 64, 0.478)\n",
      "(0, '16c', 74, 64, 0.477)\n",
      "(0, '16d', 74, 64, 0.469)\n",
      "(2, '22c', 104, 64, 0.467)\n",
      "(3, '22c', 108, 64, 0.467)\n",
      "(3, '31a', 89, 64, 0.465)\n",
      "(2, '22a', 104, 64, 0.461)\n",
      "(3, '22a', 108, 64, 0.457)\n",
      "(2, '22b', 104, 64, 0.457)\n",
      "(3, '22b', 108, 64, 0.456)\n",
      "(0, '25c', 74, 64, 0.452)\n",
      "(0, '20b', 74, 64, 0.434)\n",
      "(0, '25b', 74, 64, 0.415)\n",
      "(0, '25a', 74, 64, 0.405)\n",
      "(0, '16b', 74, 64, 0.401)\n",
      "(2, '16b', 110, 64, 0.375)\n",
      "(0, '16a', 74, 64, 0.365)\n",
      "(0, '15d', 74, 64, 0.363)\n",
      "(2, '16c', 104, 64, 0.351)\n",
      "(0, '15b', 74, 64, 0.345)\n",
      "(2, '31b', 88, 64, 0.344)\n",
      "(3, '31b', 126, 64, 0.343)\n",
      "(2, '16d', 104, 64, 0.339)\n",
      "(0, '13d', 74, 64, 0.338)\n",
      "(0, '13a', 74, 64, 0.335)\n",
      "(0, '15a', 74, 64, 0.32)\n",
      "(1, '23c', 50, 64, 0.314)\n",
      "(0, '7c', 74, 64, 0.312)\n",
      "(1, '23a', 50, 64, 0.31)\n",
      "(1, '7c', 10, 64, 0.299)\n",
      "(0, '15c', 74, 64, 0.295)\n",
      "(1, '9d', 75, 64, 0.29)\n",
      "(1, '22c', 50, 64, 0.287)\n",
      "(2, '15d', 110, 64, 0.284)\n",
      "(1, '22b', 50, 64, 0.284)\n",
      "(1, '15d', 106, 64, 0.282)\n",
      "(1, '22a', 50, 64, 0.281)\n",
      "(1, '9c', 10, 64, 0.28)\n",
      "(2, '19b', 88, 64, 0.279)\n",
      "(1, '23b', 50, 64, 0.276)\n",
      "(2, '19c', 104, 64, 0.273)\n",
      "(1, '22d', 50, 64, 0.268)\n",
      "(1, '25c', 90, 64, 0.266)\n",
      "(1, '25a', 90, 64, 0.266)\n",
      "(3, '25a', 94, 64, 0.263)\n",
      "(0, '9d', 2, 64, 0.243)\n",
      "(2, '16a', 100, 64, 0.243)\n",
      "(2, '7c', 75, 64, 0.235)\n",
      "(1, '19b', 50, 64, 0.225)\n",
      "(2, '23a', 81, 64, 0.216)\n",
      "(1, '19a', 50, 64, 0.21)\n",
      "(1, '7a', 75, 64, 0.208)\n",
      "(1, '17a', 75, 64, 0.207)\n",
      "(1, '20c', 50, 64, 0.206)\n",
      "(1, '17f', 75, 64, 0.205)\n",
      "(0, '9c', 74, 64, 0.205)\n",
      "(0, '7a', 74, 64, 0.205)\n",
      "(0, '12b', 74, 64, 0.205)\n",
      "(0, '7b', 74, 64, 0.202)\n",
      "(1, '7b', 10, 64, 0.202)\n",
      "(2, '9d', 110, 64, 0.2)\n",
      "(0, '8d', 74, 64, 0.185)\n",
      "(0, '8c', 74, 64, 0.184)\n",
      "(2, '25a', 98, 64, 0.18)\n",
      "(0, '17e', 74, 64, 0.176)\n",
      "(0, '9a', 74, 64, 0.175)\n",
      "(2, '21b', 88, 64, 0.174)\n",
      "(2, '7a', 110, 64, 0.171)\n",
      "(2, '21a', 88, 64, 0.171)\n",
      "(2, '12b', 106, 64, 0.17)\n",
      "(0, '11d', 74, 64, 0.169)\n",
      "(0, '12a', 74, 64, 0.168)\n",
      "(2, '20a', 104, 64, 0.167)\n",
      "(0, '12c', 74, 64, 0.166)\n",
      "(1, '8c', 66, 64, 0.164)\n",
      "(0, '11a', 74, 64, 0.164)\n",
      "(1, '8d', 66, 64, 0.164)\n",
      "(2, '8d', 76, 64, 0.164)\n",
      "(0, '9b', 74, 64, 0.164)\n",
      "(1, '11c', 10, 64, 0.159)\n",
      "(0, '11c', 74, 64, 0.157)\n",
      "(0, '11b', 74, 64, 0.157)\n",
      "(2, '13a', 104, 64, 0.152)\n",
      "(0, '13b', 32, 64, 0.15)\n",
      "(0, '13c', 74, 64, 0.15)\n",
      "(2, '9c', 90, 64, 0.141)\n",
      "(2, '25c', 104, 64, 0.14)\n",
      "(0, '17f', 1, 64, 0.139)\n",
      "(1, '20a', 50, 64, 0.138)\n",
      "(3, '23a', 115, 64, 0.135)\n",
      "(0, '17a', 74, 64, 0.135)\n",
      "(1, '13b', 33, 64, 0.133)\n",
      "(1, '13c', 65, 64, 0.132)\n",
      "(1, '12c', 106, 64, 0.129)\n",
      "(0, '8b', 74, 64, 0.129)\n",
      "(1, '18c', 75, 64, 0.127)\n",
      "(2, '17f', 110, 64, 0.123)\n",
      "(2, '13b', 11, 64, 0.122)\n",
      "(1, '11d', 106, 64, 0.122)\n",
      "(3, '11d', 110, 64, 0.122)\n",
      "(2, '7b', 90, 64, 0.121)\n",
      "(2, '17a', 110, 64, 0.121)\n",
      "(0, '17b', 74, 64, 0.121)\n",
      "(2, '13c', 11, 64, 0.119)\n",
      "(2, '13d', 81, 64, 0.118)\n",
      "(0, '10c', 1, 64, 0.117)\n",
      "(1, '15c', 50, 64, 0.117)\n",
      "(2, '15b', 84, 64, 0.116)\n",
      "(2, '17e', 100, 64, 0.116)\n",
      "(3, '13b', 71, 64, 0.116)\n",
      "(3, '13c', 87, 64, 0.116)\n",
      "(3, '13d', 89, 64, 0.113)\n",
      "(0, '14c', 74, 64, 0.112)\n",
      "(0, '14a', 74, 64, 0.111)\n",
      "(1, '20b', 50, 64, 0.11)\n",
      "(0, '18a', 74, 64, 0.109)\n",
      "(2, '11c', 106, 64, 0.109)\n",
      "(2, '25b', 104, 64, 0.109)\n",
      "(3, '11c', 110, 64, 0.108)\n",
      "(0, '17c', 74, 64, 0.108)\n",
      "(0, '17d', 74, 64, 0.108)\n",
      "(0, '14b', 74, 64, 0.108)\n",
      "(1, '15a', 50, 64, 0.106)\n",
      "(1, '25b', 50, 64, 0.105)\n",
      "(3, '13a', 89, 64, 0.101)\n",
      "(2, '8b', 106, 64, 0.1)\n",
      "(0, '18b', 74, 64, 0.1)\n",
      "(0, '18c', 74, 64, 0.099)\n",
      "(3, '15d', 118, 64, 0.099)\n",
      "(0, '8a', 74, 64, 0.096)\n",
      "(2, '11d', 102, 64, 0.096)\n",
      "(1, '18a', 106, 64, 0.095)\n",
      "(4, '22c', 125, 64, 0.09)\n",
      "(4, '22d', 125, 64, 0.089)\n",
      "(2, '11a', 88, 64, 0.083)\n",
      "(1, '21c', 50, 64, 0.083)\n",
      "(2, '20b', 81, 64, 0.082)\n",
      "(1, '21b', 50, 64, 0.081)\n",
      "(1, '21a', 50, 64, 0.081)\n",
      "(2, '18c', 110, 64, 0.079)\n",
      "(1, '15b', 50, 64, 0.079)\n",
      "(2, '20c', 81, 64, 0.071)\n",
      "(1, '8a', 90, 64, 0.068)\n",
      "(2, '9a', 104, 64, 0.066)\n",
      "(3, '20c', 59, 64, 0.066)\n",
      "(1, '18b', 90, 64, 0.059)\n",
      "(3, '18b', 94, 64, 0.059)\n",
      "(0, '10a', 74, 64, 0.055)\n",
      "(0, '10b', 74, 64, 0.052)\n",
      "(1, '16c', 50, 64, 0.051)\n",
      "(2, '18b', 98, 64, 0.05)\n",
      "(2, '14c', 104, 64, 0.05)\n",
      "(1, '13a', 50, 64, 0.049)\n",
      "(1, '13d', 50, 64, 0.048)\n",
      "(1, '12b', 50, 64, 0.041)\n",
      "(1, '9b', 50, 64, 0.039)\n",
      "(1, '9a', 50, 64, 0.038)\n",
      "(1, '16d', 50, 64, 0.038)\n",
      "(1, '16a', 50, 64, 0.038)\n",
      "(1, '11b', 50, 64, 0.034)\n",
      "(1, '12a', 50, 64, 0.029)\n",
      "(1, '14b', 50, 64, 0.028)\n",
      "(1, '11a', 50, 64, 0.026)\n",
      "(1, '14a', 50, 64, 0.023)\n",
      "(1, '14c', 50, 64, 0.023)\n",
      "(0, '5c', 4, 64, 0.02)\n",
      "(1, '6a', 10, 64, 0.019)\n",
      "(0, '6f', 74, 64, 0.018)\n",
      "(1, '6f', 78, 64, 0.018)\n",
      "(1, '17e', 50, 64, 0.018)\n",
      "(1, '10c', 50, 64, 0.018)\n",
      "(1, '8b', 50, 64, 0.017)\n",
      "(1, '10b', 50, 64, 0.017)\n",
      "(1, '6c', 10, 64, 0.017)\n",
      "(1, '5b', 75, 64, 0.017)\n",
      "(0, '6d', 74, 64, 0.016)\n",
      "(1, '6d', 78, 64, 0.016)\n",
      "(0, '6a', 74, 64, 0.016)\n",
      "(1, '10a', 50, 64, 0.016)\n",
      "(2, '6f', 110, 64, 0.016)\n",
      "(0, '6b', 74, 64, 0.016)\n",
      "(1, '6b', 10, 64, 0.016)\n",
      "(1, '5a', 75, 64, 0.016)\n",
      "(1, '32a', 10, 64, 0.016)\n",
      "(0, '6e', 74, 64, 0.016)\n",
      "(1, '32b', 10, 64, 0.016)\n",
      "(1, '1c', 75, 64, 0.015)\n",
      "(2, '6b', 75, 64, 0.015)\n",
      "(1, '17c', 50, 64, 0.015)\n",
      "(1, '17d', 50, 64, 0.015)\n",
      "(0, '5a', 74, 64, 0.015)\n",
      "(0, '32a', 74, 64, 0.015)\n",
      "(0, '6c', 74, 64, 0.015)\n",
      "(1, '17b', 50, 64, 0.015)\n",
      "(0, '32b', 74, 64, 0.015)\n",
      "(0, '5b', 74, 64, 0.015)\n",
      "(2, '6d', 110, 64, 0.014)\n",
      "(0, '1b', 64, 64, 0.014)\n",
      "(2, '5a', 11, 64, 0.014)\n",
      "(0, '1d', 64, 64, 0.014)\n",
      "(0, '2d', 4, 64, 0.014)\n",
      "(1, '2d', 9, 64, 0.014)\n",
      "(2, '5b', 11, 64, 0.014)\n",
      "(2, '1c', 11, 64, 0.013)\n",
      "(3, '6b', 91, 64, 0.013)\n",
      "(2, '32a', 92, 64, 0.013)\n",
      "(1, '2c', 10, 64, 0.013)\n",
      "(2, '32b', 92, 64, 0.013)\n",
      "(0, '1a', 64, 64, 0.012)\n",
      "(2, '1a', 91, 64, 0.012)\n",
      "(0, '2a', 4, 64, 0.012)\n",
      "(0, '2c', 74, 64, 0.012)\n",
      "(2, '5c', 98, 64, 0.012)\n",
      "(1, '2b', 10, 64, 0.012)\n",
      "(0, '1c', 4, 64, 0.011)\n",
      "(0, '2b', 64, 64, 0.011)\n",
      "(0, '4a', 74, 64, 0.01)\n",
      "(0, '3c', 74, 64, 0.01)\n",
      "(1, '3c', 10, 64, 0.01)\n",
      "(0, '4c', 4, 64, 0.01)\n",
      "(0, '4b', 74, 64, 0.01)\n",
      "(0, '3a', 74, 64, 0.009)\n",
      "(1, '3a', 10, 64, 0.009)\n",
      "(2, '1b', 81, 64, 0.009)\n",
      "(1, '1a', 81, 64, 0.009)\n",
      "(2, '1d', 81, 64, 0.009)\n",
      "(0, '3b', 74, 64, 0.009)\n",
      "(1, '5c', 90, 64, 0.009)\n",
      "(3, '1a', 87, 64, 0.007)\n",
      "(2, '6e', 98, 64, 0.007)\n",
      "(1, '3b', 106, 64, 0.007)\n",
      "(1, '4a', 106, 64, 0.006)\n",
      "(3, '1c', 107, 64, 0.006)\n",
      "(2, '4c', 88, 64, 0.006)\n",
      "(3, '5a', 107, 64, 0.006)\n",
      "(2, '6c', 90, 64, 0.006)\n",
      "(1, '4b', 106, 64, 0.006)\n",
      "(2, '4b', 84, 64, 0.006)\n",
      "(2, '6a', 54, 64, 0.003)\n",
      "(1, '1b', 50, 64, 0.003)\n",
      "(1, '4c', 50, 64, 0.003)\n",
      "(1, '1d', 50, 64, 0.003)\n",
      "(1, '6e', 50, 64, 0.003)\n",
      "(3, '5b', 59, 64, 0.003)\n",
      "(2, '3c', 60, 64, 0.002)\n",
      "(2, '2d', 120, 64, 0.002)\n",
      "(1, '2a', 49, 64, 0.002)\n",
      "(2, '2c', 120, 64, 0.002)\n",
      "(2, '2b', 120, 64, 0.002)\n",
      "(2, '3a', 120, 64, 0.001)\n"
     ]
    }
   ],
   "source": [
    "for l in sorted(LOCAL_PLAN_TIMES, key=lambda l: max((t[-1] for t in l), default=0), reverse=True):\n",
    "    x = sorted(l, key=lambda v: v[-1], reverse=True)[:1]\n",
    "    if x:\n",
    "        print(x[0])\n"
   ]
  },
  {
   "cell_type": "code",
   "execution_count": 118,
   "metadata": {
    "vscode": {
     "languageId": "python"
    }
   },
   "outputs": [
    {
     "name": "stdout",
     "output_type": "stream",
     "text": [
      "(0, '29c', 2, 64, 9.691)\n",
      "(0, '29a', 2, 64, 7.18)\n",
      "(0, '29b', 2, 64, 6.869)\n",
      "(1, '29a', 34, 64, 6.145)\n",
      "(3, '31c', 75, 64, 5.688)\n",
      "(0, '26c', 2, 64, 5.663)\n",
      "(1, '26c', 34, 64, 5.163)\n",
      "(0, '26a', 2, 64, 5.007)\n",
      "(0, '24a', 2, 64, 4.911)\n",
      "(1, '29c', 18, 64, 4.9)\n",
      "(0, '28b', 2, 64, 4.646)\n",
      "(0, '28a', 2, 64, 4.61)\n",
      "(0, '30a', 2, 64, 4.509)\n",
      "(0, '30c', 2, 64, 4.434)\n",
      "(0, '26b', 2, 64, 4.415)\n",
      "(0, '28c', 2, 64, 4.406)\n",
      "(1, '26b', 34, 64, 4.016)\n",
      "(0, '27c', 2, 64, 3.88)\n",
      "(1, '29b', 18, 64, 3.853)\n",
      "(0, '24b', 2, 64, 3.852)\n",
      "(0, '30b', 2, 64, 3.837)\n",
      "(0, '27b', 64, 64, 3.794)\n",
      "(0, '33a', 64, 64, 3.753)\n",
      "(0, '27a', 64, 64, 3.651)\n",
      "(0, '33b', 64, 64, 3.643)\n",
      "(2, '29c', 50, 64, 3.512)\n",
      "(1, '28a', 65, 64, 3.423)\n",
      "(0, '33c', 64, 64, 3.331)\n",
      "(1, '27c', 34, 64, 3.202)\n",
      "(1, '27b', 34, 64, 3.007)\n",
      "(2, '30b', 11, 64, 2.986)\n",
      "(1, '28b', 18, 64, 2.887)\n",
      "(2, '29a', 50, 64, 2.807)\n",
      "(3, '29b', 114, 64, 2.743)\n",
      "(1, '33b', 34, 64, 2.734)\n",
      "(2, '29b', 50, 64, 2.731)\n",
      "(1, '27a', 34, 64, 2.675)\n",
      "(1, '30b', 5, 64, 2.655)\n",
      "(1, '28c', 18, 64, 2.58)\n",
      "(1, '30c', 18, 64, 2.364)\n",
      "(1, '26a', 65, 64, 2.334)\n",
      "(1, '24a', 18, 64, 2.294)\n",
      "(1, '33a', 34, 64, 2.278)\n",
      "(1, '33c', 34, 64, 2.201)\n",
      "(2, '30a', 22, 64, 2.116)\n",
      "(1, '30a', 18, 64, 2.098)\n",
      "(2, '26c', 50, 64, 2.084)\n",
      "(1, '24b', 18, 64, 2.035)\n",
      "(3, '29c', 58, 64, 1.911)\n",
      "(2, '28b', 50, 64, 1.763)\n",
      "(2, '28a', 41, 64, 1.757)\n",
      "(4, '31c', 107, 64, 1.654)\n",
      "(5, '31c', 111, 64, 1.649)\n",
      "(2, '24a', 50, 64, 1.606)\n",
      "(3, '30c', 114, 64, 1.598)\n",
      "(2, '26b', 50, 64, 1.595)\n",
      "(2, '30c', 50, 64, 1.582)\n",
      "(2, '33b', 50, 64, 1.45)\n",
      "(2, '28c', 50, 64, 1.447)\n",
      "(3, '28c', 114, 64, 1.443)\n",
      "(2, '24b', 50, 64, 1.428)\n",
      "(4, '30b', 109, 64, 1.404)\n",
      "(3, '30b', 105, 64, 1.393)\n",
      "(2, '27b', 50, 64, 1.391)\n",
      "(2, '26a', 37, 64, 1.341)\n",
      "(4, '33a', 59, 64, 1.307)\n",
      "(0, '31c', 2, 64, 1.301)\n",
      "(4, '33c', 59, 64, 1.293)\n",
      "(0, '19d', 2, 64, 1.281)\n",
      "(3, '27a', 114, 64, 1.264)\n",
      "(2, '27a', 50, 64, 1.262)\n",
      "(1, '19c', 10, 64, 1.251)\n",
      "(2, '19c', 14, 64, 1.251)\n",
      "(2, '27c', 50, 64, 1.247)\n",
      "(0, '31a', 2, 64, 1.196)\n",
      "(4, '29a', 59, 64, 1.175)\n",
      "(3, '29a', 113, 64, 1.099)\n",
      "(1, '31a', 34, 64, 1.038)\n",
      "(3, '27c', 58, 64, 1.031)\n",
      "(3, '33c', 58, 64, 0.994)\n",
      "(4, '33b', 62, 64, 0.991)\n",
      "(3, '33b', 58, 64, 0.984)\n",
      "(2, '33a', 50, 64, 0.968)\n",
      "(5, '29a', 123, 64, 0.966)\n",
      "(3, '27b', 58, 64, 0.959)\n",
      "(4, '27b', 122, 64, 0.957)\n",
      "(6, '29a', 127, 64, 0.943)\n",
      "(0, '31b', 2, 64, 0.929)\n",
      "(2, '33c', 50, 64, 0.922)\n",
      "(0, '22d', 4, 64, 0.897)\n",
      "(3, '24b', 58, 64, 0.894)\n",
      "(3, '26b', 58, 64, 0.842)\n",
      "(1, '31b', 34, 64, 0.83)\n",
      "(5, '27a', 119, 64, 0.822)\n",
      "(4, '27a', 55, 64, 0.82)\n",
      "(0, '19c', 2, 64, 0.819)\n",
      "(3, '28b', 51, 64, 0.776)\n",
      "(0, '22c', 2, 64, 0.775)\n",
      "(0, '22a', 2, 64, 0.764)\n",
      "(1, '22d', 34, 64, 0.756)\n",
      "(0, '22b', 2, 64, 0.754)\n",
      "(5, '28b', 125, 64, 0.698)\n",
      "(1, '31c', 65, 64, 0.696)\n",
      "(2, '31c', 69, 64, 0.696)\n",
      "(3, '33a', 51, 64, 0.683)\n",
      "(4, '26a', 59, 64, 0.678)\n",
      "(4, '28b', 61, 64, 0.677)\n",
      "(5, '33a', 125, 64, 0.638)\n",
      "(2, '31b', 50, 64, 0.608)\n",
      "(5, '33c', 125, 64, 0.603)\n",
      "(4, '24a', 59, 64, 0.602)\n",
      "(3, '24a', 51, 64, 0.596)\n",
      "(0, '23c', 2, 64, 0.594)\n",
      "(5, '24a', 119, 64, 0.585)\n",
      "(4, '26c', 59, 64, 0.583)\n",
      "(0, '23a', 2, 64, 0.582)\n",
      "(0, '19a', 2, 64, 0.572)\n",
      "(2, '31a', 50, 64, 0.543)\n",
      "(5, '26c', 119, 64, 0.536)\n",
      "(6, '24a', 127, 64, 0.531)\n",
      "(3, '26c', 51, 64, 0.525)\n",
      "(5, '26a', 119, 64, 0.52)\n",
      "(3, '26a', 51, 64, 0.511)\n",
      "(0, '23b', 2, 64, 0.49)\n",
      "(0, '20c', 2, 64, 0.489)\n",
      "(0, '19b', 2, 64, 0.473)\n",
      "(1, '19a', 34, 64, 0.446)\n",
      "(6, '26a', 127, 64, 0.444)\n",
      "(6, '26c', 127, 64, 0.439)\n",
      "(0, '16c', 4, 64, 0.432)\n",
      "(0, '16d', 4, 64, 0.422)\n",
      "(1, '23c', 18, 64, 0.421)\n",
      "(2, '25a', 74, 64, 0.405)\n",
      "(1, '22c', 18, 64, 0.392)\n",
      "(1, '22b', 18, 64, 0.387)\n",
      "(1, '22a', 18, 64, 0.384)\n",
      "(1, '23b', 34, 64, 0.381)\n",
      "(1, '23a', 3, 64, 0.377)\n",
      "(0, '16b', 64, 64, 0.368)\n",
      "(1, '19b', 34, 64, 0.364)\n",
      "(0, '21c', 2, 64, 0.354)\n",
      "(4, '31b', 62, 64, 0.337)\n",
      "(3, '31b', 58, 64, 0.335)\n",
      "(0, '25c', 2, 64, 0.322)\n",
      "(0, '20a', 2, 64, 0.317)\n",
      "(2, '23c', 50, 64, 0.314)\n",
      "(0, '13d', 2, 64, 0.309)\n",
      "(1, '21c', 34, 64, 0.307)\n",
      "(0, '15d', 2, 64, 0.302)\n",
      "(0, '16a', 2, 64, 0.301)\n",
      "(1, '7c', 10, 64, 0.299)\n",
      "(1, '9d', 10, 64, 0.289)\n",
      "(2, '22c', 50, 64, 0.287)\n",
      "(2, '22b', 50, 64, 0.284)\n",
      "(2, '22a', 50, 64, 0.281)\n",
      "(1, '9c', 10, 64, 0.28)\n",
      "(0, '13a', 2, 64, 0.279)\n",
      "(2, '23b', 50, 64, 0.276)\n",
      "(0, '25b', 2, 64, 0.27)\n",
      "(2, '22d', 50, 64, 0.268)\n",
      "(3, '25c', 90, 64, 0.266)\n",
      "(3, '25a', 90, 64, 0.266)\n",
      "(0, '25a', 2, 64, 0.264)\n",
      "(4, '25a', 94, 64, 0.263)\n",
      "(2, '23a', 19, 64, 0.255)\n",
      "(2, '9d', 42, 64, 0.254)\n",
      "(0, '15c', 2, 64, 0.254)\n",
      "(2, '9c', 42, 64, 0.244)\n",
      "(0, '9d', 2, 64, 0.243)\n",
      "(0, '21b', 2, 64, 0.237)\n",
      "(1, '15d', 34, 64, 0.235)\n",
      "(0, '21a', 2, 64, 0.235)\n",
      "(1, '25a', 66, 64, 0.233)\n",
      "(0, '20b', 2, 64, 0.232)\n",
      "(2, '19b', 50, 64, 0.225)\n",
      "(0, '15a', 2, 64, 0.223)\n",
      "(0, '7c', 2, 64, 0.219)\n",
      "(2, '19a', 50, 64, 0.21)\n",
      "(1, '7a', 10, 64, 0.209)\n",
      "(0, '12b', 2, 64, 0.204)\n",
      "(1, '7b', 10, 64, 0.202)\n",
      "(3, '9d', 106, 64, 0.2)\n",
      "(4, '9d', 110, 64, 0.2)\n",
      "(3, '22b', 58, 64, 0.196)\n",
      "(1, '15c', 34, 64, 0.196)\n",
      "(3, '22a', 58, 64, 0.194)\n",
      "(2, '15d', 98, 64, 0.194)\n",
      "(4, '22c', 62, 64, 0.194)\n",
      "(3, '15d', 102, 64, 0.193)\n",
      "(1, '13d', 65, 64, 0.193)\n",
      "(4, '22a', 62, 64, 0.192)\n",
      "(4, '22b', 62, 64, 0.192)\n",
      "(5, '22c', 126, 64, 0.19)\n",
      "(3, '22c', 58, 64, 0.189)\n",
      "(3, '31a', 51, 64, 0.186)\n",
      "(0, '9c', 2, 64, 0.186)\n",
      "(4, '22d', 62, 64, 0.185)\n",
      "(2, '8d', 74, 64, 0.185)\n",
      "(1, '21b', 34, 64, 0.184)\n",
      "(0, '8c', 4, 64, 0.18)\n",
      "(0, '8d', 4, 64, 0.18)\n",
      "(1, '21a', 34, 64, 0.18)\n",
      "(5, '22d', 126, 64, 0.179)\n",
      "(3, '22d', 58, 64, 0.178)\n",
      "(0, '15b', 2, 64, 0.173)\n",
      "(3, '9c', 106, 64, 0.173)\n",
      "(4, '9c', 110, 64, 0.171)\n",
      "(1, '20a', 18, 64, 0.17)\n",
      "(0, '17e', 4, 64, 0.169)\n",
      "(1, '8c', 66, 64, 0.164)\n",
      "(1, '8d', 66, 64, 0.164)\n",
      "(0, '11d', 4, 64, 0.164)\n",
      "(1, '15a', 34, 64, 0.16)\n",
      "(1, '11c', 10, 64, 0.159)\n",
      "(1, '25b', 18, 64, 0.155)\n",
      "(0, '9a', 2, 64, 0.154)\n",
      "(3, '19b', 58, 64, 0.153)\n",
      "(0, '13b', 32, 64, 0.15)\n",
      "(0, '13c', 16, 64, 0.149)\n",
      "(2, '7c', 11, 64, 0.148)\n",
      "(1, '25c', 18, 64, 0.148)\n",
      "(0, '17f', 1, 64, 0.139)\n",
      "(1, '17f', 65, 64, 0.139)\n",
      "(3, '23a', 51, 64, 0.138)\n",
      "(2, '20a', 50, 64, 0.138)\n",
      "(4, '23a', 115, 64, 0.135)\n",
      "(2, '17f', 69, 64, 0.133)\n",
      "(1, '13b', 33, 64, 0.133)\n",
      "(0, '12c', 2, 64, 0.132)\n",
      "(1, '13c', 65, 64, 0.132)\n",
      "(2, '13d', 35, 64, 0.132)\n",
      "(0, '9b', 2, 64, 0.13)\n",
      "(4, '31a', 59, 64, 0.127)\n",
      "(1, '16c', 80, 64, 0.127)\n",
      "(1, '16b', 80, 64, 0.126)\n",
      "(1, '16d', 17, 64, 0.125)\n",
      "(2, '11c', 42, 64, 0.124)\n",
      "(0, '17a', 4, 64, 0.122)\n",
      "(2, '13b', 11, 64, 0.122)\n",
      "(3, '11d', 106, 64, 0.122)\n",
      "(4, '11d', 110, 64, 0.122)\n",
      "(1, '20c', 3, 64, 0.122)\n",
      "(1, '12c', 66, 64, 0.121)\n",
      "(3, '7b', 90, 64, 0.121)\n",
      "(2, '13c', 11, 64, 0.119)\n",
      "(3, '13c', 75, 64, 0.119)\n",
      "(0, '7a', 2, 64, 0.119)\n",
      "(0, '10c', 1, 64, 0.117)\n",
      "(0, '12a', 2, 64, 0.117)\n",
      "(2, '15c', 50, 64, 0.117)\n",
      "(0, '11c', 4, 64, 0.116)\n",
      "(2, '25c', 84, 64, 0.116)\n",
      "(3, '13b', 75, 64, 0.116)\n",
      "(4, '13c', 87, 64, 0.116)\n",
      "(0, '17b', 4, 64, 0.113)\n",
      "(0, '7b', 2, 64, 0.112)\n",
      "(1, '11d', 34, 64, 0.11)\n",
      "(3, '11c', 106, 64, 0.109)\n",
      "(1, '15b', 34, 64, 0.109)\n",
      "(4, '11c', 110, 64, 0.108)\n",
      "(2, '25b', 88, 64, 0.107)\n",
      "(2, '15a', 50, 64, 0.106)\n",
      "(1, '13a', 80, 64, 0.103)\n",
      "(1, '20b', 65, 64, 0.103)\n",
      "(0, '17c', 1, 64, 0.1)\n",
      "(0, '17d', 1, 64, 0.1)\n",
      "(4, '15d', 118, 64, 0.099)\n",
      "(1, '9b', 34, 64, 0.098)\n",
      "(1, '16a', 18, 64, 0.097)\n",
      "(2, '11d', 98, 64, 0.097)\n",
      "(3, '20a', 60, 64, 0.096)\n",
      "(0, '11a', 64, 64, 0.095)\n",
      "(2, '12c', 98, 64, 0.094)\n",
      "(4, '13d', 59, 64, 0.093)\n",
      "(0, '18a', 2, 64, 0.092)\n",
      "(1, '18a', 66, 64, 0.087)\n",
      "(0, '11b', 64, 64, 0.084)\n",
      "(2, '21c', 50, 64, 0.083)\n",
      "(0, '14c', 2, 64, 0.082)\n",
      "(3, '17f', 85, 64, 0.081)\n",
      "(2, '21b', 50, 64, 0.081)\n",
      "(2, '21a', 50, 64, 0.081)\n",
      "(3, '15b', 54, 64, 0.08)\n",
      "(1, '10c', 34, 64, 0.08)\n",
      "(0, '14a', 2, 64, 0.08)\n",
      "(2, '20c', 35, 64, 0.08)\n",
      "(2, '15b', 50, 64, 0.079)\n",
      "(0, '18c', 2, 64, 0.077)\n",
      "(1, '12b', 80, 64, 0.077)\n",
      "(2, '18a', 98, 64, 0.075)\n",
      "(0, '14b', 2, 64, 0.075)\n",
      "(3, '21b', 58, 64, 0.07)\n",
      "(3, '21a', 58, 64, 0.07)\n",
      "(1, '9a', 18, 64, 0.069)\n",
      "(3, '25b', 58, 64, 0.069)\n",
      "(2, '20b', 35, 64, 0.068)\n",
      "(0, '18b', 2, 64, 0.066)\n",
      "(4, '20c', 59, 64, 0.066)\n",
      "(2, '7b', 22, 64, 0.065)\n",
      "(1, '18c', 34, 64, 0.063)\n",
      "(1, '18b', 66, 64, 0.063)\n",
      "(1, '17b', 80, 64, 0.061)\n",
      "(1, '17a', 17, 64, 0.06)\n",
      "(0, '8a', 2, 64, 0.06)\n",
      "(1, '17e', 80, 64, 0.058)\n",
      "(2, '17e', 21, 64, 0.058)\n",
      "(1, '12a', 80, 64, 0.054)\n",
      "(1, '11a', 34, 64, 0.053)\n",
      "(1, '17d', 34, 64, 0.053)\n",
      "(1, '11b', 34, 64, 0.053)\n",
      "(1, '17c', 33, 64, 0.052)\n",
      "(2, '16c', 50, 64, 0.051)\n",
      "(0, '10b', 2, 64, 0.05)\n",
      "(2, '13a', 50, 64, 0.049)\n",
      "(0, '8b', 2, 64, 0.045)\n",
      "(2, '7a', 28, 64, 0.045)\n",
      "(2, '16b', 50, 64, 0.045)\n",
      "(3, '20b', 51, 64, 0.044)\n",
      "(1, '14b', 18, 64, 0.043)\n",
      "(1, '14a', 80, 64, 0.042)\n",
      "(1, '14c', 17, 64, 0.042)\n",
      "(2, '12b', 50, 64, 0.041)\n",
      "(3, '20c', 51, 64, 0.04)\n",
      "(3, '16a', 54, 64, 0.039)\n",
      "(2, '9b', 50, 64, 0.039)\n",
      "(2, '9a', 50, 64, 0.038)\n",
      "(2, '16d', 50, 64, 0.038)\n",
      "(2, '16a', 50, 64, 0.038)\n",
      "(0, '10a', 2, 64, 0.036)\n",
      "(4, '13a', 59, 64, 0.036)\n",
      "(2, '11b', 50, 64, 0.034)\n",
      "(3, '13a', 58, 64, 0.033)\n",
      "(3, '9a', 58, 64, 0.032)\n",
      "(1, '8a', 18, 64, 0.032)\n",
      "(4, '12b', 59, 64, 0.031)\n",
      "(3, '12b', 58, 64, 0.03)\n",
      "(5, '12b', 126, 64, 0.03)\n",
      "(2, '12a', 50, 64, 0.029)\n",
      "(3, '13d', 51, 64, 0.029)\n",
      "(1, '8b', 34, 64, 0.028)\n",
      "(2, '14b', 50, 64, 0.028)\n",
      "(1, '10a', 34, 64, 0.027)\n",
      "(2, '10b', 73, 64, 0.027)\n",
      "(2, '11a', 50, 64, 0.026)\n",
      "(1, '10b', 5, 64, 0.026)\n",
      "(3, '7a', 58, 64, 0.026)\n",
      "(4, '7a', 122, 64, 0.026)\n",
      "(3, '16d', 58, 64, 0.024)\n",
      "(2, '18b', 69, 64, 0.024)\n",
      "(3, '16c', 58, 64, 0.024)\n",
      "(3, '11a', 58, 64, 0.023)\n",
      "(2, '14a', 50, 64, 0.023)\n",
      "(2, '14c', 50, 64, 0.023)\n",
      "(3, '16b', 58, 64, 0.022)\n",
      "(0, '5c', 4, 64, 0.02)\n",
      "(1, '6a', 10, 64, 0.019)\n",
      "(3, '14c', 58, 64, 0.019)\n",
      "(3, '17e', 54, 64, 0.018)\n",
      "(2, '17a', 50, 64, 0.018)\n",
      "(2, '10c', 50, 64, 0.018)\n",
      "(2, '8b', 50, 64, 0.017)\n",
      "(1, '6c', 10, 64, 0.017)\n",
      "(3, '5c', 75, 64, 0.017)\n",
      "(1, '6d', 10, 64, 0.016)\n",
      "(2, '6d', 14, 64, 0.016)\n",
      "(2, '10a', 50, 64, 0.016)\n",
      "(1, '6b', 10, 64, 0.016)\n",
      "(1, '32a', 10, 64, 0.016)\n",
      "(1, '32b', 10, 64, 0.016)\n",
      "(2, '6a', 42, 64, 0.015)\n",
      "(0, '6f', 2, 64, 0.015)\n",
      "(2, '17c', 50, 64, 0.015)\n",
      "(2, '17d', 50, 64, 0.015)\n",
      "(2, '6e', 42, 64, 0.015)\n",
      "(2, '17b', 50, 64, 0.015)\n",
      "(3, '6d', 106, 64, 0.014)\n",
      "(2, '6b', 11, 64, 0.014)\n",
      "(0, '1b', 64, 64, 0.014)\n",
      "(2, '5a', 11, 64, 0.014)\n",
      "(0, '1d', 64, 64, 0.014)\n",
      "(0, '32a', 4, 64, 0.014)\n",
      "(0, '2d', 4, 64, 0.014)\n",
      "(1, '2d', 9, 64, 0.014)\n",
      "(0, '32b', 4, 64, 0.014)\n",
      "(2, '5c', 11, 64, 0.014)\n",
      "(2, '5b', 11, 64, 0.014)\n",
      "(3, '18b', 101, 64, 0.013)\n",
      "(2, '1c', 11, 64, 0.013)\n",
      "(2, '1a', 11, 64, 0.013)\n",
      "(0, '5a', 2, 64, 0.013)\n",
      "(1, '2c', 10, 64, 0.013)\n",
      "(0, '6d', 32, 64, 0.012)\n",
      "(3, '6b', 27, 64, 0.012)\n",
      "(0, '1a', 64, 64, 0.012)\n",
      "(1, '1a', 65, 64, 0.012)\n",
      "(0, '2a', 4, 64, 0.012)\n",
      "(4, '16b', 59, 64, 0.012)\n",
      "(1, '5c', 5, 64, 0.012)\n",
      "(1, '2b', 10, 64, 0.012)\n",
      "(0, '6a', 4, 64, 0.011)\n",
      "(0, '1c', 4, 64, 0.011)\n",
      "(1, '1c', 65, 64, 0.011)\n",
      "(3, '1a', 27, 64, 0.011)\n",
      "(0, '2b', 64, 64, 0.011)\n",
      "(0, '6b', 2, 64, 0.01)\n",
      "(1, '3c', 10, 64, 0.01)\n",
      "(0, '4c', 4, 64, 0.01)\n",
      "(0, '6e', 4, 64, 0.01)\n",
      "(0, '6c', 2, 64, 0.01)\n",
      "(0, '2c', 4, 64, 0.01)\n",
      "(0, '5b', 2, 64, 0.01)\n",
      "(0, '4a', 4, 64, 0.009)\n",
      "(1, '4a', 66, 64, 0.009)\n",
      "(1, '3a', 10, 64, 0.009)\n",
      "(1, '1b', 80, 64, 0.009)\n",
      "(2, '1b', 81, 64, 0.009)\n",
      "(2, '32a', 42, 64, 0.009)\n",
      "(2, '32b', 42, 64, 0.009)\n",
      "(1, '5b', 5, 64, 0.009)\n",
      "(1, '5a', 3, 64, 0.008)\n",
      "(1, '1d', 34, 64, 0.008)\n",
      "(0, '4b', 2, 64, 0.008)\n",
      "(1, '4b', 66, 64, 0.008)\n",
      "(2, '2c', 42, 64, 0.008)\n",
      "(0, '3a', 2, 64, 0.007)\n",
      "(0, '3c', 4, 64, 0.007)\n",
      "(4, '17f', 115, 64, 0.007)\n",
      "(2, '2d', 42, 64, 0.007)\n",
      "(1, '6e', 34, 64, 0.007)\n",
      "(2, '2b', 42, 64, 0.007)\n",
      "(1, '6f', 18, 64, 0.006)\n",
      "(3, '5a', 43, 64, 0.006)\n",
      "(5, '17f', 125, 64, 0.006)\n",
      "(2, '6c', 82, 64, 0.006)\n",
      "(3, '5b', 43, 64, 0.006)\n",
      "(2, '4a', 98, 64, 0.005)\n",
      "(3, '1c', 99, 64, 0.005)\n",
      "(1, '4c', 34, 64, 0.005)\n",
      "(1, '2a', 34, 64, 0.005)\n",
      "(2, '3a', 28, 64, 0.004)\n",
      "(2, '3c', 28, 64, 0.004)\n",
      "(2, '4b', 98, 64, 0.004)\n",
      "(3, '4b', 102, 64, 0.004)\n",
      "(0, '3b', 2, 64, 0.004)\n",
      "(3, '6a', 54, 64, 0.003)\n",
      "(2, '6f', 50, 64, 0.003)\n",
      "(3, '1b', 51, 64, 0.003)\n",
      "(2, '4c', 50, 64, 0.003)\n",
      "(2, '1d', 50, 64, 0.003)\n",
      "(3, '1d', 51, 64, 0.003)\n",
      "(3, '6e', 54, 64, 0.003)\n",
      "(4, '5b', 59, 64, 0.003)\n",
      "(3, '3c', 60, 64, 0.002)\n",
      "(3, '4c', 120, 64, 0.002)\n",
      "(3, '2d', 120, 64, 0.002)\n",
      "(2, '2a', 49, 64, 0.002)\n",
      "(3, '2c', 120, 64, 0.002)\n",
      "(1, '3b', 34, 64, 0.002)\n",
      "(3, '2b', 120, 64, 0.002)\n",
      "(3, '3a', 120, 64, 0.001)\n"
     ]
    }
   ],
   "source": [
    "for l in sorted(GREEDY_PLAN_TIMES, key=lambda l: max((t[-1] for t in l), default=0), reverse=True):\n",
    "    x = sorted(l, key=lambda v: v[-1], reverse=True)[:1]\n",
    "    if x:\n",
    "        print(x[0])"
   ]
  },
  {
   "cell_type": "code",
   "execution_count": 101,
   "metadata": {
    "vscode": {
     "languageId": "python"
    }
   },
   "outputs": [
    {
     "data": {
      "text/plain": [
       "129.42"
      ]
     },
     "execution_count": 101,
     "metadata": {},
     "output_type": "execute_result"
    }
   ],
   "source": [
    "sum(max((t[-1] for t in l), default=0) for l in PLAN_TIMES)"
   ]
  },
  {
   "cell_type": "code",
   "execution_count": 98,
   "metadata": {
    "vscode": {
     "languageId": "python"
    }
   },
   "outputs": [
    {
     "data": {
      "text/plain": [
       "[[(0, '29c', 4, 64, 6.383),\n",
       "  (0, '29c', 16, 64, 3.367),\n",
       "  (0, '29c', 2, 64, 9.691),\n",
       "  (0, '29c', 8, 64, 6.08),\n",
       "  (0, '29c', 74, 64, 7.921),\n",
       "  (0, '29c', 96, 64, 4.089),\n",
       "  (0, '29c', 64, 64, 5.934),\n",
       "  (0, '29c', 80, 64, 3.312),\n",
       "  (0, '29c', 32, 64, 4.476),\n",
       "  (0, '29c', 48, 64, 1.246),\n",
       "  (0, '29c', 1, 64, 5.108)],\n",
       " [(0, '29a', 4, 64, 5.747),\n",
       "  (0, '29a', 16, 64, 3.065),\n",
       "  (0, '29a', 2, 64, 7.18),\n",
       "  (0, '29a', 8, 64, 5.739),\n",
       "  (0, '29a', 74, 64, 7.38),\n",
       "  (0, '29a', 96, 64, 3.514),\n",
       "  (0, '29a', 64, 64, 5.767),\n",
       "  (0, '29a', 80, 64, 3.224),\n",
       "  (0, '29a', 32, 64, 3.933),\n",
       "  (0, '29a', 48, 64, 1.319),\n",
       "  (0, '29a', 1, 64, 5.095)],\n",
       " [(0, '29b', 4, 64, 5.642),\n",
       "  (0, '29b', 16, 64, 3.085),\n",
       "  (0, '29b', 2, 64, 6.869),\n",
       "  (0, '29b', 8, 64, 5.543),\n",
       "  (0, '29b', 74, 64, 7.339),\n",
       "  (0, '29b', 96, 64, 3.631),\n",
       "  (0, '29b', 64, 64, 5.04),\n",
       "  (0, '29b', 80, 64, 3.115),\n",
       "  (0, '29b', 32, 64, 3.713),\n",
       "  (0, '29b', 48, 64, 1.274),\n",
       "  (0, '29b', 1, 64, 4.747)],\n",
       " [(1, '31c', 81, 64, 0.521),\n",
       "  (1, '31c', 9, 64, 0.606),\n",
       "  (1, '31c', 75, 64, 5.688),\n",
       "  (1, '31c', 49, 64, 0.13),\n",
       "  (1, '31c', 33, 64, 0.3),\n",
       "  (1, '31c', 17, 64, 0.48),\n",
       "  (1, '31c', 3, 64, 0.586),\n",
       "  (1, '31c', 97, 64, 0.298),\n",
       "  (1, '31c', 5, 64, 0.659),\n",
       "  (1, '31c', 65, 64, 0.696)],\n",
       " [(0, '26c', 4, 64, 3.36),\n",
       "  (0, '26c', 16, 64, 1.745),\n",
       "  (0, '26c', 2, 64, 5.663),\n",
       "  (0, '26c', 8, 64, 3.199),\n",
       "  (0, '26c', 74, 64, 3.537),\n",
       "  (0, '26c', 96, 64, 2.244),\n",
       "  (0, '26c', 64, 64, 3.288),\n",
       "  (0, '26c', 80, 64, 1.898),\n",
       "  (0, '26c', 32, 64, 2.301),\n",
       "  (0, '26c', 48, 64, 0.567),\n",
       "  (0, '26c', 1, 64, 2.446)],\n",
       " [(3, '29a', 59, 64, 1.175),\n",
       "  (3, '29a', 127, 64, 0.943),\n",
       "  (3, '29a', 107, 64, 2.908),\n",
       "  (3, '29a', 91, 64, 5.585)],\n",
       " [(0, '27c', 4, 64, 3.7),\n",
       "  (0, '27c', 16, 64, 2.621),\n",
       "  (0, '27c', 2, 64, 3.88),\n",
       "  (0, '27c', 8, 64, 3.467),\n",
       "  (0, '27c', 74, 64, 5.146),\n",
       "  (0, '27c', 96, 64, 2.339),\n",
       "  (0, '27c', 64, 64, 3.717),\n",
       "  (0, '27c', 80, 64, 2.905),\n",
       "  (0, '27c', 32, 64, 2.368),\n",
       "  (0, '27c', 48, 64, 0.866),\n",
       "  (0, '27c', 1, 64, 3.179)],\n",
       " [(0, '26a', 4, 64, 3.142),\n",
       "  (0, '26a', 16, 64, 1.68),\n",
       "  (0, '26a', 2, 64, 5.007),\n",
       "  (0, '26a', 8, 64, 3.163),\n",
       "  (0, '26a', 74, 64, 3.431),\n",
       "  (0, '26a', 96, 64, 2.242),\n",
       "  (0, '26a', 64, 64, 3.084),\n",
       "  (0, '26a', 80, 64, 1.853),\n",
       "  (0, '26a', 32, 64, 2.217),\n",
       "  (0, '26a', 48, 64, 0.576),\n",
       "  (0, '26a', 1, 64, 2.235)],\n",
       " [(0, '24a', 4, 64, 3.362),\n",
       "  (0, '24a', 16, 64, 1.753),\n",
       "  (0, '24a', 2, 64, 4.911),\n",
       "  (0, '24a', 8, 64, 3.39),\n",
       "  (0, '24a', 74, 64, 4.424),\n",
       "  (0, '24a', 96, 64, 2.373),\n",
       "  (0, '24a', 64, 64, 3.111),\n",
       "  (0, '24a', 80, 64, 1.751),\n",
       "  (0, '24a', 32, 64, 2.366),\n",
       "  (0, '24a', 48, 64, 0.703),\n",
       "  (0, '24a', 1, 64, 2.814)],\n",
       " [(0, '27a', 4, 64, 3.5),\n",
       "  (0, '27a', 16, 64, 2.592),\n",
       "  (0, '27a', 2, 64, 3.645),\n",
       "  (0, '27a', 8, 64, 3.457),\n",
       "  (0, '27a', 74, 64, 4.846),\n",
       "  (0, '27a', 96, 64, 1.999),\n",
       "  (0, '27a', 64, 64, 3.651),\n",
       "  (0, '27a', 80, 64, 2.865),\n",
       "  (0, '27a', 32, 64, 2.123),\n",
       "  (0, '27a', 48, 64, 0.824),\n",
       "  (0, '27a', 1, 64, 3.176)],\n",
       " [(0, '27b', 4, 64, 3.516),\n",
       "  (0, '27b', 16, 64, 2.656),\n",
       "  (0, '27b', 2, 64, 3.741),\n",
       "  (0, '27b', 8, 64, 3.552),\n",
       "  (0, '27b', 74, 64, 4.721),\n",
       "  (0, '27b', 96, 64, 2.116),\n",
       "  (0, '27b', 64, 64, 3.794),\n",
       "  (0, '27b', 80, 64, 2.92),\n",
       "  (0, '27b', 32, 64, 2.11),\n",
       "  (0, '27b', 48, 64, 0.832),\n",
       "  (0, '27b', 1, 64, 3.221)],\n",
       " [(0, '28b', 4, 64, 3.468),\n",
       "  (0, '28b', 16, 64, 2.204),\n",
       "  (0, '28b', 2, 64, 4.646),\n",
       "  (0, '28b', 8, 64, 3.533),\n",
       "  (0, '28b', 74, 64, 3.592),\n",
       "  (0, '28b', 96, 64, 2.097),\n",
       "  (0, '28b', 64, 64, 3.612),\n",
       "  (0, '28b', 80, 64, 2.417),\n",
       "  (0, '28b', 32, 64, 2.209),\n",
       "  (0, '28b', 48, 64, 0.768),\n",
       "  (0, '28b', 1, 64, 2.897)],\n",
       " [(0, '28a', 4, 64, 3.842),\n",
       "  (0, '28a', 16, 64, 2.269),\n",
       "  (0, '28a', 2, 64, 4.61),\n",
       "  (0, '28a', 8, 64, 3.824),\n",
       "  (0, '28a', 74, 64, 3.809),\n",
       "  (0, '28a', 96, 64, 2.418),\n",
       "  (0, '28a', 64, 64, 4.049),\n",
       "  (0, '28a', 80, 64, 2.602),\n",
       "  (0, '28a', 32, 64, 2.446),\n",
       "  (0, '28a', 48, 64, 0.773),\n",
       "  (0, '28a', 1, 64, 3.168)],\n",
       " [(0, '30a', 4, 64, 3.362),\n",
       "  (0, '30a', 16, 64, 1.655),\n",
       "  (0, '30a', 2, 64, 4.509),\n",
       "  (0, '30a', 8, 64, 3.404),\n",
       "  (0, '30a', 74, 64, 4.043),\n",
       "  (0, '30a', 96, 64, 2.285),\n",
       "  (0, '30a', 64, 64, 3.587),\n",
       "  (0, '30a', 80, 64, 1.885),\n",
       "  (0, '30a', 32, 64, 2.433),\n",
       "  (0, '30a', 48, 64, 0.647),\n",
       "  (0, '30a', 1, 64, 2.659)],\n",
       " [(0, '30c', 4, 64, 3.18),\n",
       "  (0, '30c', 16, 64, 1.735),\n",
       "  (0, '30c', 2, 64, 4.434),\n",
       "  (0, '30c', 8, 64, 3.34),\n",
       "  (0, '30c', 74, 64, 3.933),\n",
       "  (0, '30c', 96, 64, 2.323),\n",
       "  (0, '30c', 64, 64, 3.371),\n",
       "  (0, '30c', 80, 64, 1.896),\n",
       "  (0, '30c', 32, 64, 2.316),\n",
       "  (0, '30c', 48, 64, 0.634),\n",
       "  (0, '30c', 1, 64, 2.801)],\n",
       " [(0, '26b', 4, 64, 3.077),\n",
       "  (0, '26b', 16, 64, 1.691),\n",
       "  (0, '26b', 2, 64, 4.415),\n",
       "  (0, '26b', 8, 64, 3.082),\n",
       "  (0, '26b', 74, 64, 3.45),\n",
       "  (0, '26b', 96, 64, 2.153),\n",
       "  (0, '26b', 64, 64, 3.087),\n",
       "  (0, '26b', 80, 64, 1.791),\n",
       "  (0, '26b', 32, 64, 2.117),\n",
       "  (0, '26b', 48, 64, 0.572),\n",
       "  (0, '26b', 1, 64, 2.177)],\n",
       " [(0, '28c', 4, 64, 3.743),\n",
       "  (0, '28c', 16, 64, 2.232),\n",
       "  (0, '28c', 2, 64, 4.406),\n",
       "  (0, '28c', 8, 64, 3.67),\n",
       "  (0, '28c', 74, 64, 3.689),\n",
       "  (0, '28c', 96, 64, 2.28),\n",
       "  (0, '28c', 64, 64, 3.752),\n",
       "  (0, '28c', 80, 64, 2.447),\n",
       "  (0, '28c', 32, 64, 2.38),\n",
       "  (0, '28c', 48, 64, 0.79),\n",
       "  (0, '28c', 1, 64, 3.016)],\n",
       " [(2, '29c', 120, 64, 1.261),\n",
       "  (2, '29c', 104, 64, 4.285),\n",
       "  (2, '29c', 88, 64, 3.34),\n",
       "  (2, '29c', 57, 64, 1.05),\n",
       "  (2, '29c', 58, 64, 1.911),\n",
       "  (2, '29c', 60, 64, 1.258)],\n",
       " [(0, '24b', 4, 64, 2.864),\n",
       "  (0, '24b', 16, 64, 1.623),\n",
       "  (0, '24b', 2, 64, 3.852),\n",
       "  (0, '24b', 8, 64, 2.829),\n",
       "  (0, '24b', 74, 64, 4.285),\n",
       "  (0, '24b', 96, 64, 1.887),\n",
       "  (0, '24b', 64, 64, 2.516),\n",
       "  (0, '24b', 80, 64, 1.666),\n",
       "  (0, '24b', 32, 64, 1.871),\n",
       "  (0, '24b', 48, 64, 0.679),\n",
       "  (0, '24b', 1, 64, 2.358)],\n",
       " [(0, '30b', 4, 64, 3.066),\n",
       "  (0, '30b', 16, 64, 1.68),\n",
       "  (0, '30b', 2, 64, 3.837),\n",
       "  (0, '30b', 8, 64, 3.099),\n",
       "  (0, '30b', 74, 64, 3.796),\n",
       "  (0, '30b', 96, 64, 2.103),\n",
       "  (0, '30b', 64, 64, 3.116),\n",
       "  (0, '30b', 80, 64, 1.789),\n",
       "  (0, '30b', 32, 64, 2.305),\n",
       "  (0, '30b', 48, 64, 0.682),\n",
       "  (0, '30b', 1, 64, 2.652)],\n",
       " [(4, '27a', 63, 64, 0.724),\n",
       "  (4, '27a', 94, 64, 2.893),\n",
       "  (4, '27a', 110, 64, 3.794)],\n",
       " [(2, '27a', 106, 64, 3.788),\n",
       "  (2, '27a', 90, 64, 2.901),\n",
       "  (2, '27a', 123, 64, 0.73),\n",
       "  (2, '27a', 126, 64, 1.003),\n",
       "  (2, '27a', 58, 64, 0.997)],\n",
       " [(0, '33a', 4, 64, 3.254),\n",
       "  (0, '33a', 16, 64, 2.425),\n",
       "  (0, '33a', 2, 64, 3.086),\n",
       "  (0, '33a', 8, 64, 3.358),\n",
       "  (0, '33a', 74, 64, 3.136),\n",
       "  (0, '33a', 96, 64, 1.955),\n",
       "  (0, '33a', 64, 64, 3.753),\n",
       "  (0, '33a', 80, 64, 2.682),\n",
       "  (0, '33a', 32, 64, 1.826),\n",
       "  (0, '33a', 48, 64, 0.744),\n",
       "  (0, '33a', 1, 64, 2.832)],\n",
       " [(0, '33b', 4, 64, 3.204),\n",
       "  (0, '33b', 16, 64, 2.427),\n",
       "  (0, '33b', 2, 64, 3.6),\n",
       "  (0, '33b', 8, 64, 3.257),\n",
       "  (0, '33b', 74, 64, 3.063),\n",
       "  (0, '33b', 96, 64, 1.867),\n",
       "  (0, '33b', 64, 64, 3.643),\n",
       "  (0, '33b', 80, 64, 2.609),\n",
       "  (0, '33b', 32, 64, 1.824),\n",
       "  (0, '33b', 48, 64, 0.774),\n",
       "  (0, '33b', 1, 64, 2.705)],\n",
       " [(1, '29c', 49, 64, 1.066),\n",
       "  (1, '29c', 50, 64, 3.512),\n",
       "  (1, '29c', 56, 64, 1.252),\n",
       "  (1, '29c', 52, 64, 1.329),\n",
       "  (1, '29c', 112, 64, 1.248),\n",
       "  (1, '29c', 122, 64, 1.891)],\n",
       " [(0, '33c', 4, 64, 3.295),\n",
       "  (0, '33c', 16, 64, 2.382),\n",
       "  (0, '33c', 2, 64, 2.877),\n",
       "  (0, '33c', 8, 64, 3.231),\n",
       "  (0, '33c', 74, 64, 2.861),\n",
       "  (0, '33c', 96, 64, 1.799),\n",
       "  (0, '33c', 64, 64, 3.331),\n",
       "  (0, '33c', 80, 64, 2.432),\n",
       "  (0, '33c', 32, 64, 1.797),\n",
       "  (0, '33c', 48, 64, 0.696),\n",
       "  (0, '33c', 1, 64, 2.751)],\n",
       " [(2, '29a', 113, 64, 1.099),\n",
       "  (2, '29a', 57, 64, 1.026),\n",
       "  (2, '29a', 123, 64, 0.966),\n",
       "  (2, '29a', 53, 64, 1.062),\n",
       "  (2, '29a', 97, 64, 2.831),\n",
       "  (2, '29a', 81, 64, 3.316),\n",
       "  (2, '29a', 51, 64, 1.09)],\n",
       " [(2, '27b', 120, 64, 0.821),\n",
       "  (2, '27b', 104, 64, 2.019),\n",
       "  (2, '27b', 88, 64, 2.967),\n",
       "  (2, '27b', 57, 64, 0.775),\n",
       "  (2, '27b', 58, 64, 0.959),\n",
       "  (2, '27b', 60, 64, 0.821)],\n",
       " [(1, '29a', 49, 64, 1.105),\n",
       "  (1, '29a', 50, 64, 2.807),\n",
       "  (1, '29a', 56, 64, 1.314),\n",
       "  (1, '29a', 52, 64, 1.308),\n",
       "  (1, '29a', 112, 64, 1.291),\n",
       "  (1, '29a', 122, 64, 1.706)],\n",
       " [(2, '27c', 120, 64, 0.808),\n",
       "  (2, '27c', 104, 64, 2.254),\n",
       "  (2, '27c', 88, 64, 2.778),\n",
       "  (2, '27c', 57, 64, 0.781),\n",
       "  (2, '27c', 58, 64, 1.031),\n",
       "  (2, '27c', 60, 64, 0.817)],\n",
       " [(2, '29b', 113, 64, 1.093),\n",
       "  (2, '29b', 120, 64, 1.282),\n",
       "  (2, '29b', 116, 64, 1.257),\n",
       "  (2, '29b', 114, 64, 2.743)],\n",
       " [(1, '29b', 49, 64, 1.089),\n",
       "  (1, '29b', 50, 64, 2.731),\n",
       "  (1, '29b', 56, 64, 1.282),\n",
       "  (1, '29b', 52, 64, 1.294),\n",
       "  (1, '29b', 112, 64, 1.271),\n",
       "  (1, '29b', 122, 64, 1.626)],\n",
       " [(2, '33b', 120, 64, 0.736),\n",
       "  (2, '33b', 104, 64, 1.856),\n",
       "  (2, '33b', 88, 64, 2.636),\n",
       "  (2, '33b', 57, 64, 0.633),\n",
       "  (2, '33b', 58, 64, 0.984),\n",
       "  (2, '33b', 60, 64, 0.732)],\n",
       " [(3, '26c', 59, 64, 0.583),\n",
       "  (3, '26c', 127, 64, 0.439),\n",
       "  (3, '26c', 107, 64, 1.443),\n",
       "  (3, '26c', 91, 64, 2.633)],\n",
       " [(3, '33b', 108, 64, 1.862),\n",
       "  (3, '33b', 92, 64, 2.609),\n",
       "  (3, '33b', 61, 64, 0.638),\n",
       "  (3, '33b', 62, 64, 0.991),\n",
       "  (3, '33b', 126, 64, 1.009),\n",
       "  (3, '33b', 124, 64, 0.738)],\n",
       " [(4, '26a', 111, 64, 1.407),\n",
       "  (4, '26a', 95, 64, 2.537),\n",
       "  (4, '26a', 63, 64, 0.444)],\n",
       " [(3, '26a', 59, 64, 0.678),\n",
       "  (3, '26a', 127, 64, 0.444),\n",
       "  (3, '26a', 107, 64, 1.409),\n",
       "  (3, '26a', 91, 64, 2.524)],\n",
       " [(2, '33a', 113, 64, 0.641),\n",
       "  (2, '33a', 57, 64, 0.631),\n",
       "  (2, '33a', 123, 64, 0.619),\n",
       "  (2, '33a', 53, 64, 0.64),\n",
       "  (2, '33a', 97, 64, 1.622),\n",
       "  (2, '33a', 81, 64, 2.455),\n",
       "  (2, '33a', 51, 64, 0.683)],\n",
       " [(3, '33a', 59, 64, 1.307),\n",
       "  (3, '33a', 61, 64, 0.632),\n",
       "  (3, '33a', 121, 64, 0.629),\n",
       "  (3, '33a', 105, 64, 1.477),\n",
       "  (3, '33a', 89, 64, 2.44)],\n",
       " [(2, '28b', 113, 64, 0.682),\n",
       "  (2, '28b', 57, 64, 0.671),\n",
       "  (2, '28b', 123, 64, 0.684),\n",
       "  (2, '28b', 53, 64, 0.691),\n",
       "  (2, '28b', 97, 64, 1.582),\n",
       "  (2, '28b', 81, 64, 2.415),\n",
       "  (2, '28b', 51, 64, 0.776)],\n",
       " [(2, '33c', 120, 64, 0.706),\n",
       "  (2, '33c', 104, 64, 1.785),\n",
       "  (2, '33c', 88, 64, 2.397),\n",
       "  (2, '33c', 57, 64, 0.606),\n",
       "  (2, '33c', 58, 64, 0.994),\n",
       "  (2, '33c', 60, 64, 0.693)],\n",
       " [(1, '30a', 17, 64, 1.694),\n",
       "  (1, '30a', 18, 64, 2.098),\n",
       "  (1, '30a', 24, 64, 1.73),\n",
       "  (1, '30a', 90, 64, 2.346),\n",
       "  (1, '30a', 20, 64, 1.653)],\n",
       " [(2, '30a', 21, 64, 1.701),\n",
       "  (2, '30a', 28, 64, 1.729),\n",
       "  (2, '30a', 94, 64, 2.329),\n",
       "  (2, '30a', 100, 64, 2.293),\n",
       "  (2, '30a', 84, 64, 1.887),\n",
       "  (2, '30a', 52, 64, 0.631),\n",
       "  (2, '30a', 22, 64, 2.116)],\n",
       " [(3, '33c', 59, 64, 1.293),\n",
       "  (3, '33c', 61, 64, 0.612),\n",
       "  (3, '33c', 121, 64, 0.6),\n",
       "  (3, '33c', 105, 64, 1.409),\n",
       "  (3, '33c', 89, 64, 2.252),\n",
       "  (3, '33c', 123, 64, 0.591)],\n",
       " [(5, '28b', 111, 64, 2.198)],\n",
       " [(4, '28b', 63, 64, 0.649),\n",
       "  (4, '28b', 125, 64, 0.698),\n",
       "  (4, '28b', 109, 64, 1.468),\n",
       "  (4, '28b', 127, 64, 0.68),\n",
       "  (4, '28b', 93, 64, 2.145)],\n",
       " [(3, '28b', 59, 64, 0.645),\n",
       "  (3, '28b', 61, 64, 0.677),\n",
       "  (3, '28b', 121, 64, 0.674),\n",
       "  (3, '28b', 105, 64, 1.496),\n",
       "  (3, '28b', 89, 64, 2.138)],\n",
       " [(2, '26b', 120, 64, 0.562),\n",
       "  (2, '26b', 104, 64, 2.125),\n",
       "  (2, '26b', 88, 64, 1.746),\n",
       "  (2, '26b', 57, 64, 0.472),\n",
       "  (2, '26b', 58, 64, 0.842),\n",
       "  (2, '26b', 60, 64, 0.561)],\n",
       " [(2, '30b', 54, 64, 1.382),\n",
       "  (2, '30b', 116, 64, 0.693),\n",
       "  (2, '30b', 100, 64, 2.105),\n",
       "  (2, '30b', 84, 64, 1.792),\n",
       "  (2, '30b', 126, 64, 0.819),\n",
       "  (2, '30b', 53, 64, 0.57),\n",
       "  (2, '30b', 60, 64, 0.669)],\n",
       " [(1, '26c', 49, 64, 0.471),\n",
       "  (1, '26c', 50, 64, 2.084),\n",
       "  (1, '26c', 56, 64, 0.557),\n",
       "  (1, '26c', 52, 64, 0.589),\n",
       "  (1, '26c', 112, 64, 0.568),\n",
       "  (1, '26c', 122, 64, 0.878)],\n",
       " [(2, '24b', 120, 64, 0.659),\n",
       "  (2, '24b', 104, 64, 1.903),\n",
       "  (2, '24b', 88, 64, 1.598),\n",
       "  (2, '24b', 57, 64, 0.568),\n",
       "  (2, '24b', 58, 64, 0.894),\n",
       "  (2, '24b', 60, 64, 0.682)],\n",
       " [(1, '26a', 49, 64, 0.478),\n",
       "  (1, '26a', 50, 64, 1.855),\n",
       "  (1, '26a', 56, 64, 0.562),\n",
       "  (1, '26a', 52, 64, 0.575),\n",
       "  (1, '26a', 112, 64, 0.592),\n",
       "  (1, '26a', 122, 64, 0.897)],\n",
       " [(2, '26c', 113, 64, 0.47),\n",
       "  (2, '26c', 57, 64, 0.467),\n",
       "  (2, '26c', 123, 64, 0.437),\n",
       "  (2, '26c', 53, 64, 0.47),\n",
       "  (2, '26c', 97, 64, 1.446),\n",
       "  (2, '26c', 81, 64, 1.83),\n",
       "  (2, '26c', 51, 64, 0.525)],\n",
       " [(1, '28b', 49, 64, 0.707),\n",
       "  (1, '28b', 50, 64, 1.763),\n",
       "  (1, '28b', 56, 64, 0.774),\n",
       "  (1, '28b', 52, 64, 0.797),\n",
       "  (1, '28b', 112, 64, 0.776),\n",
       "  (1, '28b', 122, 64, 1.055)],\n",
       " [(2, '24a', 113, 64, 0.566),\n",
       "  (2, '24a', 57, 64, 0.57),\n",
       "  (2, '24a', 123, 64, 0.528),\n",
       "  (2, '24a', 53, 64, 0.572),\n",
       "  (2, '24a', 97, 64, 1.685),\n",
       "  (2, '24a', 81, 64, 1.744),\n",
       "  (2, '24a', 51, 64, 0.596)],\n",
       " [(0, '31c', 4, 64, 0.875),\n",
       "  (0, '31c', 16, 64, 0.466),\n",
       "  (0, '31c', 2, 64, 1.301),\n",
       "  (0, '31c', 8, 64, 0.859),\n",
       "  (0, '31c', 74, 64, 1.738),\n",
       "  (0, '31c', 96, 64, 0.523),\n",
       "  (0, '31c', 64, 64, 0.882),\n",
       "  (0, '31c', 80, 64, 0.503),\n",
       "  (0, '31c', 32, 64, 0.54),\n",
       "  (0, '31c', 48, 64, 0.136),\n",
       "  (0, '31c', 1, 64, 0.663)],\n",
       " [(0, '31a', 4, 64, 0.754),\n",
       "  (0, '31a', 16, 64, 0.438),\n",
       "  (0, '31a', 2, 64, 1.196),\n",
       "  (0, '31a', 8, 64, 0.732),\n",
       "  (0, '31a', 74, 64, 1.714),\n",
       "  (0, '31a', 96, 64, 0.414),\n",
       "  (0, '31a', 64, 64, 0.766),\n",
       "  (0, '31a', 80, 64, 0.475),\n",
       "  (0, '31a', 32, 64, 0.419),\n",
       "  (0, '31a', 48, 64, 0.136),\n",
       "  (0, '31a', 1, 64, 0.62)],\n",
       " [(2, '26a', 113, 64, 0.485),\n",
       "  (2, '26a', 57, 64, 0.476),\n",
       "  (2, '26a', 123, 64, 0.446),\n",
       "  (2, '26a', 53, 64, 0.466),\n",
       "  (2, '26a', 97, 64, 1.33),\n",
       "  (2, '26a', 81, 64, 1.669),\n",
       "  (2, '26a', 51, 64, 0.511)],\n",
       " [(2, '31c', 113, 64, 0.129),\n",
       "  (2, '31c', 99, 64, 0.357),\n",
       "  (2, '31c', 105, 64, 0.274),\n",
       "  (2, '31c', 101, 64, 0.302),\n",
       "  (2, '31c', 107, 64, 1.654)],\n",
       " [(4, '31c', 125, 64, 0.118),\n",
       "  (4, '31c', 61, 64, 0.117),\n",
       "  (4, '31c', 111, 64, 1.649),\n",
       "  (4, '31c', 93, 64, 0.49)],\n",
       " [(0, '31b', 4, 64, 0.485),\n",
       "  (0, '31b', 16, 64, 0.337),\n",
       "  (0, '31b', 2, 64, 0.929),\n",
       "  (0, '31b', 8, 64, 0.463),\n",
       "  (0, '31b', 74, 64, 1.646),\n",
       "  (0, '31b', 96, 64, 0.289),\n",
       "  (0, '31b', 64, 64, 0.49),\n",
       "  (0, '31b', 80, 64, 0.347),\n",
       "  (0, '31b', 32, 64, 0.295),\n",
       "  (0, '31b', 48, 64, 0.162),\n",
       "  (0, '31b', 1, 64, 0.373)],\n",
       " [(1, '24a', 49, 64, 0.582),\n",
       "  (1, '24a', 50, 64, 1.606),\n",
       "  (1, '24a', 56, 64, 0.705),\n",
       "  (1, '24a', 52, 64, 0.698),\n",
       "  (1, '24a', 112, 64, 0.694),\n",
       "  (1, '24a', 122, 64, 0.959)],\n",
       " [(2, '30c', 113, 64, 0.571),\n",
       "  (2, '30c', 120, 64, 0.615),\n",
       "  (2, '30c', 116, 64, 0.628),\n",
       "  (2, '30c', 114, 64, 1.598)],\n",
       " [(1, '26b', 49, 64, 0.468),\n",
       "  (1, '26b', 50, 64, 1.595),\n",
       "  (1, '26b', 56, 64, 0.549),\n",
       "  (1, '26b', 52, 64, 0.591),\n",
       "  (1, '26b', 112, 64, 0.584),\n",
       "  (1, '26b', 122, 64, 0.844)],\n",
       " [(1, '30c', 49, 64, 0.559),\n",
       "  (1, '30c', 50, 64, 1.582),\n",
       "  (1, '30c', 56, 64, 0.616),\n",
       "  (1, '30c', 52, 64, 0.628),\n",
       "  (1, '30c', 112, 64, 0.625),\n",
       "  (1, '30c', 122, 64, 0.876)],\n",
       " [(1, '28a', 49, 64, 0.687),\n",
       "  (1, '28a', 50, 64, 1.516),\n",
       "  (1, '28a', 56, 64, 0.772),\n",
       "  (1, '28a', 52, 64, 0.786),\n",
       "  (1, '28a', 112, 64, 0.796),\n",
       "  (1, '28a', 122, 64, 1.103)],\n",
       " [(1, '33b', 49, 64, 0.638),\n",
       "  (1, '33b', 50, 64, 1.45),\n",
       "  (1, '33b', 56, 64, 0.758),\n",
       "  (1, '33b', 52, 64, 0.765),\n",
       "  (1, '33b', 112, 64, 0.741),\n",
       "  (1, '33b', 122, 64, 1.006)],\n",
       " [(1, '28c', 49, 64, 0.724),\n",
       "  (1, '28c', 50, 64, 1.447),\n",
       "  (1, '28c', 56, 64, 0.775),\n",
       "  (1, '28c', 52, 64, 0.77),\n",
       "  (1, '28c', 112, 64, 0.764),\n",
       "  (1, '28c', 122, 64, 1.126)],\n",
       " [(2, '28c', 113, 64, 0.704),\n",
       "  (2, '28c', 120, 64, 0.757),\n",
       "  (2, '28c', 116, 64, 0.784),\n",
       "  (2, '28c', 114, 64, 1.443)],\n",
       " [(1, '24b', 49, 64, 0.604),\n",
       "  (1, '24b', 50, 64, 1.428),\n",
       "  (1, '24b', 56, 64, 0.659),\n",
       "  (1, '24b', 52, 64, 0.678),\n",
       "  (1, '24b', 112, 64, 0.697),\n",
       "  (1, '24b', 122, 64, 0.884)],\n",
       " [(1, '27b', 49, 64, 0.787),\n",
       "  (1, '27b', 50, 64, 1.391),\n",
       "  (1, '27b', 56, 64, 0.83),\n",
       "  (1, '27b', 52, 64, 0.85),\n",
       "  (1, '27b', 112, 64, 0.846),\n",
       "  (1, '27b', 122, 64, 0.957)],\n",
       " [(1, '30b', 49, 64, 0.565),\n",
       "  (1, '30b', 50, 64, 1.385),\n",
       "  (1, '30b', 56, 64, 0.652),\n",
       "  (1, '30b', 52, 64, 0.681),\n",
       "  (1, '30b', 112, 64, 0.684),\n",
       "  (1, '30b', 122, 64, 0.827)],\n",
       " [(3, '24a', 59, 64, 0.602),\n",
       "  (3, '24a', 115, 64, 0.588),\n",
       "  (3, '24a', 99, 64, 1.173),\n",
       "  (3, '24a', 83, 64, 1.381),\n",
       "  (3, '24a', 55, 64, 0.586)],\n",
       " [(4, '24a', 63, 64, 0.532),\n",
       "  (4, '24a', 87, 64, 1.367),\n",
       "  (4, '24a', 127, 64, 0.531),\n",
       "  (4, '24a', 119, 64, 0.585),\n",
       "  (4, '24a', 103, 64, 1.171)],\n",
       " [(0, '19d', 4, 64, 0.752),\n",
       "  (0, '19d', 16, 64, 0.266),\n",
       "  (0, '19d', 2, 64, 1.281),\n",
       "  (0, '19d', 8, 64, 0.788),\n",
       "  (0, '19d', 74, 64, 1.197),\n",
       "  (0, '19d', 96, 64, 0.575),\n",
       "  (0, '19d', 64, 64, 0.792),\n",
       "  (0, '19d', 80, 64, 0.278),\n",
       "  (0, '19d', 32, 64, 0.582),\n",
       "  (0, '19d', 48, 64, 0.059),\n",
       "  (0, '19d', 1, 64, 0.464)],\n",
       " [(1, '27a', 49, 64, 0.764),\n",
       "  (1, '27a', 50, 64, 1.262),\n",
       "  (1, '27a', 56, 64, 0.816),\n",
       "  (1, '27a', 52, 64, 0.835),\n",
       "  (1, '27a', 112, 64, 0.825),\n",
       "  (1, '27a', 122, 64, 1.006)],\n",
       " [(1, '27c', 49, 64, 0.79),\n",
       "  (1, '27c', 50, 64, 1.247),\n",
       "  (1, '27c', 56, 64, 0.807),\n",
       "  (1, '27c', 52, 64, 0.849),\n",
       "  (1, '27c', 112, 64, 0.844),\n",
       "  (1, '27c', 122, 64, 1.033)],\n",
       " [(1, '19d', 104, 64, 0.573),\n",
       "  (1, '19d', 100, 64, 0.581),\n",
       "  (1, '19d', 106, 64, 1.059),\n",
       "  (1, '19d', 112, 64, 0.058),\n",
       "  (1, '19d', 97, 64, 0.255),\n",
       "  (1, '19d', 98, 64, 0.939)],\n",
       " [(1, '33a', 49, 64, 0.645),\n",
       "  (1, '33a', 50, 64, 0.968),\n",
       "  (1, '33a', 56, 64, 0.752),\n",
       "  (1, '33a', 52, 64, 0.744),\n",
       "  (1, '33a', 112, 64, 0.759),\n",
       "  (1, '33a', 122, 64, 1.033)],\n",
       " [(1, '33c', 49, 64, 0.613),\n",
       "  (1, '33c', 50, 64, 0.922),\n",
       "  (1, '33c', 56, 64, 0.698),\n",
       "  (1, '33c', 52, 64, 0.698),\n",
       "  (1, '33c', 112, 64, 0.696),\n",
       "  (1, '33c', 122, 64, 1.007)],\n",
       " [(0, '22d', 4, 64, 0.897),\n",
       "  (0, '22d', 16, 64, 0.417),\n",
       "  (0, '22d', 2, 64, 0.881),\n",
       "  (0, '22d', 8, 64, 0.882),\n",
       "  (0, '22d', 74, 64, 1.001),\n",
       "  (0, '22d', 96, 64, 0.532),\n",
       "  (0, '22d', 64, 64, 0.878),\n",
       "  (0, '22d', 80, 64, 0.446),\n",
       "  (0, '22d', 32, 64, 0.563),\n",
       "  (0, '22d', 48, 64, 0.115),\n",
       "  (0, '22d', 1, 64, 0.612)],\n",
       " [(3, '27a', 59, 64, 0.73), (3, '27a', 62, 64, 0.988)],\n",
       " [(1, '19c', 82, 64, 0.261),\n",
       "  (1, '19c', 88, 64, 0.278),\n",
       "  (1, '19c', 84, 64, 0.224),\n",
       "  (1, '19c', 90, 64, 0.981),\n",
       "  (1, '19c', 112, 64, 0.065),\n",
       "  (1, '19c', 81, 64, 0.271)],\n",
       " [(0, '22b', 4, 64, 0.683),\n",
       "  (0, '22b', 16, 64, 0.311),\n",
       "  (0, '22b', 2, 64, 0.754),\n",
       "  (0, '22b', 8, 64, 0.654),\n",
       "  (0, '22b', 74, 64, 0.939),\n",
       "  (0, '22b', 96, 64, 0.46),\n",
       "  (0, '22b', 64, 64, 0.688),\n",
       "  (0, '22b', 80, 64, 0.343),\n",
       "  (0, '22b', 32, 64, 0.474),\n",
       "  (0, '22b', 48, 64, 0.12),\n",
       "  (0, '22b', 1, 64, 0.406)],\n",
       " [(0, '22c', 4, 64, 0.685),\n",
       "  (0, '22c', 16, 64, 0.302),\n",
       "  (0, '22c', 2, 64, 0.775),\n",
       "  (0, '22c', 8, 64, 0.67),\n",
       "  (0, '22c', 74, 64, 0.937),\n",
       "  (0, '22c', 96, 64, 0.473),\n",
       "  (0, '22c', 64, 64, 0.7),\n",
       "  (0, '22c', 80, 64, 0.337),\n",
       "  (0, '22c', 32, 64, 0.484),\n",
       "  (0, '22c', 48, 64, 0.12),\n",
       "  (0, '22c', 1, 64, 0.378)],\n",
       " [(0, '22a', 4, 64, 0.691),\n",
       "  (0, '22a', 16, 64, 0.312),\n",
       "  (0, '22a', 2, 64, 0.764),\n",
       "  (0, '22a', 8, 64, 0.658),\n",
       "  (0, '22a', 74, 64, 0.931),\n",
       "  (0, '22a', 96, 64, 0.465),\n",
       "  (0, '22a', 64, 64, 0.695),\n",
       "  (0, '22a', 80, 64, 0.344),\n",
       "  (0, '22a', 32, 64, 0.476),\n",
       "  (0, '22a', 48, 64, 0.117),\n",
       "  (0, '22a', 1, 64, 0.41)],\n",
       " [(0, '19c', 4, 64, 0.433),\n",
       "  (0, '19c', 16, 64, 0.28),\n",
       "  (0, '19c', 2, 64, 0.819),\n",
       "  (0, '19c', 8, 64, 0.48),\n",
       "  (0, '19c', 74, 64, 0.898),\n",
       "  (0, '19c', 96, 64, 0.278),\n",
       "  (0, '19c', 64, 64, 0.472),\n",
       "  (0, '19c', 80, 64, 0.282),\n",
       "  (0, '19c', 32, 64, 0.282),\n",
       "  (0, '19c', 48, 64, 0.067),\n",
       "  (0, '19c', 1, 64, 0.36)],\n",
       " [(3, '27b', 121, 64, 0.758), (3, '27b', 124, 64, 0.837)],\n",
       " [(0, '19a', 4, 64, 0.382),\n",
       "  (0, '19a', 16, 64, 0.282),\n",
       "  (0, '19a', 2, 64, 0.572),\n",
       "  (0, '19a', 8, 64, 0.445),\n",
       "  (0, '19a', 74, 64, 0.818),\n",
       "  (0, '19a', 96, 64, 0.222),\n",
       "  (0, '19a', 64, 64, 0.44),\n",
       "  (0, '19a', 80, 64, 0.285),\n",
       "  (0, '19a', 32, 64, 0.227),\n",
       "  (0, '19a', 48, 64, 0.068),\n",
       "  (0, '19a', 1, 64, 0.303)],\n",
       " [(0, '23b', 4, 64, 0.336),\n",
       "  (0, '23b', 16, 64, 0.228),\n",
       "  (0, '23b', 2, 64, 0.49),\n",
       "  (0, '23b', 8, 64, 0.32),\n",
       "  (0, '23b', 74, 64, 0.779),\n",
       "  (0, '23b', 96, 64, 0.203),\n",
       "  (0, '23b', 64, 64, 0.336),\n",
       "  (0, '23b', 80, 64, 0.241),\n",
       "  (0, '23b', 32, 64, 0.215),\n",
       "  (0, '23b', 48, 64, 0.107),\n",
       "  (0, '23b', 1, 64, 0.259)],\n",
       " [(0, '19b', 4, 64, 0.308),\n",
       "  (0, '19b', 16, 64, 0.286),\n",
       "  (0, '19b', 2, 64, 0.473),\n",
       "  (0, '19b', 8, 64, 0.385),\n",
       "  (0, '19b', 74, 64, 0.744),\n",
       "  (0, '19b', 96, 64, 0.17),\n",
       "  (0, '19b', 64, 64, 0.375),\n",
       "  (0, '19b', 80, 64, 0.28),\n",
       "  (0, '19b', 32, 64, 0.181),\n",
       "  (0, '19b', 48, 64, 0.08),\n",
       "  (0, '19b', 1, 64, 0.252)],\n",
       " [(0, '23a', 4, 64, 0.357),\n",
       "  (0, '23a', 16, 64, 0.219),\n",
       "  (0, '23a', 2, 64, 0.582),\n",
       "  (0, '23a', 8, 64, 0.354),\n",
       "  (0, '23a', 74, 64, 0.736),\n",
       "  (0, '23a', 96, 64, 0.223),\n",
       "  (0, '23a', 64, 64, 0.366),\n",
       "  (0, '23a', 80, 64, 0.231),\n",
       "  (0, '23a', 32, 64, 0.231),\n",
       "  (0, '23a', 48, 64, 0.099),\n",
       "  (0, '23a', 1, 64, 0.284)],\n",
       " [(0, '23c', 4, 64, 0.367),\n",
       "  (0, '23c', 16, 64, 0.216),\n",
       "  (0, '23c', 2, 64, 0.594),\n",
       "  (0, '23c', 8, 64, 0.37),\n",
       "  (0, '23c', 74, 64, 0.729),\n",
       "  (0, '23c', 96, 64, 0.228),\n",
       "  (0, '23c', 64, 64, 0.369),\n",
       "  (0, '23c', 80, 64, 0.23),\n",
       "  (0, '23c', 32, 64, 0.241),\n",
       "  (0, '23c', 48, 64, 0.095),\n",
       "  (0, '23c', 1, 64, 0.284)],\n",
       " [(0, '21c', 4, 64, 0.292),\n",
       "  (0, '21c', 16, 64, 0.197),\n",
       "  (0, '21c', 2, 64, 0.354),\n",
       "  (0, '21c', 8, 64, 0.286),\n",
       "  (0, '21c', 74, 64, 0.703),\n",
       "  (0, '21c', 96, 64, 0.167),\n",
       "  (0, '21c', 64, 64, 0.296),\n",
       "  (0, '21c', 80, 64, 0.204),\n",
       "  (0, '21c', 32, 64, 0.169),\n",
       "  (0, '21c', 48, 64, 0.045),\n",
       "  (0, '21c', 1, 64, 0.213)],\n",
       " [(4, '33a', 125, 64, 0.638)],\n",
       " [(1, '31b', 49, 64, 0.136),\n",
       "  (1, '31b', 50, 64, 0.608),\n",
       "  (1, '31b', 56, 64, 0.142),\n",
       "  (1, '31b', 52, 64, 0.16),\n",
       "  (1, '31b', 112, 64, 0.159),\n",
       "  (1, '31b', 122, 64, 0.334)],\n",
       " [(0, '21b', 4, 64, 0.197),\n",
       "  (0, '21b', 16, 64, 0.164),\n",
       "  (0, '21b', 2, 64, 0.237),\n",
       "  (0, '21b', 8, 64, 0.191),\n",
       "  (0, '21b', 74, 64, 0.605),\n",
       "  (0, '21b', 96, 64, 0.093),\n",
       "  (0, '21b', 64, 64, 0.207),\n",
       "  (0, '21b', 80, 64, 0.177),\n",
       "  (0, '21b', 32, 64, 0.095),\n",
       "  (0, '21b', 48, 64, 0.045),\n",
       "  (0, '21b', 1, 64, 0.175)],\n",
       " [(4, '33c', 125, 64, 0.603)],\n",
       " [(0, '21a', 4, 64, 0.198),\n",
       "  (0, '21a', 16, 64, 0.164),\n",
       "  (0, '21a', 2, 64, 0.235),\n",
       "  (0, '21a', 8, 64, 0.188),\n",
       "  (0, '21a', 74, 64, 0.594),\n",
       "  (0, '21a', 96, 64, 0.095),\n",
       "  (0, '21a', 64, 64, 0.205),\n",
       "  (0, '21a', 80, 64, 0.173),\n",
       "  (0, '21a', 32, 64, 0.095),\n",
       "  (0, '21a', 48, 64, 0.045),\n",
       "  (0, '21a', 1, 64, 0.169)],\n",
       " [(2, '19d', 108, 64, 0.578),\n",
       "  (2, '19d', 120, 64, 0.057),\n",
       "  (2, '19d', 88, 64, 0.277),\n",
       "  (2, '19d', 56, 64, 0.057),\n",
       "  (2, '19d', 105, 64, 0.218)],\n",
       " [(0, '20c', 4, 64, 0.263),\n",
       "  (0, '20c', 16, 64, 0.069),\n",
       "  (0, '20c', 2, 64, 0.489),\n",
       "  (0, '20c', 8, 64, 0.259),\n",
       "  (0, '20c', 74, 64, 0.553),\n",
       "  (0, '20c', 96, 64, 0.235),\n",
       "  (0, '20c', 64, 64, 0.269),\n",
       "  (0, '20c', 80, 64, 0.074),\n",
       "  (0, '20c', 32, 64, 0.233),\n",
       "  (0, '20c', 48, 64, 0.039),\n",
       "  (0, '20c', 1, 64, 0.091)],\n",
       " [(3, '22d', 108, 64, 0.549),\n",
       "  (3, '22d', 92, 64, 0.434),\n",
       "  (3, '22d', 61, 64, 0.09),\n",
       "  (3, '22d', 62, 64, 0.185),\n",
       "  (3, '22d', 126, 64, 0.179),\n",
       "  (3, '22d', 124, 64, 0.104)],\n",
       " [(2, '22d', 120, 64, 0.104),\n",
       "  (2, '22d', 104, 64, 0.544),\n",
       "  (2, '22d', 88, 64, 0.431),\n",
       "  (2, '22d', 57, 64, 0.09),\n",
       "  (2, '22d', 58, 64, 0.178),\n",
       "  (2, '22d', 60, 64, 0.106)],\n",
       " [(1, '31a', 49, 64, 0.13),\n",
       "  (1, '31a', 50, 64, 0.543),\n",
       "  (1, '31a', 56, 64, 0.124),\n",
       "  (1, '31a', 52, 64, 0.136),\n",
       "  (1, '31a', 112, 64, 0.14),\n",
       "  (1, '31a', 122, 64, 0.264)],\n",
       " [(0, '20a', 4, 64, 0.201),\n",
       "  (0, '20a', 16, 64, 0.079),\n",
       "  (0, '20a', 2, 64, 0.317),\n",
       "  (0, '20a', 8, 64, 0.195),\n",
       "  (0, '20a', 74, 64, 0.516),\n",
       "  (0, '20a', 96, 64, 0.169),\n",
       "  (0, '20a', 64, 64, 0.208),\n",
       "  (0, '20a', 80, 64, 0.083),\n",
       "  (0, '20a', 32, 64, 0.164),\n",
       "  (0, '20a', 48, 64, 0.04),\n",
       "  (0, '20a', 1, 64, 0.095)],\n",
       " [(3, '31c', 109, 64, 0.272),\n",
       "  (3, '31c', 121, 64, 0.116),\n",
       "  (3, '31c', 89, 64, 0.491),\n",
       "  (3, '31c', 57, 64, 0.12)],\n",
       " [(2, '31a', 113, 64, 0.133),\n",
       "  (2, '31a', 57, 64, 0.116),\n",
       "  (2, '31a', 123, 64, 0.126),\n",
       "  (2, '31a', 53, 64, 0.13),\n",
       "  (2, '31a', 97, 64, 0.285),\n",
       "  (2, '31a', 81, 64, 0.485),\n",
       "  (2, '31a', 51, 64, 0.186)],\n",
       " [(1, '16b', 75, 64, 0.478),\n",
       "  (1, '16b', 78, 64, 0.401),\n",
       "  (1, '16b', 106, 64, 0.373),\n",
       "  (1, '16b', 90, 64, 0.077),\n",
       "  (1, '16b', 58, 64, 0.022)],\n",
       " [(0, '16c', 4, 64, 0.432),\n",
       "  (0, '16c', 16, 64, 0.127),\n",
       "  (0, '16c', 2, 64, 0.41),\n",
       "  (0, '16c', 8, 64, 0.431),\n",
       "  (0, '16c', 74, 64, 0.477),\n",
       "  (0, '16c', 96, 64, 0.354),\n",
       "  (0, '16c', 64, 64, 0.432),\n",
       "  (0, '16c', 80, 64, 0.127),\n",
       "  (0, '16c', 32, 64, 0.355),\n",
       "  (0, '16c', 48, 64, 0.015),\n",
       "  (0, '16c', 1, 64, 0.365)],\n",
       " [(0, '16d', 4, 64, 0.422),\n",
       "  (0, '16d', 16, 64, 0.122),\n",
       "  (0, '16d', 2, 64, 0.389),\n",
       "  (0, '16d', 8, 64, 0.406),\n",
       "  (0, '16d', 74, 64, 0.469),\n",
       "  (0, '16d', 96, 64, 0.339),\n",
       "  (0, '16d', 64, 64, 0.407),\n",
       "  (0, '16d', 80, 64, 0.123),\n",
       "  (0, '16d', 32, 64, 0.339),\n",
       "  (0, '16d', 48, 64, 0.015),\n",
       "  (0, '16d', 1, 64, 0.349)],\n",
       " [(2, '22c', 120, 64, 0.105),\n",
       "  (2, '22c', 104, 64, 0.467),\n",
       "  (2, '22c', 88, 64, 0.317),\n",
       "  (2, '22c', 57, 64, 0.089),\n",
       "  (2, '22c', 58, 64, 0.189),\n",
       "  (2, '22c', 60, 64, 0.107)],\n",
       " [(3, '22c', 108, 64, 0.467),\n",
       "  (3, '22c', 92, 64, 0.317),\n",
       "  (3, '22c', 61, 64, 0.092),\n",
       "  (3, '22c', 62, 64, 0.194),\n",
       "  (3, '22c', 126, 64, 0.19),\n",
       "  (3, '22c', 124, 64, 0.106)],\n",
       " [(3, '31a', 59, 64, 0.127),\n",
       "  (3, '31a', 61, 64, 0.116),\n",
       "  (3, '31a', 121, 64, 0.116),\n",
       "  (3, '31a', 105, 64, 0.256),\n",
       "  (3, '31a', 89, 64, 0.465)],\n",
       " [(2, '22a', 120, 64, 0.106),\n",
       "  (2, '22a', 104, 64, 0.461),\n",
       "  (2, '22a', 88, 64, 0.317),\n",
       "  (2, '22a', 57, 64, 0.088),\n",
       "  (2, '22a', 58, 64, 0.194),\n",
       "  (2, '22a', 60, 64, 0.105)],\n",
       " [(3, '22a', 108, 64, 0.457),\n",
       "  (3, '22a', 92, 64, 0.315),\n",
       "  (3, '22a', 61, 64, 0.089),\n",
       "  (3, '22a', 62, 64, 0.192),\n",
       "  (3, '22a', 126, 64, 0.191),\n",
       "  (3, '22a', 124, 64, 0.105)],\n",
       " [(2, '22b', 120, 64, 0.106),\n",
       "  (2, '22b', 104, 64, 0.457),\n",
       "  (2, '22b', 88, 64, 0.313),\n",
       "  (2, '22b', 57, 64, 0.09),\n",
       "  (2, '22b', 58, 64, 0.196),\n",
       "  (2, '22b', 60, 64, 0.106)],\n",
       " [(3, '22b', 108, 64, 0.456),\n",
       "  (3, '22b', 92, 64, 0.316),\n",
       "  (3, '22b', 61, 64, 0.089),\n",
       "  (3, '22b', 62, 64, 0.192),\n",
       "  (3, '22b', 126, 64, 0.192),\n",
       "  (3, '22b', 124, 64, 0.106)],\n",
       " [(0, '25c', 4, 64, 0.228),\n",
       "  (0, '25c', 16, 64, 0.105),\n",
       "  (0, '25c', 2, 64, 0.322),\n",
       "  (0, '25c', 8, 64, 0.22),\n",
       "  (0, '25c', 74, 64, 0.452),\n",
       "  (0, '25c', 96, 64, 0.138),\n",
       "  (0, '25c', 64, 64, 0.222),\n",
       "  (0, '25c', 80, 64, 0.115),\n",
       "  (0, '25c', 32, 64, 0.144),\n",
       "  (0, '25c', 48, 64, 0.032),\n",
       "  (0, '25c', 1, 64, 0.158)],\n",
       " [(0, '20b', 4, 64, 0.155),\n",
       "  (0, '20b', 16, 64, 0.08),\n",
       "  (0, '20b', 2, 64, 0.232),\n",
       "  (0, '20b', 8, 64, 0.15),\n",
       "  (0, '20b', 74, 64, 0.434),\n",
       "  (0, '20b', 96, 64, 0.123),\n",
       "  (0, '20b', 64, 64, 0.163),\n",
       "  (0, '20b', 80, 64, 0.084),\n",
       "  (0, '20b', 32, 64, 0.116),\n",
       "  (0, '20b', 48, 64, 0.041),\n",
       "  (0, '20b', 1, 64, 0.1)],\n",
       " [(0, '25b', 4, 64, 0.182),\n",
       "  (0, '25b', 16, 64, 0.102),\n",
       "  (0, '25b', 2, 64, 0.27),\n",
       "  (0, '25b', 8, 64, 0.177),\n",
       "  (0, '25b', 74, 64, 0.415),\n",
       "  (0, '25b', 96, 64, 0.107),\n",
       "  (0, '25b', 64, 64, 0.184),\n",
       "  (0, '25b', 80, 64, 0.112),\n",
       "  (0, '25b', 32, 64, 0.112),\n",
       "  (0, '25b', 48, 64, 0.04),\n",
       "  (0, '25b', 1, 64, 0.143)],\n",
       " [(0, '25a', 4, 64, 0.179),\n",
       "  (0, '25a', 16, 64, 0.095),\n",
       "  (0, '25a', 2, 64, 0.264),\n",
       "  (0, '25a', 8, 64, 0.172),\n",
       "  (0, '25a', 74, 64, 0.405),\n",
       "  (0, '25a', 96, 64, 0.1),\n",
       "  (0, '25a', 64, 64, 0.179),\n",
       "  (0, '25a', 80, 64, 0.105),\n",
       "  (0, '25a', 32, 64, 0.104),\n",
       "  (0, '25a', 48, 64, 0.032),\n",
       "  (0, '25a', 1, 64, 0.141)],\n",
       " [(0, '16b', 4, 64, 0.365),\n",
       "  (0, '16b', 16, 64, 0.125),\n",
       "  (0, '16b', 2, 64, 0.326),\n",
       "  (0, '16b', 8, 64, 0.366),\n",
       "  (0, '16b', 74, 64, 0.401),\n",
       "  (0, '16b', 96, 64, 0.286),\n",
       "  (0, '16b', 64, 64, 0.368),\n",
       "  (0, '16b', 80, 64, 0.126),\n",
       "  (0, '16b', 32, 64, 0.288),\n",
       "  (0, '16b', 48, 64, 0.014),\n",
       "  (0, '16b', 1, 64, 0.339)],\n",
       " [(2, '16b', 107, 64, 0.153),\n",
       "  (2, '16b', 122, 64, 0.021),\n",
       "  (2, '16b', 110, 64, 0.375)],\n",
       " [(0, '16a', 4, 64, 0.296),\n",
       "  (0, '16a', 16, 64, 0.088),\n",
       "  (0, '16a', 2, 64, 0.301),\n",
       "  (0, '16a', 8, 64, 0.291),\n",
       "  (0, '16a', 74, 64, 0.365),\n",
       "  (0, '16a', 96, 64, 0.242),\n",
       "  (0, '16a', 64, 64, 0.291),\n",
       "  (0, '16a', 80, 64, 0.09),\n",
       "  (0, '16a', 32, 64, 0.245),\n",
       "  (0, '16a', 48, 64, 0.016),\n",
       "  (0, '16a', 1, 64, 0.215)],\n",
       " [(0, '15d', 4, 64, 0.237),\n",
       "  (0, '15d', 16, 64, 0.15),\n",
       "  (0, '15d', 2, 64, 0.302),\n",
       "  (0, '15d', 8, 64, 0.235),\n",
       "  (0, '15d', 74, 64, 0.363),\n",
       "  (0, '15d', 96, 64, 0.127),\n",
       "  (0, '15d', 64, 64, 0.238),\n",
       "  (0, '15d', 80, 64, 0.153),\n",
       "  (0, '15d', 32, 64, 0.127),\n",
       "  (0, '15d', 48, 64, 0.039),\n",
       "  (0, '15d', 1, 64, 0.184)],\n",
       " [(2, '16c', 120, 64, 0.013),\n",
       "  (2, '16c', 104, 64, 0.351),\n",
       "  (2, '16c', 88, 64, 0.126),\n",
       "  (2, '16c', 57, 64, 0.011),\n",
       "  (2, '16c', 58, 64, 0.024),\n",
       "  (2, '16c', 60, 64, 0.014)],\n",
       " [(0, '15b', 4, 64, 0.143),\n",
       "  (0, '15b', 16, 64, 0.138),\n",
       "  (0, '15b', 2, 64, 0.173),\n",
       "  (0, '15b', 8, 64, 0.161),\n",
       "  (0, '15b', 74, 64, 0.345),\n",
       "  (0, '15b', 96, 64, 0.074),\n",
       "  (0, '15b', 64, 64, 0.172),\n",
       "  (0, '15b', 80, 64, 0.137),\n",
       "  (0, '15b', 32, 64, 0.07),\n",
       "  (0, '15b', 48, 64, 0.042),\n",
       "  (0, '15b', 1, 64, 0.135)],\n",
       " [(2, '31b', 120, 64, 0.147),\n",
       "  (2, '31b', 104, 64, 0.284),\n",
       "  (2, '31b', 88, 64, 0.344),\n",
       "  (2, '31b', 57, 64, 0.115),\n",
       "  (2, '31b', 58, 64, 0.335),\n",
       "  (2, '31b', 60, 64, 0.141)],\n",
       " [(3, '31b', 108, 64, 0.286),\n",
       "  (3, '31b', 92, 64, 0.34),\n",
       "  (3, '31b', 61, 64, 0.114),\n",
       "  (3, '31b', 62, 64, 0.337),\n",
       "  (3, '31b', 126, 64, 0.343),\n",
       "  (3, '31b', 124, 64, 0.142)],\n",
       " [(2, '16d', 120, 64, 0.013),\n",
       "  (2, '16d', 104, 64, 0.339),\n",
       "  (2, '16d', 88, 64, 0.121),\n",
       "  (2, '16d', 57, 64, 0.011),\n",
       "  (2, '16d', 58, 64, 0.024),\n",
       "  (2, '16d', 60, 64, 0.014)],\n",
       " [(0, '13d', 4, 64, 0.272),\n",
       "  (0, '13d', 16, 64, 0.112),\n",
       "  (0, '13d', 2, 64, 0.309),\n",
       "  (0, '13d', 8, 64, 0.266),\n",
       "  (0, '13d', 74, 64, 0.338),\n",
       "  (0, '13d', 96, 64, 0.183),\n",
       "  (0, '13d', 64, 64, 0.262),\n",
       "  (0, '13d', 80, 64, 0.12),\n",
       "  (0, '13d', 32, 64, 0.202),\n",
       "  (0, '13d', 48, 64, 0.024),\n",
       "  (0, '13d', 1, 64, 0.187)],\n",
       " [(0, '13a', 4, 64, 0.218),\n",
       "  (0, '13a', 16, 64, 0.093),\n",
       "  (0, '13a', 2, 64, 0.279),\n",
       "  (0, '13a', 8, 64, 0.211),\n",
       "  (0, '13a', 74, 64, 0.335),\n",
       "  (0, '13a', 96, 64, 0.146),\n",
       "  (0, '13a', 64, 64, 0.212),\n",
       "  (0, '13a', 80, 64, 0.103),\n",
       "  (0, '13a', 32, 64, 0.158),\n",
       "  (0, '13a', 48, 64, 0.024),\n",
       "  (0, '13a', 1, 64, 0.166)],\n",
       " [(0, '15a', 4, 64, 0.163),\n",
       "  (0, '15a', 16, 64, 0.13),\n",
       "  (0, '15a', 2, 64, 0.223),\n",
       "  (0, '15a', 8, 64, 0.175),\n",
       "  (0, '15a', 74, 64, 0.32),\n",
       "  (0, '15a', 96, 64, 0.093),\n",
       "  (0, '15a', 64, 64, 0.181),\n",
       "  (0, '15a', 80, 64, 0.131),\n",
       "  (0, '15a', 32, 64, 0.088),\n",
       "  (0, '15a', 48, 64, 0.042),\n",
       "  (0, '15a', 1, 64, 0.129)],\n",
       " [(1, '23c', 49, 64, 0.094),\n",
       "  (1, '23c', 50, 64, 0.314),\n",
       "  (1, '23c', 56, 64, 0.096),\n",
       "  (1, '23c', 52, 64, 0.096),\n",
       "  (1, '23c', 112, 64, 0.097),\n",
       "  (1, '23c', 122, 64, 0.192)],\n",
       " [(0, '7c', 4, 64, 0.149),\n",
       "  (0, '7c', 16, 64, 0.045),\n",
       "  (0, '7c', 2, 64, 0.219),\n",
       "  (0, '7c', 8, 64, 0.145),\n",
       "  (0, '7c', 74, 64, 0.312),\n",
       "  (0, '7c', 96, 64, 0.12),\n",
       "  (0, '7c', 64, 64, 0.147),\n",
       "  (0, '7c', 80, 64, 0.045),\n",
       "  (0, '7c', 32, 64, 0.122),\n",
       "  (0, '7c', 48, 64, 0.015),\n",
       "  (0, '7c', 1, 64, 0.083)],\n",
       " [(1, '23a', 49, 64, 0.097),\n",
       "  (1, '23a', 50, 64, 0.31),\n",
       "  (1, '23a', 56, 64, 0.098),\n",
       "  (1, '23a', 52, 64, 0.099),\n",
       "  (1, '23a', 112, 64, 0.097),\n",
       "  (1, '23a', 122, 64, 0.18)],\n",
       " [(1, '7c', 82, 64, 0.055),\n",
       "  (1, '7c', 66, 64, 0.205),\n",
       "  (1, '7c', 50, 64, 0.027),\n",
       "  (1, '7c', 18, 64, 0.057),\n",
       "  (1, '7c', 34, 64, 0.192),\n",
       "  (1, '7c', 3, 64, 0.075),\n",
       "  (1, '7c', 10, 64, 0.299),\n",
       "  (1, '7c', 98, 64, 0.18),\n",
       "  (1, '7c', 6, 64, 0.218)],\n",
       " [(0, '15c', 4, 64, 0.227),\n",
       "  (0, '15c', 16, 64, 0.161),\n",
       "  (0, '15c', 2, 64, 0.254),\n",
       "  (0, '15c', 8, 64, 0.232),\n",
       "  (0, '15c', 74, 64, 0.295),\n",
       "  (0, '15c', 96, 64, 0.117),\n",
       "  (0, '15c', 64, 64, 0.236),\n",
       "  (0, '15c', 80, 64, 0.164),\n",
       "  (0, '15c', 32, 64, 0.119),\n",
       "  (0, '15c', 48, 64, 0.041),\n",
       "  (0, '15c', 1, 64, 0.19)],\n",
       " [(1, '9d', 75, 64, 0.29),\n",
       "  (1, '9d', 78, 64, 0.233),\n",
       "  (1, '9d', 106, 64, 0.2),\n",
       "  (1, '9d', 90, 64, 0.133),\n",
       "  (1, '9d', 58, 64, 0.024)],\n",
       " [(1, '22c', 49, 64, 0.099),\n",
       "  (1, '22c', 50, 64, 0.287),\n",
       "  (1, '22c', 56, 64, 0.105),\n",
       "  (1, '22c', 52, 64, 0.117),\n",
       "  (1, '22c', 112, 64, 0.118),\n",
       "  (1, '22c', 122, 64, 0.193)],\n",
       " [(2, '15d', 108, 64, 0.128),\n",
       "  (2, '15d', 116, 64, 0.039),\n",
       "  (2, '15d', 84, 64, 0.152),\n",
       "  (2, '15d', 101, 64, 0.09),\n",
       "  (2, '15d', 52, 64, 0.04),\n",
       "  (2, '15d', 102, 64, 0.193),\n",
       "  (2, '15d', 110, 64, 0.284)],\n",
       " [(1, '22b', 49, 64, 0.1),\n",
       "  (1, '22b', 50, 64, 0.284),\n",
       "  (1, '22b', 56, 64, 0.107),\n",
       "  (1, '22b', 52, 64, 0.119),\n",
       "  (1, '22b', 112, 64, 0.118),\n",
       "  (1, '22b', 122, 64, 0.193)],\n",
       " [(1, '15d', 104, 64, 0.127),\n",
       "  (1, '15d', 100, 64, 0.129),\n",
       "  (1, '15d', 106, 64, 0.282),\n",
       "  (1, '15d', 112, 64, 0.039),\n",
       "  (1, '15d', 97, 64, 0.09),\n",
       "  (1, '15d', 98, 64, 0.194)],\n",
       " [(1, '22a', 49, 64, 0.098),\n",
       "  (1, '22a', 50, 64, 0.281),\n",
       "  (1, '22a', 56, 64, 0.105),\n",
       "  (1, '22a', 52, 64, 0.116),\n",
       "  (1, '22a', 112, 64, 0.117),\n",
       "  (1, '22a', 122, 64, 0.194)],\n",
       " [(1, '9c', 82, 64, 0.072),\n",
       "  (1, '9c', 66, 64, 0.176),\n",
       "  (1, '9c', 50, 64, 0.035),\n",
       "  (1, '9c', 18, 64, 0.082),\n",
       "  (1, '9c', 34, 64, 0.15),\n",
       "  (1, '9c', 3, 64, 0.111),\n",
       "  (1, '9c', 10, 64, 0.28),\n",
       "  (1, '9c', 98, 64, 0.14),\n",
       "  (1, '9c', 6, 64, 0.186)],\n",
       " [(2, '19b', 120, 64, 0.077),\n",
       "  (2, '19b', 104, 64, 0.17),\n",
       "  (2, '19b', 88, 64, 0.279),\n",
       "  (2, '19b', 57, 64, 0.053),\n",
       "  (2, '19b', 58, 64, 0.153),\n",
       "  (2, '19b', 60, 64, 0.079)],\n",
       " [(1, '23b', 49, 64, 0.1),\n",
       "  (1, '23b', 50, 64, 0.276),\n",
       "  (1, '23b', 56, 64, 0.098),\n",
       "  (1, '23b', 52, 64, 0.107),\n",
       "  (1, '23b', 112, 64, 0.109),\n",
       "  (1, '23b', 122, 64, 0.163)],\n",
       " [(2, '19c', 92, 64, 0.227),\n",
       "  (2, '19c', 120, 64, 0.065),\n",
       "  (2, '19c', 104, 64, 0.273),\n",
       "  (2, '19c', 56, 64, 0.064),\n",
       "  (2, '19c', 89, 64, 0.253)],\n",
       " [(1, '22d', 49, 64, 0.097),\n",
       "  (1, '22d', 50, 64, 0.268),\n",
       "  (1, '22d', 56, 64, 0.105),\n",
       "  (1, '22d', 52, 64, 0.114),\n",
       "  (1, '22d', 112, 64, 0.115),\n",
       "  (1, '22d', 122, 64, 0.179)],\n",
       " [(1, '25c', 82, 64, 0.113),\n",
       "  (1, '25c', 88, 64, 0.111),\n",
       "  (1, '25c', 84, 64, 0.116),\n",
       "  (1, '25c', 90, 64, 0.266),\n",
       "  (1, '25c', 112, 64, 0.032),\n",
       "  (1, '25c', 81, 64, 0.114)],\n",
       " [(1, '25a', 82, 64, 0.109),\n",
       "  (1, '25a', 88, 64, 0.102),\n",
       "  (1, '25a', 84, 64, 0.105),\n",
       "  (1, '25a', 90, 64, 0.266),\n",
       "  (1, '25a', 112, 64, 0.032),\n",
       "  (1, '25a', 81, 64, 0.106)],\n",
       " [(3, '25a', 54, 64, 0.089),\n",
       "  (3, '25a', 87, 64, 0.089),\n",
       "  (3, '25a', 94, 64, 0.263),\n",
       "  (3, '25a', 118, 64, 0.09),\n",
       "  (3, '25a', 102, 64, 0.18)],\n",
       " [(0, '9d', 4, 64, 0.165),\n",
       "  (0, '9d', 16, 64, 0.079),\n",
       "  (0, '9d', 2, 64, 0.243),\n",
       "  (0, '9d', 8, 64, 0.165),\n",
       "  (0, '9d', 74, 64, 0.234),\n",
       "  (0, '9d', 96, 64, 0.113),\n",
       "  (0, '9d', 64, 64, 0.214),\n",
       "  (0, '9d', 80, 64, 0.08),\n",
       "  (0, '9d', 32, 64, 0.113),\n",
       "  (0, '9d', 48, 64, 0.011),\n",
       "  (0, '9d', 1, 64, 0.151)],\n",
       " [(2, '16a', 54, 64, 0.039),\n",
       "  (2, '16a', 116, 64, 0.016),\n",
       "  (2, '16a', 100, 64, 0.243),\n",
       "  (2, '16a', 84, 64, 0.09),\n",
       "  (2, '16a', 126, 64, 0.023),\n",
       "  (2, '16a', 53, 64, 0.013),\n",
       "  (2, '16a', 60, 64, 0.015)],\n",
       " [(2, '7c', 75, 64, 0.235),\n",
       "  (2, '7c', 11, 64, 0.148),\n",
       "  (2, '7c', 99, 64, 0.039),\n",
       "  (2, '7c', 7, 64, 0.075),\n",
       "  (2, '7c', 67, 64, 0.075),\n",
       "  (2, '7c', 35, 64, 0.039),\n",
       "  (2, '7c', 19, 64, 0.051),\n",
       "  (2, '7c', 83, 64, 0.051),\n",
       "  (2, '7c', 51, 64, 0.015)],\n",
       " [(1, '19b', 49, 64, 0.055),\n",
       "  (1, '19b', 50, 64, 0.225),\n",
       "  (1, '19b', 56, 64, 0.077),\n",
       "  (1, '19b', 52, 64, 0.08),\n",
       "  (1, '19b', 112, 64, 0.08),\n",
       "  (1, '19b', 122, 64, 0.156)],\n",
       " [(2, '23a', 113, 64, 0.095),\n",
       "  (2, '23a', 57, 64, 0.082),\n",
       "  (2, '23a', 123, 64, 0.093),\n",
       "  (2, '23a', 53, 64, 0.097),\n",
       "  (2, '23a', 97, 64, 0.158),\n",
       "  (2, '23a', 81, 64, 0.216),\n",
       "  (2, '23a', 51, 64, 0.138)],\n",
       " [(1, '19a', 49, 64, 0.049),\n",
       "  (1, '19a', 50, 64, 0.21),\n",
       "  (1, '19a', 56, 64, 0.068),\n",
       "  (1, '19a', 52, 64, 0.068),\n",
       "  (1, '19a', 112, 64, 0.068),\n",
       "  (1, '19a', 122, 64, 0.159)],\n",
       " [(1, '7a', 75, 64, 0.208),\n",
       "  (1, '7a', 78, 64, 0.205),\n",
       "  (1, '7a', 106, 64, 0.17),\n",
       "  (1, '7a', 90, 64, 0.115),\n",
       "  (1, '7a', 58, 64, 0.026)],\n",
       " [(1, '17a', 75, 64, 0.207),\n",
       "  (1, '17a', 78, 64, 0.134),\n",
       "  (1, '17a', 106, 64, 0.121),\n",
       "  (1, '17a', 90, 64, 0.032),\n",
       "  (1, '17a', 58, 64, 0.01)],\n",
       " [(1, '20c', 49, 64, 0.029),\n",
       "  (1, '20c', 50, 64, 0.206),\n",
       "  (1, '20c', 56, 64, 0.034),\n",
       "  (1, '20c', 52, 64, 0.036),\n",
       "  (1, '20c', 112, 64, 0.037),\n",
       "  (1, '20c', 122, 64, 0.068)],\n",
       " [(1, '17f', 75, 64, 0.205),\n",
       "  (1, '17f', 78, 64, 0.135),\n",
       "  (1, '17f', 106, 64, 0.123),\n",
       "  (1, '17f', 90, 64, 0.033),\n",
       "  (1, '17f', 58, 64, 0.01)],\n",
       " [(0, '9c', 4, 64, 0.128),\n",
       "  (0, '9c', 16, 64, 0.068),\n",
       "  (0, '9c', 2, 64, 0.186),\n",
       "  (0, '9c', 8, 64, 0.129),\n",
       "  (0, '9c', 74, 64, 0.205),\n",
       "  (0, '9c', 96, 64, 0.083),\n",
       "  (0, '9c', 64, 64, 0.127),\n",
       "  (0, '9c', 80, 64, 0.069),\n",
       "  (0, '9c', 32, 64, 0.084),\n",
       "  (0, '9c', 48, 64, 0.013),\n",
       "  (0, '9c', 1, 64, 0.121)],\n",
       " [(0, '7a', 4, 64, 0.086),\n",
       "  (0, '7a', 16, 64, 0.047),\n",
       "  (0, '7a', 2, 64, 0.119),\n",
       "  (0, '7a', 8, 64, 0.082),\n",
       "  (0, '7a', 74, 64, 0.205),\n",
       "  (0, '7a', 96, 64, 0.058),\n",
       "  (0, '7a', 64, 64, 0.085),\n",
       "  (0, '7a', 80, 64, 0.047),\n",
       "  (0, '7a', 32, 64, 0.058),\n",
       "  (0, '7a', 48, 64, 0.016),\n",
       "  (0, '7a', 1, 64, 0.074)],\n",
       " [(0, '12b', 4, 64, 0.196),\n",
       "  (0, '12b', 16, 64, 0.07),\n",
       "  (0, '12b', 2, 64, 0.204),\n",
       "  (0, '12b', 8, 64, 0.193),\n",
       "  (0, '12b', 74, 64, 0.205),\n",
       "  (0, '12b', 96, 64, 0.131),\n",
       "  (0, '12b', 64, 64, 0.183),\n",
       "  (0, '12b', 80, 64, 0.077),\n",
       "  (0, '12b', 32, 64, 0.148),\n",
       "  (0, '12b', 48, 64, 0.022),\n",
       "  (0, '12b', 1, 64, 0.127)],\n",
       " [(0, '7b', 4, 64, 0.081),\n",
       "  (0, '7b', 16, 64, 0.046),\n",
       "  (0, '7b', 2, 64, 0.112),\n",
       "  (0, '7b', 8, 64, 0.077),\n",
       "  (0, '7b', 74, 64, 0.202),\n",
       "  (0, '7b', 96, 64, 0.052),\n",
       "  (0, '7b', 64, 64, 0.08),\n",
       "  (0, '7b', 80, 64, 0.046),\n",
       "  (0, '7b', 32, 64, 0.052),\n",
       "  (0, '7b', 48, 64, 0.016),\n",
       "  (0, '7b', 1, 64, 0.071)],\n",
       " [(1, '7b', 82, 64, 0.06),\n",
       "  (1, '7b', 66, 64, 0.109),\n",
       "  (1, '7b', 50, 64, 0.031),\n",
       "  (1, '7b', 18, 64, 0.064),\n",
       "  (1, '7b', 34, 64, 0.079),\n",
       "  (1, '7b', 3, 64, 0.068),\n",
       "  (1, '7b', 10, 64, 0.202),\n",
       "  (1, '7b', 98, 64, 0.078),\n",
       "  (1, '7b', 6, 64, 0.111)],\n",
       " [(2, '9d', 107, 64, 0.104),\n",
       "  (2, '9d', 122, 64, 0.024),\n",
       "  (2, '9d', 110, 64, 0.2)],\n",
       " [(0, '8d', 4, 64, 0.18),\n",
       "  (0, '8d', 16, 64, 0.04),\n",
       "  (0, '8d', 2, 64, 0.175),\n",
       "  (0, '8d', 8, 64, 0.165),\n",
       "  (0, '8d', 74, 64, 0.185),\n",
       "  (0, '8d', 96, 64, 0.15),\n",
       "  (0, '8d', 64, 64, 0.15),\n",
       "  (0, '8d', 80, 64, 0.043),\n",
       "  (0, '8d', 32, 64, 0.166),\n",
       "  (0, '8d', 48, 64, 0.005),\n",
       "  (0, '8d', 1, 64, 0.147)],\n",
       " [(0, '8c', 4, 64, 0.18),\n",
       "  (0, '8c', 16, 64, 0.04),\n",
       "  (0, '8c', 2, 64, 0.179),\n",
       "  (0, '8c', 8, 64, 0.166),\n",
       "  (0, '8c', 74, 64, 0.184),\n",
       "  (0, '8c', 96, 64, 0.15),\n",
       "  (0, '8c', 64, 64, 0.149),\n",
       "  (0, '8c', 80, 64, 0.043),\n",
       "  (0, '8c', 32, 64, 0.166),\n",
       "  (0, '8c', 48, 64, 0.005),\n",
       "  (0, '8c', 1, 64, 0.147)],\n",
       " [(2, '25a', 50, 64, 0.089),\n",
       "  (2, '25a', 83, 64, 0.091),\n",
       "  (2, '25a', 86, 64, 0.108),\n",
       "  (2, '25a', 114, 64, 0.089),\n",
       "  (2, '25a', 98, 64, 0.18)],\n",
       " [(0, '17e', 4, 64, 0.169),\n",
       "  (0, '17e', 16, 64, 0.057),\n",
       "  (0, '17e', 2, 64, 0.131),\n",
       "  (0, '17e', 8, 64, 0.167),\n",
       "  (0, '17e', 74, 64, 0.176),\n",
       "  (0, '17e', 96, 64, 0.116),\n",
       "  (0, '17e', 64, 64, 0.169),\n",
       "  (0, '17e', 80, 64, 0.058),\n",
       "  (0, '17e', 32, 64, 0.116),\n",
       "  (0, '17e', 48, 64, 0.007),\n",
       "  (0, '17e', 1, 64, 0.152)],\n",
       " [(0, '9a', 4, 64, 0.112),\n",
       "  (0, '9a', 16, 64, 0.063),\n",
       "  (0, '9a', 2, 64, 0.154),\n",
       "  (0, '9a', 8, 64, 0.112),\n",
       "  (0, '9a', 74, 64, 0.175),\n",
       "  (0, '9a', 96, 64, 0.066),\n",
       "  (0, '9a', 64, 64, 0.112),\n",
       "  (0, '9a', 80, 64, 0.064),\n",
       "  (0, '9a', 32, 64, 0.067),\n",
       "  (0, '9a', 48, 64, 0.016),\n",
       "  (0, '9a', 1, 64, 0.09)],\n",
       " [(2, '21b', 120, 64, 0.041),\n",
       "  (2, '21b', 104, 64, 0.09),\n",
       "  (2, '21b', 88, 64, 0.174),\n",
       "  (2, '21b', 57, 64, 0.036),\n",
       "  (2, '21b', 58, 64, 0.07),\n",
       "  (2, '21b', 60, 64, 0.041)],\n",
       " [(2, '7a', 107, 64, 0.091),\n",
       "  (2, '7a', 122, 64, 0.026),\n",
       "  (2, '7a', 110, 64, 0.171)],\n",
       " [(2, '21a', 120, 64, 0.041),\n",
       "  (2, '21a', 104, 64, 0.09),\n",
       "  (2, '21a', 88, 64, 0.171),\n",
       "  (2, '21a', 57, 64, 0.036),\n",
       "  (2, '21a', 58, 64, 0.07),\n",
       "  (2, '21a', 60, 64, 0.041)],\n",
       " [(2, '12b', 106, 64, 0.17),\n",
       "  (2, '12b', 90, 64, 0.084),\n",
       "  (2, '12b', 123, 64, 0.015),\n",
       "  (2, '12b', 126, 64, 0.03),\n",
       "  (2, '12b', 58, 64, 0.03)],\n",
       " [(0, '11d', 4, 64, 0.164),\n",
       "  (0, '11d', 16, 64, 0.141),\n",
       "  (0, '11d', 2, 64, 0.14),\n",
       "  (0, '11d', 8, 64, 0.162),\n",
       "  (0, '11d', 74, 64, 0.169),\n",
       "  (0, '11d', 96, 64, 0.046),\n",
       "  (0, '11d', 64, 64, 0.157),\n",
       "  (0, '11d', 80, 64, 0.138),\n",
       "  (0, '11d', 32, 64, 0.047),\n",
       "  (0, '11d', 48, 64, 0.018),\n",
       "  (0, '11d', 1, 64, 0.155)],\n",
       " [(0, '12a', 4, 64, 0.084),\n",
       "  (0, '12a', 16, 64, 0.048),\n",
       "  (0, '12a', 2, 64, 0.117),\n",
       "  (0, '12a', 8, 64, 0.083),\n",
       "  (0, '12a', 74, 64, 0.168),\n",
       "  (0, '12a', 96, 64, 0.054),\n",
       "  (0, '12a', 64, 64, 0.089),\n",
       "  (0, '12a', 80, 64, 0.054),\n",
       "  (0, '12a', 32, 64, 0.054),\n",
       "  (0, '12a', 48, 64, 0.018),\n",
       "  (0, '12a', 1, 64, 0.062)],\n",
       " [(2, '20a', 120, 64, 0.036),\n",
       "  (2, '20a', 104, 64, 0.167),\n",
       "  (2, '20a', 88, 64, 0.08),\n",
       "  (2, '20a', 57, 64, 0.028),\n",
       "  (2, '20a', 58, 64, 0.071),\n",
       "  (2, '20a', 60, 64, 0.096)],\n",
       " [(0, '12c', 4, 64, 0.103),\n",
       "  (0, '12c', 16, 64, 0.05),\n",
       "  (0, '12c', 2, 64, 0.132),\n",
       "  (0, '12c', 8, 64, 0.104),\n",
       "  (0, '12c', 74, 64, 0.166),\n",
       "  (0, '12c', 96, 64, 0.071),\n",
       "  (0, '12c', 64, 64, 0.109),\n",
       "  (0, '12c', 80, 64, 0.059),\n",
       "  (0, '12c', 32, 64, 0.072),\n",
       "  (0, '12c', 48, 64, 0.018),\n",
       "  (0, '12c', 1, 64, 0.064)],\n",
       " [(1, '8c', 66, 64, 0.164),\n",
       "  (1, '8c', 68, 64, 0.164),\n",
       "  (1, '8c', 65, 64, 0.145),\n",
       "  (1, '8c', 72, 64, 0.15)],\n",
       " [(0, '11a', 4, 64, 0.091),\n",
       "  (0, '11a', 16, 64, 0.08),\n",
       "  (0, '11a', 2, 64, 0.082),\n",
       "  (0, '11a', 8, 64, 0.088),\n",
       "  (0, '11a', 74, 64, 0.164),\n",
       "  (0, '11a', 96, 64, 0.032),\n",
       "  (0, '11a', 64, 64, 0.095),\n",
       "  (0, '11a', 80, 64, 0.085),\n",
       "  (0, '11a', 32, 64, 0.032),\n",
       "  (0, '11a', 48, 64, 0.018),\n",
       "  (0, '11a', 1, 64, 0.085)],\n",
       " [(1, '8d', 66, 64, 0.164),\n",
       "  (1, '8d', 68, 64, 0.163),\n",
       "  (1, '8d', 65, 64, 0.146),\n",
       "  (1, '8d', 72, 64, 0.149)],\n",
       " [(2, '8d', 104, 64, 0.151),\n",
       "  (2, '8d', 88, 64, 0.043),\n",
       "  (2, '8d', 56, 64, 0.005),\n",
       "  (2, '8d', 73, 64, 0.118),\n",
       "  (2, '8d', 76, 64, 0.164)],\n",
       " [(0, '9b', 4, 64, 0.09),\n",
       "  (0, '9b', 16, 64, 0.058),\n",
       "  (0, '9b', 2, 64, 0.13),\n",
       "  (0, '9b', 8, 64, 0.09),\n",
       "  (0, '9b', 74, 64, 0.164),\n",
       "  (0, '9b', 96, 64, 0.05),\n",
       "  (0, '9b', 64, 64, 0.089),\n",
       "  (0, '9b', 80, 64, 0.058),\n",
       "  (0, '9b', 32, 64, 0.051),\n",
       "  (0, '9b', 48, 64, 0.016),\n",
       "  (0, '9b', 1, 64, 0.073)],\n",
       " [(1, '11c', 82, 64, 0.061),\n",
       "  (1, '11c', 66, 64, 0.098),\n",
       "  (1, '11c', 50, 64, 0.035),\n",
       "  (1, '11c', 18, 64, 0.062),\n",
       "  (1, '11c', 34, 64, 0.081),\n",
       "  (1, '11c', 3, 64, 0.081),\n",
       "  (1, '11c', 10, 64, 0.159),\n",
       "  (1, '11c', 98, 64, 0.072),\n",
       "  (1, '11c', 6, 64, 0.107)],\n",
       " [(0, '11c', 4, 64, 0.116),\n",
       "  (0, '11c', 16, 64, 0.103),\n",
       "  (0, '11c', 2, 64, 0.107),\n",
       "  (0, '11c', 8, 64, 0.114),\n",
       "  (0, '11c', 74, 64, 0.157),\n",
       "  (0, '11c', 96, 64, 0.034),\n",
       "  (0, '11c', 64, 64, 0.113),\n",
       "  (0, '11c', 80, 64, 0.103),\n",
       "  (0, '11c', 32, 64, 0.036),\n",
       "  (0, '11c', 48, 64, 0.019),\n",
       "  (0, '11c', 1, 64, 0.11)],\n",
       " [(0, '11b', 4, 64, 0.08),\n",
       "  (0, '11b', 16, 64, 0.071),\n",
       "  (0, '11b', 2, 64, 0.08),\n",
       "  (0, '11b', 8, 64, 0.076),\n",
       "  (0, '11b', 74, 64, 0.157),\n",
       "  (0, '11b', 96, 64, 0.035),\n",
       "  (0, '11b', 64, 64, 0.084),\n",
       "  (0, '11b', 80, 64, 0.075),\n",
       "  (0, '11b', 32, 64, 0.036),\n",
       "  (0, '11b', 48, 64, 0.02),\n",
       "  (0, '11b', 1, 64, 0.07)],\n",
       " [(2, '13a', 120, 64, 0.023),\n",
       "  (2, '13a', 104, 64, 0.152),\n",
       "  (2, '13a', 88, 64, 0.102),\n",
       "  (2, '13a', 57, 64, 0.021),\n",
       "  (2, '13a', 58, 64, 0.033),\n",
       "  (2, '13a', 60, 64, 0.023)],\n",
       " [(0, '13b', 4, 64, 0.147),\n",
       "  (0, '13b', 16, 64, 0.149),\n",
       "  (0, '13b', 2, 64, 0.149),\n",
       "  (0, '13b', 8, 64, 0.146),\n",
       "  (0, '13b', 74, 64, 0.145),\n",
       "  (0, '13b', 96, 64, 0.144),\n",
       "  (0, '13b', 64, 64, 0.145),\n",
       "  (0, '13b', 80, 64, 0.144),\n",
       "  (0, '13b', 32, 64, 0.15),\n",
       "  (0, '13b', 48, 64, 0.145),\n",
       "  (0, '13b', 1, 64, 0.131)],\n",
       " [(0, '13c', 4, 64, 0.148),\n",
       "  (0, '13c', 16, 64, 0.149),\n",
       "  (0, '13c', 2, 64, 0.149),\n",
       "  (0, '13c', 8, 64, 0.149),\n",
       "  (0, '13c', 74, 64, 0.15),\n",
       "  (0, '13c', 96, 64, 0.146),\n",
       "  (0, '13c', 64, 64, 0.145),\n",
       "  (0, '13c', 80, 64, 0.146),\n",
       "  (0, '13c', 32, 64, 0.145),\n",
       "  (0, '13c', 48, 64, 0.149),\n",
       "  (0, '13c', 1, 64, 0.131)],\n",
       " [(2, '9c', 83, 64, 0.064),\n",
       "  (2, '9c', 90, 64, 0.141),\n",
       "  (2, '9c', 86, 64, 0.072),\n",
       "  (2, '9c', 114, 64, 0.034)],\n",
       " [(2, '25c', 92, 64, 0.112),\n",
       "  (2, '25c', 120, 64, 0.03),\n",
       "  (2, '25c', 104, 64, 0.14),\n",
       "  (2, '25c', 56, 64, 0.03),\n",
       "  (2, '25c', 89, 64, 0.106)],\n",
       " [(0, '17f', 4, 64, 0.137),\n",
       "  (0, '17f', 16, 64, 0.085),\n",
       "  (0, '17f', 2, 64, 0.096),\n",
       "  (0, '17f', 8, 64, 0.136),\n",
       "  (0, '17f', 74, 64, 0.136),\n",
       "  (0, '17f', 96, 64, 0.088),\n",
       "  (0, '17f', 64, 64, 0.137),\n",
       "  (0, '17f', 80, 64, 0.085),\n",
       "  (0, '17f', 32, 64, 0.09),\n",
       "  (0, '17f', 48, 64, 0.007),\n",
       "  (0, '17f', 1, 64, 0.139)],\n",
       " [(1, '20a', 49, 64, 0.03),\n",
       "  (1, '20a', 50, 64, 0.138),\n",
       "  (1, '20a', 56, 64, 0.036),\n",
       "  (1, '20a', 52, 64, 0.04),\n",
       "  (1, '20a', 112, 64, 0.04),\n",
       "  (1, '20a', 122, 64, 0.071)],\n",
       " [(3, '23a', 115, 64, 0.135),\n",
       "  (3, '23a', 121, 64, 0.079),\n",
       "  (3, '23a', 117, 64, 0.097)],\n",
       " [(0, '17a', 4, 64, 0.122),\n",
       "  (0, '17a', 16, 64, 0.059),\n",
       "  (0, '17a', 2, 64, 0.096),\n",
       "  (0, '17a', 8, 64, 0.121),\n",
       "  (0, '17a', 74, 64, 0.135),\n",
       "  (0, '17a', 96, 64, 0.088),\n",
       "  (0, '17a', 64, 64, 0.122),\n",
       "  (0, '17a', 80, 64, 0.059),\n",
       "  (0, '17a', 32, 64, 0.088),\n",
       "  (0, '17a', 48, 64, 0.008),\n",
       "  (0, '17a', 1, 64, 0.104)],\n",
       " [(1, '13b', 81, 64, 0.127),\n",
       "  (1, '13b', 9, 64, 0.126),\n",
       "  (1, '13b', 75, 64, 0.116),\n",
       "  (1, '13b', 49, 64, 0.128),\n",
       "  (1, '13b', 33, 64, 0.133),\n",
       "  (1, '13b', 17, 64, 0.13),\n",
       "  (1, '13b', 3, 64, 0.086),\n",
       "  (1, '13b', 97, 64, 0.129),\n",
       "  (1, '13b', 5, 64, 0.119),\n",
       "  (1, '13b', 65, 64, 0.127)],\n",
       " [(1, '13c', 81, 64, 0.126),\n",
       "  (1, '13c', 9, 64, 0.13),\n",
       "  (1, '13c', 75, 64, 0.119),\n",
       "  (1, '13c', 49, 64, 0.13),\n",
       "  (1, '13c', 33, 64, 0.127),\n",
       "  (1, '13c', 17, 64, 0.13),\n",
       "  (1, '13c', 3, 64, 0.087),\n",
       "  (1, '13c', 97, 64, 0.127),\n",
       "  (1, '13c', 5, 64, 0.119),\n",
       "  (1, '13c', 65, 64, 0.132)],\n",
       " [(1, '12c', 104, 64, 0.071),\n",
       "  (1, '12c', 100, 64, 0.071),\n",
       "  (1, '12c', 106, 64, 0.129),\n",
       "  (1, '12c', 112, 64, 0.018),\n",
       "  (1, '12c', 97, 64, 0.031),\n",
       "  (1, '12c', 98, 64, 0.094)],\n",
       " [(0, '8b', 4, 64, 0.031),\n",
       "  (0, '8b', 16, 64, 0.023),\n",
       "  (0, '8b', 2, 64, 0.045),\n",
       "  (0, '8b', 8, 64, 0.03),\n",
       "  (0, '8b', 74, 64, 0.129),\n",
       "  (0, '8b', 96, 64, 0.019),\n",
       "  (0, '8b', 64, 64, 0.03),\n",
       "  (0, '8b', 80, 64, 0.02),\n",
       "  (0, '8b', 32, 64, 0.019),\n",
       "  (0, '8b', 48, 64, 0.01),\n",
       "  (0, '8b', 1, 64, 0.028)],\n",
       " [(1, '18c', 75, 64, 0.127),\n",
       "  (1, '18c', 78, 64, 0.097),\n",
       "  (1, '18c', 106, 64, 0.078),\n",
       "  (1, '18c', 90, 64, 0.054),\n",
       "  (1, '18c', 58, 64, 0.011)],\n",
       " [(2, '17f', 107, 64, 0.064),\n",
       "  (2, '17f', 122, 64, 0.01),\n",
       "  (2, '17f', 110, 64, 0.123)],\n",
       " [(2, '13b', 11, 64, 0.122),\n",
       "  (2, '13b', 99, 64, 0.088),\n",
       "  (2, '13b', 7, 64, 0.116),\n",
       "  (2, '13b', 67, 64, 0.085),\n",
       "  (2, '13b', 35, 64, 0.088),\n",
       "  (2, '13b', 19, 64, 0.085),\n",
       "  (2, '13b', 83, 64, 0.087),\n",
       "  (2, '13b', 51, 64, 0.087)],\n",
       " [(1, '11d', 104, 64, 0.046),\n",
       "  (1, '11d', 100, 64, 0.046),\n",
       "  (1, '11d', 106, 64, 0.122),\n",
       "  (1, '11d', 112, 64, 0.019),\n",
       "  (1, '11d', 97, 64, 0.032),\n",
       "  (1, '11d', 98, 64, 0.097)],\n",
       " [(3, '11d', 54, 64, 0.035),\n",
       "  (3, '11d', 118, 64, 0.036),\n",
       "  (3, '11d', 86, 64, 0.075),\n",
       "  (3, '11d', 103, 64, 0.075),\n",
       "  (3, '11d', 110, 64, 0.122)],\n",
       " [(2, '7b', 83, 64, 0.053),\n",
       "  (2, '7b', 90, 64, 0.121),\n",
       "  (2, '7b', 86, 64, 0.061),\n",
       "  (2, '7b', 114, 64, 0.031)],\n",
       " [(2, '17a', 107, 64, 0.063),\n",
       "  (2, '17a', 122, 64, 0.01),\n",
       "  (2, '17a', 110, 64, 0.121)],\n",
       " [(0, '17b', 4, 64, 0.113),\n",
       "  (0, '17b', 16, 64, 0.059),\n",
       "  (0, '17b', 2, 64, 0.086),\n",
       "  (0, '17b', 8, 64, 0.111),\n",
       "  (0, '17b', 74, 64, 0.121),\n",
       "  (0, '17b', 96, 64, 0.071),\n",
       "  (0, '17b', 64, 64, 0.112),\n",
       "  (0, '17b', 80, 64, 0.061),\n",
       "  (0, '17b', 32, 64, 0.071),\n",
       "  (0, '17b', 48, 64, 0.008),\n",
       "  (0, '17b', 1, 64, 0.108)],\n",
       " [(2, '13c', 11, 64, 0.119),\n",
       "  (2, '13c', 99, 64, 0.085),\n",
       "  (2, '13c', 7, 64, 0.119),\n",
       "  (2, '13c', 67, 64, 0.086),\n",
       "  (2, '13c', 35, 64, 0.087),\n",
       "  (2, '13c', 19, 64, 0.086),\n",
       "  (2, '13c', 83, 64, 0.084),\n",
       "  (2, '13c', 51, 64, 0.087)],\n",
       " [(2, '13d', 113, 64, 0.023),\n",
       "  (2, '13d', 57, 64, 0.021),\n",
       "  (2, '13d', 123, 64, 0.02),\n",
       "  (2, '13d', 53, 64, 0.023),\n",
       "  (2, '13d', 97, 64, 0.096),\n",
       "  (2, '13d', 81, 64, 0.118),\n",
       "  (2, '13d', 51, 64, 0.029)],\n",
       " [(0, '10c', 4, 64, 0.079),\n",
       "  (0, '10c', 16, 64, 0.021),\n",
       "  (0, '10c', 2, 64, 0.09),\n",
       "  (0, '10c', 8, 64, 0.078),\n",
       "  (0, '10c', 74, 64, 0.063),\n",
       "  (0, '10c', 96, 64, 0.054),\n",
       "  (0, '10c', 64, 64, 0.071),\n",
       "  (0, '10c', 80, 64, 0.028),\n",
       "  (0, '10c', 32, 64, 0.063),\n",
       "  (0, '10c', 48, 64, 0.006),\n",
       "  (0, '10c', 1, 64, 0.117)],\n",
       " [(1, '15c', 49, 64, 0.041),\n",
       "  (1, '15c', 50, 64, 0.117),\n",
       "  (1, '15c', 56, 64, 0.041),\n",
       "  (1, '15c', 52, 64, 0.041),\n",
       "  (1, '15c', 112, 64, 0.041),\n",
       "  (1, '15c', 122, 64, 0.067)],\n",
       " [(2, '15b', 54, 64, 0.08),\n",
       "  (2, '15b', 116, 64, 0.043),\n",
       "  (2, '15b', 100, 64, 0.076),\n",
       "  (2, '15b', 84, 64, 0.116),\n",
       "  (2, '15b', 126, 64, 0.067),\n",
       "  (2, '15b', 53, 64, 0.043),\n",
       "  (2, '15b', 60, 64, 0.043)],\n",
       " [(2, '17e', 54, 64, 0.018),\n",
       "  (2, '17e', 116, 64, 0.007),\n",
       "  (2, '17e', 100, 64, 0.116),\n",
       "  (2, '17e', 84, 64, 0.057),\n",
       "  (2, '17e', 126, 64, 0.01),\n",
       "  (2, '17e', 53, 64, 0.006),\n",
       "  (2, '17e', 60, 64, 0.007)],\n",
       " [(3, '13b', 71, 64, 0.116)],\n",
       " [(3, '13c', 87, 64, 0.116),\n",
       "  (3, '13c', 115, 64, 0.086),\n",
       "  (3, '13c', 91, 64, 0.116)],\n",
       " [(3, '13d', 59, 64, 0.093),\n",
       "  (3, '13d', 61, 64, 0.022),\n",
       "  (3, '13d', 121, 64, 0.022),\n",
       "  (3, '13d', 105, 64, 0.105),\n",
       "  (3, '13d', 89, 64, 0.113)],\n",
       " [(0, '14c', 4, 64, 0.078),\n",
       "  (0, '14c', 16, 64, 0.04),\n",
       "  (0, '14c', 2, 64, 0.082),\n",
       "  (0, '14c', 8, 64, 0.075),\n",
       "  (0, '14c', 74, 64, 0.112),\n",
       "  (0, '14c', 96, 64, 0.049),\n",
       "  (0, '14c', 64, 64, 0.078),\n",
       "  (0, '14c', 80, 64, 0.042),\n",
       "  (0, '14c', 32, 64, 0.051),\n",
       "  (0, '14c', 48, 64, 0.014),\n",
       "  (0, '14c', 1, 64, 0.055)],\n",
       " [(0, '14a', 4, 64, 0.077),\n",
       "  (0, '14a', 16, 64, 0.04),\n",
       "  (0, '14a', 2, 64, 0.08),\n",
       "  (0, '14a', 8, 64, 0.074),\n",
       "  (0, '14a', 74, 64, 0.111),\n",
       "  (0, '14a', 96, 64, 0.048),\n",
       "  (0, '14a', 64, 64, 0.077),\n",
       "  (0, '14a', 80, 64, 0.042),\n",
       "  (0, '14a', 32, 64, 0.051),\n",
       "  (0, '14a', 48, 64, 0.015),\n",
       "  (0, '14a', 1, 64, 0.054)],\n",
       " [(1, '20b', 49, 64, 0.031),\n",
       "  (1, '20b', 50, 64, 0.11),\n",
       "  (1, '20b', 56, 64, 0.037),\n",
       "  (1, '20b', 52, 64, 0.04),\n",
       "  (1, '20b', 112, 64, 0.041),\n",
       "  (1, '20b', 122, 64, 0.065)],\n",
       " [(0, '18a', 4, 64, 0.081),\n",
       "  (0, '18a', 16, 64, 0.026),\n",
       "  (0, '18a', 2, 64, 0.092),\n",
       "  (0, '18a', 8, 64, 0.081),\n",
       "  (0, '18a', 74, 64, 0.109),\n",
       "  (0, '18a', 96, 64, 0.053),\n",
       "  (0, '18a', 64, 64, 0.07),\n",
       "  (0, '18a', 80, 64, 0.029),\n",
       "  (0, '18a', 32, 64, 0.062),\n",
       "  (0, '18a', 48, 64, 0.008),\n",
       "  (0, '18a', 1, 64, 0.054)],\n",
       " [(2, '11c', 99, 64, 0.058),\n",
       "  (2, '11c', 106, 64, 0.109),\n",
       "  (2, '11c', 102, 64, 0.07),\n",
       "  (2, '11c', 114, 64, 0.035)],\n",
       " [(2, '25b', 120, 64, 0.036),\n",
       "  (2, '25b', 104, 64, 0.109),\n",
       "  (2, '25b', 88, 64, 0.107),\n",
       "  (2, '25b', 57, 64, 0.028),\n",
       "  (2, '25b', 58, 64, 0.069),\n",
       "  (2, '25b', 60, 64, 0.036)],\n",
       " [(3, '11c', 54, 64, 0.035),\n",
       "  (3, '11c', 118, 64, 0.035),\n",
       "  (3, '11c', 86, 64, 0.06),\n",
       "  (3, '11c', 103, 64, 0.056),\n",
       "  (3, '11c', 110, 64, 0.108)],\n",
       " [(0, '17c', 4, 64, 0.092),\n",
       "  (0, '17c', 16, 64, 0.059),\n",
       "  (0, '17c', 2, 64, 0.063),\n",
       "  (0, '17c', 8, 64, 0.09),\n",
       "  (0, '17c', 74, 64, 0.108),\n",
       "  (0, '17c', 96, 64, 0.051),\n",
       "  (0, '17c', 64, 64, 0.092),\n",
       "  (0, '17c', 80, 64, 0.059),\n",
       "  (0, '17c', 32, 64, 0.051),\n",
       "  (0, '17c', 48, 64, 0.008),\n",
       "  (0, '17c', 1, 64, 0.1)],\n",
       " [(0, '17d', 4, 64, 0.092),\n",
       "  (0, '17d', 16, 64, 0.059),\n",
       "  (0, '17d', 2, 64, 0.063),\n",
       "  (0, '17d', 8, 64, 0.091),\n",
       "  (0, '17d', 74, 64, 0.108),\n",
       "  (0, '17d', 96, 64, 0.051),\n",
       "  (0, '17d', 64, 64, 0.093),\n",
       "  (0, '17d', 80, 64, 0.059),\n",
       "  (0, '17d', 32, 64, 0.052),\n",
       "  (0, '17d', 48, 64, 0.008),\n",
       "  (0, '17d', 1, 64, 0.1)],\n",
       " [(0, '14b', 4, 64, 0.067),\n",
       "  (0, '14b', 16, 64, 0.038),\n",
       "  (0, '14b', 2, 64, 0.075),\n",
       "  (0, '14b', 8, 64, 0.064),\n",
       "  (0, '14b', 74, 64, 0.108),\n",
       "  (0, '14b', 96, 64, 0.043),\n",
       "  (0, '14b', 64, 64, 0.067),\n",
       "  (0, '14b', 80, 64, 0.039),\n",
       "  (0, '14b', 32, 64, 0.044),\n",
       "  (0, '14b', 48, 64, 0.017),\n",
       "  (0, '14b', 1, 64, 0.049)],\n",
       " [(1, '15a', 49, 64, 0.039),\n",
       "  (1, '15a', 50, 64, 0.106),\n",
       "  (1, '15a', 56, 64, 0.042),\n",
       "  (1, '15a', 52, 64, 0.042),\n",
       "  (1, '15a', 112, 64, 0.042),\n",
       "  (1, '15a', 122, 64, 0.075)],\n",
       " [(1, '25b', 49, 64, 0.03),\n",
       "  (1, '25b', 50, 64, 0.105),\n",
       "  (1, '25b', 56, 64, 0.036),\n",
       "  (1, '25b', 52, 64, 0.039),\n",
       "  (1, '25b', 112, 64, 0.04),\n",
       "  (1, '25b', 122, 64, 0.071)],\n",
       " [(3, '13a', 59, 64, 0.036),\n",
       "  (3, '13a', 61, 64, 0.021),\n",
       "  (3, '13a', 121, 64, 0.021),\n",
       "  (3, '13a', 105, 64, 0.085),\n",
       "  (3, '13a', 89, 64, 0.101),\n",
       "  (3, '13a', 123, 64, 0.021)],\n",
       " [(2, '8b', 106, 64, 0.1),\n",
       "  (2, '8b', 90, 64, 0.063),\n",
       "  (2, '8b', 123, 64, 0.008),\n",
       "  (2, '8b', 126, 64, 0.015),\n",
       "  (2, '8b', 58, 64, 0.015)],\n",
       " [(0, '18b', 4, 64, 0.047),\n",
       "  (0, '18b', 16, 64, 0.021),\n",
       "  (0, '18b', 2, 64, 0.066),\n",
       "  (0, '18b', 8, 64, 0.047),\n",
       "  (0, '18b', 74, 64, 0.1),\n",
       "  (0, '18b', 96, 64, 0.034),\n",
       "  (0, '18b', 64, 64, 0.047),\n",
       "  (0, '18b', 80, 64, 0.021),\n",
       "  (0, '18b', 32, 64, 0.034),\n",
       "  (0, '18b', 48, 64, 0.01),\n",
       "  (0, '18b', 1, 64, 0.024)],\n",
       " [(0, '18c', 4, 64, 0.062),\n",
       "  (0, '18c', 16, 64, 0.02),\n",
       "  (0, '18c', 2, 64, 0.077),\n",
       "  (0, '18c', 8, 64, 0.061),\n",
       "  (0, '18c', 74, 64, 0.099),\n",
       "  (0, '18c', 96, 64, 0.045),\n",
       "  (0, '18c', 64, 64, 0.06),\n",
       "  (0, '18c', 80, 64, 0.022),\n",
       "  (0, '18c', 32, 64, 0.048),\n",
       "  (0, '18c', 48, 64, 0.008),\n",
       "  (0, '18c', 1, 64, 0.031)],\n",
       " [(3, '15d', 117, 64, 0.035),\n",
       "  (3, '15d', 118, 64, 0.099),\n",
       "  (3, '15d', 126, 64, 0.064),\n",
       "  (3, '15d', 124, 64, 0.039)],\n",
       " [(0, '8a', 4, 64, 0.042),\n",
       "  (0, '8a', 16, 64, 0.026),\n",
       "  (0, '8a', 2, 64, 0.06),\n",
       "  (0, '8a', 8, 64, 0.042),\n",
       "  (0, '8a', 74, 64, 0.096),\n",
       "  (0, '8a', 96, 64, 0.022),\n",
       "  (0, '8a', 64, 64, 0.042),\n",
       "  (0, '8a', 80, 64, 0.027),\n",
       "  (0, '8a', 32, 64, 0.021),\n",
       "  (0, '8a', 48, 64, 0.007),\n",
       "  (0, '8a', 1, 64, 0.036)],\n",
       " [(2, '11d', 82, 64, 0.074),\n",
       "  (2, '11d', 99, 64, 0.075),\n",
       "  (2, '11d', 50, 64, 0.035),\n",
       "  (2, '11d', 102, 64, 0.096),\n",
       "  (2, '11d', 114, 64, 0.035)],\n",
       " [(1, '18a', 104, 64, 0.057),\n",
       "  (1, '18a', 100, 64, 0.053),\n",
       "  (1, '18a', 106, 64, 0.095),\n",
       "  (1, '18a', 112, 64, 0.008),\n",
       "  (1, '18a', 97, 64, 0.029),\n",
       "  (1, '18a', 98, 64, 0.075)],\n",
       " [(4, '22c', 125, 64, 0.09)],\n",
       " [(4, '22d', 125, 64, 0.089)],\n",
       " [(2, '11a', 120, 64, 0.016),\n",
       "  (2, '11a', 104, 64, 0.031),\n",
       "  (2, '11a', 88, 64, 0.083),\n",
       "  (2, '11a', 57, 64, 0.014),\n",
       "  (2, '11a', 58, 64, 0.023),\n",
       "  (2, '11a', 60, 64, 0.017)],\n",
       " [(1, '21c', 49, 64, 0.04),\n",
       "  (1, '21c', 50, 64, 0.083),\n",
       "  (1, '21c', 56, 64, 0.041),\n",
       "  (1, '21c', 52, 64, 0.045),\n",
       "  (1, '21c', 112, 64, 0.045),\n",
       "  (1, '21c', 122, 64, 0.069)],\n",
       " [(2, '20b', 113, 64, 0.032),\n",
       "  (2, '20b', 57, 64, 0.029),\n",
       "  (2, '20b', 123, 64, 0.032),\n",
       "  (2, '20b', 53, 64, 0.031),\n",
       "  (2, '20b', 97, 64, 0.052),\n",
       "  (2, '20b', 81, 64, 0.082),\n",
       "  (2, '20b', 51, 64, 0.044)],\n",
       " [(1, '21b', 49, 64, 0.038),\n",
       "  (1, '21b', 50, 64, 0.081),\n",
       "  (1, '21b', 56, 64, 0.041),\n",
       "  (1, '21b', 52, 64, 0.045),\n",
       "  (1, '21b', 112, 64, 0.045),\n",
       "  (1, '21b', 122, 64, 0.07)],\n",
       " [(1, '21a', 49, 64, 0.039),\n",
       "  (1, '21a', 50, 64, 0.081),\n",
       "  (1, '21a', 56, 64, 0.041),\n",
       "  (1, '21a', 52, 64, 0.045),\n",
       "  (1, '21a', 112, 64, 0.046),\n",
       "  (1, '21a', 122, 64, 0.071)],\n",
       " [(2, '18c', 107, 64, 0.039),\n",
       "  (2, '18c', 122, 64, 0.011),\n",
       "  (2, '18c', 110, 64, 0.079)],\n",
       " [(1, '15b', 49, 64, 0.043),\n",
       "  (1, '15b', 50, 64, 0.079),\n",
       "  (1, '15b', 56, 64, 0.042),\n",
       "  (1, '15b', 52, 64, 0.042),\n",
       "  (1, '15b', 112, 64, 0.043),\n",
       "  (1, '15b', 122, 64, 0.067)],\n",
       " [(2, '20c', 113, 64, 0.028),\n",
       "  (2, '20c', 57, 64, 0.026),\n",
       "  (2, '20c', 123, 64, 0.027),\n",
       "  (2, '20c', 53, 64, 0.028),\n",
       "  (2, '20c', 97, 64, 0.057),\n",
       "  (2, '20c', 81, 64, 0.071),\n",
       "  (2, '20c', 51, 64, 0.04)],\n",
       " [(1, '8a', 17, 64, 0.026),\n",
       "  (1, '8a', 18, 64, 0.032),\n",
       "  (1, '8a', 24, 64, 0.026),\n",
       "  (1, '8a', 90, 64, 0.068),\n",
       "  (1, '8a', 20, 64, 0.026)],\n",
       " [(2, '9a', 120, 64, 0.015),\n",
       "  (2, '9a', 104, 64, 0.066),\n",
       "  (2, '9a', 88, 64, 0.065),\n",
       "  (2, '9a', 57, 64, 0.011),\n",
       "  (2, '9a', 58, 64, 0.032),\n",
       "  (2, '9a', 60, 64, 0.016)],\n",
       " [(3, '20c', 59, 64, 0.066),\n",
       "  (3, '20c', 61, 64, 0.028),\n",
       "  (3, '20c', 121, 64, 0.027),\n",
       "  (3, '20c', 105, 64, 0.056),\n",
       "  (3, '20c', 89, 64, 0.066)],\n",
       " [(1, '18b', 82, 64, 0.025),\n",
       "  (1, '18b', 88, 64, 0.021),\n",
       "  (1, '18b', 84, 64, 0.021),\n",
       "  (1, '18b', 90, 64, 0.059),\n",
       "  (1, '18b', 112, 64, 0.009),\n",
       "  (1, '18b', 81, 64, 0.019)],\n",
       " [(3, '18b', 54, 64, 0.016),\n",
       "  (3, '18b', 87, 64, 0.019),\n",
       "  (3, '18b', 94, 64, 0.059),\n",
       "  (3, '18b', 118, 64, 0.016),\n",
       "  (3, '18b', 102, 64, 0.05)],\n",
       " [(0, '10a', 4, 64, 0.022),\n",
       "  (0, '10a', 16, 64, 0.015),\n",
       "  (0, '10a', 2, 64, 0.036),\n",
       "  (0, '10a', 8, 64, 0.022),\n",
       "  (0, '10a', 74, 64, 0.055),\n",
       "  (0, '10a', 96, 64, 0.014),\n",
       "  (0, '10a', 64, 64, 0.022),\n",
       "  (0, '10a', 80, 64, 0.015),\n",
       "  (0, '10a', 32, 64, 0.014),\n",
       "  (0, '10a', 48, 64, 0.007),\n",
       "  (0, '10a', 1, 64, 0.017)],\n",
       " [(0, '10b', 4, 64, 0.035),\n",
       "  (0, '10b', 16, 64, 0.018),\n",
       "  (0, '10b', 2, 64, 0.05),\n",
       "  (0, '10b', 8, 64, 0.034),\n",
       "  (0, '10b', 74, 64, 0.052),\n",
       "  (0, '10b', 96, 64, 0.024),\n",
       "  (0, '10b', 64, 64, 0.033),\n",
       "  (0, '10b', 80, 64, 0.02),\n",
       "  (0, '10b', 32, 64, 0.025),\n",
       "  (0, '10b', 48, 64, 0.006),\n",
       "  (0, '10b', 1, 64, 0.026)],\n",
       " [(1, '16c', 49, 64, 0.012),\n",
       "  (1, '16c', 50, 64, 0.051),\n",
       "  (1, '16c', 56, 64, 0.013),\n",
       "  (1, '16c', 52, 64, 0.015),\n",
       "  (1, '16c', 112, 64, 0.015),\n",
       "  (1, '16c', 122, 64, 0.024)],\n",
       " [(2, '18b', 50, 64, 0.016),\n",
       "  (2, '18b', 83, 64, 0.02),\n",
       "  (2, '18b', 86, 64, 0.024),\n",
       "  (2, '18b', 114, 64, 0.016),\n",
       "  (2, '18b', 98, 64, 0.05)],\n",
       " [(2, '14c', 120, 64, 0.013),\n",
       "  (2, '14c', 104, 64, 0.05),\n",
       "  (2, '14c', 88, 64, 0.04),\n",
       "  (2, '14c', 57, 64, 0.011),\n",
       "  (2, '14c', 58, 64, 0.019),\n",
       "  (2, '14c', 60, 64, 0.014)],\n",
       " [(1, '13a', 49, 64, 0.023),\n",
       "  (1, '13a', 50, 64, 0.049),\n",
       "  (1, '13a', 56, 64, 0.023),\n",
       "  (1, '13a', 52, 64, 0.023),\n",
       "  (1, '13a', 112, 64, 0.024),\n",
       "  (1, '13a', 122, 64, 0.034)],\n",
       " [(1, '13d', 49, 64, 0.023),\n",
       "  (1, '13d', 50, 64, 0.048),\n",
       "  (1, '13d', 56, 64, 0.023),\n",
       "  (1, '13d', 52, 64, 0.026),\n",
       "  (1, '13d', 112, 64, 0.024),\n",
       "  (1, '13d', 122, 64, 0.033)],\n",
       " [(1, '12b', 49, 64, 0.017),\n",
       "  (1, '12b', 50, 64, 0.041),\n",
       "  (1, '12b', 56, 64, 0.02),\n",
       "  (1, '12b', 52, 64, 0.021),\n",
       "  (1, '12b', 112, 64, 0.021),\n",
       "  (1, '12b', 122, 64, 0.029)],\n",
       " [(1, '9b', 49, 64, 0.012),\n",
       "  (1, '9b', 50, 64, 0.039),\n",
       "  (1, '9b', 56, 64, 0.016),\n",
       "  (1, '9b', 52, 64, 0.016),\n",
       "  (1, '9b', 112, 64, 0.016),\n",
       "  (1, '9b', 122, 64, 0.034)],\n",
       " [(1, '9a', 49, 64, 0.012),\n",
       "  (1, '9a', 50, 64, 0.038),\n",
       "  (1, '9a', 56, 64, 0.015),\n",
       "  (1, '9a', 52, 64, 0.015),\n",
       "  (1, '9a', 112, 64, 0.015),\n",
       "  (1, '9a', 122, 64, 0.033)],\n",
       " [(1, '16d', 49, 64, 0.012),\n",
       "  (1, '16d', 50, 64, 0.038),\n",
       "  (1, '16d', 56, 64, 0.013),\n",
       "  (1, '16d', 52, 64, 0.015),\n",
       "  (1, '16d', 112, 64, 0.015),\n",
       "  (1, '16d', 122, 64, 0.025)],\n",
       " [(1, '16a', 49, 64, 0.013),\n",
       "  (1, '16a', 50, 64, 0.038),\n",
       "  (1, '16a', 56, 64, 0.015),\n",
       "  (1, '16a', 52, 64, 0.016),\n",
       "  (1, '16a', 112, 64, 0.016),\n",
       "  (1, '16a', 122, 64, 0.023)],\n",
       " [(1, '11b', 49, 64, 0.016),\n",
       "  (1, '11b', 50, 64, 0.034),\n",
       "  (1, '11b', 56, 64, 0.018),\n",
       "  (1, '11b', 52, 64, 0.02),\n",
       "  (1, '11b', 112, 64, 0.02),\n",
       "  (1, '11b', 122, 64, 0.022)],\n",
       " [(1, '12a', 49, 64, 0.015),\n",
       "  (1, '12a', 50, 64, 0.029),\n",
       "  (1, '12a', 56, 64, 0.019),\n",
       "  (1, '12a', 52, 64, 0.018),\n",
       "  (1, '12a', 112, 64, 0.018),\n",
       "  (1, '12a', 122, 64, 0.029)],\n",
       " [(1, '14b', 49, 64, 0.014),\n",
       "  (1, '14b', 50, 64, 0.028),\n",
       "  (1, '14b', 56, 64, 0.015),\n",
       "  (1, '14b', 52, 64, 0.017),\n",
       "  (1, '14b', 112, 64, 0.017),\n",
       "  (1, '14b', 122, 64, 0.02)],\n",
       " [(1, '11a', 49, 64, 0.015),\n",
       "  (1, '11a', 50, 64, 0.026),\n",
       "  (1, '11a', 56, 64, 0.016),\n",
       "  (1, '11a', 52, 64, 0.017),\n",
       "  (1, '11a', 112, 64, 0.017),\n",
       "  (1, '11a', 122, 64, 0.022)],\n",
       " [(1, '14a', 49, 64, 0.012),\n",
       "  (1, '14a', 50, 64, 0.023),\n",
       "  (1, '14a', 56, 64, 0.013),\n",
       "  (1, '14a', 52, 64, 0.015),\n",
       "  (1, '14a', 112, 64, 0.015),\n",
       "  (1, '14a', 122, 64, 0.019)],\n",
       " [(1, '14c', 49, 64, 0.012),\n",
       "  (1, '14c', 50, 64, 0.023),\n",
       "  (1, '14c', 56, 64, 0.013),\n",
       "  (1, '14c', 52, 64, 0.014),\n",
       "  (1, '14c', 112, 64, 0.015),\n",
       "  (1, '14c', 122, 64, 0.019)],\n",
       " [(0, '5c', 4, 64, 0.02),\n",
       "  (0, '5c', 16, 64, 0.006),\n",
       "  (0, '5c', 2, 64, 0.02),\n",
       "  (0, '5c', 8, 64, 0.019),\n",
       "  (0, '5c', 74, 64, 0.015),\n",
       "  (0, '5c', 96, 64, 0.013),\n",
       "  (0, '5c', 64, 64, 0.017),\n",
       "  (0, '5c', 80, 64, 0.008),\n",
       "  (0, '5c', 32, 64, 0.015),\n",
       "  (0, '5c', 48, 64, 0.004),\n",
       "  (0, '5c', 1, 64, 0.012)],\n",
       " [(1, '6a', 82, 64, 0.006),\n",
       "  (1, '6a', 66, 64, 0.01),\n",
       "  (1, '6a', 50, 64, 0.003),\n",
       "  (1, '6a', 18, 64, 0.006),\n",
       "  (1, '6a', 34, 64, 0.006),\n",
       "  (1, '6a', 3, 64, 0.006),\n",
       "  (1, '6a', 10, 64, 0.019),\n",
       "  (1, '6a', 98, 64, 0.006),\n",
       "  (1, '6a', 6, 64, 0.01)],\n",
       " [(0, '6f', 4, 64, 0.012),\n",
       "  (0, '6f', 16, 64, 0.005),\n",
       "  (0, '6f', 2, 64, 0.015),\n",
       "  (0, '6f', 8, 64, 0.011),\n",
       "  (0, '6f', 74, 64, 0.018),\n",
       "  (0, '6f', 96, 64, 0.009),\n",
       "  (0, '6f', 64, 64, 0.012),\n",
       "  (0, '6f', 80, 64, 0.005),\n",
       "  (0, '6f', 32, 64, 0.009),\n",
       "  (0, '6f', 48, 64, 0.001),\n",
       "  (0, '6f', 1, 64, 0.01)],\n",
       " [(1, '6f', 75, 64, 0.014),\n",
       "  (1, '6f', 78, 64, 0.018),\n",
       "  (1, '6f', 106, 64, 0.016),\n",
       "  (1, '6f', 90, 64, 0.006),\n",
       "  (1, '6f', 58, 64, 0.002)],\n",
       " [(1, '17e', 49, 64, 0.006),\n",
       "  (1, '17e', 50, 64, 0.018),\n",
       "  (1, '17e', 56, 64, 0.006),\n",
       "  (1, '17e', 52, 64, 0.007),\n",
       "  (1, '17e', 112, 64, 0.007),\n",
       "  (1, '17e', 122, 64, 0.01)],\n",
       " [(1, '10c', 49, 64, 0.005),\n",
       "  (1, '10c', 50, 64, 0.018),\n",
       "  (1, '10c', 56, 64, 0.006),\n",
       "  (1, '10c', 52, 64, 0.006),\n",
       "  (1, '10c', 112, 64, 0.006),\n",
       "  (1, '10c', 122, 64, 0.012)],\n",
       " [(1, '8b', 49, 64, 0.008),\n",
       "  (1, '8b', 50, 64, 0.017),\n",
       "  (1, '8b', 56, 64, 0.01),\n",
       "  (1, '8b', 52, 64, 0.01),\n",
       "  (1, '8b', 112, 64, 0.01),\n",
       "  (1, '8b', 122, 64, 0.015)],\n",
       " [(1, '10b', 49, 64, 0.005),\n",
       "  (1, '10b', 50, 64, 0.017),\n",
       "  (1, '10b', 56, 64, 0.006),\n",
       "  (1, '10b', 52, 64, 0.006),\n",
       "  (1, '10b', 112, 64, 0.007),\n",
       "  (1, '10b', 122, 64, 0.011)],\n",
       " [(1, '6c', 82, 64, 0.006),\n",
       "  (1, '6c', 66, 64, 0.01),\n",
       "  (1, '6c', 50, 64, 0.003),\n",
       "  (1, '6c', 18, 64, 0.006),\n",
       "  (1, '6c', 34, 64, 0.006),\n",
       "  (1, '6c', 3, 64, 0.006),\n",
       "  (1, '6c', 10, 64, 0.017),\n",
       "  (1, '6c', 98, 64, 0.006),\n",
       "  (1, '6c', 6, 64, 0.009)],\n",
       " [(1, '5b', 81, 64, 0.007),\n",
       "  (1, '5b', 9, 64, 0.008),\n",
       "  (1, '5b', 75, 64, 0.017),\n",
       "  (1, '5b', 49, 64, 0.003),\n",
       "  (1, '5b', 33, 64, 0.005),\n",
       "  (1, '5b', 17, 64, 0.007),\n",
       "  (1, '5b', 3, 64, 0.008),\n",
       "  (1, '5b', 97, 64, 0.004),\n",
       "  (1, '5b', 5, 64, 0.009),\n",
       "  (1, '5b', 65, 64, 0.008)],\n",
       " [(0, '6d', 4, 64, 0.01),\n",
       "  (0, '6d', 16, 64, 0.006),\n",
       "  (0, '6d', 2, 64, 0.011),\n",
       "  (0, '6d', 8, 64, 0.009),\n",
       "  (0, '6d', 74, 64, 0.016),\n",
       "  (0, '6d', 96, 64, 0.005),\n",
       "  (0, '6d', 64, 64, 0.009),\n",
       "  (0, '6d', 80, 64, 0.006),\n",
       "  (0, '6d', 32, 64, 0.012),\n",
       "  (0, '6d', 48, 64, 0.002),\n",
       "  (0, '6d', 1, 64, 0.008)],\n",
       " [(1, '6d', 75, 64, 0.014),\n",
       "  (1, '6d', 78, 64, 0.016),\n",
       "  (1, '6d', 106, 64, 0.014),\n",
       "  (1, '6d', 90, 64, 0.006),\n",
       "  (1, '6d', 58, 64, 0.002)],\n",
       " [(0, '6a', 4, 64, 0.011),\n",
       "  (0, '6a', 16, 64, 0.006),\n",
       "  (0, '6a', 2, 64, 0.01),\n",
       "  (0, '6a', 8, 64, 0.009),\n",
       "  (0, '6a', 74, 64, 0.016),\n",
       "  (0, '6a', 96, 64, 0.005),\n",
       "  (0, '6a', 64, 64, 0.01),\n",
       "  (0, '6a', 80, 64, 0.006),\n",
       "  (0, '6a', 32, 64, 0.005),\n",
       "  (0, '6a', 48, 64, 0.002),\n",
       "  (0, '6a', 1, 64, 0.008)],\n",
       " [(1, '10a', 49, 64, 0.006),\n",
       "  (1, '10a', 50, 64, 0.016),\n",
       "  (1, '10a', 56, 64, 0.007),\n",
       "  (1, '10a', 52, 64, 0.006),\n",
       "  (1, '10a', 112, 64, 0.007),\n",
       "  (1, '10a', 122, 64, 0.01)],\n",
       " [(2, '6f', 107, 64, 0.005),\n",
       "  (2, '6f', 122, 64, 0.002),\n",
       "  (2, '6f', 110, 64, 0.016)],\n",
       " [(0, '6b', 4, 64, 0.009),\n",
       "  (0, '6b', 16, 64, 0.006),\n",
       "  (0, '6b', 2, 64, 0.01),\n",
       "  (0, '6b', 8, 64, 0.009),\n",
       "  (0, '6b', 74, 64, 0.016),\n",
       "  (0, '6b', 96, 64, 0.006),\n",
       "  (0, '6b', 64, 64, 0.009),\n",
       "  (0, '6b', 80, 64, 0.006),\n",
       "  (0, '6b', 32, 64, 0.005),\n",
       "  (0, '6b', 48, 64, 0.002),\n",
       "  (0, '6b', 1, 64, 0.008)],\n",
       " [(1, '6b', 82, 64, 0.006),\n",
       "  (1, '6b', 66, 64, 0.01),\n",
       "  (1, '6b', 50, 64, 0.003),\n",
       "  (1, '6b', 18, 64, 0.006),\n",
       "  (1, '6b', 34, 64, 0.006),\n",
       "  (1, '6b', 3, 64, 0.006),\n",
       "  (1, '6b', 10, 64, 0.016),\n",
       "  (1, '6b', 98, 64, 0.006),\n",
       "  (1, '6b', 6, 64, 0.009)],\n",
       " [(1, '5a', 81, 64, 0.007),\n",
       "  (1, '5a', 9, 64, 0.007),\n",
       "  (1, '5a', 75, 64, 0.016),\n",
       "  (1, '5a', 49, 64, 0.003),\n",
       "  (1, '5a', 33, 64, 0.004),\n",
       "  (1, '5a', 17, 64, 0.007),\n",
       "  (1, '5a', 3, 64, 0.008),\n",
       "  (1, '5a', 97, 64, 0.004),\n",
       "  (1, '5a', 5, 64, 0.008),\n",
       "  (1, '5a', 65, 64, 0.008)],\n",
       " [(1, '32a', 9, 64, 0.013),\n",
       "  (1, '32a', 104, 64, 0.007),\n",
       "  (1, '32a', 12, 64, 0.014),\n",
       "  (1, '32a', 88, 64, 0.012),\n",
       "  (1, '32a', 40, 64, 0.007),\n",
       "  (1, '32a', 24, 64, 0.012),\n",
       "  (1, '32a', 56, 64, 0.002),\n",
       "  (1, '32a', 10, 64, 0.016),\n",
       "  (1, '32a', 72, 64, 0.014)],\n",
       " [(0, '6e', 4, 64, 0.01),\n",
       "  (0, '6e', 16, 64, 0.006),\n",
       "  (0, '6e', 2, 64, 0.01),\n",
       "  (0, '6e', 8, 64, 0.009),\n",
       "  (0, '6e', 74, 64, 0.016),\n",
       "  (0, '6e', 96, 64, 0.005),\n",
       "  (0, '6e', 64, 64, 0.009),\n",
       "  (0, '6e', 80, 64, 0.006),\n",
       "  (0, '6e', 32, 64, 0.005),\n",
       "  (0, '6e', 48, 64, 0.002),\n",
       "  (0, '6e', 1, 64, 0.008)],\n",
       " [(1, '32b', 9, 64, 0.014),\n",
       "  (1, '32b', 104, 64, 0.007),\n",
       "  (1, '32b', 12, 64, 0.014),\n",
       "  (1, '32b', 88, 64, 0.012),\n",
       "  (1, '32b', 40, 64, 0.007),\n",
       "  (1, '32b', 24, 64, 0.012),\n",
       "  (1, '32b', 56, 64, 0.002),\n",
       "  (1, '32b', 10, 64, 0.016),\n",
       "  (1, '32b', 72, 64, 0.014)],\n",
       " [(1, '1c', 81, 64, 0.009),\n",
       "  (1, '1c', 9, 64, 0.008),\n",
       "  (1, '1c', 75, 64, 0.015),\n",
       "  (1, '1c', 49, 64, 0.002),\n",
       "  (1, '1c', 33, 64, 0.004),\n",
       "  (1, '1c', 17, 64, 0.007),\n",
       "  (1, '1c', 3, 64, 0.009),\n",
       "  (1, '1c', 97, 64, 0.004),\n",
       "  (1, '1c', 5, 64, 0.009),\n",
       "  (1, '1c', 65, 64, 0.011)],\n",
       " [(2, '6b', 75, 64, 0.015),\n",
       "  (2, '6b', 11, 64, 0.014),\n",
       "  (2, '6b', 99, 64, 0.002),\n",
       "  (2, '6b', 7, 64, 0.006),\n",
       "  (2, '6b', 67, 64, 0.006),\n",
       "  (2, '6b', 35, 64, 0.003),\n",
       "  (2, '6b', 19, 64, 0.005),\n",
       "  (2, '6b', 83, 64, 0.005),\n",
       "  (2, '6b', 51, 64, 0.001)],\n",
       " [(1, '17c', 49, 64, 0.007),\n",
       "  (1, '17c', 50, 64, 0.015),\n",
       "  (1, '17c', 56, 64, 0.007),\n",
       "  (1, '17c', 52, 64, 0.008),\n",
       "  (1, '17c', 112, 64, 0.008),\n",
       "  (1, '17c', 122, 64, 0.009)],\n",
       " [(1, '17d', 49, 64, 0.007),\n",
       "  (1, '17d', 50, 64, 0.015),\n",
       "  (1, '17d', 56, 64, 0.007),\n",
       "  (1, '17d', 52, 64, 0.007),\n",
       "  (1, '17d', 112, 64, 0.008),\n",
       "  (1, '17d', 122, 64, 0.009)],\n",
       " [(0, '5a', 4, 64, 0.011),\n",
       "  (0, '5a', 16, 64, 0.007),\n",
       "  (0, '5a', 2, 64, 0.013),\n",
       "  (0, '5a', 8, 64, 0.01),\n",
       "  (0, '5a', 74, 64, 0.015),\n",
       "  (0, '5a', 96, 64, 0.007),\n",
       "  (0, '5a', 64, 64, 0.011),\n",
       "  (0, '5a', 80, 64, 0.007),\n",
       "  (0, '5a', 32, 64, 0.007),\n",
       "  (0, '5a', 48, 64, 0.004),\n",
       "  (0, '5a', 1, 64, 0.008)],\n",
       " [(0, '32a', 4, 64, 0.014),\n",
       "  (0, '32a', 16, 64, 0.013),\n",
       "  (0, '32a', 2, 64, 0.013),\n",
       "  (0, '32a', 8, 64, 0.014),\n",
       "  (0, '32a', 74, 64, 0.015),\n",
       "  (0, '32a', 96, 64, 0.007),\n",
       "  (0, '32a', 64, 64, 0.014),\n",
       "  (0, '32a', 80, 64, 0.013),\n",
       "  (0, '32a', 32, 64, 0.007),\n",
       "  (0, '32a', 48, 64, 0.003),\n",
       "  (0, '32a', 1, 64, 0.014)],\n",
       " [(0, '6c', 4, 64, 0.009),\n",
       "  (0, '6c', 16, 64, 0.006),\n",
       "  (0, '6c', 2, 64, 0.01),\n",
       "  (0, '6c', 8, 64, 0.008),\n",
       "  (0, '6c', 74, 64, 0.015),\n",
       "  (0, '6c', 96, 64, 0.005),\n",
       "  (0, '6c', 64, 64, 0.009),\n",
       "  (0, '6c', 80, 64, 0.006),\n",
       "  (0, '6c', 32, 64, 0.005),\n",
       "  (0, '6c', 48, 64, 0.002),\n",
       "  (0, '6c', 1, 64, 0.008)],\n",
       " [(1, '17b', 49, 64, 0.007),\n",
       "  (1, '17b', 50, 64, 0.015),\n",
       "  (1, '17b', 56, 64, 0.007),\n",
       "  (1, '17b', 52, 64, 0.008),\n",
       "  (1, '17b', 112, 64, 0.008),\n",
       "  (1, '17b', 122, 64, 0.009)],\n",
       " [(0, '32b', 4, 64, 0.014),\n",
       "  (0, '32b', 16, 64, 0.013),\n",
       "  (0, '32b', 2, 64, 0.013),\n",
       "  (0, '32b', 8, 64, 0.014),\n",
       "  (0, '32b', 74, 64, 0.015),\n",
       "  (0, '32b', 96, 64, 0.007),\n",
       "  (0, '32b', 64, 64, 0.014),\n",
       "  (0, '32b', 80, 64, 0.013),\n",
       "  (0, '32b', 32, 64, 0.007),\n",
       "  (0, '32b', 48, 64, 0.003),\n",
       "  (0, '32b', 1, 64, 0.014)],\n",
       " [(0, '5b', 4, 64, 0.009),\n",
       "  (0, '5b', 16, 64, 0.006),\n",
       "  (0, '5b', 2, 64, 0.01),\n",
       "  (0, '5b', 8, 64, 0.009),\n",
       "  (0, '5b', 74, 64, 0.015),\n",
       "  (0, '5b', 96, 64, 0.005),\n",
       "  (0, '5b', 64, 64, 0.008),\n",
       "  (0, '5b', 80, 64, 0.007),\n",
       "  (0, '5b', 32, 64, 0.006),\n",
       "  (0, '5b', 48, 64, 0.004),\n",
       "  (0, '5b', 1, 64, 0.009)],\n",
       " [(2, '6d', 107, 64, 0.005),\n",
       "  (2, '6d', 122, 64, 0.002),\n",
       "  (2, '6d', 110, 64, 0.014)],\n",
       " [(0, '1b', 4, 64, 0.013),\n",
       "  (0, '1b', 16, 64, 0.007),\n",
       "  (0, '1b', 2, 64, 0.012),\n",
       "  (0, '1b', 8, 64, 0.012),\n",
       "  (0, '1b', 74, 64, 0.01),\n",
       "  (0, '1b', 96, 64, 0.007),\n",
       "  (0, '1b', 64, 64, 0.014),\n",
       "  (0, '1b', 80, 64, 0.009),\n",
       "  (0, '1b', 32, 64, 0.008),\n",
       "  (0, '1b', 48, 64, 0.003),\n",
       "  (0, '1b', 1, 64, 0.01)],\n",
       " [(2, '5a', 11, 64, 0.014),\n",
       "  (2, '5a', 99, 64, 0.004),\n",
       "  (2, '5a', 7, 64, 0.008),\n",
       "  (2, '5a', 67, 64, 0.008),\n",
       "  (2, '5a', 35, 64, 0.004),\n",
       "  (2, '5a', 19, 64, 0.007),\n",
       "  (2, '5a', 83, 64, 0.007),\n",
       "  (2, '5a', 51, 64, 0.003)],\n",
       " [(0, '1d', 4, 64, 0.013),\n",
       "  (0, '1d', 16, 64, 0.007),\n",
       "  (0, '1d', 2, 64, 0.012),\n",
       "  (0, '1d', 8, 64, 0.012),\n",
       "  (0, '1d', 74, 64, 0.01),\n",
       "  (0, '1d', 96, 64, 0.007),\n",
       "  (0, '1d', 64, 64, 0.014),\n",
       "  (0, '1d', 80, 64, 0.009),\n",
       "  (0, '1d', 32, 64, 0.008),\n",
       "  (0, '1d', 48, 64, 0.002),\n",
       "  (0, '1d', 1, 64, 0.01)],\n",
       " [(0, '2d', 4, 64, 0.014),\n",
       "  (0, '2d', 16, 64, 0.009),\n",
       "  (0, '2d', 2, 64, 0.011),\n",
       "  (0, '2d', 8, 64, 0.013),\n",
       "  (0, '2d', 74, 64, 0.011),\n",
       "  (0, '2d', 96, 64, 0.005),\n",
       "  (0, '2d', 64, 64, 0.013),\n",
       "  (0, '2d', 80, 64, 0.01),\n",
       "  (0, '2d', 32, 64, 0.005),\n",
       "  (0, '2d', 48, 64, 0.002),\n",
       "  (0, '2d', 1, 64, 0.014)],\n",
       " [(1, '2d', 9, 64, 0.014),\n",
       "  (1, '2d', 104, 64, 0.005),\n",
       "  (1, '2d', 12, 64, 0.013),\n",
       "  (1, '2d', 88, 64, 0.009),\n",
       "  (1, '2d', 40, 64, 0.005),\n",
       "  (1, '2d', 24, 64, 0.009),\n",
       "  (1, '2d', 56, 64, 0.002),\n",
       "  (1, '2d', 10, 64, 0.013),\n",
       "  (1, '2d', 72, 64, 0.013)],\n",
       " [(2, '5b', 11, 64, 0.014),\n",
       "  (2, '5b', 99, 64, 0.004),\n",
       "  (2, '5b', 7, 64, 0.008),\n",
       "  (2, '5b', 67, 64, 0.008),\n",
       "  (2, '5b', 35, 64, 0.004),\n",
       "  (2, '5b', 19, 64, 0.006),\n",
       "  (2, '5b', 83, 64, 0.007),\n",
       "  (2, '5b', 51, 64, 0.003)],\n",
       " [(2, '1c', 11, 64, 0.013),\n",
       "  (2, '1c', 99, 64, 0.005),\n",
       "  (2, '1c', 7, 64, 0.009),\n",
       "  (2, '1c', 67, 64, 0.009),\n",
       "  (2, '1c', 35, 64, 0.005),\n",
       "  (2, '1c', 19, 64, 0.007),\n",
       "  (2, '1c', 83, 64, 0.007),\n",
       "  (2, '1c', 51, 64, 0.003)],\n",
       " [(3, '6b', 23, 64, 0.005),\n",
       "  (3, '6b', 91, 64, 0.013),\n",
       "  (3, '6b', 27, 64, 0.012)],\n",
       " [(2, '32a', 92, 64, 0.013),\n",
       "  (2, '32a', 120, 64, 0.003),\n",
       "  (2, '32a', 89, 64, 0.012),\n",
       "  (2, '32a', 90, 64, 0.01)],\n",
       " [(1, '2c', 9, 64, 0.011),\n",
       "  (1, '2c', 104, 64, 0.003),\n",
       "  (1, '2c', 12, 64, 0.01),\n",
       "  (1, '2c', 88, 64, 0.008),\n",
       "  (1, '2c', 40, 64, 0.003),\n",
       "  (1, '2c', 24, 64, 0.008),\n",
       "  (1, '2c', 56, 64, 0.002),\n",
       "  (1, '2c', 10, 64, 0.013),\n",
       "  (1, '2c', 72, 64, 0.01)],\n",
       " [(2, '32b', 92, 64, 0.013),\n",
       "  (2, '32b', 120, 64, 0.002),\n",
       "  (2, '32b', 89, 64, 0.013),\n",
       "  (2, '32b', 90, 64, 0.01)],\n",
       " [(0, '1a', 4, 64, 0.011),\n",
       "  (0, '1a', 16, 64, 0.007),\n",
       "  (0, '1a', 2, 64, 0.011),\n",
       "  (0, '1a', 8, 64, 0.01),\n",
       "  (0, '1a', 74, 64, 0.01),\n",
       "  (0, '1a', 96, 64, 0.006),\n",
       "  (0, '1a', 64, 64, 0.012),\n",
       "  (0, '1a', 80, 64, 0.008),\n",
       "  (0, '1a', 32, 64, 0.006),\n",
       "  (0, '1a', 48, 64, 0.003),\n",
       "  (0, '1a', 1, 64, 0.01)],\n",
       " [(2, '1a', 113, 64, 0.003),\n",
       "  (2, '1a', 49, 64, 0.003),\n",
       "  (2, '1a', 83, 64, 0.007),\n",
       "  (2, '1a', 89, 64, 0.008),\n",
       "  (2, '1a', 85, 64, 0.008),\n",
       "  (2, '1a', 91, 64, 0.012),\n",
       "  (2, '1a', 97, 64, 0.005)],\n",
       " [(0, '2a', 4, 64, 0.012),\n",
       "  (0, '2a', 16, 64, 0.008),\n",
       "  (0, '2a', 2, 64, 0.01),\n",
       "  (0, '2a', 8, 64, 0.01),\n",
       "  (0, '2a', 74, 64, 0.011),\n",
       "  (0, '2a', 96, 64, 0.005),\n",
       "  (0, '2a', 64, 64, 0.011),\n",
       "  (0, '2a', 80, 64, 0.008),\n",
       "  (0, '2a', 32, 64, 0.005),\n",
       "  (0, '2a', 48, 64, 0.002),\n",
       "  (0, '2a', 1, 64, 0.011)],\n",
       " [(0, '2c', 4, 64, 0.01),\n",
       "  (0, '2c', 16, 64, 0.008),\n",
       "  (0, '2c', 2, 64, 0.008),\n",
       "  (0, '2c', 8, 64, 0.009),\n",
       "  (0, '2c', 74, 64, 0.012),\n",
       "  (0, '2c', 96, 64, 0.003),\n",
       "  (0, '2c', 64, 64, 0.01),\n",
       "  (0, '2c', 80, 64, 0.009),\n",
       "  (0, '2c', 32, 64, 0.003),\n",
       "  (0, '2c', 48, 64, 0.002),\n",
       "  (0, '2c', 1, 64, 0.01)],\n",
       " [(2, '5c', 50, 64, 0.004),\n",
       "  (2, '5c', 83, 64, 0.007),\n",
       "  (2, '5c', 86, 64, 0.007),\n",
       "  (2, '5c', 114, 64, 0.004),\n",
       "  (2, '5c', 98, 64, 0.012)],\n",
       " [(1, '2b', 9, 64, 0.01),\n",
       "  (1, '2b', 104, 64, 0.003),\n",
       "  (1, '2b', 12, 64, 0.01),\n",
       "  (1, '2b', 88, 64, 0.008),\n",
       "  (1, '2b', 40, 64, 0.003),\n",
       "  (1, '2b', 24, 64, 0.008),\n",
       "  (1, '2b', 56, 64, 0.002),\n",
       "  (1, '2b', 10, 64, 0.012),\n",
       "  (1, '2b', 72, 64, 0.01)],\n",
       " [(0, '1c', 4, 64, 0.011),\n",
       "  (0, '1c', 16, 64, 0.007),\n",
       "  (0, '1c', 2, 64, 0.011),\n",
       "  (0, '1c', 8, 64, 0.009),\n",
       "  (0, '1c', 74, 64, 0.01),\n",
       "  (0, '1c', 96, 64, 0.006),\n",
       "  (0, '1c', 64, 64, 0.011),\n",
       "  (0, '1c', 80, 64, 0.008),\n",
       "  (0, '1c', 32, 64, 0.006),\n",
       "  (0, '1c', 48, 64, 0.003),\n",
       "  (0, '1c', 1, 64, 0.01)],\n",
       " [(0, '2b', 4, 64, 0.01),\n",
       "  (0, '2b', 16, 64, 0.008),\n",
       "  (0, '2b', 2, 64, 0.01),\n",
       "  (0, '2b', 8, 64, 0.009),\n",
       "  (0, '2b', 74, 64, 0.01),\n",
       "  (0, '2b', 96, 64, 0.003),\n",
       "  (0, '2b', 64, 64, 0.011),\n",
       "  (0, '2b', 80, 64, 0.008),\n",
       "  (0, '2b', 32, 64, 0.003),\n",
       "  (0, '2b', 48, 64, 0.002),\n",
       "  (0, '2b', 1, 64, 0.01)],\n",
       " [(0, '4a', 4, 64, 0.009),\n",
       "  (0, '4a', 16, 64, 0.007),\n",
       "  (0, '4a', 2, 64, 0.009),\n",
       "  (0, '4a', 8, 64, 0.008),\n",
       "  (0, '4a', 74, 64, 0.01),\n",
       "  (0, '4a', 96, 64, 0.004),\n",
       "  (0, '4a', 64, 64, 0.009),\n",
       "  (0, '4a', 80, 64, 0.007),\n",
       "  (0, '4a', 32, 64, 0.004),\n",
       "  (0, '4a', 48, 64, 0.002),\n",
       "  (0, '4a', 1, 64, 0.008)],\n",
       " [(0, '3c', 4, 64, 0.007),\n",
       "  (0, '3c', 16, 64, 0.003),\n",
       "  (0, '3c', 2, 64, 0.007),\n",
       "  (0, '3c', 8, 64, 0.006),\n",
       "  (0, '3c', 74, 64, 0.01),\n",
       "  (0, '3c', 96, 64, 0.004),\n",
       "  (0, '3c', 64, 64, 0.007),\n",
       "  (0, '3c', 80, 64, 0.004),\n",
       "  (0, '3c', 32, 64, 0.005),\n",
       "  (0, '3c', 48, 64, 0.001),\n",
       "  (0, '3c', 1, 64, 0.007)],\n",
       " [(1, '3c', 9, 64, 0.006),\n",
       "  (1, '3c', 104, 64, 0.004),\n",
       "  (1, '3c', 12, 64, 0.007),\n",
       "  (1, '3c', 88, 64, 0.003),\n",
       "  (1, '3c', 40, 64, 0.004),\n",
       "  (1, '3c', 24, 64, 0.003),\n",
       "  (1, '3c', 56, 64, 0.001),\n",
       "  (1, '3c', 10, 64, 0.01),\n",
       "  (1, '3c', 72, 64, 0.006)],\n",
       " [(0, '4c', 4, 64, 0.01),\n",
       "  (0, '4c', 16, 64, 0.007),\n",
       "  (0, '4c', 2, 64, 0.009),\n",
       "  (0, '4c', 8, 64, 0.009),\n",
       "  (0, '4c', 74, 64, 0.01),\n",
       "  (0, '4c', 96, 64, 0.004),\n",
       "  (0, '4c', 64, 64, 0.009),\n",
       "  (0, '4c', 80, 64, 0.007),\n",
       "  (0, '4c', 32, 64, 0.005),\n",
       "  (0, '4c', 48, 64, 0.002),\n",
       "  (0, '4c', 1, 64, 0.008)],\n",
       " [(0, '4b', 4, 64, 0.006),\n",
       "  (0, '4b', 16, 64, 0.006),\n",
       "  (0, '4b', 2, 64, 0.008),\n",
       "  (0, '4b', 8, 64, 0.006),\n",
       "  (0, '4b', 74, 64, 0.01),\n",
       "  (0, '4b', 96, 64, 0.003),\n",
       "  (0, '4b', 64, 64, 0.006),\n",
       "  (0, '4b', 80, 64, 0.006),\n",
       "  (0, '4b', 32, 64, 0.002),\n",
       "  (0, '4b', 48, 64, 0.002),\n",
       "  (0, '4b', 1, 64, 0.006)],\n",
       " [(0, '3a', 4, 64, 0.006),\n",
       "  (0, '3a', 16, 64, 0.003),\n",
       "  (0, '3a', 2, 64, 0.007),\n",
       "  (0, '3a', 8, 64, 0.006),\n",
       "  (0, '3a', 74, 64, 0.009),\n",
       "  (0, '3a', 96, 64, 0.004),\n",
       "  (0, '3a', 64, 64, 0.006),\n",
       "  (0, '3a', 80, 64, 0.003),\n",
       "  (0, '3a', 32, 64, 0.004),\n",
       "  (0, '3a', 48, 64, 0.001),\n",
       "  (0, '3a', 1, 64, 0.007)],\n",
       " [(1, '3a', 9, 64, 0.006),\n",
       "  (1, '3a', 104, 64, 0.004),\n",
       "  (1, '3a', 12, 64, 0.006),\n",
       "  (1, '3a', 88, 64, 0.003),\n",
       "  (1, '3a', 40, 64, 0.004),\n",
       "  (1, '3a', 24, 64, 0.003),\n",
       "  (1, '3a', 56, 64, 0.001),\n",
       "  (1, '3a', 10, 64, 0.009),\n",
       "  (1, '3a', 72, 64, 0.006)],\n",
       " [(2, '1b', 113, 64, 0.002),\n",
       "  (2, '1b', 57, 64, 0.002),\n",
       "  (2, '1b', 123, 64, 0.002),\n",
       "  (2, '1b', 53, 64, 0.002),\n",
       "  (2, '1b', 97, 64, 0.005),\n",
       "  (2, '1b', 81, 64, 0.009),\n",
       "  (2, '1b', 51, 64, 0.003)],\n",
       " [(1, '1a', 82, 64, 0.007),\n",
       "  (1, '1a', 88, 64, 0.007),\n",
       "  (1, '1a', 84, 64, 0.008),\n",
       "  (1, '1a', 90, 64, 0.007),\n",
       "  (1, '1a', 112, 64, 0.003),\n",
       "  (1, '1a', 81, 64, 0.009)],\n",
       " [(2, '1d', 113, 64, 0.002),\n",
       "  (2, '1d', 57, 64, 0.002),\n",
       "  (2, '1d', 123, 64, 0.002),\n",
       "  (2, '1d', 53, 64, 0.002),\n",
       "  (2, '1d', 97, 64, 0.005),\n",
       "  (2, '1d', 81, 64, 0.009),\n",
       "  (2, '1d', 51, 64, 0.003)],\n",
       " [(0, '3b', 4, 64, 0.003),\n",
       "  (0, '3b', 16, 64, 0.002),\n",
       "  (0, '3b', 2, 64, 0.004),\n",
       "  (0, '3b', 8, 64, 0.002),\n",
       "  (0, '3b', 74, 64, 0.009),\n",
       "  (0, '3b', 96, 64, 0.001),\n",
       "  (0, '3b', 64, 64, 0.003),\n",
       "  (0, '3b', 80, 64, 0.003),\n",
       "  (0, '3b', 32, 64, 0.001),\n",
       "  (0, '3b', 48, 64, 0.001),\n",
       "  (0, '3b', 1, 64, 0.004)],\n",
       " [(1, '5c', 82, 64, 0.007),\n",
       "  (1, '5c', 88, 64, 0.007),\n",
       "  (1, '5c', 84, 64, 0.008),\n",
       "  (1, '5c', 90, 64, 0.009),\n",
       "  (1, '5c', 112, 64, 0.004),\n",
       "  (1, '5c', 81, 64, 0.008)],\n",
       " [(3, '1a', 87, 64, 0.007),\n",
       "  (3, '1a', 115, 64, 0.003),\n",
       "  (3, '1a', 99, 64, 0.006),\n",
       "  (3, '1a', 51, 64, 0.004)],\n",
       " [(2, '6e', 54, 64, 0.003),\n",
       "  (2, '6e', 82, 64, 0.006),\n",
       "  (2, '6e', 58, 64, 0.002),\n",
       "  (2, '6e', 114, 64, 0.003),\n",
       "  (2, '6e', 98, 64, 0.007),\n",
       "  (2, '6e', 51, 64, 0.001)],\n",
       " [(1, '3b', 104, 64, 0.001),\n",
       "  (1, '3b', 100, 64, 0.001),\n",
       "  (1, '3b', 106, 64, 0.007),\n",
       "  (1, '3b', 112, 64, 0.001),\n",
       "  (1, '3b', 97, 64, 0.001),\n",
       "  (1, '3b', 98, 64, 0.002)],\n",
       " [(1, '4a', 104, 64, 0.004),\n",
       "  (1, '4a', 100, 64, 0.004),\n",
       "  (1, '4a', 106, 64, 0.006),\n",
       "  (1, '4a', 112, 64, 0.002),\n",
       "  (1, '4a', 97, 64, 0.003),\n",
       "  (1, '4a', 98, 64, 0.005)],\n",
       " [(3, '1c', 115, 64, 0.003),\n",
       "  (3, '1c', 107, 64, 0.006),\n",
       "  (3, '1c', 103, 64, 0.005)],\n",
       " [(2, '4c', 120, 64, 0.002),\n",
       "  (2, '4c', 104, 64, 0.004),\n",
       "  (2, '4c', 88, 64, 0.006),\n",
       "  (2, '4c', 57, 64, 0.002),\n",
       "  (2, '4c', 58, 64, 0.002),\n",
       "  (2, '4c', 60, 64, 0.002)],\n",
       " [(3, '5a', 115, 64, 0.003),\n",
       "  (3, '5a', 107, 64, 0.006),\n",
       "  (3, '5a', 103, 64, 0.004)],\n",
       " [(2, '6c', 83, 64, 0.005),\n",
       "  (2, '6c', 90, 64, 0.006),\n",
       "  (2, '6c', 86, 64, 0.006),\n",
       "  (2, '6c', 114, 64, 0.003)],\n",
       " [(1, '4b', 104, 64, 0.002),\n",
       "  (1, '4b', 100, 64, 0.002),\n",
       "  (1, '4b', 106, 64, 0.006),\n",
       "  (1, '4b', 112, 64, 0.002),\n",
       "  (1, '4b', 97, 64, 0.002),\n",
       "  (1, '4b', 98, 64, 0.004)],\n",
       " [(2, '4b', 108, 64, 0.003),\n",
       "  (2, '4b', 116, 64, 0.002),\n",
       "  (2, '4b', 84, 64, 0.006),\n",
       "  (2, '4b', 101, 64, 0.002),\n",
       "  (2, '4b', 52, 64, 0.002),\n",
       "  (2, '4b', 102, 64, 0.004),\n",
       "  (2, '4b', 110, 64, 0.006)],\n",
       " [(2, '6a', 54, 64, 0.003),\n",
       "  (2, '6a', 122, 64, 0.002),\n",
       "  (2, '6a', 58, 64, 0.002),\n",
       "  (2, '6a', 114, 64, 0.003),\n",
       "  (2, '6a', 51, 64, 0.001)],\n",
       " [(1, '1b', 49, 64, 0.002),\n",
       "  (1, '1b', 50, 64, 0.003),\n",
       "  (1, '1b', 56, 64, 0.002),\n",
       "  (1, '1b', 52, 64, 0.003),\n",
       "  (1, '1b', 112, 64, 0.002),\n",
       "  (1, '1b', 122, 64, 0.003)],\n",
       " [(1, '4c', 49, 64, 0.002),\n",
       "  (1, '4c', 50, 64, 0.003),\n",
       "  (1, '4c', 56, 64, 0.002),\n",
       "  (1, '4c', 52, 64, 0.002),\n",
       "  (1, '4c', 112, 64, 0.002),\n",
       "  (1, '4c', 122, 64, 0.002)],\n",
       " [(1, '1d', 49, 64, 0.002),\n",
       "  (1, '1d', 50, 64, 0.003),\n",
       "  (1, '1d', 56, 64, 0.003),\n",
       "  (1, '1d', 52, 64, 0.002),\n",
       "  (1, '1d', 112, 64, 0.002),\n",
       "  (1, '1d', 122, 64, 0.003)],\n",
       " [(1, '6e', 49, 64, 0.001),\n",
       "  (1, '6e', 50, 64, 0.003),\n",
       "  (1, '6e', 56, 64, 0.002),\n",
       "  (1, '6e', 52, 64, 0.002),\n",
       "  (1, '6e', 112, 64, 0.002),\n",
       "  (1, '6e', 122, 64, 0.002)],\n",
       " [(3, '5b', 59, 64, 0.003),\n",
       "  (3, '5b', 115, 64, 0.003),\n",
       "  (3, '5b', 123, 64, 0.003),\n",
       "  (3, '5b', 55, 64, 0.003)],\n",
       " [(2, '3c', 120, 64, 0.001),\n",
       "  (2, '3c', 57, 64, 0.001),\n",
       "  (2, '3c', 58, 64, 0.001),\n",
       "  (2, '3c', 122, 64, 0.001),\n",
       "  (2, '3c', 60, 64, 0.002)],\n",
       " [(2, '2d', 120, 64, 0.002),\n",
       "  (2, '2d', 57, 64, 0.001),\n",
       "  (2, '2d', 58, 64, 0.002),\n",
       "  (2, '2d', 122, 64, 0.002),\n",
       "  (2, '2d', 60, 64, 0.002)],\n",
       " [(1, '2a', 49, 64, 0.002),\n",
       "  (1, '2a', 50, 64, 0.002),\n",
       "  (1, '2a', 56, 64, 0.002),\n",
       "  (1, '2a', 52, 64, 0.002),\n",
       "  (1, '2a', 112, 64, 0.002),\n",
       "  (1, '2a', 122, 64, 0.002)],\n",
       " [(2, '2c', 120, 64, 0.002),\n",
       "  (2, '2c', 57, 64, 0.001),\n",
       "  (2, '2c', 58, 64, 0.001),\n",
       "  (2, '2c', 122, 64, 0.001),\n",
       "  (2, '2c', 60, 64, 0.002)],\n",
       " [(2, '2b', 120, 64, 0.002),\n",
       "  (2, '2b', 57, 64, 0.001),\n",
       "  (2, '2b', 58, 64, 0.002),\n",
       "  (2, '2b', 122, 64, 0.001),\n",
       "  (2, '2b', 60, 64, 0.002)],\n",
       " [(2, '3a', 120, 64, 0.001),\n",
       "  (2, '3a', 57, 64, 0.001),\n",
       "  (2, '3a', 58, 64, 0.001),\n",
       "  (2, '3a', 122, 64, 0.001),\n",
       "  (2, '3a', 60, 64, 0.001)],\n",
       " []]"
      ]
     },
     "execution_count": 98,
     "metadata": {},
     "output_type": "execute_result"
    }
   ],
   "source": [
    "sorted(PLAN_TIMES, key=lambda l: max((t[-1] for t in l), default=0), reverse=True)"
   ]
  },
  {
   "cell_type": "code",
   "execution_count": 122,
   "metadata": {
    "vscode": {
     "languageId": "python"
    }
   },
   "outputs": [
    {
     "data": {
      "text/plain": [
       "117.07300000000001"
      ]
     },
     "execution_count": 122,
     "metadata": {},
     "output_type": "execute_result"
    }
   ],
   "source": [
    "sum(max((t[-1] for t in l), default=0) for l in PLAN_TIMES)"
   ]
  },
  {
   "cell_type": "code",
   "execution_count": 90,
   "metadata": {
    "vscode": {
     "languageId": "python"
    }
   },
   "outputs": [
    {
     "data": {
      "text/plain": [
       "[('9d', 75, 64, 0.29),\n",
       " ('9d', 78, 64, 0.233),\n",
       " ('9d', 106, 64, 0.2),\n",
       " ('9d', 90, 64, 0.133),\n",
       " ('9d', 58, 64, 0.024)]"
      ]
     },
     "execution_count": 90,
     "metadata": {},
     "output_type": "execute_result"
    }
   ],
   "source": [
    "PLAN_TIMES[1]"
   ]
  },
  {
   "cell_type": "code",
   "execution_count": 87,
   "metadata": {
    "vscode": {
     "languageId": "python"
    }
   },
   "outputs": [
    {
     "data": {
      "text/plain": [
       "358"
      ]
     },
     "execution_count": 87,
     "metadata": {},
     "output_type": "execute_result"
    }
   ],
   "source": [
    "len(PLAN_TIMES)"
   ]
  },
  {
   "cell_type": "markdown",
   "metadata": {},
   "source": [
    "## Default Dop"
   ]
  },
  {
   "cell_type": "code",
   "execution_count": 195,
   "metadata": {
    "vscode": {
     "languageId": "python"
    }
   },
   "outputs": [
    {
     "data": {
      "text/plain": [
       "(0.166,\n",
       " Prediction(expected_node=Node(logical_plan='Aggregate (Rel=None|Index=None) [ Hash Join (Rel=None|Index=None) [ Hash Join (Rel=None|Index=None) [ Hash Join (Rel=None|Index=None) [ Streaming(type: LOCAL GATHER dop: 1/64) (Rel=None|Index=None) [ Hash Join (Rel=None|Index=None) [ Streaming(type: LOCAL REDISTRIBUTE dop: 64/1) (Rel=None|Index=None) [ Hash Join (Rel=None|Index=None) [ Seq Scan (Rel=aka_name|Index=None) [ ] Hash (Rel=None|Index=None) [ Hash Join (Rel=None|Index=None) [ Hash Join (Rel=None|Index=None) [ Streaming(type: LOCAL GATHER dop: 1/64) (Rel=None|Index=None) [ Seq Scan (Rel=cast_info|Index=None) [ ] ] Hash (Rel=None|Index=None) [ Seq Scan (Rel=role_type|Index=None) [ ] ] ] Hash (Rel=None|Index=None) [ Streaming(type: LOCAL GATHER dop: 1/64) (Rel=None|Index=None) [ Seq Scan (Rel=name|Index=None) [ ] ] ] ] ] ] ] Hash (Rel=None|Index=None) [ Streaming(type: LOCAL REDISTRIBUTE dop: 64/64) (Rel=None|Index=None) [ Seq Scan (Rel=char_name|Index=None) [ ] ] ] ] ] Hash (Rel=None|Index=None) [ Seq Scan (Rel=title|Index=None) [ ] ] ] Hash (Rel=None|Index=None) [ Seq Scan (Rel=movie_companies|Index=None) [ ] ] ] Hash (Rel=None|Index=None) [ Seq Scan (Rel=company_name|Index=None) [ ] ] ] ]', selectivities=[1, 51117, 103999, 49233, 49233, 49233, 101559, 101559, 901342, 84825, 84825, 75742, 833163, 833163, 1, 1, 962505, 962505, 962505, 3140338, 3140338, 3140338, 2528311, 2528311, 2609128, 2609128, 85170, 85170], cardinalities=[1.956296339769548e-05, 5.770979705108052e-06, 8.096130086762147e-07, 3.955209624132474e-07, 1.0, 1.5436949726760042e-07, 1.0, 1.3283268129547536e-06, 901342.0, 1.0, 1.1635474679139872e-06, 0.09090898179587907, 1.0, 833163.0, 1.0, 1.0, 1.0, 1.0, 962505.0, 1.0, 1.0, 3140338.0, 1.0, 2528311.0, 1.0, 2609128.0, 1.0, 85170.0]), parameters=Parameters(hintset=34, dop=64), expected_boost=1.2181864981143908))"
      ]
     },
     "execution_count": 195,
     "metadata": {},
     "output_type": "execute_result"
    }
   ],
   "source": [
    "pred"
   ]
  },
  {
   "cell_type": "code",
   "execution_count": 252,
   "metadata": {
    "vscode": {
     "languageId": "python"
    }
   },
   "outputs": [],
   "source": [
    "BOOST_THRESHOLD = 0"
   ]
  },
  {
   "cell_type": "code",
   "execution_count": 261,
   "metadata": {
    "vscode": {
     "languageId": "python"
    }
   },
   "outputs": [
    {
     "name": "stdout",
     "output_type": "stream",
     "text": [
      "regression: 1.2213309999999993\n",
      "regression: 4.2007799899292\n",
      "regression: 0.965600939605713\n",
      "regression: 5.402483011047362\n",
      "regression: 1.071187039352417\n",
      "546.696184 308.7589699799347\n"
     ]
    }
   ],
   "source": [
    "def_e2e, e2e = 0, 0\n",
    "\n",
    "heromodel = Hero(LOCAL_SS)\n",
    "heromodel.fit(job_workload)\n",
    "\n",
    "for q_n in job_workload:\n",
    "    pred = heromodel.predict(q_n)\n",
    "    hs, dop = pred[1].parameters\n",
    "    \n",
    "    if (hs, dop) != (0, 64):\n",
    "        e2e += _get_planning_time(q_n, 0, 64)\n",
    "    if _get_e2e_time(q_n ,hs, dop) > _get_e2e_time(q_n ,0, 64):\n",
    "        #print(heromodel.validate(q_n, pred[1]))\n",
    "        print(\"regression:\", _get_e2e_time(q_n ,hs, dop) - _get_e2e_time(q_n ,0, 64))\n",
    "    e2e += _get_e2e_time(q_n ,hs, dop)\n",
    "    def_e2e += _get_e2e_time(q_n ,0, 64)\n",
    "\n",
    "print(def_e2e, e2e)"
   ]
  },
  {
   "cell_type": "code",
   "execution_count": 262,
   "metadata": {
    "vscode": {
     "languageId": "python"
    }
   },
   "outputs": [
    {
     "name": "stdout",
     "output_type": "stream",
     "text": [
      "546.696184 369.3896810000001\n"
     ]
    }
   ],
   "source": [
    "def_e2e, e2e = 0, 0\n",
    "\n",
    "for q_n in job_workload:\n",
    "    heromodel = Hero(LOCAL_DEF_DOP_SS)\n",
    "    heromodel.fit([q_n])\n",
    "    hs, dop = heromodel.predict(q_n)[1].parameters\n",
    "    assert _get_e2e_time(q_n ,hs, dop) <= _get_e2e_time(q_n ,0, 64)\n",
    "    if (hs, dop) != (0, 64):\n",
    "        e2e += _get_planning_time(q_n, 0, 64)\n",
    "    e2e += _get_e2e_time(q_n ,hs, dop)\n",
    "    def_e2e += _get_e2e_time(q_n ,0, 64)\n",
    "\n",
    "print(def_e2e, e2e)"
   ]
  },
  {
   "cell_type": "markdown",
   "metadata": {},
   "source": [
    "**todo**\n",
    "- сравнить время инференса local vs greedy (pruned, why 200 sec) \n",
    "- убедиться, что нет жесткой деградации при учитывании inference time in query explorer (или в другое место унести)"
   ]
  },
  {
   "cell_type": "code",
   "execution_count": 155,
   "metadata": {
    "vscode": {
     "languageId": "python"
    }
   },
   "outputs": [],
   "source": [
    "def check_def_nn():\n",
    "    ss_and_descrs = [\n",
    "        (GREEDY_DEF_DOP_SS, \"greedy\"), \n",
    "        (PRUNED_GREEDY_DEF_DOP_SS, \"pruned greedy\"), \n",
    "        (ECONOM_DEF_DOP_SS, \"econom local\"),\n",
    "        (PRUNED_ECONOM_DEF_DOP_SS, \"pruned econom local\"),\n",
    "        (LOCAL_DEF_DOP_SS, \"local\"),\n",
    "        (PRUNED_LOCAL_DEF_DOP_SS, \"pruned local\"),\n",
    "        (ALL_DEF_DOP_SS, \"exhaustive\")\n",
    "    ]\n",
    "\n",
    "    for workload, workload_name, ideal_model in zip(workloads, workload_names, ideal_models):\n",
    "        optimal_e2e_time = sum(min(_get_e2e_time(q_n, hs, DEFAULT_DOP) for hs in HINTSETS) for q_n in workload)\n",
    "        for ss, descr in ss_and_descrs:\n",
    "            ideal_model.inference_settings = ss\n",
    "            report = get_report(ideal_model, workload)\n",
    "            ex_time, inference_time = report[\"custom_ex_time\"], report[\"inference_time\"]\n",
    "            degradations = sum(v for v in report[\"boosts\"] if v < 0)\n",
    "            resume_str = f\"[NN, {workload_name}|{descr}] \"\n",
    "            resume_str += f\"{optimal_e2e_time:0.1f} vs {ex_time+inference_time:0.1f} ({ex_time:0.1f} + {inference_time:0.1f}) \"\n",
    "            resume_str += f\"# T/O={report['n_timeouts']} Degr={degradations:0.1f}\"\n",
    "            print(resume_str)"
   ]
  },
  {
   "cell_type": "code",
   "execution_count": 223,
   "metadata": {
    "vscode": {
     "languageId": "python"
    }
   },
   "outputs": [
    {
     "name": "stderr",
     "output_type": "stream",
     "text": [
      "100%|██████████| 113/113 [01:01<00:00,  1.85it/s]\n"
     ]
    },
    {
     "name": "stdout",
     "output_type": "stream",
     "text": [
      "[NN, JOB|greedy] 283.1 vs 499.3 (324.3 + 175.0) # T/O=0.0 Degr=-0.0\n"
     ]
    },
    {
     "name": "stderr",
     "output_type": "stream",
     "text": [
      "100%|██████████| 113/113 [00:39<00:00,  2.87it/s]\n"
     ]
    },
    {
     "name": "stdout",
     "output_type": "stream",
     "text": [
      "[NN, JOB|pruned greedy] 283.1 vs 457.9 (340.0 + 117.8) # T/O=0.0 Degr=-0.1\n"
     ]
    },
    {
     "name": "stderr",
     "output_type": "stream",
     "text": [
      "100%|██████████| 113/113 [00:31<00:00,  3.57it/s]\n"
     ]
    },
    {
     "name": "stdout",
     "output_type": "stream",
     "text": [
      "[NN, JOB|econom local] 283.1 vs 430.6 (290.6 + 139.9) # T/O=1.0 Degr=-0.1\n"
     ]
    },
    {
     "name": "stderr",
     "output_type": "stream",
     "text": [
      "100%|██████████| 113/113 [00:29<00:00,  3.83it/s]\n"
     ]
    },
    {
     "name": "stdout",
     "output_type": "stream",
     "text": [
      "[NN, JOB|pruned econom local] 283.1 vs 408.4 (290.5 + 117.9) # T/O=0.0 Degr=-0.1\n"
     ]
    },
    {
     "name": "stderr",
     "output_type": "stream",
     "text": [
      "100%|██████████| 113/113 [01:25<00:00,  1.32it/s]\n"
     ]
    },
    {
     "name": "stdout",
     "output_type": "stream",
     "text": [
      "[NN, JOB|local] 283.1 vs 496.0 (270.7 + 225.3) # T/O=2.0 Degr=-0.0\n"
     ]
    },
    {
     "name": "stderr",
     "output_type": "stream",
     "text": [
      "100%|██████████| 113/113 [00:50<00:00,  2.24it/s]\n"
     ]
    },
    {
     "name": "stdout",
     "output_type": "stream",
     "text": [
      "[NN, JOB|pruned local] 283.1 vs 402.9 (273.4 + 129.4) # T/O=0.0 Degr=-0.0\n"
     ]
    },
    {
     "name": "stderr",
     "output_type": "stream",
     "text": [
      "100%|██████████| 113/113 [00:11<00:00, 10.22it/s]\n"
     ]
    },
    {
     "name": "stdout",
     "output_type": "stream",
     "text": [
      "[NN, JOB|exhaustive] 283.1 vs 7779.1 (268.4 + 7510.7) # T/O=11.0 Degr=-1.0\n"
     ]
    },
    {
     "name": "stderr",
     "output_type": "stream",
     "text": [
      "100%|██████████| 40/40 [00:03<00:00, 11.00it/s]\n"
     ]
    },
    {
     "name": "stdout",
     "output_type": "stream",
     "text": [
      "[NN, SQ|greedy] 241.1 vs 414.1 (275.3 + 138.8) # T/O=0.0 Degr=-0.1\n"
     ]
    },
    {
     "name": "stderr",
     "output_type": "stream",
     "text": [
      "100%|██████████| 40/40 [00:00<00:00, 51.22it/s]\n"
     ]
    },
    {
     "name": "stdout",
     "output_type": "stream",
     "text": [
      "[NN, SQ|pruned greedy] 241.1 vs 397.8 (324.8 + 73.0) # T/O=0.0 Degr=-0.1\n"
     ]
    },
    {
     "name": "stderr",
     "output_type": "stream",
     "text": [
      "100%|██████████| 40/40 [00:00<00:00, 61.67it/s]\n"
     ]
    },
    {
     "name": "stdout",
     "output_type": "stream",
     "text": [
      "[NN, SQ|econom local] 241.1 vs 421.6 (307.0 + 114.7) # T/O=1.0 Degr=0.0\n"
     ]
    },
    {
     "name": "stderr",
     "output_type": "stream",
     "text": [
      "100%|██████████| 40/40 [00:00<00:00, 66.29it/s]\n"
     ]
    },
    {
     "name": "stdout",
     "output_type": "stream",
     "text": [
      "[NN, SQ|pruned econom local] 241.1 vs 405.2 (318.0 + 87.1) # T/O=0.0 Degr=0.0\n"
     ]
    },
    {
     "name": "stderr",
     "output_type": "stream",
     "text": [
      "100%|██████████| 40/40 [00:01<00:00, 22.19it/s]\n"
     ]
    },
    {
     "name": "stdout",
     "output_type": "stream",
     "text": [
      "[NN, SQ|local] 241.1 vs 408.0 (240.7 + 167.4) # T/O=1.0 Degr=-0.1\n"
     ]
    },
    {
     "name": "stderr",
     "output_type": "stream",
     "text": [
      "100%|██████████| 40/40 [00:01<00:00, 36.70it/s]\n"
     ]
    },
    {
     "name": "stdout",
     "output_type": "stream",
     "text": [
      "[NN, SQ|pruned local] 241.1 vs 353.7 (261.8 + 91.8) # T/O=0.0 Degr=-0.1\n"
     ]
    },
    {
     "name": "stderr",
     "output_type": "stream",
     "text": [
      "100%|██████████| 40/40 [00:00<00:00, 94.10it/s]"
     ]
    },
    {
     "name": "stdout",
     "output_type": "stream",
     "text": [
      "[NN, SQ|exhaustive] 241.1 vs 5032.3 (228.0 + 4804.3) # T/O=4.0 Degr=-0.2\n"
     ]
    },
    {
     "name": "stderr",
     "output_type": "stream",
     "text": [
      "\n"
     ]
    }
   ],
   "source": [
    "check_def_nn()"
   ]
  },
  {
   "cell_type": "code",
   "execution_count": 255,
   "metadata": {
    "vscode": {
     "languageId": "python"
    }
   },
   "outputs": [
    {
     "name": "stderr",
     "output_type": "stream",
     "text": [
      "100%|██████████| 113/113 [00:00<00:00, 42503.48it/s]\n"
     ]
    },
    {
     "name": "stdout",
     "output_type": "stream",
     "text": [
      "3 edges, [[9.329472000000003], [14.107754], [0.004936999999999997]]\n",
      "3 edges, [[9.329472000000003], [14.107754], [0.004936999999999997]]\n",
      "2 edges, [[0.765227], [1.180586]]\n",
      "3 edges, [[9.329472000000003], [14.107754], [0.004936999999999997]]\n",
      "2 edges, [[12.801364], [3.902947]]\n",
      "2 edges, [[0.765227], [1.180586]]\n",
      "3 edges, [[0.4986850000000018], [2.044034999999999], [0.7190470000000015]]\n",
      "3 edges, [[0.4986850000000018], [2.044034999999999], [0.7190470000000015]]\n",
      "2 edges, [[0.4082889999999999], [0.38580900000000007]]\n",
      "3 edges, [[0.4986850000000018], [2.044034999999999], [0.7190470000000015]]\n",
      "2 edges, [[12.801364], [3.902947]]\n",
      "3 edges, [[9.329472000000003], [14.107754], [0.004936999999999997]]\n",
      "3 edges, [[9.329472000000003], [14.107754], [0.004936999999999997]]\n",
      "3 edges, [[0.4986850000000018], [2.044034999999999], [0.7190470000000015]]\n",
      "2 edges, [[0.4082889999999999], [0.38580900000000007]]\n",
      "[Hero, JOB|greedy] 283.1 vs 427.2 (335.8 + 91.4) # T/O=2.0 Degr=-26.2\n"
     ]
    },
    {
     "name": "stderr",
     "output_type": "stream",
     "text": [
      "100%|██████████| 113/113 [00:00<00:00, 42768.12it/s]\n"
     ]
    },
    {
     "name": "stdout",
     "output_type": "stream",
     "text": [
      "3 edges, [[0.1215080000000004], [13.82947], [0.0009369999999999934]]\n",
      "3 edges, [[0.1215080000000004], [13.82947], [0.0009369999999999934]]\n",
      "2 edges, [[0.591863], [0.9003839999999999]]\n",
      "3 edges, [[0.1215080000000004], [13.82947], [0.0009369999999999934]]\n",
      "2 edges, [[9.614586], [3.9009470000000004]]\n",
      "2 edges, [[0.591863], [0.9003839999999999]]\n",
      "3 edges, [[0.41568500000000164], [0.18818499999999894], [0.20360200000000006]]\n",
      "3 edges, [[0.41568500000000164], [0.18818499999999894], [0.20360200000000006]]\n",
      "2 edges, [[0.40103999999999984], [0.2438570000000001]]\n",
      "3 edges, [[0.41568500000000164], [0.18818499999999894], [0.20360200000000006]]\n",
      "2 edges, [[9.614586], [3.9009470000000004]]\n",
      "3 edges, [[0.1215080000000004], [13.82947], [0.0009369999999999934]]\n",
      "3 edges, [[0.1215080000000004], [13.82947], [0.0009369999999999934]]\n",
      "3 edges, [[0.41568500000000164], [0.18818499999999894], [0.20360200000000006]]\n",
      "2 edges, [[0.40103999999999984], [0.2438570000000001]]\n",
      "[Hero, JOB|pruned greedy] 283.1 vs 438.4 (347.0 + 91.4) # T/O=0.0 Degr=-3.8\n"
     ]
    },
    {
     "name": "stderr",
     "output_type": "stream",
     "text": [
      "100%|██████████| 113/113 [00:00<00:00, 34439.50it/s]\n"
     ]
    },
    {
     "name": "stdout",
     "output_type": "stream",
     "text": [
      "2 edges, [[9.328472000000001], [9.791191]]\n",
      "2 edges, [[0.01120199999999999], [0.004153999999999991]]\n",
      "3 edges, [[0.0003600000000005821], [39.846096999999986], [0.019489000000000978]]\n",
      "2 edges, [[0.006048999999999971], [0.9246729999999999]]\n",
      "2 edges, [[9.328472000000001], [9.791191]]\n",
      "2 edges, [[13.397099], [1.1040340000000004]]\n",
      "2 edges, [[1.7220239999999998], [2.5376630000000002]]\n",
      "2 edges, [[0.01120199999999999], [0.004153999999999991]]\n",
      "2 edges, [[0.006048999999999971], [0.9246729999999999]]\n",
      "2 edges, [[1.7220239999999998], [2.5376630000000002]]\n",
      "2 edges, [[2.044034999999999], [0.28135700000000163]]\n",
      "2 edges, [[13.397099], [1.1040340000000004]]\n",
      "2 edges, [[2.044034999999999], [0.28135700000000163]]\n",
      "3 edges, [[0.0003600000000005821], [39.846096999999986], [0.019489000000000978]]\n",
      "3 edges, [[0.0003600000000005821], [39.846096999999986], [0.019489000000000978]]\n",
      "[Hero, JOB|econom local] 283.1 vs 397.6 (306.1 + 91.4) # T/O=2.0 Degr=-11.5\n"
     ]
    },
    {
     "name": "stderr",
     "output_type": "stream",
     "text": [
      "100%|██████████| 113/113 [00:00<00:00, 32422.79it/s]\n"
     ]
    },
    {
     "name": "stdout",
     "output_type": "stream",
     "text": [
      "2 edges, [[9.326472000000003], [9.788191]]\n",
      "2 edges, [[0.01120199999999999], [0.004153999999999991]]\n",
      "3 edges, [[0.0003600000000005821], [39.81809699999999], [0.019489000000000978]]\n",
      "2 edges, [[0.006048999999999971], [0.9246729999999999]]\n",
      "2 edges, [[9.326472000000003], [9.788191]]\n",
      "2 edges, [[13.397099], [1.1040340000000004]]\n",
      "2 edges, [[1.7220239999999998], [2.5376630000000002]]\n",
      "2 edges, [[0.01120199999999999], [0.004153999999999991]]\n",
      "2 edges, [[0.006048999999999971], [0.9246729999999999]]\n",
      "2 edges, [[1.7220239999999998], [2.5376630000000002]]\n",
      "2 edges, [[2.0310349999999993], [0.28135700000000163]]\n",
      "2 edges, [[13.397099], [1.1040340000000004]]\n",
      "2 edges, [[2.0310349999999993], [0.28135700000000163]]\n",
      "3 edges, [[0.0003600000000005821], [39.81809699999999], [0.019489000000000978]]\n",
      "3 edges, [[0.0003600000000005821], [39.81809699999999], [0.019489000000000978]]\n",
      "[Hero, JOB|pruned econom local] 283.1 vs 398.3 (306.9 + 91.4) # T/O=2.0 Degr=-12.3\n"
     ]
    },
    {
     "name": "stderr",
     "output_type": "stream",
     "text": [
      "100%|██████████| 113/113 [00:00<00:00, 31093.38it/s]\n"
     ]
    },
    {
     "name": "stdout",
     "output_type": "stream",
     "text": [
      "3 edges, [[9.328472000000001], [14.107754], [0.004936999999999997]]\n",
      "2 edges, [[0.014551000000000008], [0.004153999999999991]]\n",
      "3 edges, [[0.04382900000000056], [39.846096999999986], [0.019489000000000978]]\n",
      "3 edges, [[9.328472000000001], [14.107754], [0.004936999999999997]]\n",
      "2 edges, [[0.765227], [0.9256729999999999]]\n",
      "3 edges, [[9.328472000000001], [14.107754], [0.004936999999999997]]\n",
      "2 edges, [[13.406099000000001], [3.902947]]\n",
      "2 edges, [[1.732791], [2.537739]]\n",
      "2 edges, [[0.014551000000000008], [0.004153999999999991]]\n",
      "2 edges, [[0.765227], [0.9256729999999999]]\n",
      "3 edges, [[0.4986850000000018], [2.044034999999999], [0.7190470000000015]]\n",
      "3 edges, [[0.4986850000000018], [2.044034999999999], [0.7190470000000015]]\n",
      "2 edges, [[0.4082889999999999], [0.38580900000000007]]\n",
      "2 edges, [[1.732791], [2.537739]]\n",
      "3 edges, [[0.4986850000000018], [2.044034999999999], [0.7190470000000015]]\n",
      "2 edges, [[13.406099000000001], [3.902947]]\n",
      "3 edges, [[9.328472000000001], [14.107754], [0.004936999999999997]]\n",
      "3 edges, [[9.328472000000001], [14.107754], [0.004936999999999997]]\n",
      "3 edges, [[0.4986850000000018], [2.044034999999999], [0.7190470000000015]]\n",
      "3 edges, [[0.04382900000000056], [39.846096999999986], [0.019489000000000978]]\n",
      "2 edges, [[0.4082889999999999], [0.38580900000000007]]\n",
      "3 edges, [[0.04382900000000056], [39.846096999999986], [0.019489000000000978]]\n",
      "[Hero, JOB|local] 283.1 vs 397.5 (306.1 + 91.4) # T/O=2.0 Degr=-19.6\n"
     ]
    },
    {
     "name": "stderr",
     "output_type": "stream",
     "text": [
      "100%|██████████| 113/113 [00:00<00:00, 21563.07it/s]\n"
     ]
    },
    {
     "name": "stdout",
     "output_type": "stream",
     "text": [
      "3 edges, [[9.326472000000003], [13.82947], [0.0009369999999999934]]\n",
      "2 edges, [[0.01120199999999999], [0.004153999999999991]]\n",
      "3 edges, [[0.0003600000000005821], [39.81809699999999], [0.019489000000000978]]\n",
      "3 edges, [[9.326472000000003], [13.82947], [0.0009369999999999934]]\n",
      "2 edges, [[0.591863], [0.9246729999999999]]\n",
      "3 edges, [[9.326472000000003], [13.82947], [0.0009369999999999934]]\n",
      "2 edges, [[13.397099], [3.9009470000000004]]\n",
      "2 edges, [[1.7220239999999998], [2.5376630000000002]]\n",
      "2 edges, [[0.01120199999999999], [0.004153999999999991]]\n",
      "2 edges, [[0.591863], [0.9246729999999999]]\n",
      "3 edges, [[0.41568500000000164], [2.0310349999999993], [0.28135700000000163]]\n",
      "3 edges, [[0.41568500000000164], [2.0310349999999993], [0.28135700000000163]]\n",
      "2 edges, [[0.40103999999999984], [0.2438570000000001]]\n",
      "2 edges, [[1.7220239999999998], [2.5376630000000002]]\n",
      "3 edges, [[0.41568500000000164], [2.0310349999999993], [0.28135700000000163]]\n",
      "2 edges, [[13.397099], [3.9009470000000004]]\n",
      "3 edges, [[9.326472000000003], [13.82947], [0.0009369999999999934]]\n",
      "3 edges, [[9.326472000000003], [13.82947], [0.0009369999999999934]]\n",
      "3 edges, [[0.41568500000000164], [2.0310349999999993], [0.28135700000000163]]\n",
      "3 edges, [[0.0003600000000005821], [39.81809699999999], [0.019489000000000978]]\n",
      "2 edges, [[0.40103999999999984], [0.2438570000000001]]\n",
      "3 edges, [[0.0003600000000005821], [39.81809699999999], [0.019489000000000978]]\n",
      "[Hero, JOB|pruned local] 283.1 vs 401.7 (310.3 + 91.4) # T/O=2.0 Degr=-20.7\n"
     ]
    },
    {
     "name": "stderr",
     "output_type": "stream",
     "text": [
      "100%|██████████| 40/40 [00:00<00:00, 15934.29it/s]\n"
     ]
    },
    {
     "name": "stdout",
     "output_type": "stream",
     "text": [
      "2 edges, [[4.099858], [5.282980999999999]]\n",
      "4 edges, [[14.306493], [13.950591999999999], [11.293741000000002], [13.583371]]\n",
      "4 edges, [[14.306493], [13.950591999999999], [11.293741000000002], [13.583371]]\n",
      "4 edges, [[14.306493], [13.950591999999999], [11.293741000000002], [13.583371]]\n",
      "2 edges, [[4.099858], [5.282980999999999]]\n",
      "4 edges, [[14.306493], [13.950591999999999], [11.293741000000002], [13.583371]]\n",
      "[Hero, SQ|greedy] 241.1 vs 363.5 (305.3 + 58.2) # T/O=0.0 Degr=0.0\n"
     ]
    },
    {
     "name": "stderr",
     "output_type": "stream",
     "text": [
      "100%|██████████| 40/40 [00:00<00:00, 16905.70it/s]\n"
     ]
    },
    {
     "name": "stdout",
     "output_type": "stream",
     "text": [
      "2 edges, [[3.8097909999999997], [4.723196999999999]]\n",
      "4 edges, [[14.061349], [13.624931], [11.043847000000003], [13.336578999999999]]\n",
      "4 edges, [[14.061349], [13.624931], [11.043847000000003], [13.336578999999999]]\n",
      "4 edges, [[14.061349], [13.624931], [11.043847000000003], [13.336578999999999]]\n",
      "2 edges, [[3.8097909999999997], [4.723196999999999]]\n",
      "4 edges, [[14.061349], [13.624931], [11.043847000000003], [13.336578999999999]]\n",
      "[Hero, SQ|pruned greedy] 241.1 vs 383.8 (325.6 + 58.2) # T/O=0.0 Degr=0.0\n"
     ]
    },
    {
     "name": "stderr",
     "output_type": "stream",
     "text": [
      "100%|██████████| 40/40 [00:00<00:00, 17501.79it/s]\n"
     ]
    },
    {
     "name": "stdout",
     "output_type": "stream",
     "text": [
      "2 edges, [[3.985757], [5.2808709999999985]]\n",
      "4 edges, [[17.613004], [17.268602], [11.292235000000002], [13.867976999999998]]\n",
      "4 edges, [[17.613004], [17.268602], [11.292235000000002], [13.867976999999998]]\n",
      "4 edges, [[17.613004], [17.268602], [11.292235000000002], [13.867976999999998]]\n",
      "2 edges, [[3.985757], [5.2808709999999985]]\n",
      "4 edges, [[17.613004], [17.268602], [11.292235000000002], [13.867976999999998]]\n",
      "[Hero, SQ|econom local] 241.1 vs 345.0 (286.9 + 58.2) # T/O=0.0 Degr=0.0\n"
     ]
    },
    {
     "name": "stderr",
     "output_type": "stream",
     "text": [
      "100%|██████████| 40/40 [00:00<00:00, 24980.96it/s]\n"
     ]
    },
    {
     "name": "stdout",
     "output_type": "stream",
     "text": [
      "2 edges, [[3.985757], [5.2808709999999985]]\n",
      "4 edges, [[17.613004], [17.268602], [11.292235000000002], [13.867976999999998]]\n",
      "4 edges, [[17.613004], [17.268602], [11.292235000000002], [13.867976999999998]]\n",
      "4 edges, [[17.613004], [17.268602], [11.292235000000002], [13.867976999999998]]\n",
      "2 edges, [[3.985757], [5.2808709999999985]]\n",
      "4 edges, [[17.613004], [17.268602], [11.292235000000002], [13.867976999999998]]\n",
      "[Hero, SQ|pruned econom local] 241.1 vs 357.1 (299.0 + 58.2) # T/O=0.0 Degr=0.0\n"
     ]
    },
    {
     "name": "stderr",
     "output_type": "stream",
     "text": [
      "100%|██████████| 40/40 [00:00<00:00, 17423.63it/s]\n"
     ]
    },
    {
     "name": "stdout",
     "output_type": "stream",
     "text": [
      "2 edges, [[4.099858], [5.282980999999999]]\n",
      "4 edges, [[17.679657], [17.365851], [11.353116000000004], [13.977134]]\n",
      "4 edges, [[17.679657], [17.365851], [11.353116000000004], [13.977134]]\n",
      "4 edges, [[17.679657], [17.365851], [11.353116000000004], [13.977134]]\n",
      "2 edges, [[4.099858], [5.282980999999999]]\n",
      "4 edges, [[17.679657], [17.365851], [11.353116000000004], [13.977134]]\n",
      "[Hero, SQ|local] 241.1 vs 292.1 (233.9 + 58.2) # T/O=0.0 Degr=0.0\n"
     ]
    },
    {
     "name": "stderr",
     "output_type": "stream",
     "text": [
      "100%|██████████| 40/40 [00:00<00:00, 12871.89it/s]"
     ]
    },
    {
     "name": "stdout",
     "output_type": "stream",
     "text": [
      "2 edges, [[3.985757], [5.2808709999999985]]\n",
      "4 edges, [[17.613004], [17.268602], [11.292235000000002], [13.867976999999998]]\n",
      "4 edges, [[17.613004], [17.268602], [11.292235000000002], [13.867976999999998]]\n",
      "4 edges, [[17.613004], [17.268602], [11.292235000000002], [13.867976999999998]]\n",
      "2 edges, [[3.985757], [5.2808709999999985]]\n",
      "4 edges, [[17.613004], [17.268602], [11.292235000000002], [13.867976999999998]]\n",
      "[Hero, SQ|pruned local] 241.1 vs 312.3 (254.1 + 58.2) # T/O=0.0 Degr=0.0\n"
     ]
    },
    {
     "name": "stderr",
     "output_type": "stream",
     "text": [
      "\n"
     ]
    }
   ],
   "source": [
    "check_def_hero(False)"
   ]
  },
  {
   "cell_type": "code",
   "execution_count": 176,
   "metadata": {
    "vscode": {
     "languageId": "python"
    }
   },
   "outputs": [],
   "source": [
    "def check_def_hero(safe_mode=False):\n",
    "    ss_and_descrs = [\n",
    "        (GREEDY_DEF_DOP_SS, \"greedy\"), \n",
    "        (PRUNED_GREEDY_DEF_DOP_SS, \"pruned greedy\"), \n",
    "        (ECONOM_DEF_DOP_SS, \"econom local\"),\n",
    "        (PRUNED_ECONOM_DEF_DOP_SS, \"pruned econom local\"),\n",
    "        (LOCAL_DEF_DOP_SS, \"local\"),\n",
    "        (PRUNED_LOCAL_DEF_DOP_SS, \"pruned local\"),\n",
    "    ]\n",
    "\n",
    "    for workload, workload_name, ideal_model in zip(workloads, workload_names, ideal_models):\n",
    "        optimal_e2e_time = sum(min(_get_e2e_time(q_n, hs, DEFAULT_DOP) for hs in HINTSETS) for q_n in workload)\n",
    "        for ss, descr in ss_and_descrs:\n",
    "            heromodel = Hero(ss)\n",
    "            heromodel.fit(workload)\n",
    "            report = get_report(heromodel, workload, safe_mode=safe_mode)\n",
    "            ex_time, inference_time = report[\"custom_ex_time\"], report[\"inference_time\"]\n",
    "            degradations = sum(v for v in report[\"boosts\"] if v < 0)\n",
    "            resume_str = f\"[Hero, {workload_name}|{descr}] \"\n",
    "            resume_str += f\"{optimal_e2e_time:0.1f} vs {ex_time+inference_time:0.1f} ({ex_time:0.1f} + {inference_time:0.1f}) \"\n",
    "            resume_str += f\"# T/O={report['n_timeouts']} Degr={degradations:0.1f}\"\n",
    "            print(resume_str)"
   ]
  },
  {
   "cell_type": "markdown",
   "metadata": {},
   "source": [
    "## All DOPs"
   ]
  },
  {
   "cell_type": "code",
   "execution_count": 152,
   "metadata": {
    "vscode": {
     "languageId": "python"
    }
   },
   "outputs": [],
   "source": [
    "def check_nn():\n",
    "    ss_and_descrs = [\n",
    "        (GREEDY_SS, \"greedy\"), \n",
    "        (PRUNED_GREEDY_SS, \"pruned greedy\"), \n",
    "        (ECONOM_SS, \"econom local\"),\n",
    "        (PRUNED_ECONOM_SS, \"pruned econom local\"),\n",
    "        (LOCAL_SS, \"local\"),\n",
    "        (PRUNED_LOCAL_SS, \"pruned local\"),\n",
    "        (ALL_SS, \"exhaustive\")\n",
    "    ]\n",
    "\n",
    "    for workload, workload_name, ideal_model in zip(workloads, workload_names, ideal_models):\n",
    "        optimal_e2e_time = sum(min(_get_e2e_time(q_n, hs, dop) for hs in HINTSETS for dop in DOPS) for q_n in workload)\n",
    "        for ss, descr in ss_and_descrs:\n",
    "            ideal_model.inference_settings = ss\n",
    "            report = get_report(ideal_model, workload)\n",
    "            ex_time, inference_time = report[\"custom_ex_time\"], report[\"inference_time\"]\n",
    "            degradations = sum(v for v in report[\"boosts\"] if v < 0)\n",
    "            resume_str = f\"[NN, {workload_name}|{descr}] \"\n",
    "            resume_str += f\"{optimal_e2e_time:0.1f} vs {ex_time+inference_time:0.1f} ({ex_time:0.1f} + {inference_time:0.1f}) \"\n",
    "            resume_str += f\"# T/O={report['n_timeouts']} Degr={degradations:0.1f}\"\n",
    "            print(resume_str)"
   ]
  },
  {
   "cell_type": "code",
   "execution_count": 153,
   "metadata": {
    "vscode": {
     "languageId": "python"
    }
   },
   "outputs": [],
   "source": [
    "def check_hero():\n",
    "    ss_and_descrs = [\n",
    "        (GREEDY_SS, \"greedy\"), \n",
    "        (PRUNED_GREEDY_SS, \"pruned greedy\"), \n",
    "        (ECONOM_SS, \"econom local\"),\n",
    "        (PRUNED_ECONOM_SS, \"pruned econom local\"),\n",
    "        (LOCAL_SS, \"local\"),\n",
    "        (PRUNED_LOCAL_SS, \"pruned local\"),\n",
    "    ]\n",
    "\n",
    "    for workload, workload_name in zip(workloads, workload_names):\n",
    "        optimal_e2e_time = sum(min(_get_e2e_time(q_n, hs, dop) for hs in HINTSETS for dop in DOPS) for q_n in workload)\n",
    "        for ss, descr in ss_and_descrs:\n",
    "            heromodel = Hero(ss)\n",
    "            heromodel.fit(workload)\n",
    "            report = get_report(heromodel, workload, True)\n",
    "            ex_time, inference_time = report[\"custom_ex_time\"], report[\"inference_time\"]\n",
    "            degradations = sum(v for v in report[\"boosts\"] if v < 0)\n",
    "            resume_str = f\"[Hero {workload_name}|{descr}] \"\n",
    "            resume_str += f\"{optimal_e2e_time:0.1f} vs {ex_time+inference_time:0.1f} ({ex_time:0.1f} + {inference_time:0.1f}) \"\n",
    "            resume_str += f\"# T/O={report['n_timeouts']} Degr={degradations:0.1f}\"\n",
    "            print(resume_str)"
   ]
  },
  {
   "cell_type": "markdown",
   "metadata": {},
   "source": [
    "# Workloads"
   ]
  },
  {
   "cell_type": "markdown",
   "metadata": {},
   "source": [
    "0. scalability\n",
    "    1. Search Space vs Time Complexity (-> inference problem)\n",
    "\n",
    "1. query split\n",
    "    1. static\n",
    "    2. diff time distribution (with ood)\n",
    "    3. with same deafult tree structure\n",
    "\n",
    "2. which data\n",
    "    1. all\n",
    "    2. only default\n",
    "    4. greedy algos\n",
    "\n",
    "3. inference\n",
    "    1. all\n",
    "    2. greedy algos"
   ]
  },
  {
   "cell_type": "markdown",
   "metadata": {},
   "source": [
    "подкруткой параметров надо показать, что оптимум реально уменьшается; а при этом время инференса становится непозволительно большим как для гриди, так и не для гриди\n",
    "\n",
    "**todo** под каждый тип поиска посчитать оптимум"
   ]
  },
  {
   "cell_type": "markdown",
   "metadata": {},
   "source": [
    "**proof nonscalability** (hero = indexed search space + validation + gray box optimization):\n",
    "- try different search spaces (32 hints, with dop)"
   ]
  },
  {
   "cell_type": "markdown",
   "metadata": {},
   "source": [
    "## Online learning on static workload"
   ]
  },
  {
   "cell_type": "code",
   "execution_count": 43,
   "metadata": {
    "vscode": {
     "languageId": "python"
    }
   },
   "outputs": [
    {
     "name": "stdout",
     "output_type": "stream",
     "text": [
      "Found collision. Adding 5.017 to [6.129]\n",
      "Found collision. Adding 3.960 to [3.606]\n",
      "Found collision. Adding 1.210 to [1.234]\n",
      "Found collision. Adding 6.233 to [6.187]\n",
      "Found collision. Adding 2.179 to [2.353]\n",
      "Learned in 9374.663 sec\n"
     ]
    },
    {
     "name": "stderr",
     "output_type": "stream",
     "text": [
      "100%|██████████| 113/113 [00:00<00:00, 3706.87it/s]"
     ]
    },
    {
     "name": "stdout",
     "output_type": "stream",
     "text": [
      "Default ex 455.28, Default planning 91.42, Custom ex 201.45, Inference 127.87\n"
     ]
    },
    {
     "name": "stderr",
     "output_type": "stream",
     "text": [
      "\n"
     ]
    }
   ],
   "source": [
    "heromodel = Hero(fit_settings=LOCAL_SS._replace(max_iter=1))\n",
    "learning_time = heromodel.fit(all_queries)\n",
    "print(f\"Learned in {learning_time:0.3f} sec\")\n",
    "report = get_report(heromodel, all_queries, True)\n",
    "print(f'Default ex {report[\"default_ex_time\"]:0.2f}, Default planning {report[\"default_planning_time\"]:0.2f}, Custom ex {report[\"custom_ex_time\"]:0.2f}, Inference {report[\"inference_time\"]:0.2f}')"
   ]
  },
  {
   "cell_type": "code",
   "execution_count": 45,
   "metadata": {
    "vscode": {
     "languageId": "python"
    }
   },
   "outputs": [],
   "source": [
    "import matplotlib.pyplot as plt\n",
    "\n",
    "def visualise(reports, optimum_e2e, optimum_ex, title):\n",
    "    runs = list(range(len(reports)))\n",
    "    def_ex_times, def_planning_times = [r[\"default_ex_time\"] for r in reports], [r[\"default_planning_time\"] for r in reports]\n",
    "    custom_ex_times, inference_times = [r[\"custom_ex_time\"] for r in reports], [r[\"inference_time\"] for r in reports]\n",
    "    \n",
    "    plt.figure(figsize=(14, 8))\n",
    "    markersize = 10\n",
    "    linewidth = 4\n",
    "    \n",
    "    plt.plot(runs, [v1 + v2 for v1, v2 in zip(def_ex_times, def_planning_times)], color=\"blue\", label='E2E [def]', markersize=markersize, linewidth=linewidth)\n",
    "    plt.plot(runs, def_ex_times, label='Ex [def]', color=\"blue\", linestyle=\"--\", markersize=markersize//2, linewidth=linewidth//2, alpha=0.5)\n",
    "\n",
    "    plt.plot(runs, [optimum_e2e for _ in runs], color=\"g\", label='E2E [optimal]', markersize=markersize, linewidth=linewidth)\n",
    "    plt.plot(runs, [optimum_ex for _ in runs], color=\"g\", label='Ex [optimal]', linestyle=\"--\", markersize=markersize, linewidth=linewidth//2, alpha=0.5)\n",
    "\n",
    "    plt.plot(runs, [v1 + v2/64 for v1, v2 in zip(custom_ex_times, inference_times)], color=\"orange\", label='E2E', marker='o', markersize=markersize, linewidth=linewidth)\n",
    "    plt.plot(runs, custom_ex_times, label='Ex', color=\"orange\", marker='o', markersize=markersize//2, linewidth=linewidth//2, alpha=0.5)    \n",
    "\n",
    "    plt.ylim(bottom=0)\n",
    "    plt.xlabel('run')\n",
    "    plt.ylabel('Time (sec)')\n",
    "    plt.legend()\n",
    "    plt.title(title)\n",
    "    plt.grid(True)\n",
    "    plt.show()"
   ]
  },
  {
   "cell_type": "code",
   "execution_count": 415,
   "metadata": {
    "vscode": {
     "languageId": "python"
    }
   },
   "outputs": [
    {
     "data": {
      "image/png": "[encoded data removed]",
      "text/plain": [
       "<Figure size 1400x800 with 1 Axes>"
      ]
     },
     "metadata": {},
     "output_type": "display_data"
    }
   ],
   "source": [
    "optimum_ex = sum([min([_get_execution_time(q_n, hs, dop) for hs in HINTSETS for dop in [DEFAULT_DOP]]) for q_n in all_queries]), \n",
    "optimum_e2e = sum([min([_get_e2e_time(q_n, hs, dop) for hs in HINTSETS for dop in [DEFAULT_DOP]]) for q_n in all_queries]),\n",
    "visualise(reports, optimum_e2e=optimum_e2e, optimum_ex=optimum_ex, title=\"AAL_DEF_DOP_SS, 50 epochs\")"
   ]
  },
  {
   "cell_type": "code",
   "execution_count": 380,
   "metadata": {
    "vscode": {
     "languageId": "python"
    }
   },
   "outputs": [
    {
     "data": {
      "image/png": "[encoded data removed]",
      "text/plain": [
       "<Figure size 1400x800 with 1 Axes>"
      ]
     },
     "metadata": {},
     "output_type": "display_data"
    }
   ],
   "source": [
    "optimum_ex = sum([min([_get_execution_time(q_n, hs, dop) for hs in HINTSETS for dop in DOPS]) for q_n in all_queries]), \n",
    "optimum_e2e = sum([min([_get_e2e_time(q_n, hs, dop) for hs in HINTSETS for dop in DOPS]) for q_n in all_queries]),\n",
    "visualise(reports, optimum_e2e=optimum_e2e, optimum_ex=optimum_ex, title=\"ALL_SS, 50 epochs\")"
   ]
  },
  {
   "cell_type": "code",
   "execution_count": 385,
   "metadata": {
    "vscode": {
     "languageId": "python"
    }
   },
   "outputs": [
    {
     "data": {
      "image/png": "[encoded data removed]",
      "text/plain": [
       "<Figure size 1400x800 with 1 Axes>"
      ]
     },
     "metadata": {},
     "output_type": "display_data"
    },
    {
     "data": {
      "text/plain": [
       "[19.0,\n",
       " 6.0,\n",
       " 5.0,\n",
       " 7.0,\n",
       " 6.0,\n",
       " 4.0,\n",
       " 4.0,\n",
       " 5.0,\n",
       " 4.0,\n",
       " 4.0,\n",
       " 4.0,\n",
       " 4.0,\n",
       " 7.0,\n",
       " 4.0,\n",
       " 4.0,\n",
       " 4.0,\n",
       " 5.0,\n",
       " 4.0,\n",
       " 4.0,\n",
       " 5.0,\n",
       " 5.0]"
      ]
     },
     "execution_count": 385,
     "metadata": {},
     "output_type": "execute_result"
    }
   ],
   "source": [
    "optimum_ex = sum([min([_get_execution_time(q_n, hs, dop) for hs in HINTSETS for dop in DOPS]) for q_n in all_queries]), \n",
    "optimum_e2e = sum([min([_get_e2e_time(q_n, hs, dop) for hs in HINTSETS for dop in DOPS]) for q_n in all_queries]),\n",
    "visualise(reports, optimum_e2e=optimum_e2e, optimum_ex=optimum_ex, title=\"LOCAL_SS, 50 epochs\")\n",
    "[r[\"n_timeouts\"] for r in reports]"
   ]
  },
  {
   "cell_type": "markdown",
   "metadata": {},
   "source": [
    "Results:\n",
    "- greedy inference helps to tackle the problem of multiple planning\n",
    "- online learning is expensive and doesn't allow us to reach the optimum\n",
    "- online learning isn't scalable approach\n",
    "- model that is learned in online mode still lead to degradations even after 20 iterations over static **workload** (5/113)"
   ]
  },
  {
   "cell_type": "code",
   "execution_count": 44,
   "metadata": {
    "vscode": {
     "languageId": "python"
    }
   },
   "outputs": [
    {
     "name": "stdout",
     "output_type": "stream",
     "text": [
      "Dataset's size is 105 | Dataloader's size is 4\n"
     ]
    },
    {
     "name": "stderr",
     "output_type": "stream",
     "text": [
      "[150/150] MSE: 0.0091: 100%|██████████| 150/150 [00:07<00:00, 20.78it/s]\n",
      "100%|██████████| 113/113 [00:12<00:00,  9.12it/s]\n"
     ]
    },
    {
     "name": "stdout",
     "output_type": "stream",
     "text": [
      "[run # 0] Default ex 455.28, Default planning 91.42, Custom ex 386.58, Inference 211.19\n",
      "Dataset's size is 189 | Dataloader's size is 6\n"
     ]
    },
    {
     "name": "stderr",
     "output_type": "stream",
     "text": [
      "[150/150] MSE: 0.0027: 100%|██████████| 150/150 [00:11<00:00, 13.29it/s]\n",
      "100%|██████████| 113/113 [00:09<00:00, 12.00it/s]\n"
     ]
    },
    {
     "name": "stdout",
     "output_type": "stream",
     "text": [
      "[run # 1] Default ex 455.28, Default planning 91.42, Custom ex 364.10, Inference 211.191\n",
      "Dataset's size is 229 | Dataloader's size is 8\n"
     ]
    },
    {
     "name": "stderr",
     "output_type": "stream",
     "text": [
      "[150/150] MSE: 0.0098: 100%|██████████| 150/150 [00:13<00:00, 10.76it/s]\n",
      "100%|██████████| 113/113 [00:09<00:00, 11.99it/s]\n"
     ]
    },
    {
     "name": "stdout",
     "output_type": "stream",
     "text": [
      "[run # 2] Default ex 455.28, Default planning 91.42, Custom ex 360.01, Inference 211.191\n",
      "Dataset's size is 261 | Dataloader's size is 9\n"
     ]
    },
    {
     "name": "stderr",
     "output_type": "stream",
     "text": [
      "[150/150] MSE: 0.0027: 100%|██████████| 150/150 [00:16<00:00,  9.01it/s]\n",
      "100%|██████████| 113/113 [00:09<00:00, 11.84it/s]\n"
     ]
    },
    {
     "name": "stdout",
     "output_type": "stream",
     "text": [
      "[run # 3] Default ex 455.28, Default planning 91.42, Custom ex 324.03, Inference 211.191\n",
      "Dataset's size is 280 | Dataloader's size is 9\n"
     ]
    },
    {
     "name": "stderr",
     "output_type": "stream",
     "text": [
      "[150/150] MSE: 0.0020: 100%|██████████| 150/150 [00:16<00:00,  9.31it/s]\n",
      "100%|██████████| 113/113 [00:09<00:00, 11.44it/s]\n"
     ]
    },
    {
     "name": "stdout",
     "output_type": "stream",
     "text": [
      "[run # 4] Default ex 455.28, Default planning 91.42, Custom ex 247.07, Inference 211.191\n",
      "Dataset's size is 290 | Dataloader's size is 10\n"
     ]
    },
    {
     "name": "stderr",
     "output_type": "stream",
     "text": [
      "[150/150] MSE: 0.0117: 100%|██████████| 150/150 [00:16<00:00,  9.01it/s]\n",
      "100%|██████████| 113/113 [00:09<00:00, 11.83it/s]\n"
     ]
    },
    {
     "name": "stdout",
     "output_type": "stream",
     "text": [
      "[run # 5] Default ex 455.28, Default planning 91.42, Custom ex 259.23, Inference 211.191\n",
      "Dataset's size is 299 | Dataloader's size is 10\n"
     ]
    },
    {
     "name": "stderr",
     "output_type": "stream",
     "text": [
      "[150/150] MSE: 0.0018: 100%|██████████| 150/150 [00:18<00:00,  7.96it/s]\n",
      "100%|██████████| 113/113 [00:10<00:00, 11.10it/s]\n"
     ]
    },
    {
     "name": "stdout",
     "output_type": "stream",
     "text": [
      "[run # 6] Default ex 455.28, Default planning 91.42, Custom ex 243.00, Inference 211.191\n",
      "Dataset's size is 306 | Dataloader's size is 10\n"
     ]
    },
    {
     "name": "stderr",
     "output_type": "stream",
     "text": [
      "[150/150] MSE: 0.0014: 100%|██████████| 150/150 [00:18<00:00,  8.11it/s]\n",
      "100%|██████████| 113/113 [00:09<00:00, 11.64it/s]\n"
     ]
    },
    {
     "name": "stdout",
     "output_type": "stream",
     "text": [
      "[run # 7] Default ex 455.28, Default planning 91.42, Custom ex 272.80, Inference 211.191\n",
      "Dataset's size is 311 | Dataloader's size is 10\n"
     ]
    },
    {
     "name": "stderr",
     "output_type": "stream",
     "text": [
      "[150/150] MSE: 0.0013: 100%|██████████| 150/150 [00:18<00:00,  8.06it/s]\n",
      "100%|██████████| 113/113 [00:09<00:00, 12.11it/s]\n"
     ]
    },
    {
     "name": "stdout",
     "output_type": "stream",
     "text": [
      "[run # 8] Default ex 455.28, Default planning 91.42, Custom ex 246.78, Inference 211.191\n",
      "Dataset's size is 315 | Dataloader's size is 10\n"
     ]
    },
    {
     "name": "stderr",
     "output_type": "stream",
     "text": [
      "[150/150] MSE: 0.0019: 100%|██████████| 150/150 [00:16<00:00,  9.11it/s]\n",
      "100%|██████████| 113/113 [00:09<00:00, 12.49it/s]"
     ]
    },
    {
     "name": "stdout",
     "output_type": "stream",
     "text": [
      "[run # 9] Default ex 455.28, Default planning 91.42, Custom ex 237.01, Inference 211.191\n"
     ]
    },
    {
     "name": "stderr",
     "output_type": "stream",
     "text": [
      "\n"
     ]
    }
   ],
   "source": [
    "reports = []\n",
    "\n",
    "workload = all_queries\n",
    "default_history = [(q_n, DEFAULT_HINTSET, DEFAULT_DOP) for q_n in workload]\n",
    "nnmodel = NN(fit_settings=EMPTY_SS, inference_settings=LOCAL_SS._replace(max_iter=1), model=bt_regressor())\n",
    "nnmodel._add_history(default_history)\n",
    "nnmodel._update_model(epochs=150)\n",
    "report = get_report(nnmodel, workload, False)\n",
    "reports.append(report)\n",
    "\n",
    "print(f'[run # 0] Default ex {report[\"default_ex_time\"]:0.2f}, Default planning {report[\"default_planning_time\"]:0.2f}, Custom ex {report[\"custom_ex_time\"]:0.2f}, Inference {report[\"inference_time\"]:0.2f}')\n",
    "\n",
    "for run in range(1, 10):    \n",
    "    collected_history = report[\"predictions\"]\n",
    "    nnmodel._add_history(collected_history)\n",
    "    nnmodel._update_model(epochs=150)\n",
    "    report = get_report(nnmodel, workload, False)\n",
    "    reports.append(report)\n",
    "    print(f'[run # {run}] Default ex {report[\"default_ex_time\"]:0.2f}, Default planning {report[\"default_planning_time\"]:0.2f}, Custom ex {report[\"custom_ex_time\"]:0.2f}, Inference {report[\"inference_time\"]:0.3f}')"
   ]
  },
  {
   "cell_type": "code",
   "execution_count": 68,
   "metadata": {
    "vscode": {
     "languageId": "python"
    }
   },
   "outputs": [
    {
     "name": "stdout",
     "output_type": "stream",
     "text": [
      "Dataset's size is 322 | Dataloader's size is 11\n"
     ]
    },
    {
     "name": "stderr",
     "output_type": "stream",
     "text": [
      "[150/150] MSE: 0.0014: 100%|██████████| 150/150 [00:15<00:00,  9.75it/s]\n",
      "100%|██████████| 113/113 [00:08<00:00, 13.72it/s]\n"
     ]
    },
    {
     "name": "stdout",
     "output_type": "stream",
     "text": [
      "[run # 11] Default ex 455.28, Default planning 91.42, Custom ex 273.86, Inference 211.191\n",
      "Dataset's size is 328 | Dataloader's size is 11\n"
     ]
    },
    {
     "name": "stderr",
     "output_type": "stream",
     "text": [
      "[150/150] MSE: 0.0011: 100%|██████████| 150/150 [00:16<00:00,  9.16it/s]\n",
      "100%|██████████| 113/113 [00:08<00:00, 13.18it/s]\n"
     ]
    },
    {
     "name": "stdout",
     "output_type": "stream",
     "text": [
      "[run # 12] Default ex 455.28, Default planning 91.42, Custom ex 269.53, Inference 211.191\n",
      "Dataset's size is 329 | Dataloader's size is 11\n"
     ]
    },
    {
     "name": "stderr",
     "output_type": "stream",
     "text": [
      "[150/150] MSE: 0.0013: 100%|██████████| 150/150 [00:15<00:00,  9.43it/s]\n",
      "100%|██████████| 113/113 [00:08<00:00, 13.86it/s]\n"
     ]
    },
    {
     "name": "stdout",
     "output_type": "stream",
     "text": [
      "[run # 13] Default ex 455.28, Default planning 91.42, Custom ex 269.75, Inference 211.191\n",
      "Dataset's size is 331 | Dataloader's size is 11\n"
     ]
    },
    {
     "name": "stderr",
     "output_type": "stream",
     "text": [
      "[150/150] MSE: 0.0010: 100%|██████████| 150/150 [00:16<00:00,  9.15it/s]\n",
      "100%|██████████| 113/113 [00:08<00:00, 12.59it/s]\n"
     ]
    },
    {
     "name": "stdout",
     "output_type": "stream",
     "text": [
      "[run # 14] Default ex 455.28, Default planning 91.42, Custom ex 269.54, Inference 211.191\n",
      "Dataset's size is 331 | Dataloader's size is 11\n"
     ]
    },
    {
     "name": "stderr",
     "output_type": "stream",
     "text": [
      "[150/150] MSE: 0.0006: 100%|██████████| 150/150 [00:16<00:00,  9.21it/s]\n",
      "100%|██████████| 113/113 [00:08<00:00, 12.99it/s]\n"
     ]
    },
    {
     "name": "stdout",
     "output_type": "stream",
     "text": [
      "[run # 15] Default ex 455.28, Default planning 91.42, Custom ex 269.53, Inference 211.191\n",
      "Dataset's size is 331 | Dataloader's size is 11\n"
     ]
    },
    {
     "name": "stderr",
     "output_type": "stream",
     "text": [
      "[150/150] MSE: 0.0005: 100%|██████████| 150/150 [00:16<00:00,  9.37it/s]\n",
      "100%|██████████| 113/113 [00:08<00:00, 13.50it/s]\n"
     ]
    },
    {
     "name": "stdout",
     "output_type": "stream",
     "text": [
      "[run # 16] Default ex 455.28, Default planning 91.42, Custom ex 269.39, Inference 211.191\n",
      "Dataset's size is 333 | Dataloader's size is 11\n"
     ]
    },
    {
     "name": "stderr",
     "output_type": "stream",
     "text": [
      "[150/150] MSE: 0.0016: 100%|██████████| 150/150 [00:15<00:00,  9.41it/s]\n",
      "100%|██████████| 113/113 [00:08<00:00, 13.34it/s]\n"
     ]
    },
    {
     "name": "stdout",
     "output_type": "stream",
     "text": [
      "[run # 17] Default ex 455.28, Default planning 91.42, Custom ex 269.37, Inference 211.191\n",
      "Dataset's size is 335 | Dataloader's size is 11\n"
     ]
    },
    {
     "name": "stderr",
     "output_type": "stream",
     "text": [
      "[150/150] MSE: 0.0008: 100%|██████████| 150/150 [00:16<00:00,  9.21it/s]\n",
      "100%|██████████| 113/113 [00:08<00:00, 13.00it/s]\n"
     ]
    },
    {
     "name": "stdout",
     "output_type": "stream",
     "text": [
      "[run # 18] Default ex 455.28, Default planning 91.42, Custom ex 269.68, Inference 211.191\n",
      "Dataset's size is 337 | Dataloader's size is 11\n"
     ]
    },
    {
     "name": "stderr",
     "output_type": "stream",
     "text": [
      "[150/150] MSE: 0.0003: 100%|██████████| 150/150 [00:16<00:00,  9.13it/s]\n",
      "100%|██████████| 113/113 [00:08<00:00, 13.57it/s]\n"
     ]
    },
    {
     "name": "stdout",
     "output_type": "stream",
     "text": [
      "[run # 19] Default ex 455.28, Default planning 91.42, Custom ex 270.68, Inference 211.191\n",
      "Dataset's size is 344 | Dataloader's size is 11\n"
     ]
    },
    {
     "name": "stderr",
     "output_type": "stream",
     "text": [
      "[150/150] MSE: 0.0004: 100%|██████████| 150/150 [00:16<00:00,  9.26it/s]\n",
      "100%|██████████| 113/113 [00:08<00:00, 13.39it/s]"
     ]
    },
    {
     "name": "stdout",
     "output_type": "stream",
     "text": [
      "[run # 20] Default ex 455.28, Default planning 91.42, Custom ex 271.62, Inference 211.191\n"
     ]
    },
    {
     "name": "stderr",
     "output_type": "stream",
     "text": [
      "\n"
     ]
    }
   ],
   "source": [
    "for run in range(11, 21):    \n",
    "    collected_history = report[\"predictions\"]\n",
    "    nnmodel._add_history(collected_history)\n",
    "    nnmodel._update_model(epochs=150)\n",
    "    report = get_report(nnmodel, workload, False)\n",
    "    reports.append(report)\n",
    "    print(f'[run # {run}] Default ex {report[\"default_ex_time\"]:0.2f}, Default planning {report[\"default_planning_time\"]:0.2f}, Custom ex {report[\"custom_ex_time\"]:0.2f}, Inference {report[\"inference_time\"]:0.3f}')"
   ]
  },
  {
   "cell_type": "code",
   "execution_count": 382,
   "metadata": {
    "vscode": {
     "languageId": "python"
    }
   },
   "outputs": [
    {
     "name": "stdout",
     "output_type": "stream",
     "text": [
      "Dataset's size is 105 | Dataloader's size is 4\n"
     ]
    },
    {
     "name": "stderr",
     "output_type": "stream",
     "text": [
      "[50/50] MSE: 0.9109: 100%|██████████| 50/50 [00:02<00:00, 24.63it/s] \n",
      "100%|██████████| 113/113 [00:19<00:00,  5.93it/s]\n"
     ]
    },
    {
     "name": "stdout",
     "output_type": "stream",
     "text": [
      "[run # 0] Default ex 455.28, Default planning 91.42, Custom ex 504.16, Inference 6657.18\n",
      "Dataset's size is 191 | Dataloader's size is 6\n"
     ]
    },
    {
     "name": "stderr",
     "output_type": "stream",
     "text": [
      "[50/50] MSE: 1.6801: 100%|██████████| 50/50 [00:03<00:00, 16.44it/s]\n",
      "100%|██████████| 113/113 [00:19<00:00,  5.93it/s]\n"
     ]
    },
    {
     "name": "stdout",
     "output_type": "stream",
     "text": [
      "[run # 1] Default ex 455.28, Default planning 91.42, Custom ex 542.22, Inference 6546.64\n",
      "Dataset's size is 245 | Dataloader's size is 8\n"
     ]
    },
    {
     "name": "stderr",
     "output_type": "stream",
     "text": [
      "[50/50] MSE: 0.7904: 100%|██████████| 50/50 [00:04<00:00, 12.12it/s]\n",
      "100%|██████████| 113/113 [00:20<00:00,  5.54it/s]\n"
     ]
    },
    {
     "name": "stdout",
     "output_type": "stream",
     "text": [
      "[run # 2] Default ex 455.28, Default planning 91.42, Custom ex 476.97, Inference 6691.11\n",
      "Dataset's size is 288 | Dataloader's size is 9\n"
     ]
    },
    {
     "name": "stderr",
     "output_type": "stream",
     "text": [
      "[50/50] MSE: 0.2696: 100%|██████████| 50/50 [00:04<00:00, 10.81it/s] \n",
      "100%|██████████| 113/113 [00:19<00:00,  5.91it/s]\n"
     ]
    },
    {
     "name": "stdout",
     "output_type": "stream",
     "text": [
      "[run # 3] Default ex 455.28, Default planning 91.42, Custom ex 448.95, Inference 6723.40\n",
      "Dataset's size is 318 | Dataloader's size is 10\n"
     ]
    },
    {
     "name": "stderr",
     "output_type": "stream",
     "text": [
      "[50/50] MSE: 2.3059: 100%|██████████| 50/50 [00:04<00:00, 10.02it/s]\n",
      "100%|██████████| 113/113 [00:19<00:00,  5.78it/s]\n"
     ]
    },
    {
     "name": "stdout",
     "output_type": "stream",
     "text": [
      "[run # 4] Default ex 455.28, Default planning 91.42, Custom ex 444.96, Inference 6798.09\n",
      "Dataset's size is 344 | Dataloader's size is 11\n"
     ]
    },
    {
     "name": "stderr",
     "output_type": "stream",
     "text": [
      "[50/50] MSE: 0.0797: 100%|██████████| 50/50 [00:05<00:00,  9.53it/s] \n",
      "100%|██████████| 113/113 [00:20<00:00,  5.49it/s]\n"
     ]
    },
    {
     "name": "stdout",
     "output_type": "stream",
     "text": [
      "[run # 5] Default ex 455.28, Default planning 91.42, Custom ex 393.94, Inference 6746.54\n",
      "Dataset's size is 375 | Dataloader's size is 12\n"
     ]
    },
    {
     "name": "stderr",
     "output_type": "stream",
     "text": [
      "[50/50] MSE: 0.0470: 100%|██████████| 50/50 [00:06<00:00,  8.10it/s]\n",
      "100%|██████████| 113/113 [00:19<00:00,  5.68it/s]\n"
     ]
    },
    {
     "name": "stdout",
     "output_type": "stream",
     "text": [
      "[run # 6] Default ex 455.28, Default planning 91.42, Custom ex 326.31, Inference 6735.69\n",
      "Dataset's size is 399 | Dataloader's size is 13\n"
     ]
    },
    {
     "name": "stderr",
     "output_type": "stream",
     "text": [
      "[50/50] MSE: 1.7813: 100%|██████████| 50/50 [00:06<00:00,  7.62it/s]\n",
      "100%|██████████| 113/113 [00:21<00:00,  5.37it/s]\n"
     ]
    },
    {
     "name": "stdout",
     "output_type": "stream",
     "text": [
      "[run # 7] Default ex 455.28, Default planning 91.42, Custom ex 345.58, Inference 7008.50\n",
      "Dataset's size is 417 | Dataloader's size is 14\n"
     ]
    },
    {
     "name": "stderr",
     "output_type": "stream",
     "text": [
      "[50/50] MSE: 0.1838: 100%|██████████| 50/50 [00:06<00:00,  7.25it/s]\n",
      "100%|██████████| 113/113 [00:20<00:00,  5.39it/s]\n"
     ]
    },
    {
     "name": "stdout",
     "output_type": "stream",
     "text": [
      "[run # 8] Default ex 455.28, Default planning 91.42, Custom ex 321.13, Inference 6852.87\n",
      "Dataset's size is 431 | Dataloader's size is 14\n"
     ]
    },
    {
     "name": "stderr",
     "output_type": "stream",
     "text": [
      "[50/50] MSE: 0.0456: 100%|██████████| 50/50 [00:06<00:00,  7.44it/s]\n",
      "100%|██████████| 113/113 [00:21<00:00,  5.37it/s]\n"
     ]
    },
    {
     "name": "stdout",
     "output_type": "stream",
     "text": [
      "[run # 9] Default ex 455.28, Default planning 91.42, Custom ex 315.02, Inference 6973.97\n",
      "Dataset's size is 443 | Dataloader's size is 14\n"
     ]
    },
    {
     "name": "stderr",
     "output_type": "stream",
     "text": [
      "[50/50] MSE: 0.0534: 100%|██████████| 50/50 [00:07<00:00,  7.10it/s]\n",
      "100%|██████████| 113/113 [00:20<00:00,  5.40it/s]\n"
     ]
    },
    {
     "name": "stdout",
     "output_type": "stream",
     "text": [
      "[run # 10] Default ex 455.28, Default planning 91.42, Custom ex 313.15, Inference 6862.56\n",
      "Dataset's size is 444 | Dataloader's size is 14\n"
     ]
    },
    {
     "name": "stderr",
     "output_type": "stream",
     "text": [
      "[50/50] MSE: 0.0303: 100%|██████████| 50/50 [00:06<00:00,  7.36it/s]\n",
      "100%|██████████| 113/113 [00:20<00:00,  5.39it/s]\n"
     ]
    },
    {
     "name": "stdout",
     "output_type": "stream",
     "text": [
      "[run # 11] Default ex 455.28, Default planning 91.42, Custom ex 311.34, Inference 6941.83\n",
      "Dataset's size is 447 | Dataloader's size is 14\n"
     ]
    },
    {
     "name": "stderr",
     "output_type": "stream",
     "text": [
      "[50/50] MSE: 0.0518: 100%|██████████| 50/50 [00:07<00:00,  6.92it/s]\n",
      "100%|██████████| 113/113 [00:21<00:00,  5.33it/s]\n"
     ]
    },
    {
     "name": "stdout",
     "output_type": "stream",
     "text": [
      "[run # 12] Default ex 455.28, Default planning 91.42, Custom ex 316.62, Inference 6996.33\n",
      "Dataset's size is 460 | Dataloader's size is 15\n"
     ]
    },
    {
     "name": "stderr",
     "output_type": "stream",
     "text": [
      "[50/50] MSE: 2.0393: 100%|██████████| 50/50 [00:07<00:00,  6.74it/s]\n",
      "100%|██████████| 113/113 [00:21<00:00,  5.21it/s]\n"
     ]
    },
    {
     "name": "stdout",
     "output_type": "stream",
     "text": [
      "[run # 13] Default ex 455.28, Default planning 91.42, Custom ex 313.09, Inference 7087.96\n",
      "Dataset's size is 468 | Dataloader's size is 15\n"
     ]
    },
    {
     "name": "stderr",
     "output_type": "stream",
     "text": [
      "[50/50] MSE: 0.1837: 100%|██████████| 50/50 [00:07<00:00,  6.82it/s]\n",
      "100%|██████████| 113/113 [00:21<00:00,  5.32it/s]\n"
     ]
    },
    {
     "name": "stdout",
     "output_type": "stream",
     "text": [
      "[run # 14] Default ex 455.28, Default planning 91.42, Custom ex 343.01, Inference 7230.06\n",
      "Dataset's size is 471 | Dataloader's size is 15\n"
     ]
    },
    {
     "name": "stderr",
     "output_type": "stream",
     "text": [
      "[50/50] MSE: 0.0208: 100%|██████████| 50/50 [00:07<00:00,  6.84it/s]\n",
      "100%|██████████| 113/113 [00:20<00:00,  5.39it/s]\n"
     ]
    },
    {
     "name": "stdout",
     "output_type": "stream",
     "text": [
      "[run # 15] Default ex 455.28, Default planning 91.42, Custom ex 322.19, Inference 7156.57\n",
      "Dataset's size is 480 | Dataloader's size is 15\n"
     ]
    },
    {
     "name": "stderr",
     "output_type": "stream",
     "text": [
      "[50/50] MSE: 0.2627: 100%|██████████| 50/50 [00:07<00:00,  6.69it/s]\n",
      "100%|██████████| 113/113 [00:20<00:00,  5.41it/s]\n"
     ]
    },
    {
     "name": "stdout",
     "output_type": "stream",
     "text": [
      "[run # 16] Default ex 455.28, Default planning 91.42, Custom ex 315.11, Inference 7073.92\n",
      "Dataset's size is 485 | Dataloader's size is 16\n"
     ]
    },
    {
     "name": "stderr",
     "output_type": "stream",
     "text": [
      "[50/50] MSE: 0.0178: 100%|██████████| 50/50 [00:08<00:00,  6.15it/s]\n",
      "100%|██████████| 113/113 [00:20<00:00,  5.60it/s]\n"
     ]
    },
    {
     "name": "stdout",
     "output_type": "stream",
     "text": [
      "[run # 17] Default ex 455.28, Default planning 91.42, Custom ex 310.84, Inference 6992.92\n",
      "Dataset's size is 489 | Dataloader's size is 16\n"
     ]
    },
    {
     "name": "stderr",
     "output_type": "stream",
     "text": [
      "[50/50] MSE: 0.1226: 100%|██████████| 50/50 [00:07<00:00,  6.45it/s]\n",
      "100%|██████████| 113/113 [00:19<00:00,  5.71it/s]\n"
     ]
    },
    {
     "name": "stdout",
     "output_type": "stream",
     "text": [
      "[run # 18] Default ex 455.28, Default planning 91.42, Custom ex 312.18, Inference 7043.89\n",
      "Dataset's size is 492 | Dataloader's size is 16\n"
     ]
    },
    {
     "name": "stderr",
     "output_type": "stream",
     "text": [
      "[50/50] MSE: 0.1050: 100%|██████████| 50/50 [00:07<00:00,  6.41it/s]\n",
      "100%|██████████| 113/113 [00:20<00:00,  5.45it/s]\n"
     ]
    },
    {
     "name": "stdout",
     "output_type": "stream",
     "text": [
      "[run # 19] Default ex 455.28, Default planning 91.42, Custom ex 317.67, Inference 6985.35\n",
      "Dataset's size is 503 | Dataloader's size is 16\n"
     ]
    },
    {
     "name": "stderr",
     "output_type": "stream",
     "text": [
      "[50/50] MSE: 0.0920: 100%|██████████| 50/50 [00:07<00:00,  6.49it/s]\n",
      "100%|██████████| 113/113 [00:20<00:00,  5.53it/s]"
     ]
    },
    {
     "name": "stdout",
     "output_type": "stream",
     "text": [
      "[run # 20] Default ex 455.28, Default planning 91.42, Custom ex 310.70, Inference 6983.39\n"
     ]
    },
    {
     "name": "stderr",
     "output_type": "stream",
     "text": [
      "\n"
     ]
    }
   ],
   "source": [
    "reports = []\n",
    "\n",
    "workload = all_queries\n",
    "default_history = [(q_n, DEFAULT_HINTSET, DEFAULT_DOP) for q_n in workload]\n",
    "nnmodel = NN(fit_settings=EMPTY_SS, inference_settings=LOCAL_SS, model=bt_regressor())\n",
    "nnmodel._add_history(default_history)\n",
    "nnmodel._update_model(epochs=50)\n",
    "report = get_report(nnmodel, workload, False)\n",
    "reports.append(report)\n",
    "print(f'[run # 0] Default ex {report[\"default_ex_time\"]:0.2f}, Default planning {report[\"default_planning_time\"]:0.2f}, Custom ex {report[\"custom_ex_time\"]:0.2f}, Inference {report[\"inference_time\"]:0.2f}')\n",
    "\n",
    "for run in range(1, 21):    \n",
    "    collected_history = report[\"predictions\"]\n",
    "    nnmodel._add_history(collected_history)\n",
    "    nnmodel._update_model(epochs=50)\n",
    "    report = get_report(nnmodel, workload, False)\n",
    "    reports.append(report)\n",
    "    print(f'[run # {run}] Default ex {report[\"default_ex_time\"]:0.2f}, Default planning {report[\"default_planning_time\"]:0.2f}, Custom ex {report[\"custom_ex_time\"]:0.2f}, Inference {report[\"inference_time\"]:0.2f}')"
   ]
  },
  {
   "cell_type": "code",
   "execution_count": 211,
   "metadata": {
    "vscode": {
     "languageId": "python"
    }
   },
   "outputs": [],
   "source": [
    "with open(f\"{ARTIFACTS_PATH}/online_all.json\", \"w\") as f:\n",
    "    json.dump(reports, f)"
   ]
  },
  {
   "cell_type": "markdown",
   "metadata": {},
   "source": [
    "## Dynamic benchmark"
   ]
  },
  {
   "cell_type": "markdown",
   "metadata": {},
   "source": [
    "### Splitting by time"
   ]
  },
  {
   "cell_type": "code",
   "execution_count": 68,
   "metadata": {
    "vscode": {
     "languageId": "python"
    }
   },
   "outputs": [],
   "source": [
    "import numpy as np\n",
    "time_treshold = np.quantile([_get_e2e_time(q_n, DEFAULT_HINTSET, DEFAULT_DOP) for q_n in all_queries], .8)"
   ]
  },
  {
   "cell_type": "code",
   "execution_count": 69,
   "metadata": {
    "vscode": {
     "languageId": "python"
    }
   },
   "outputs": [],
   "source": [
    "time_treshold = np.quantile([_get_e2e_time(q_n, DEFAULT_HINTSET, DEFAULT_DOP) for q_n in all_queries], .8)\n",
    "fast_q_n = [q_n for q_n in all_queries if _get_e2e_time(q_n, DEFAULT_HINTSET, DEFAULT_DOP) < time_treshold]\n",
    "slow_q_n = [q_n for q_n in all_queries if _get_e2e_time(q_n, DEFAULT_HINTSET, DEFAULT_DOP) >= time_treshold]\n",
    "assert len(slow_q_n) + len(fast_q_n) == len(all_queries)"
   ]
  },
  {
   "cell_type": "code",
   "execution_count": 122,
   "metadata": {
    "vscode": {
     "languageId": "python"
    }
   },
   "outputs": [
    {
     "name": "stdout",
     "output_type": "stream",
     "text": [
      "Dataset's size is 1658 | Dataloader's size is 7\n"
     ]
    },
    {
     "name": "stderr",
     "output_type": "stream",
     "text": [
      "[100/100] MSE: 2.5614: 100%|██████████| 100/100 [00:33<00:00,  2.99it/s]\n"
     ]
    },
    {
     "name": "stdout",
     "output_type": "stream",
     "text": [
      "Learned in 28164.008353577974\n",
      "\n"
     ]
    },
    {
     "name": "stderr",
     "output_type": "stream",
     "text": [
      "100%|██████████| 23/23 [00:00<00:00, 26.71it/s]\n"
     ]
    },
    {
     "name": "stdout",
     "output_type": "stream",
     "text": [
      "Default 400.18, Custom 149.81, Inference 87.68\n"
     ]
    },
    {
     "name": "stderr",
     "output_type": "stream",
     "text": [
      "100%|██████████| 90/90 [00:09<00:00,  9.59it/s]"
     ]
    },
    {
     "name": "stdout",
     "output_type": "stream",
     "text": [
      "Default 146.52, Custom 106.95, Inference 245.72\n"
     ]
    },
    {
     "name": "stderr",
     "output_type": "stream",
     "text": [
      "\n"
     ]
    }
   ],
   "source": [
    "nnmodel = NN(fit_settings=ALL_SS, inference_settings=ALL_SS, model=bt_regressor())\n",
    "learning_time = nnmodel.fit(slow_q_n, epochs=100)\n",
    "print(f\"Learned in {learning_time}\\n\")\n",
    "\n",
    "slow_report = get_report(nnmodel, slow_q_n, False)\n",
    "print(f'Default {slow_report[\"default_time\"]:0.2f}, Custom {slow_report[\"custom_time\"]:0.2f}, Inference {slow_report[\"inference_time\"] / 64:0.2f}')\n",
    "\n",
    "fast_report = get_report(nnmodel, fast_q_n, False)\n",
    "print(f'Default {fast_report[\"default_time\"]:0.2f}, Custom {fast_report[\"custom_time\"]:0.2f}, Inference {fast_report[\"inference_time\"] / 64:0.2f}')"
   ]
  },
  {
   "cell_type": "code",
   "execution_count": 123,
   "metadata": {
    "vscode": {
     "languageId": "python"
    }
   },
   "outputs": [
    {
     "name": "stdout",
     "output_type": "stream",
     "text": [
      "Dataset's size is 5758 | Dataloader's size is 23\n"
     ]
    },
    {
     "name": "stderr",
     "output_type": "stream",
     "text": [
      "[100/100] MSE: 0.2302: 100%|██████████| 100/100 [01:56<00:00,  1.16s/it]\n"
     ]
    },
    {
     "name": "stdout",
     "output_type": "stream",
     "text": [
      "Learned in 24976.15926586505\n",
      "\n"
     ]
    },
    {
     "name": "stderr",
     "output_type": "stream",
     "text": [
      "100%|██████████| 90/90 [00:02<00:00, 40.09it/s]\n"
     ]
    },
    {
     "name": "stdout",
     "output_type": "stream",
     "text": [
      "Default 146.52, Custom 54.08, Inference 245.72\n"
     ]
    },
    {
     "name": "stderr",
     "output_type": "stream",
     "text": [
      "100%|██████████| 23/23 [00:00<00:00, 40.90it/s]"
     ]
    },
    {
     "name": "stdout",
     "output_type": "stream",
     "text": [
      "Default 400.18, Custom 568.31, Inference 87.68\n"
     ]
    },
    {
     "name": "stderr",
     "output_type": "stream",
     "text": [
      "\n"
     ]
    }
   ],
   "source": [
    "nnmodel = NN(fit_settings=ALL_SS, inference_settings=ALL_SS, model=bt_regressor())\n",
    "learning_time = nnmodel.fit(fast_q_n, epochs=100)\n",
    "print(f\"Learned in {learning_time}\\n\")\n",
    "\n",
    "fast_report = get_report(nnmodel, fast_q_n, False)\n",
    "print(f'Default {fast_report[\"default_time\"]:0.2f}, Custom {fast_report[\"custom_time\"]:0.2f}, Inference {fast_report[\"inference_time\"] / 64:0.2f}')\n",
    "\n",
    "slow_report = get_report(nnmodel, slow_q_n, False)\n",
    "print(f'Default {slow_report[\"default_time\"]:0.2f}, Custom {slow_report[\"custom_time\"]:0.2f}, Inference {slow_report[\"inference_time\"] / 64:0.2f}')"
   ]
  },
  {
   "cell_type": "markdown",
   "metadata": {},
   "source": [
    "### Splitting by structure"
   ]
  },
  {
   "cell_type": "code",
   "execution_count": 70,
   "metadata": {
    "vscode": {
     "languageId": "python"
    }
   },
   "outputs": [],
   "source": [
    "logical_trees_to_queries = defaultdict(list)\n",
    "for q_n in all_queries:\n",
    "    logical_trees_to_queries[get_logical_tree(_get_explain_plan(q_n, DEFAULT_HINTSET, DEFAULT_DOP))].append(q_n)"
   ]
  },
  {
   "cell_type": "code",
   "execution_count": 71,
   "metadata": {
    "vscode": {
     "languageId": "python"
    }
   },
   "outputs": [],
   "source": [
    "def get_traintest_split(groups, ratio, seed=42):\n",
    "    train, test = [], []\n",
    "    for group in groups:\n",
    "        random.seed(seed)\n",
    "        random.shuffle(group)\n",
    "        pivot = int(len(group) * ratio)\n",
    "        train += group[:pivot]\n",
    "        test += group[pivot:]\n",
    "        print(f\"{group} -> {group[:pivot]}, {group[pivot:]}\")\n",
    "    return train, test"
   ]
  },
  {
   "cell_type": "code",
   "execution_count": 72,
   "metadata": {
    "vscode": {
     "languageId": "python"
    }
   },
   "outputs": [
    {
     "name": "stdout",
     "output_type": "stream",
     "text": [
      "['9b', '9a'] -> ['9b'], ['9a']\n",
      "['6c', '6b', '6f', '2c', '6e', '2a', '2b', '2d', '6d', '6a'] -> ['6c', '6b', '6f', '2c', '6e', '2a', '2b', '2d'], ['6d', '6a']\n",
      "['4c', '4a', '4b'] -> ['4c', '4a'], ['4b']\n",
      "['16b', '11c', '16a', '16c', '16d'] -> ['16b', '11c', '16a', '16c'], ['16d']\n",
      "['3c', '3a', '3b'] -> ['3c', '3a'], ['3b']\n",
      "['23c', '23a'] -> ['23c'], ['23a']\n",
      "['30b', '27c'] -> ['30b'], ['27c']\n",
      "['22b', '22a', '22c'] -> ['22b', '22a'], ['22c']\n",
      "['8d', '8c'] -> ['8d'], ['8c']\n",
      "['1a', '1c'] -> ['1a'], ['1c']\n",
      "['30a', '30c'] -> ['30a'], ['30c']\n",
      "['31c', '31a', '31b'] -> ['31c', '31a'], ['31b']\n",
      "['17a', '17e'] -> ['17a'], ['17e']\n",
      "['1d', '1b'] -> ['1d'], ['1b']\n",
      "['21b', '25a', '21a', '25c'] -> ['21b', '25a', '21a'], ['25c']\n",
      "['17f', '17d', '17b', '17c'] -> ['17f', '17d', '17b'], ['17c']\n",
      "['5b', '5a'] -> ['5b'], ['5a']\n",
      "['32b', '32a'] -> ['32b'], ['32a']\n",
      "['7a', '11b'] -> ['7a'], ['11b']\n",
      "['13c', '13b'] -> ['13c'], ['13b']\n",
      "['20c', '20b'] -> ['20c'], ['20b']\n"
     ]
    }
   ],
   "source": [
    "train, test = get_traintest_split([v for v in logical_trees_to_queries.values() if len(v) > 1], ratio=0.8)"
   ]
  },
  {
   "cell_type": "code",
   "execution_count": 98,
   "metadata": {
    "vscode": {
     "languageId": "python"
    }
   },
   "outputs": [
    {
     "name": "stdout",
     "output_type": "stream",
     "text": [
      "Learned in 15095.55614901443\n",
      "\n"
     ]
    },
    {
     "name": "stderr",
     "output_type": "stream",
     "text": [
      "100%|██████████| 39/39 [00:00<00:00, 40.31it/s]\n"
     ]
    },
    {
     "name": "stdout",
     "output_type": "stream",
     "text": [
      "Default 227.66, Custom 109.15, Inference 49.10\n"
     ]
    },
    {
     "name": "stderr",
     "output_type": "stream",
     "text": [
      "100%|██████████| 22/22 [00:00<00:00, 38.03it/s]"
     ]
    },
    {
     "name": "stdout",
     "output_type": "stream",
     "text": [
      "Default 106.88, Custom 113.98, Inference 38.78\n"
     ]
    },
    {
     "name": "stderr",
     "output_type": "stream",
     "text": [
      "\n"
     ]
    }
   ],
   "source": [
    "nnmodel = NN(fit_settings=ALL_SEARCH_SS, inference_settings=ALL_SEARCH_SS, model=bt_regressor())\n",
    "learning_time = nnmodel.fit(train, epochs=100)\n",
    "print(f\"Learned in {learning_time}\\n\")\n",
    "\n",
    "train_report = get_report(nnmodel, train, False)\n",
    "print(f'Default {train_report[\"default_time\"]:0.2f}, Custom {train_report[\"custom_time\"]:0.2f}, Inference {train_report[\"inference_time\"] / 64:0.2f}')\n",
    "\n",
    "test_report = get_report(nnmodel, test, False)\n",
    "print(f'Default {test_report[\"default_time\"]:0.2f}, Custom {test_report[\"custom_time\"]:0.2f}, Inference {test_report[\"inference_time\"] / 64:0.2f}')"
   ]
  },
  {
   "cell_type": "code",
   "execution_count": 106,
   "metadata": {
    "vscode": {
     "languageId": "python"
    }
   },
   "outputs": [],
   "source": [
    "LOCAL_SEARCH_SS = LOCAL_SEARCH_SS._replace(max_iter=1)"
   ]
  },
  {
   "cell_type": "code",
   "execution_count": 108,
   "metadata": {
    "vscode": {
     "languageId": "python"
    }
   },
   "outputs": [
    {
     "name": "stderr",
     "output_type": "stream",
     "text": [
      "100%|██████████| 22/22 [00:01<00:00, 14.04it/s]"
     ]
    },
    {
     "name": "stdout",
     "output_type": "stream",
     "text": [
      "Default 106.88, Custom 108.80, Inference 6.80\n"
     ]
    },
    {
     "name": "stderr",
     "output_type": "stream",
     "text": [
      "\n"
     ]
    }
   ],
   "source": [
    "nnmodel.inference_settings = LOCAL_SEARCH_SS\n",
    "test_report = get_report(nnmodel, test, False)\n",
    "print(f'Default {test_report[\"default_time\"]:0.2f}, Custom {test_report[\"custom_time\"]:0.2f}, Inference {test_report[\"inference_time\"] / 64:0.2f}')"
   ]
  },
  {
   "cell_type": "code",
   "execution_count": 414,
   "metadata": {
    "vscode": {
     "languageId": "python"
    }
   },
   "outputs": [
    {
     "ename": "KeyboardInterrupt",
     "evalue": "",
     "output_type": "error",
     "traceback": [
      "\u001b[0;31m---------------------------------------------------------------------------\u001b[0m",
      "\u001b[0;31mKeyboardInterrupt\u001b[0m                         Traceback (most recent call last)",
      "Cell \u001b[0;32mIn[414], line 2\u001b[0m\n\u001b[1;32m      1\u001b[0m nnmodel \u001b[38;5;241m=\u001b[39m NN(fit_settings\u001b[38;5;241m=\u001b[39mALL_SEARCH_SS, inference_settings\u001b[38;5;241m=\u001b[39mECONOM_LOCAL_SS, model\u001b[38;5;241m=\u001b[39mbt_regressor())\n\u001b[0;32m----> 2\u001b[0m learning_time \u001b[38;5;241m=\u001b[39m \u001b[43mnnmodel\u001b[49m\u001b[38;5;241;43m.\u001b[39;49m\u001b[43mfit\u001b[49m\u001b[43m(\u001b[49m\u001b[43mtrain\u001b[49m\u001b[43m,\u001b[49m\u001b[43m \u001b[49m\u001b[43mepochs\u001b[49m\u001b[38;5;241;43m=\u001b[39;49m\u001b[38;5;241;43m100\u001b[39;49m\u001b[43m)\u001b[49m\n\u001b[1;32m      4\u001b[0m train_report \u001b[38;5;241m=\u001b[39m get_report(nnmodel, train, \u001b[38;5;28;01mFalse\u001b[39;00m)\n\u001b[1;32m      5\u001b[0m \u001b[38;5;28mprint\u001b[39m(\u001b[38;5;124mf\u001b[39m\u001b[38;5;124m'\u001b[39m\u001b[38;5;124mDefault \u001b[39m\u001b[38;5;132;01m{\u001b[39;00mtrain_report[\u001b[38;5;124m\"\u001b[39m\u001b[38;5;124mdefault_time\u001b[39m\u001b[38;5;124m\"\u001b[39m]\u001b[38;5;132;01m:\u001b[39;00m\u001b[38;5;124m0.2f\u001b[39m\u001b[38;5;132;01m}\u001b[39;00m\u001b[38;5;124m, Custom \u001b[39m\u001b[38;5;132;01m{\u001b[39;00mtrain_report[\u001b[38;5;124m\"\u001b[39m\u001b[38;5;124mcustom_time\u001b[39m\u001b[38;5;124m\"\u001b[39m]\u001b[38;5;132;01m:\u001b[39;00m\u001b[38;5;124m0.2f\u001b[39m\u001b[38;5;132;01m}\u001b[39;00m\u001b[38;5;124m, Inference \u001b[39m\u001b[38;5;132;01m{\u001b[39;00mtrain_report[\u001b[38;5;124m\"\u001b[39m\u001b[38;5;124minference_time\u001b[39m\u001b[38;5;124m\"\u001b[39m]\u001b[38;5;250m \u001b[39m\u001b[38;5;241m/\u001b[39m\u001b[38;5;250m \u001b[39m\u001b[38;5;241m64\u001b[39m\u001b[38;5;132;01m:\u001b[39;00m\u001b[38;5;124m0.2f\u001b[39m\u001b[38;5;132;01m}\u001b[39;00m\u001b[38;5;124m'\u001b[39m)\n",
      "Cell \u001b[0;32mIn[393], line 21\u001b[0m, in \u001b[0;36mNN.fit\u001b[0;34m(self, list_q_n, epochs)\u001b[0m\n\u001b[1;32m     19\u001b[0m \u001b[38;5;28;01mdef\u001b[39;00m \u001b[38;5;21mfit\u001b[39m(\u001b[38;5;28mself\u001b[39m, list_q_n: \u001b[38;5;124m\"\u001b[39m\u001b[38;5;124mList[QueryNames]\u001b[39m\u001b[38;5;124m\"\u001b[39m, epochs: \u001b[38;5;124m\"\u001b[39m\u001b[38;5;124mint\u001b[39m\u001b[38;5;124m\"\u001b[39m \u001b[38;5;241m=\u001b[39m \u001b[38;5;241m100\u001b[39m) \u001b[38;5;241m-\u001b[39m\u001b[38;5;241m>\u001b[39m \u001b[38;5;124m\"\u001b[39m\u001b[38;5;124mTime\u001b[39m\u001b[38;5;124m\"\u001b[39m:\n\u001b[1;32m     20\u001b[0m     learning_time, history \u001b[38;5;241m=\u001b[39m \u001b[38;5;28mself\u001b[39m\u001b[38;5;241m.\u001b[39mexplore_and_get_history(list_q_n)\n\u001b[0;32m---> 21\u001b[0m     \u001b[38;5;28;43mself\u001b[39;49m\u001b[38;5;241;43m.\u001b[39;49m\u001b[43m_add_history\u001b[49m\u001b[43m(\u001b[49m\u001b[43mhistory\u001b[49m\u001b[43m)\u001b[49m\n\u001b[1;32m     22\u001b[0m     \u001b[38;5;28mself\u001b[39m\u001b[38;5;241m.\u001b[39m_update_model(epochs)\n\u001b[1;32m     23\u001b[0m     \u001b[38;5;28;01mreturn\u001b[39;00m learning_time\n",
      "Cell \u001b[0;32mIn[393], line 96\u001b[0m, in \u001b[0;36mNN._add_history\u001b[0;34m(self, history)\u001b[0m\n\u001b[1;32m     94\u001b[0m     \u001b[38;5;28;01mcontinue\u001b[39;00m\n\u001b[1;32m     95\u001b[0m \u001b[38;5;28mself\u001b[39m\u001b[38;5;241m.\u001b[39mseen\u001b[38;5;241m.\u001b[39madd((q_n, hs, dop))\n\u001b[0;32m---> 96\u001b[0m v, e \u001b[38;5;241m=\u001b[39m \u001b[43mextract_vertices_and_edges\u001b[49m\u001b[43m(\u001b[49m\u001b[43m_get_explain_plan\u001b[49m\u001b[43m(\u001b[49m\u001b[43mq_n\u001b[49m\u001b[43m,\u001b[49m\u001b[43m \u001b[49m\u001b[43mhs\u001b[49m\u001b[43m,\u001b[49m\u001b[43m \u001b[49m\u001b[43mdop\u001b[49m\u001b[43m)\u001b[49m\u001b[43m)\u001b[49m\n\u001b[1;32m     97\u001b[0m time \u001b[38;5;241m=\u001b[39m _get_e2e_time(q_n, hs, dop)\n\u001b[1;32m     98\u001b[0m \u001b[38;5;28mself\u001b[39m\u001b[38;5;241m.\u001b[39mlist_vertices\u001b[38;5;241m.\u001b[39mappend(v), \u001b[38;5;28mself\u001b[39m\u001b[38;5;241m.\u001b[39mlist_edges\u001b[38;5;241m.\u001b[39mappend(e)\n",
      "File \u001b[0;32m/notebooks/hero/src/datasets/vectorization.py:97\u001b[0m, in \u001b[0;36mextract_vertices_and_edges\u001b[0;34m(plan)\u001b[0m\n\u001b[1;32m     94\u001b[0m     \u001b[38;5;28;01mfor\u001b[39;00m _ \u001b[38;5;129;01min\u001b[39;00m \u001b[38;5;28mrange\u001b[39m(n_missing_children):\n\u001b[1;32m     95\u001b[0m         edges[cur_num]\u001b[38;5;241m.\u001b[39mappend(padding_num)\n\u001b[0;32m---> 97\u001b[0m \u001b[43mrecurse\u001b[49m\u001b[43m(\u001b[49m\u001b[43mnode\u001b[49m\u001b[38;5;241;43m=\u001b[39;49m\u001b[43mplan\u001b[49m\u001b[38;5;241;43m.\u001b[39;49m\u001b[43mplan\u001b[49m\u001b[43m)\u001b[49m\n\u001b[1;32m     98\u001b[0m \u001b[38;5;28;01mreturn\u001b[39;00m torch\u001b[38;5;241m.\u001b[39mstack(vertices), torch\u001b[38;5;241m.\u001b[39mtensor(edges, dtype\u001b[38;5;241m=\u001b[39mtorch\u001b[38;5;241m.\u001b[39mlong)\n",
      "File \u001b[0;32m/notebooks/hero/src/datasets/vectorization.py:91\u001b[0m, in \u001b[0;36mextract_vertices_and_edges.<locals>.recurse\u001b[0;34m(node)\u001b[0m\n\u001b[1;32m     89\u001b[0m     child_num \u001b[38;5;241m=\u001b[39m \u001b[38;5;28mlen\u001b[39m(vertices)\n\u001b[1;32m     90\u001b[0m     edges[cur_num]\u001b[38;5;241m.\u001b[39mappend(child_num \u001b[38;5;241m+\u001b[39m padding_shift)\n\u001b[0;32m---> 91\u001b[0m     \u001b[43mrecurse\u001b[49m\u001b[43m(\u001b[49m\u001b[43mnode\u001b[49m\u001b[38;5;241;43m=\u001b[39;49m\u001b[43mchild\u001b[49m\u001b[43m)\u001b[49m\n\u001b[1;32m     93\u001b[0m n_missing_children \u001b[38;5;241m=\u001b[39m \u001b[38;5;241m2\u001b[39m \u001b[38;5;241m-\u001b[39m \u001b[38;5;28mlen\u001b[39m(node\u001b[38;5;241m.\u001b[39mplans)\n\u001b[1;32m     94\u001b[0m \u001b[38;5;28;01mfor\u001b[39;00m _ \u001b[38;5;129;01min\u001b[39;00m \u001b[38;5;28mrange\u001b[39m(n_missing_children):\n",
      "File \u001b[0;32m/notebooks/hero/src/datasets/vectorization.py:91\u001b[0m, in \u001b[0;36mextract_vertices_and_edges.<locals>.recurse\u001b[0;34m(node)\u001b[0m\n\u001b[1;32m     89\u001b[0m     child_num \u001b[38;5;241m=\u001b[39m \u001b[38;5;28mlen\u001b[39m(vertices)\n\u001b[1;32m     90\u001b[0m     edges[cur_num]\u001b[38;5;241m.\u001b[39mappend(child_num \u001b[38;5;241m+\u001b[39m padding_shift)\n\u001b[0;32m---> 91\u001b[0m     \u001b[43mrecurse\u001b[49m\u001b[43m(\u001b[49m\u001b[43mnode\u001b[49m\u001b[38;5;241;43m=\u001b[39;49m\u001b[43mchild\u001b[49m\u001b[43m)\u001b[49m\n\u001b[1;32m     93\u001b[0m n_missing_children \u001b[38;5;241m=\u001b[39m \u001b[38;5;241m2\u001b[39m \u001b[38;5;241m-\u001b[39m \u001b[38;5;28mlen\u001b[39m(node\u001b[38;5;241m.\u001b[39mplans)\n\u001b[1;32m     94\u001b[0m \u001b[38;5;28;01mfor\u001b[39;00m _ \u001b[38;5;129;01min\u001b[39;00m \u001b[38;5;28mrange\u001b[39m(n_missing_children):\n",
      "File \u001b[0;32m/notebooks/hero/src/datasets/vectorization.py:84\u001b[0m, in \u001b[0;36mextract_vertices_and_edges.<locals>.recurse\u001b[0;34m(node)\u001b[0m\n\u001b[1;32m     82\u001b[0m \u001b[38;5;28;01mdef\u001b[39;00m \u001b[38;5;21mrecurse\u001b[39m(node: \u001b[38;5;124m\"\u001b[39m\u001b[38;5;124mExplainNode\u001b[39m\u001b[38;5;124m\"\u001b[39m) \u001b[38;5;241m-\u001b[39m\u001b[38;5;241m>\u001b[39m \u001b[38;5;124m\"\u001b[39m\u001b[38;5;124mNone\u001b[39m\u001b[38;5;124m\"\u001b[39m:\n\u001b[1;32m     83\u001b[0m     cur_num \u001b[38;5;241m=\u001b[39m \u001b[38;5;28mlen\u001b[39m(vertices)\n\u001b[0;32m---> 84\u001b[0m     vertex \u001b[38;5;241m=\u001b[39m \u001b[43mnode_to_feature_tensor\u001b[49m\u001b[43m(\u001b[49m\u001b[43mnode\u001b[49m\u001b[43m)\u001b[49m\n\u001b[1;32m     85\u001b[0m     vertices\u001b[38;5;241m.\u001b[39mappend(vertex)\n\u001b[1;32m     86\u001b[0m     edges\u001b[38;5;241m.\u001b[39mappend([cur_num \u001b[38;5;241m+\u001b[39m padding_shift])\n",
      "File \u001b[0;32m/notebooks/hero/src/datasets/vectorization.py:65\u001b[0m, in \u001b[0;36mnode_to_feature_tensor\u001b[0;34m(node)\u001b[0m\n\u001b[1;32m     64\u001b[0m \u001b[38;5;28;01mdef\u001b[39;00m \u001b[38;5;21mnode_to_feature_tensor\u001b[39m(node: \u001b[38;5;124m\"\u001b[39m\u001b[38;5;124mExplainNode\u001b[39m\u001b[38;5;124m\"\u001b[39m) \u001b[38;5;241m-\u001b[39m\u001b[38;5;241m>\u001b[39m \u001b[38;5;124m\"\u001b[39m\u001b[38;5;124mTensor\u001b[39m\u001b[38;5;124m\"\u001b[39m:\n\u001b[0;32m---> 65\u001b[0m     \u001b[38;5;28;01mreturn\u001b[39;00m features_to_tensor(features\u001b[38;5;241m=\u001b[39m\u001b[43mnode_to_features\u001b[49m\u001b[43m(\u001b[49m\u001b[43mnode\u001b[49m\u001b[38;5;241;43m=\u001b[39;49m\u001b[43mnode\u001b[49m\u001b[43m)\u001b[49m)\n",
      "File \u001b[0;32m/notebooks/hero/src/datasets/vectorization.py:44\u001b[0m, in \u001b[0;36mnode_to_features\u001b[0;34m(node)\u001b[0m\n\u001b[1;32m     42\u001b[0m \u001b[38;5;28;01massert\u001b[39;00m node\u001b[38;5;241m.\u001b[39mnode_type \u001b[38;5;129;01min\u001b[39;00m ALL_OPERATIONS\n\u001b[1;32m     43\u001b[0m \u001b[38;5;28;01mfor\u001b[39;00m op \u001b[38;5;129;01min\u001b[39;00m ALL_OPERATIONS:\n\u001b[0;32m---> 44\u001b[0m     features[op] \u001b[38;5;241m=\u001b[39m \u001b[38;5;28mfloat\u001b[39m(op \u001b[38;5;241m==\u001b[39m node\u001b[38;5;241m.\u001b[39mnode_type)\n\u001b[1;32m     46\u001b[0m features[\u001b[38;5;124m\"\u001b[39m\u001b[38;5;124mCardinality\u001b[39m\u001b[38;5;124m\"\u001b[39m] \u001b[38;5;241m=\u001b[39m math\u001b[38;5;241m.\u001b[39mlog(node\u001b[38;5;241m.\u001b[39mestimated_cardinality)\n\u001b[1;32m     48\u001b[0m \u001b[38;5;28;01mif\u001b[39;00m \u001b[38;5;129;01mnot\u001b[39;00m node\u001b[38;5;241m.\u001b[39mplans:\n",
      "\u001b[0;31mKeyboardInterrupt\u001b[0m: "
     ]
    }
   ],
   "source": [
    "nnmodel = NN(fit_settings=ALL_SEARCH_SS, inference_settings=LOCAL_DEF_DOP_SS._, model=bt_regressor())\n",
    "learning_time = nnmodel.fit(train, epochs=100)\n",
    "\n",
    "train_report = get_report(nnmodel, train, False)\n",
    "print(f'Default {train_report[\"default_time\"]:0.2f}, Custom {train_report[\"custom_time\"]:0.2f}, Inference {train_report[\"inference_time\"] / 64:0.2f}')\n",
    "\n",
    "test_report = get_report(nnmodel, test, False)\n",
    "print(f'Default {test_report[\"default_time\"]:0.2f}, Custom {test_report[\"custom_time\"]:0.2f}, Inference {test_report[\"inference_time\"] / 64:0.2f}')"
   ]
  },
  {
   "cell_type": "code",
   "execution_count": 91,
   "metadata": {
    "vscode": {
     "languageId": "python"
    }
   },
   "outputs": [
    {
     "data": {
      "text/plain": [
       "{'default_time': 106.88033100000001,\n",
       " 'custom_time': 82.81228063526392,\n",
       " 'inference_time': 2482.0660000000003,\n",
       " 'n_timeouts': 0.0,\n",
       " 'deltas': [0.037592000000000014,\n",
       "  9.339472,\n",
       "  -0.048357999543666846,\n",
       "  -0.174345014005661,\n",
       "  0.3142670000000001,\n",
       "  -0.40742202026748653,\n",
       "  0.3617220000000001,\n",
       "  3.240989,\n",
       "  0.34367899407196045,\n",
       "  7.962928999999999,\n",
       "  0.6618330293197632,\n",
       "  11.975052999999999,\n",
       "  0.6276829999999998,\n",
       "  -7.302752000000002,\n",
       "  1.7312189999999998,\n",
       "  -14.339430626220702,\n",
       "  8.600495,\n",
       "  0.8379300013818739,\n",
       "  0.0030639999999999973,\n",
       "  0.04138800000000001,\n",
       "  0.126016,\n",
       "  0.135027],\n",
       " 'predictions': [('9a', 50, 64),\n",
       "  ('6d', 42, 64),\n",
       "  ('6a', 26, 64),\n",
       "  ('4b', 107, 1),\n",
       "  ('16d', 52, 1),\n",
       "  ('3b', 90, 1),\n",
       "  ('23a', 103, 16),\n",
       "  ('27c', 60, 1),\n",
       "  ('22c', 55, 1),\n",
       "  ('8c', 102, 16),\n",
       "  ('1c', 87, 16),\n",
       "  ('30c', 42, 1),\n",
       "  ('31b', 60, 1),\n",
       "  ('17e', 106, 64),\n",
       "  ('1b', 81, 1),\n",
       "  ('25c', 43, 64),\n",
       "  ('17c', 42, 16),\n",
       "  ('5a', 42, 16),\n",
       "  ('32a', 88, 1),\n",
       "  ('11b', 86, 1),\n",
       "  ('13b', 47, 1),\n",
       "  ('20b', 56, 1)],\n",
       " 'n_false_validations': 0,\n",
       " 'possible_regressions': []}"
      ]
     },
     "execution_count": 91,
     "metadata": {},
     "output_type": "execute_result"
    }
   ],
   "source": [
    "test_report"
   ]
  },
  {
   "cell_type": "code",
   "execution_count": null,
   "metadata": {
    "vscode": {
     "languageId": "python"
    }
   },
   "outputs": [],
   "source": []
  },
  {
   "cell_type": "code",
   "execution_count": null,
   "metadata": {
    "vscode": {
     "languageId": "python"
    }
   },
   "outputs": [],
   "source": []
  }
 ],
 "metadata": {
  "kernelspec": {
   "display_name": "Python 3 (ipykernel)",
   "language": "python",
   "name": "python3"
  },
  "language_info": {
   "name": "",
   "version": ""
  }
 },
 "nbformat": 4,
 "nbformat_minor": 2
}
