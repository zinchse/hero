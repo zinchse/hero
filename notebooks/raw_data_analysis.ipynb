{
 "cells": [
  {
   "cell_type": "markdown",
   "metadata": {},
   "source": [
    "**todo**:\n",
    "- add info about meaning of dop and hintset\n",
    "- add schema\n",
    "- add comments about raw data structure (hs_to ..., planning_time, etc.)\n",
    "- explain regressions\n",
    "- rethink the scale and query naming\n",
    "- keep in mind the problem with planning time in explain analyze timout cases`"
   ]
  },
  {
   "cell_type": "code",
   "execution_count": 2,
   "metadata": {},
   "outputs": [],
   "source": [
    "import sys\n",
    "\n",
    "sys.path.insert(0, \"/Users/zinchse/GitHub/hero\")\n",
    "from json import load, dumps, dump\n",
    "import os"
   ]
  },
  {
   "cell_type": "code",
   "execution_count": 3,
   "metadata": {},
   "outputs": [],
   "source": [
    "from src.datasets.oracle import Oracle, OracleRequest"
   ]
  },
  {
   "cell_type": "code",
   "execution_count": 54,
   "metadata": {},
   "outputs": [],
   "source": [
    "from functools import lru_cache\n",
    "\n",
    "\n",
    "@lru_cache\n",
    "def get_data(bench_name, dop):\n",
    "    oracle = Oracle(f\"/Users/zinchse/GitHub/hero/data/processed/{bench_name}\")\n",
    "    data = {}\n",
    "    query_names = oracle.get_query_names()\n",
    "    for query_name in query_names:\n",
    "        min_time = float(\"inf\")\n",
    "        max_time = float(\"-inf\")\n",
    "        best_hs = worst_hs = 0\n",
    "        best_boost, worst_boost = -float(\"inf\"), float(\"inf\")\n",
    "\n",
    "        def_request = OracleRequest(query_name=query_name, dop=dop, hintset=0)\n",
    "        def_time = oracle.get_execution_time(request=def_request)\n",
    "\n",
    "        for hs in range(128):\n",
    "            request = OracleRequest(query_name=query_name, dop=dop, hintset=hs)\n",
    "            time = oracle.get_execution_time(request=request)\n",
    "\n",
    "            if min_time > time:\n",
    "                min_time = time\n",
    "                best_hs = hs\n",
    "                best_boost = def_time / min_time\n",
    "            if max_time < time:\n",
    "                max_time = time\n",
    "                worst_hs = hs\n",
    "                worst_boost = min(2, max_time / def_time)\n",
    "\n",
    "        data[query_name] = {\"worst\": (max_time, worst_hs, worst_boost), \"best\": (min_time, best_hs, best_boost), \"default_time\": def_time}\n",
    "    return data"
   ]
  },
  {
   "cell_type": "markdown",
   "metadata": {},
   "source": []
  },
  {
   "cell_type": "code",
   "execution_count": 23,
   "metadata": {},
   "outputs": [],
   "source": [
    "GREEN = \"#3f993c\"\n",
    "ORANGE = \"#fcaa2f\"\n",
    "BLUE = \"cyan\"\n",
    "RED = \"#a00d30\""
   ]
  },
  {
   "cell_type": "code",
   "execution_count": 32,
   "metadata": {},
   "outputs": [],
   "source": [
    "def extract_query_number(query_name):\n",
    "    import re\n",
    "    return int(re.search(r'-?\\d+\\.?\\d*', query_name).group())"
   ]
  },
  {
   "cell_type": "code",
   "execution_count": 39,
   "metadata": {},
   "outputs": [
    {
     "name": "stdout",
     "output_type": "stream",
     "text": [
      "['Solarize_Light2', '_classic_test_patch', '_mpl-gallery', '_mpl-gallery-nogrid', 'bmh', 'classic', 'dark_background', 'fast', 'fivethirtyeight', 'ggplot', 'grayscale', 'seaborn-v0_8', 'seaborn-v0_8-bright', 'seaborn-v0_8-colorblind', 'seaborn-v0_8-dark', 'seaborn-v0_8-dark-palette', 'seaborn-v0_8-darkgrid', 'seaborn-v0_8-deep', 'seaborn-v0_8-muted', 'seaborn-v0_8-notebook', 'seaborn-v0_8-paper', 'seaborn-v0_8-pastel', 'seaborn-v0_8-poster', 'seaborn-v0_8-talk', 'seaborn-v0_8-ticks', 'seaborn-v0_8-white', 'seaborn-v0_8-whitegrid', 'tableau-colorblind10']\n"
     ]
    }
   ],
   "source": [
    "print(plt.style.available)"
   ]
  },
  {
   "cell_type": "code",
   "execution_count": null,
   "metadata": {},
   "outputs": [],
   "source": [
    "import numpy as np\n",
    "import matplotlib.pyplot as plt\n",
    "\n",
    "for bench_name in [\"JOB\", \"tpch_10gb\", \"sample_queries\"]:\n",
    "    for dop in [1, 16, 64]:\n",
    "        data = get_data(bench_name=bench_name, dop=dop)\n",
    "        total_def_time, total_best_time = 0, 0\n",
    "        for query_data in data.items()\n",
    "            total_def_time += query_data[\"default_time\"]\n",
    "            total_best_time += query_data[\"best\"][0]\n",
    "        boost = total_def_time / total_best_time\n",
    "\n",
    "        plt.style.use('seaborn-v0_8-paper')\n",
    "        fig, ax = plt.subplots(figsize=(30, 8))\n",
    "        \n",
    "        index = np.arange(len(names))\n",
    "        bar_width = 0.7\n"
   ]
  },
  {
   "cell_type": "code",
   "execution_count": 68,
   "metadata": {},
   "outputs": [
    {
     "data": {
      "image/png": "[encoded data removed]",
      "text/plain": [
       "<Figure size 640x440 with 1 Axes>"
      ]
     },
     "metadata": {},
     "output_type": "display_data"
    }
   ],
   "source": [
    "import numpy as np\n",
    "import matplotlib.pyplot as plt\n",
    "\n",
    "# Sample data\n",
    "query_dops = [1, 16, 64]\n",
    "baseline_values = [10, 15, 20]  # Example values for baseline\n",
    "record_values = [12, 18, 25]    # Example values for record\n",
    "\n",
    "# Position of bars on the x-axis\n",
    "ind = np.arange(len(query_dops))\n",
    "\n",
    "# Width of a bar \n",
    "width = 0.35 \n",
    "\n",
    "plt.style.use('seaborn-v0_8-paper')\n",
    "fig, ax = plt.subplots()\n",
    "\n",
    "rects1 = ax.bar(ind - width/2, baseline_values, width, label='Default Optimizer', color=GREEN)\n",
    "rects2 = ax.bar(ind + width/2, record_values, width, label='Optimal Hintset', color=ORANGE)\n",
    "\n",
    "ax.set_xlabel('Query Dop')\n",
    "ax.set_ylabel('Total Execution Time')\n",
    "ax.set_title(f\"Time with Optimal Hintset for '{bench_name}' benchmark\")\n",
    "ax.set_xticks(ind)\n",
    "ax.set_xticklabels(query_dops)\n",
    "ax.legend()\n",
    "ax.grid(True, which='both', linestyle='-', linewidth=0.3)\n",
    "plt.show()\n"
   ]
  },
  {
   "cell_type": "code",
   "execution_count": 74,
   "metadata": {},
   "outputs": [
    {
     "ename": "AttributeError",
     "evalue": "Line2D.set() got an unexpected keyword argument 'x'",
     "output_type": "error",
     "traceback": [
      "\u001b[0;31m---------------------------------------------------------------------------\u001b[0m",
      "\u001b[0;31mAttributeError\u001b[0m                            Traceback (most recent call last)",
      "Cell \u001b[0;32mIn[74], line 25\u001b[0m\n\u001b[1;32m     21\u001b[0m index \u001b[38;5;241m=\u001b[39m np\u001b[38;5;241m.\u001b[39marange(\u001b[38;5;28mlen\u001b[39m(names))\n\u001b[1;32m     22\u001b[0m bar_width \u001b[38;5;241m=\u001b[39m \u001b[38;5;241m0.7\u001b[39m\n\u001b[0;32m---> 25\u001b[0m \u001b[43max\u001b[49m\u001b[38;5;241;43m.\u001b[39;49m\u001b[43maxhline\u001b[49m\u001b[43m(\u001b[49m\u001b[43my\u001b[49m\u001b[38;5;241;43m=\u001b[39;49m\u001b[38;5;241;43m1.0\u001b[39;49m\u001b[43m,\u001b[49m\u001b[43m \u001b[49m\u001b[43mx\u001b[49m\u001b[38;5;241;43m=\u001b[39;49m\u001b[43mindex\u001b[49m\u001b[43m,\u001b[49m\u001b[43m \u001b[49m\u001b[43mcolor\u001b[49m\u001b[38;5;241;43m=\u001b[39;49m\u001b[38;5;124;43m'\u001b[39;49m\u001b[38;5;124;43mblack\u001b[39;49m\u001b[38;5;124;43m'\u001b[39;49m\u001b[43m,\u001b[49m\u001b[43m \u001b[49m\u001b[43mlinewidth\u001b[49m\u001b[38;5;241;43m=\u001b[39;49m\u001b[38;5;241;43m1\u001b[39;49m\u001b[43m,\u001b[49m\u001b[43m \u001b[49m\u001b[43mlinestyle\u001b[49m\u001b[38;5;241;43m=\u001b[39;49m\u001b[38;5;124;43m'\u001b[39;49m\u001b[38;5;124;43m-\u001b[39;49m\u001b[38;5;124;43m'\u001b[39;49m\u001b[43m,\u001b[49m\u001b[43m \u001b[49m\u001b[43mlabel\u001b[49m\u001b[38;5;241;43m=\u001b[39;49m\u001b[38;5;124;43m'\u001b[39;49m\u001b[38;5;124;43mDefault Time\u001b[39;49m\u001b[38;5;124;43m'\u001b[39;49m\u001b[43m)\u001b[49m\n\u001b[1;32m     26\u001b[0m boost_bars \u001b[38;5;241m=\u001b[39m ax\u001b[38;5;241m.\u001b[39mbar(index, max_boosts, bar_width, label\u001b[38;5;241m=\u001b[39m\u001b[38;5;124m\"\u001b[39m\u001b[38;5;124mMax Boost\u001b[39m\u001b[38;5;124m\"\u001b[39m, color\u001b[38;5;241m=\u001b[39mGREEN)\n\u001b[1;32m     27\u001b[0m banned_index \u001b[38;5;241m=\u001b[39m [index[i] \u001b[38;5;28;01mfor\u001b[39;00m i, degradation \u001b[38;5;129;01min\u001b[39;00m \u001b[38;5;28menumerate\u001b[39m(max_degradations) \u001b[38;5;28;01mif\u001b[39;00m degradation \u001b[38;5;241m==\u001b[39m TIMEOUT_REL]\n",
      "File \u001b[0;32m~/GitHub/hero/venv/lib/python3.12/site-packages/matplotlib/axes/_axes.py:787\u001b[0m, in \u001b[0;36mAxes.axhline\u001b[0;34m(self, y, xmin, xmax, **kwargs)\u001b[0m\n\u001b[1;32m    784\u001b[0m scaley \u001b[38;5;241m=\u001b[39m (yy \u001b[38;5;241m<\u001b[39m ymin) \u001b[38;5;129;01mor\u001b[39;00m (yy \u001b[38;5;241m>\u001b[39m ymax)\n\u001b[1;32m    786\u001b[0m trans \u001b[38;5;241m=\u001b[39m \u001b[38;5;28mself\u001b[39m\u001b[38;5;241m.\u001b[39mget_yaxis_transform(which\u001b[38;5;241m=\u001b[39m\u001b[38;5;124m'\u001b[39m\u001b[38;5;124mgrid\u001b[39m\u001b[38;5;124m'\u001b[39m)\n\u001b[0;32m--> 787\u001b[0m l \u001b[38;5;241m=\u001b[39m \u001b[43mmlines\u001b[49m\u001b[38;5;241;43m.\u001b[39;49m\u001b[43mLine2D\u001b[49m\u001b[43m(\u001b[49m\u001b[43m[\u001b[49m\u001b[43mxmin\u001b[49m\u001b[43m,\u001b[49m\u001b[43m \u001b[49m\u001b[43mxmax\u001b[49m\u001b[43m]\u001b[49m\u001b[43m,\u001b[49m\u001b[43m \u001b[49m\u001b[43m[\u001b[49m\u001b[43my\u001b[49m\u001b[43m,\u001b[49m\u001b[43m \u001b[49m\u001b[43my\u001b[49m\u001b[43m]\u001b[49m\u001b[43m,\u001b[49m\u001b[43m \u001b[49m\u001b[43mtransform\u001b[49m\u001b[38;5;241;43m=\u001b[39;49m\u001b[43mtrans\u001b[49m\u001b[43m,\u001b[49m\u001b[43m \u001b[49m\u001b[38;5;241;43m*\u001b[39;49m\u001b[38;5;241;43m*\u001b[39;49m\u001b[43mkwargs\u001b[49m\u001b[43m)\u001b[49m\n\u001b[1;32m    788\u001b[0m \u001b[38;5;28mself\u001b[39m\u001b[38;5;241m.\u001b[39madd_line(l)\n\u001b[1;32m    789\u001b[0m \u001b[38;5;28;01mif\u001b[39;00m scaley:\n",
      "File \u001b[0;32m~/GitHub/hero/venv/lib/python3.12/site-packages/matplotlib/lines.py:407\u001b[0m, in \u001b[0;36mLine2D.__init__\u001b[0;34m(self, xdata, ydata, linewidth, linestyle, color, gapcolor, marker, markersize, markeredgewidth, markeredgecolor, markerfacecolor, markerfacecoloralt, fillstyle, antialiased, dash_capstyle, solid_capstyle, dash_joinstyle, solid_joinstyle, pickradius, drawstyle, markevery, **kwargs)\u001b[0m\n\u001b[1;32m    403\u001b[0m \u001b[38;5;28mself\u001b[39m\u001b[38;5;241m.\u001b[39mset_markeredgewidth(markeredgewidth)\n\u001b[1;32m    405\u001b[0m \u001b[38;5;66;03m# update kwargs before updating data to give the caller a\u001b[39;00m\n\u001b[1;32m    406\u001b[0m \u001b[38;5;66;03m# chance to init axes (and hence unit support)\u001b[39;00m\n\u001b[0;32m--> 407\u001b[0m \u001b[38;5;28;43mself\u001b[39;49m\u001b[38;5;241;43m.\u001b[39;49m\u001b[43m_internal_update\u001b[49m\u001b[43m(\u001b[49m\u001b[43mkwargs\u001b[49m\u001b[43m)\u001b[49m\n\u001b[1;32m    408\u001b[0m \u001b[38;5;28mself\u001b[39m\u001b[38;5;241m.\u001b[39mpickradius \u001b[38;5;241m=\u001b[39m pickradius\n\u001b[1;32m    409\u001b[0m \u001b[38;5;28mself\u001b[39m\u001b[38;5;241m.\u001b[39mind_offset \u001b[38;5;241m=\u001b[39m \u001b[38;5;241m0\u001b[39m\n",
      "File \u001b[0;32m~/GitHub/hero/venv/lib/python3.12/site-packages/matplotlib/artist.py:1219\u001b[0m, in \u001b[0;36mArtist._internal_update\u001b[0;34m(self, kwargs)\u001b[0m\n\u001b[1;32m   1212\u001b[0m \u001b[38;5;28;01mdef\u001b[39;00m \u001b[38;5;21m_internal_update\u001b[39m(\u001b[38;5;28mself\u001b[39m, kwargs):\n\u001b[1;32m   1213\u001b[0m \u001b[38;5;250m    \u001b[39m\u001b[38;5;124;03m\"\"\"\u001b[39;00m\n\u001b[1;32m   1214\u001b[0m \u001b[38;5;124;03m    Update artist properties without prenormalizing them, but generating\u001b[39;00m\n\u001b[1;32m   1215\u001b[0m \u001b[38;5;124;03m    errors as if calling `set`.\u001b[39;00m\n\u001b[1;32m   1216\u001b[0m \n\u001b[1;32m   1217\u001b[0m \u001b[38;5;124;03m    The lack of prenormalization is to maintain backcompatibility.\u001b[39;00m\n\u001b[1;32m   1218\u001b[0m \u001b[38;5;124;03m    \"\"\"\u001b[39;00m\n\u001b[0;32m-> 1219\u001b[0m     \u001b[38;5;28;01mreturn\u001b[39;00m \u001b[38;5;28;43mself\u001b[39;49m\u001b[38;5;241;43m.\u001b[39;49m\u001b[43m_update_props\u001b[49m\u001b[43m(\u001b[49m\n\u001b[1;32m   1220\u001b[0m \u001b[43m        \u001b[49m\u001b[43mkwargs\u001b[49m\u001b[43m,\u001b[49m\u001b[43m \u001b[49m\u001b[38;5;124;43m\"\u001b[39;49m\u001b[38;5;132;43;01m{cls.__name__}\u001b[39;49;00m\u001b[38;5;124;43m.set() got an unexpected keyword argument \u001b[39;49m\u001b[38;5;124;43m\"\u001b[39;49m\n\u001b[1;32m   1221\u001b[0m \u001b[43m        \u001b[49m\u001b[38;5;124;43m\"\u001b[39;49m\u001b[38;5;132;43;01m{prop_name!r}\u001b[39;49;00m\u001b[38;5;124;43m\"\u001b[39;49m\u001b[43m)\u001b[49m\n",
      "File \u001b[0;32m~/GitHub/hero/venv/lib/python3.12/site-packages/matplotlib/artist.py:1193\u001b[0m, in \u001b[0;36mArtist._update_props\u001b[0;34m(self, props, errfmt)\u001b[0m\n\u001b[1;32m   1191\u001b[0m             func \u001b[38;5;241m=\u001b[39m \u001b[38;5;28mgetattr\u001b[39m(\u001b[38;5;28mself\u001b[39m, \u001b[38;5;124mf\u001b[39m\u001b[38;5;124m\"\u001b[39m\u001b[38;5;124mset_\u001b[39m\u001b[38;5;132;01m{\u001b[39;00mk\u001b[38;5;132;01m}\u001b[39;00m\u001b[38;5;124m\"\u001b[39m, \u001b[38;5;28;01mNone\u001b[39;00m)\n\u001b[1;32m   1192\u001b[0m             \u001b[38;5;28;01mif\u001b[39;00m \u001b[38;5;129;01mnot\u001b[39;00m \u001b[38;5;28mcallable\u001b[39m(func):\n\u001b[0;32m-> 1193\u001b[0m                 \u001b[38;5;28;01mraise\u001b[39;00m \u001b[38;5;167;01mAttributeError\u001b[39;00m(\n\u001b[1;32m   1194\u001b[0m                     errfmt\u001b[38;5;241m.\u001b[39mformat(\u001b[38;5;28mcls\u001b[39m\u001b[38;5;241m=\u001b[39m\u001b[38;5;28mtype\u001b[39m(\u001b[38;5;28mself\u001b[39m), prop_name\u001b[38;5;241m=\u001b[39mk))\n\u001b[1;32m   1195\u001b[0m             ret\u001b[38;5;241m.\u001b[39mappend(func(v))\n\u001b[1;32m   1196\u001b[0m \u001b[38;5;28;01mif\u001b[39;00m ret:\n",
      "\u001b[0;31mAttributeError\u001b[0m: Line2D.set() got an unexpected keyword argument 'x'"
     ]
    },
    {
     "data": {
      "image/png": "[encoded data removed]",
      "text/plain": [
       "<Figure size 3000x800 with 1 Axes>"
      ]
     },
     "metadata": {},
     "output_type": "display_data"
    }
   ],
   "source": [
    "import numpy as np\n",
    "import matplotlib.pyplot as plt\n",
    "\n",
    "TIMEOUT_REL = 2\n",
    "TIMEOUT_HEIGHT = 1\n",
    "\n",
    "for bench_name in [\"JOB\", \"tpch_10gb\", \"sample_queries\"]:\n",
    "    for dop in [1, 16, 64]:\n",
    "        data = get_data(bench_name=bench_name, dop=dop)\n",
    "\n",
    "        names, max_boosts, max_degradations = [], [], []\n",
    "        for query_name in sorted(data.keys(), key=extract_query_number):\n",
    "            query_data = data[query_name]\n",
    "            names.append(query_name)\n",
    "            max_boosts.append(query_data[\"best\"][2])\n",
    "            max_degradations.append(query_data[\"worst\"][2])\n",
    "\n",
    "        plt.style.use('seaborn-v0_8-paper')\n",
    "        fig, ax = plt.subplots(figsize=(30, 8))\n",
    "        \n",
    "        index = np.arange(len(names))\n",
    "        bar_width = 0.7\n",
    "\n",
    "        ax.axhline(y=1.0, xmin=index[0]-bar_width, xmax=index[-1]+bar_width, color='black', linewidth=1, linestyle='-', label='Default Time')\n",
    "        boost_bars = ax.bar(index, max_boosts, bar_width, label=\"Max Boost\", color=GREEN)\n",
    "        banned_index = [index[i] for i, degradation in enumerate(max_degradations) if degradation == TIMEOUT_REL]\n",
    "        banned_bars = ax.bar(\n",
    "            banned_index, [-TIMEOUT_HEIGHT for x in banned_index], bar_width, label=\"Max Degradation (Timeout)\", color=RED\n",
    "        )\n",
    "        \n",
    "        ax.set_yscale(\"symlog\")\n",
    "        ax.grid(True, which='both', linestyle='-', linewidth=0.3)\n",
    "        ax.set_xlabel(\"Query\")\n",
    "        ax.set_ylabel(\"Relative Performance (log scale)\")\n",
    "        ax.set_title(f\"Boost and Degradation on benchmark '{bench_name}' with query_dop {dop}\")\n",
    "        ax.set_xticks(index)\n",
    "        ax.set_xticklabels(names, rotation=90)\n",
    "        ax.legend()\n",
    "        plt.show()"
   ]
  },
  {
   "cell_type": "markdown",
   "metadata": {},
   "source": [
    "# Structure\n",
    "\n",
    "- define pydantic dataset model and dump its structure (including tree after processing)\n",
    "\n",
    "> Once you've reviewed the data and validated that it meets your needs, merge the data branch to your collaboration branch and close the issue. You should also be sure to include documentation for all datasets used in the project.\n",
    "> \n",
    "> **Tests and Schemas** It's a good idea to write data **validation tests** and capture **schema definitions** as part of this step. This will reduce issues later on and create more clarity for the team.\n",
    "\n",
    "- why distance is %? std = % of mean why"
   ]
  }
 ],
 "metadata": {
  "kernelspec": {
   "display_name": "custom_env",
   "language": "python",
   "name": "python3"
  },
  "language_info": {
   "codemirror_mode": {
    "name": "ipython",
    "version": 3
   },
   "file_extension": ".py",
   "mimetype": "text/x-python",
   "name": "python",
   "nbconvert_exporter": "python",
   "pygments_lexer": "ipython3",
   "version": "3.12.2"
  }
 },
 "nbformat": 4,
 "nbformat_minor": 2
}
